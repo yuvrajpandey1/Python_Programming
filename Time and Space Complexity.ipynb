{
 "cells": [
  {
   "cell_type": "markdown",
   "id": "b77dddc8",
   "metadata": {},
   "source": [
    "### Why we need time complexity ?"
   ]
  },
  {
   "cell_type": "markdown",
   "id": "a9e631a2",
   "metadata": {},
   "source": [
    "* How much time algorithm are taking to complete/execute the code"
   ]
  },
  {
   "cell_type": "markdown",
   "id": "e7b5c94d",
   "metadata": {},
   "source": [
    "* Sorting data means arranging data in ascending or descending order"
   ]
  },
  {
   "cell_type": "markdown",
   "id": "e097ecaa",
   "metadata": {},
   "source": [
    "* Complexity -> Bring program on same state for comparison\n",
    "* Time and space complexity is important more is time complexity"
   ]
  },
  {
   "cell_type": "markdown",
   "id": "7504779a",
   "metadata": {},
   "source": [
    "#### Time Complexity ;-\n",
    "* Big O Notation (as variables approach infinity)\n",
    "* no of operation  \n",
    "* Big O Notation 99% time used\n",
    "* Ignore constant and co-efficients\n",
    "* Only consider higher degree of variable"
   ]
  },
  {
   "cell_type": "markdown",
   "id": "6429cf11",
   "metadata": {},
   "source": [
    " ### Q) What is the value of X^0 ?"
   ]
  },
  {
   "cell_type": "markdown",
   "id": "7aecf4f5",
   "metadata": {},
   "source": [
    "* 1"
   ]
  },
  {
   "cell_type": "markdown",
   "id": "62521793",
   "metadata": {},
   "source": [
    " #### Operation\n",
    "\n",
    "1. n+5    -> O(x)\n",
    "2. 2n^2+3 -> O(n^2)\n",
    "3. n^2+5x -> O(n^2)\n",
    "4. 10     -> O(1)"
   ]
  },
  {
   "cell_type": "markdown",
   "id": "99fec1d7",
   "metadata": {},
   "source": [
    "* n = 10^10 (infinity)  --> very high number"
   ]
  },
  {
   "cell_type": "code",
   "execution_count": null,
   "id": "6dba3c5b",
   "metadata": {},
   "outputs": [],
   "source": [
    "### Q2) def foo(n):\n",
    "        print(\"x\")\n",
    "        print(\"y\")\n",
    "        print(\"n\")"
   ]
  },
  {
   "cell_type": "markdown",
   "id": "de7799df",
   "metadata": {},
   "source": [
    "* Time complexity is O(1)\n"
   ]
  },
  {
   "cell_type": "code",
   "execution_count": null,
   "id": "3e261823",
   "metadata": {},
   "outputs": [],
   "source": [
    "### Q3) def foo(n):\n",
    "           for num in range(n):\n",
    "               print(num)\n",
    "            print(\"done\")"
   ]
  },
  {
   "cell_type": "markdown",
   "id": "5ee216de",
   "metadata": {},
   "source": [
    "* Total Operation  --> 2n+1\n",
    "* TC --> O(n)\n",
    "* TC --> O(1)"
   ]
  },
  {
   "cell_type": "code",
   "execution_count": null,
   "id": "c14a2d89",
   "metadata": {},
   "outputs": [],
   "source": [
    "### Q4) def foo(n):\n",
    "           for i in range(n):\n",
    "                 print(i)\n",
    "           for j in range(n):\n",
    "                 print(j)"
   ]
  },
  {
   "cell_type": "markdown",
   "id": "d9993c93",
   "metadata": {},
   "source": [
    "* Operation  -> 2n+2n = 4n \n",
    "* TC  --> O(n)"
   ]
  },
  {
   "cell_type": "code",
   "execution_count": null,
   "id": "19bc57ca",
   "metadata": {},
   "outputs": [],
   "source": [
    "### Q5) What is time complexity of this code:\n",
    "\n",
    "for i in range(n):\n",
    "    print(i)\n",
    "for j in range(m):\n",
    "    print(j)\n",
    "              "
   ]
  },
  {
   "cell_type": "markdown",
   "id": "d3e1f150",
   "metadata": {},
   "source": [
    "* Operations  -> 2n + 2n --> 2(n+m)\n",
    "* O(n+m)"
   ]
  },
  {
   "cell_type": "markdown",
   "id": "52b6f076",
   "metadata": {},
   "source": [
    "* 2n^2 + 4m \n",
    "* TC -> O(n^2+m) "
   ]
  },
  {
   "cell_type": "code",
   "execution_count": null,
   "id": "d33b77ae",
   "metadata": {},
   "outputs": [],
   "source": [
    "### Q6) for i in range(n):\n",
    "           for j in range(n):\n",
    "               print(\"Hello\")"
   ]
  },
  {
   "cell_type": "markdown",
   "id": "48cf9dae",
   "metadata": {},
   "source": [
    "* Operation -> n*2n^2\n",
    "* TC  -> O(n^2)\n"
   ]
  },
  {
   "cell_type": "code",
   "execution_count": null,
   "id": "3b997357",
   "metadata": {},
   "outputs": [],
   "source": [
    "### Q7) for i in range(n):\n",
    "            for j in range(m):\n",
    "                 print(\"Hello\")"
   ]
  },
  {
   "cell_type": "markdown",
   "id": "a0eb264e",
   "metadata": {},
   "source": [
    "* Operation  -> n*2m = 2nm\n",
    "* TC  --> O(n*m)"
   ]
  },
  {
   "cell_type": "code",
   "execution_count": null,
   "id": "75320ae7",
   "metadata": {},
   "outputs": [],
   "source": [
    "### Q8) What is the complexity of this code?\n",
    "\n",
    "for i in range(n):\n",
    "    for j in range(n):\n",
    "        break"
   ]
  },
  {
   "cell_type": "markdown",
   "id": "f797c1ce",
   "metadata": {},
   "source": [
    "* Operation -> n*2 = 2n\n",
    "* TC --> O(n)"
   ]
  },
  {
   "cell_type": "code",
   "execution_count": null,
   "id": "d67d2162",
   "metadata": {},
   "outputs": [],
   "source": [
    "### Q9) for i in range(n):\n",
    "           for j in range(i):\n",
    "               print(\"Hello\")"
   ]
  },
  {
   "cell_type": "code",
   "execution_count": null,
   "id": "26e38be0",
   "metadata": {},
   "outputs": [],
   "source": [
    "* Operation -> 0+1+2+3+4+.......+n-1\n",
    "            -> n(n-1)/2\n",
    "            -> n^2-n/2\n",
    "\n",
    "* TC -> O(n^2)"
   ]
  },
  {
   "cell_type": "code",
   "execution_count": null,
   "id": "f3d72e18",
   "metadata": {},
   "outputs": [],
   "source": [
    "### Q10) What is the time complexity of this code?\n",
    "while n>=1:\n",
    "    print(i)\n",
    "    i-=1"
   ]
  },
  {
   "cell_type": "markdown",
   "id": "43d6a663",
   "metadata": {},
   "source": [
    "* Operation -> 3n\n",
    "* TC -> O(n)"
   ]
  },
  {
   "cell_type": "code",
   "execution_count": null,
   "id": "cd21bf29",
   "metadata": {},
   "outputs": [],
   "source": [
    "### Q11) What is the time complexity of this code\n",
    "for i in range(n):\n",
    "    for j in range(n):\n",
    "        for k in range(n):\n",
    "            print('Hello')"
   ]
  },
  {
   "cell_type": "markdown",
   "id": "210ebcab",
   "metadata": {},
   "source": [
    "* Operation  -> 2n*n*n = 2n^3\n",
    "* TC -> O(n^3)"
   ]
  },
  {
   "cell_type": "code",
   "execution_count": null,
   "id": "748ea246",
   "metadata": {},
   "outputs": [],
   "source": [
    "### Q12) while n>=1:\n",
    "            print(n)\n",
    "            n=n//2"
   ]
  },
  {
   "cell_type": "markdown",
   "id": "7f6e3914",
   "metadata": {},
   "source": [
    "* Operation  -> n = 8,4,2,1,0 (4 times)\n",
    "* n = 23, 12, 6 , 1, 0 (5 times)\n",
    "* n = 17 ,8 , 4, 2, 1, 0 (5 times)\n",
    "\n",
    "* n , n/2 , n/4, n/8, ......... n/x = 1\n",
    "\n",
    "\n",
    "* TC -> O(log2n)\n",
    "\n"
   ]
  },
  {
   "cell_type": "code",
   "execution_count": null,
   "id": "c690d7b8",
   "metadata": {},
   "outputs": [],
   "source": [
    "### Q13) for i in range(n):\n",
    "            j=n\n",
    "            while j>=1:\n",
    "               print('Hello')\n",
    "                j=j//2"
   ]
  },
  {
   "cell_type": "markdown",
   "id": "60ba7aeb",
   "metadata": {},
   "source": [
    "* Operation -> nlog2n\n",
    "* TC -> O(nlogn)"
   ]
  },
  {
   "cell_type": "markdown",
   "id": "c768198a",
   "metadata": {},
   "source": [
    "### Compare Time-Complexity"
   ]
  },
  {
   "cell_type": "markdown",
   "id": "6bec8a64",
   "metadata": {},
   "source": [
    "* k<logn<sqrtn  <n<nlogn<n^2<2^n<n!<n^n"
   ]
  },
  {
   "cell_type": "markdown",
   "id": "e8f3f96d",
   "metadata": {},
   "source": [
    "* TC 1 = O(n)\n",
    "* TC 2 = O(n^2)"
   ]
  },
  {
   "cell_type": "markdown",
   "id": "1dc6ab55",
   "metadata": {},
   "source": [
    "### [https://www.desmos.com/calculator]"
   ]
  },
  {
   "cell_type": "markdown",
   "id": "8b67d022",
   "metadata": {},
   "source": [
    "* x0 = log2(n)\n",
    "* x0.1 = n^0.5\n",
    "* x1 = n\n",
    "* x2 = n^2\n",
    "* x3 = 2^n\n",
    "* x4 = n^n"
   ]
  },
  {
   "cell_type": "markdown",
   "id": "d92bdfef",
   "metadata": {},
   "source": [
    "## Space Complexity"
   ]
  },
  {
   "cell_type": "markdown",
   "id": "4fbc62f4",
   "metadata": {},
   "source": [
    "* Space using memory \n",
    "* depends on memory used by variables"
   ]
  },
  {
   "cell_type": "code",
   "execution_count": null,
   "id": "40644c11",
   "metadata": {},
   "outputs": [],
   "source": [
    "* n=10  (1)\n",
    "* [, , ,] (n)\n",
    "* [ , , ,] + (, , ,)     ->  SC = O(n+m)\n"
   ]
  },
  {
   "cell_type": "code",
   "execution_count": 1,
   "id": "d11960b9",
   "metadata": {},
   "outputs": [],
   "source": [
    "def fact(n):\n",
    "    if n<=1:\n",
    "        return 1\n",
    "    return dact(n-1)*n"
   ]
  },
  {
   "cell_type": "markdown",
   "id": "47c05555",
   "metadata": {},
   "source": [
    "* SC --> O(n)"
   ]
  },
  {
   "cell_type": "markdown",
   "id": "eedf2a0d",
   "metadata": {},
   "source": [
    "* When a code will running at any given pt what will be the maximum memory that  it will give is known as Space Complexity"
   ]
  },
  {
   "cell_type": "markdown",
   "id": "de595d8a",
   "metadata": {},
   "source": [
    "### Ways of Calculating \n",
    "\n",
    "1. Tree\n",
    "2. Substitution"
   ]
  },
  {
   "cell_type": "markdown",
   "id": "303c2170",
   "metadata": {},
   "source": [
    "#### 1. Tress Method\n",
    "\n",
    "* find out max depth in chain , in this case depth is n\n",
    "\n",
    "n -> n-1 -> n-2 -> ....... -> 1"
   ]
  },
  {
   "cell_type": "markdown",
   "id": "2fc52979",
   "metadata": {},
   "source": [
    "### 2. Substitution Method\n",
    "\n",
    "* Constant memory will used\n",
    "\n",
    "* f(n) = f(n-1)*n"
   ]
  },
  {
   "cell_type": "markdown",
   "id": "f8db3dd2",
   "metadata": {},
   "source": [
    "* TC(n) = TC(n-1) + k"
   ]
  },
  {
   "cell_type": "markdown",
   "id": "72b6dc4f",
   "metadata": {},
   "source": [
    "* TC(n-1) = TC(n-2) +1\n",
    "\n",
    "* TC(n) = TC(n-2) + 1+1\n",
    "        = TC(n-2) + 2\n",
    "    \n",
    "* TC(n-2) = TC(n-3) + 1+2\n",
    "          = TC(n-3) +3"
   ]
  },
  {
   "cell_type": "markdown",
   "id": "7cdfccaa",
   "metadata": {},
   "source": [
    "* TC(n) = TC(n-k) + k                      [# recurrence relation]\n",
    "\n",
    "* Base case n=1 return 1\n",
    "* TC(0) = 1"
   ]
  },
  {
   "cell_type": "markdown",
   "id": "a716e3b6",
   "metadata": {},
   "source": [
    "* n-k = 0 --> n=k\n",
    "\n",
    "* TC(n) = TC(0) + n = n+1\n",
    "        =O(n)"
   ]
  },
  {
   "cell_type": "code",
   "execution_count": null,
   "id": "9ef6ff31",
   "metadata": {},
   "outputs": [],
   "source": []
  }
 ],
 "metadata": {
  "kernelspec": {
   "display_name": "Python 3 (ipykernel)",
   "language": "python",
   "name": "python3"
  },
  "language_info": {
   "codemirror_mode": {
    "name": "ipython",
    "version": 3
   },
   "file_extension": ".py",
   "mimetype": "text/x-python",
   "name": "python",
   "nbconvert_exporter": "python",
   "pygments_lexer": "ipython3",
   "version": "3.11.4"
  }
 },
 "nbformat": 4,
 "nbformat_minor": 5
}
