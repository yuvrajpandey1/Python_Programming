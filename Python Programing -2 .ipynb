{
 "cells": [
  {
   "cell_type": "markdown",
   "id": "60a3e4e5",
   "metadata": {},
   "source": [
    "#### Basic Principles of Functional Programming\n",
    "* Treat Functions as FCCs (First Class Citizens - Objects)\n",
    "* Treat Variables as immutable\n",
    "* Data should be seaprated from functions"
   ]
  },
  {
   "cell_type": "code",
   "execution_count": 1,
   "id": "8bc0f7eb",
   "metadata": {},
   "outputs": [
    {
     "name": "stdout",
     "output_type": "stream",
     "text": [
      "16\n"
     ]
    }
   ],
   "source": [
    "x = 5 #inital dataset\n",
    "\n",
    "# hidden mutation -> changes\n",
    "\n",
    "x = 3*x\n",
    "x = x+1\n",
    "\n",
    "# hidden mutation\n",
    "\n",
    "print(x)\n",
    "\n",
    "# Problem -> Can't rollback mutation or initial number"
   ]
  },
  {
   "cell_type": "code",
   "execution_count": 2,
   "id": "c6bfcf2d",
   "metadata": {},
   "outputs": [
    {
     "name": "stdout",
     "output_type": "stream",
     "text": [
      "16\n"
     ]
    }
   ],
   "source": [
    "x =5\n",
    "x1 = 3*x\n",
    "x2 = x1+1\n",
    "\n",
    "print(x2)\n",
    "\n",
    "# Problem --> Too many copies"
   ]
  },
  {
   "cell_type": "code",
   "execution_count": 3,
   "id": "02959dc5",
   "metadata": {},
   "outputs": [],
   "source": [
    "x=5\n",
    "\n",
    "def mutation_func(x):\n",
    "    x = 3*x\n",
    "    x=x+1\n",
    "    return x\n",
    "\n",
    "x1 = mutation_func(x)\n",
    "\n",
    "# Limited and well defined copies are created"
   ]
  },
  {
   "cell_type": "code",
   "execution_count": 4,
   "id": "207191a6",
   "metadata": {},
   "outputs": [
    {
     "data": {
      "text/plain": [
       "5"
      ]
     },
     "execution_count": 4,
     "metadata": {},
     "output_type": "execute_result"
    }
   ],
   "source": [
    "x"
   ]
  },
  {
   "cell_type": "code",
   "execution_count": 5,
   "id": "99c49d10",
   "metadata": {},
   "outputs": [
    {
     "data": {
      "text/plain": [
       "16"
      ]
     },
     "execution_count": 5,
     "metadata": {},
     "output_type": "execute_result"
    }
   ],
   "source": [
    "x1"
   ]
  },
  {
   "cell_type": "markdown",
   "id": "a450eb0a",
   "metadata": {},
   "source": [
    "### Maps\n",
    "\n",
    "* Mapping one things to another"
   ]
  },
  {
   "cell_type": "markdown",
   "id": "0c396c8a",
   "metadata": {},
   "source": [
    "* map(function_to_perform, * iterables)\n",
    "\n",
    "* Can take multiple iterables\n",
    "* Returns a map object that can be converted to other iterables\n",
    "\n"
   ]
  },
  {
   "cell_type": "code",
   "execution_count": 6,
   "id": "06a2df9d",
   "metadata": {},
   "outputs": [
    {
     "data": {
      "text/plain": [
       "'\\nGiven a list, create a new list that stores the square of each element of the given list.\\n\\n[1,2,3,4,5]\\nops: [1,4,9,16,25]\\n'"
      ]
     },
     "execution_count": 6,
     "metadata": {},
     "output_type": "execute_result"
    }
   ],
   "source": [
    "'''\n",
    "Given a list, create a new list that stores the square of each element of the given list.\n",
    "\n",
    "[1,2,3,4,5]\n",
    "ops: [1,4,9,16,25]\n",
    "'''"
   ]
  },
  {
   "cell_type": "code",
   "execution_count": 8,
   "id": "d9b36ff7",
   "metadata": {},
   "outputs": [
    {
     "name": "stdout",
     "output_type": "stream",
     "text": [
      "[1, 4, 9, 16, 25]\n"
     ]
    }
   ],
   "source": [
    "a = [1,2,3,4,5]\n",
    "\n",
    "ans = [x**2 for x in a]\n",
    "\n",
    "print(ans)"
   ]
  },
  {
   "cell_type": "code",
   "execution_count": 9,
   "id": "cedce796",
   "metadata": {},
   "outputs": [],
   "source": [
    "a = [1,2,3,4,5]\n",
    "\n",
    "result = map(lambda x : x**2,a)"
   ]
  },
  {
   "cell_type": "code",
   "execution_count": 11,
   "id": "ec28741d",
   "metadata": {},
   "outputs": [
    {
     "name": "stdout",
     "output_type": "stream",
     "text": [
      "<map object at 0x0000018ACBEDA020>\n"
     ]
    }
   ],
   "source": [
    "print(result)"
   ]
  },
  {
   "cell_type": "code",
   "execution_count": 12,
   "id": "b724eef8",
   "metadata": {},
   "outputs": [],
   "source": [
    "a = [1,2,3,4,5]\n",
    "\n",
    "result = list(map(lambda x : x**2,a))"
   ]
  },
  {
   "cell_type": "code",
   "execution_count": 13,
   "id": "2f458026",
   "metadata": {},
   "outputs": [
    {
     "data": {
      "text/plain": [
       "[1, 4, 9, 16, 25]"
      ]
     },
     "execution_count": 13,
     "metadata": {},
     "output_type": "execute_result"
    }
   ],
   "source": [
    "result"
   ]
  },
  {
   "cell_type": "code",
   "execution_count": 14,
   "id": "44484205",
   "metadata": {},
   "outputs": [
    {
     "name": "stdout",
     "output_type": "stream",
     "text": [
      "354 ms ± 1.17 ms per loop (mean ± std. dev. of 7 runs, 1 loop each)\n"
     ]
    }
   ],
   "source": [
    "%timeit [x**2 for x in range(1000000)]"
   ]
  },
  {
   "cell_type": "code",
   "execution_count": 16,
   "id": "fbdbed3b",
   "metadata": {},
   "outputs": [
    {
     "name": "stdout",
     "output_type": "stream",
     "text": [
      "30.4 ms ± 160 µs per loop (mean ± std. dev. of 7 runs, 10 loops each)\n"
     ]
    }
   ],
   "source": [
    "%timeit (map(lambda x:x**2,list(range(1000000))))"
   ]
  },
  {
   "cell_type": "code",
   "execution_count": 17,
   "id": "6020a3ac",
   "metadata": {},
   "outputs": [],
   "source": [
    "a = [1,2,3,4,5]\n",
    "b = [10,20,30,40,50]"
   ]
  },
  {
   "cell_type": "code",
   "execution_count": 19,
   "id": "4a1ee261",
   "metadata": {},
   "outputs": [
    {
     "data": {
      "text/plain": [
       "[11, 22, 33, 44, 55]"
      ]
     },
     "execution_count": 19,
     "metadata": {},
     "output_type": "execute_result"
    }
   ],
   "source": [
    "list(map(lambda x,y : x+y,a,b))"
   ]
  },
  {
   "cell_type": "code",
   "execution_count": 20,
   "id": "5bcdd4b4",
   "metadata": {},
   "outputs": [],
   "source": [
    "a = [1,2,3,4,5]\n",
    "b = [10,20,30,40,50,60,70,80]"
   ]
  },
  {
   "cell_type": "code",
   "execution_count": 21,
   "id": "7be8ea03",
   "metadata": {},
   "outputs": [
    {
     "data": {
      "text/plain": [
       "[11, 22, 33, 44, 55]"
      ]
     },
     "execution_count": 21,
     "metadata": {},
     "output_type": "execute_result"
    }
   ],
   "source": [
    "list(map(lambda x,y : x+y,a,b))"
   ]
  },
  {
   "cell_type": "code",
   "execution_count": null,
   "id": "bf8abc30",
   "metadata": {},
   "outputs": [],
   "source": [
    " '''\n",
    " Using map\n",
    " Given a list of heights in inches, convert them into t-shirt sizes using the following mapping:\n",
    " \n",
    " height -> 150 -> \"Small\"\n",
    " height >= 150 and height < 180 -> \"Medium\"\n",
    " height >= 180 -> \"Large\"\n",
    " \n",
    " ip: [150,120,168,202,110]\n",
    " '''"
   ]
  },
  {
   "cell_type": "code",
   "execution_count": 38,
   "id": "994242c7",
   "metadata": {},
   "outputs": [
    {
     "data": {
      "text/plain": [
       "['Medium', 'Small', 'Medium', 'Large', 'Small']"
      ]
     },
     "execution_count": 38,
     "metadata": {},
     "output_type": "execute_result"
    }
   ],
   "source": [
    "height = [150,120,168,202,110]\n",
    "\n",
    "\n",
    "sizes = list(map(lambda x:\"Small\" if x<150 else \"Medium\" if x>=150 and x <180 else \"Large\" ,height))\n",
    "sizes"
   ]
  },
  {
   "cell_type": "code",
   "execution_count": 39,
   "id": "62a70eea",
   "metadata": {},
   "outputs": [],
   "source": [
    "def height_to_sizes(h):\n",
    "    if h<150:\n",
    "        return \"Small\"\n",
    "    elif h>=150 and h<180:\n",
    "        return \"Medium\"\n",
    "    return \"Large\""
   ]
  },
  {
   "cell_type": "code",
   "execution_count": 40,
   "id": "deb280c0",
   "metadata": {},
   "outputs": [
    {
     "data": {
      "text/plain": [
       "['Medium', 'Small', 'Medium', 'Large', 'Small']"
      ]
     },
     "execution_count": 40,
     "metadata": {},
     "output_type": "execute_result"
    }
   ],
   "source": [
    "height = [150,120,168,202,110]\n",
    "\n",
    "sizes = list(map(height_to_sizes,height))\n",
    "sizes"
   ]
  },
  {
   "cell_type": "markdown",
   "id": "6392b5af",
   "metadata": {},
   "source": [
    "### Filter\n",
    "* filtering out output on basis of condition\n",
    "* if condition matching than only get output otherwise not"
   ]
  },
  {
   "cell_type": "code",
   "execution_count": 22,
   "id": "99b27416",
   "metadata": {},
   "outputs": [],
   "source": [
    "a = list(range(1,21))\n",
    "\n"
   ]
  },
  {
   "cell_type": "code",
   "execution_count": 23,
   "id": "b73fd9fe",
   "metadata": {},
   "outputs": [
    {
     "data": {
      "text/plain": [
       "<filter at 0x18acbec7a90>"
      ]
     },
     "execution_count": 23,
     "metadata": {},
     "output_type": "execute_result"
    }
   ],
   "source": [
    "filter(lambda x: x%2 ==0,a)"
   ]
  },
  {
   "cell_type": "code",
   "execution_count": 24,
   "id": "73f729f0",
   "metadata": {},
   "outputs": [],
   "source": [
    "res = list(filter(lambda x: x%2 ==0,a))"
   ]
  },
  {
   "cell_type": "code",
   "execution_count": 25,
   "id": "cfcf2bc2",
   "metadata": {},
   "outputs": [
    {
     "data": {
      "text/plain": [
       "[2, 4, 6, 8, 10, 12, 14, 16, 18, 20]"
      ]
     },
     "execution_count": 25,
     "metadata": {},
     "output_type": "execute_result"
    }
   ],
   "source": [
    "res"
   ]
  },
  {
   "cell_type": "code",
   "execution_count": 27,
   "id": "82a038cb",
   "metadata": {},
   "outputs": [
    {
     "data": {
      "text/plain": [
       "[1, 3, 5, 7, 9, 11, 13, 15, 17, 19]"
      ]
     },
     "execution_count": 27,
     "metadata": {},
     "output_type": "execute_result"
    }
   ],
   "source": [
    "res = list(filter(lambda x: x%2 !=0,a))\n",
    "res"
   ]
  },
  {
   "cell_type": "code",
   "execution_count": 28,
   "id": "e27d6cad",
   "metadata": {},
   "outputs": [
    {
     "data": {
      "text/plain": [
       "[[1, 2], [1, 4, 5, 6], [1], [2, 3, 4, 5, 6, 6]]"
      ]
     },
     "execution_count": 28,
     "metadata": {},
     "output_type": "execute_result"
    }
   ],
   "source": [
    "a = [[1,2],[1,4,5,6],[1],[],[],[],[2,3,4,5,6,6]]\n",
    "\n",
    "res = list(filter(lambda x:len(x) !=0,a))\n",
    "res"
   ]
  },
  {
   "cell_type": "code",
   "execution_count": 30,
   "id": "226c1c62",
   "metadata": {},
   "outputs": [
    {
     "data": {
      "text/plain": [
       "[1, 2, 3, 4, 5, 6, 7, 8, 9, 10, 11, 12, 13, 14, 15, 16, 17, 18, 19, 20]"
      ]
     },
     "execution_count": 30,
     "metadata": {},
     "output_type": "execute_result"
    }
   ],
   "source": [
    "a = list(range(1,21))\n",
    "a"
   ]
  },
  {
   "cell_type": "code",
   "execution_count": 31,
   "id": "5970328c",
   "metadata": {},
   "outputs": [],
   "source": [
    "def filtering_logic(x):\n",
    "    return x%2 ==0"
   ]
  },
  {
   "cell_type": "code",
   "execution_count": 32,
   "id": "773ab459",
   "metadata": {},
   "outputs": [
    {
     "data": {
      "text/plain": [
       "[2, 4, 6, 8, 10, 12, 14, 16, 18, 20]"
      ]
     },
     "execution_count": 32,
     "metadata": {},
     "output_type": "execute_result"
    }
   ],
   "source": [
    "ans = list(filter(filtering_logic,a))\n",
    "ans"
   ]
  },
  {
   "cell_type": "markdown",
   "id": "5a1379a3",
   "metadata": {},
   "source": [
    "### Zip"
   ]
  },
  {
   "cell_type": "code",
   "execution_count": 33,
   "id": "b087adc6",
   "metadata": {},
   "outputs": [
    {
     "data": {
      "text/plain": [
       "[(1, 'a'), (3, 'd'), (5, 'b'), (4, 'c'), (9, 'f')]"
      ]
     },
     "execution_count": 33,
     "metadata": {},
     "output_type": "execute_result"
    }
   ],
   "source": [
    "a = [1,3,5,4,9]\n",
    "b=[\"a\",\"d\",\"b\",\"c\",\"f\"]\n",
    "\n",
    "res = list(zip(a,b))\n",
    "res"
   ]
  },
  {
   "cell_type": "code",
   "execution_count": 34,
   "id": "abf55a34",
   "metadata": {},
   "outputs": [
    {
     "data": {
      "text/plain": [
       "[(1, 'a'), (3, 'd'), (5, 'b'), (4, 'c'), (9, 'f')]"
      ]
     },
     "execution_count": 34,
     "metadata": {},
     "output_type": "execute_result"
    }
   ],
   "source": [
    "a = [1,3,5,4,9]\n",
    "b=[\"a\",\"d\",\"b\",\"c\",\"f\",\"h\",\"i\"]\n",
    "\n",
    "res = list(zip(a,b))\n",
    "res"
   ]
  },
  {
   "cell_type": "code",
   "execution_count": 36,
   "id": "c23d4e79",
   "metadata": {},
   "outputs": [
    {
     "data": {
      "text/plain": [
       "[(1, 'a', 44), (3, 'd', 70), (5, 'b', 90)]"
      ]
     },
     "execution_count": 36,
     "metadata": {},
     "output_type": "execute_result"
    }
   ],
   "source": [
    "a = [1,3,5,4,9]\n",
    "b=[\"a\",\"d\",\"b\",\"c\",\"f\",\"h\",\"i\"]\n",
    "c = [44,70,90]\n",
    "\n",
    "res = list(zip(a,b,c))\n",
    "res"
   ]
  },
  {
   "cell_type": "code",
   "execution_count": 37,
   "id": "48c16ad3",
   "metadata": {},
   "outputs": [
    {
     "data": {
      "text/plain": [
       "[('a', 44, 1), ('d', 70, 3), ('b', 90, 5)]"
      ]
     },
     "execution_count": 37,
     "metadata": {},
     "output_type": "execute_result"
    }
   ],
   "source": [
    "a = [1,3,5,4,9]\n",
    "b=[\"a\",\"d\",\"b\",\"c\",\"f\",\"h\",\"i\"]\n",
    "c = [44,70,90]\n",
    "\n",
    "res = list(zip(b,c,a))\n",
    "res"
   ]
  },
  {
   "cell_type": "code",
   "execution_count": 41,
   "id": "4f23b7b7",
   "metadata": {},
   "outputs": [
    {
     "data": {
      "text/plain": [
       "[(1, 'x'), (2, 'y'), (3, 'z')]"
      ]
     },
     "execution_count": 41,
     "metadata": {},
     "output_type": "execute_result"
    }
   ],
   "source": [
    "a = [1,2,3]\n",
    "b = [\"x\",\"y\",'z']\n",
    "\n",
    "ans = list(zip(a,b))\n",
    "ans"
   ]
  },
  {
   "cell_type": "markdown",
   "id": "11173feb",
   "metadata": {},
   "source": [
    "### Reduce"
   ]
  },
  {
   "cell_type": "code",
   "execution_count": 43,
   "id": "d507939e",
   "metadata": {},
   "outputs": [],
   "source": [
    "from functools import reduce"
   ]
  },
  {
   "cell_type": "code",
   "execution_count": 44,
   "id": "78f00144",
   "metadata": {},
   "outputs": [],
   "source": [
    "a = [1,2,3,4,5]\n",
    "\n",
    "ans = reduce(lambda x,y : x+y, a)"
   ]
  },
  {
   "cell_type": "code",
   "execution_count": 45,
   "id": "743068f3",
   "metadata": {},
   "outputs": [
    {
     "data": {
      "text/plain": [
       "15"
      ]
     },
     "execution_count": 45,
     "metadata": {},
     "output_type": "execute_result"
    }
   ],
   "source": [
    "ans"
   ]
  },
  {
   "cell_type": "code",
   "execution_count": 46,
   "id": "450697b7",
   "metadata": {},
   "outputs": [],
   "source": [
    "s = [\"This\",\"is\",\"s\",\"list\",\"of\",\"strings\"]\n",
    "# op : \"This is a list of strings\""
   ]
  },
  {
   "cell_type": "code",
   "execution_count": 49,
   "id": "b3a4716e",
   "metadata": {},
   "outputs": [],
   "source": [
    "ans = reduce(lambda x,y : x+ \" \"+y, s)"
   ]
  },
  {
   "cell_type": "code",
   "execution_count": 50,
   "id": "ce74f6a7",
   "metadata": {},
   "outputs": [
    {
     "data": {
      "text/plain": [
       "'This is s list of strings'"
      ]
     },
     "execution_count": 50,
     "metadata": {},
     "output_type": "execute_result"
    }
   ],
   "source": [
    "ans"
   ]
  },
  {
   "cell_type": "code",
   "execution_count": 52,
   "id": "9b507ce4",
   "metadata": {},
   "outputs": [
    {
     "data": {
      "text/plain": [
       "5"
      ]
     },
     "execution_count": 52,
     "metadata": {},
     "output_type": "execute_result"
    }
   ],
   "source": [
    "a = [1,2,3,4,5]\n",
    "\n",
    "res = reduce(lambda x,y : x if x>y else y,a)\n",
    "res"
   ]
  },
  {
   "cell_type": "code",
   "execution_count": 53,
   "id": "ed22fbcf",
   "metadata": {},
   "outputs": [
    {
     "data": {
      "text/plain": [
       "115"
      ]
     },
     "execution_count": 53,
     "metadata": {},
     "output_type": "execute_result"
    }
   ],
   "source": [
    "a = [1,2,3,4,5]\n",
    "\n",
    "ans = reduce(lambda x,y : x+y,a,100)\n",
    "ans"
   ]
  },
  {
   "cell_type": "markdown",
   "id": "2d941d5e",
   "metadata": {},
   "source": [
    "### Args and kwargs"
   ]
  },
  {
   "cell_type": "code",
   "execution_count": 54,
   "id": "b68d3451",
   "metadata": {},
   "outputs": [],
   "source": [
    "def sum_numbers(x,y):\n",
    "    return x+y"
   ]
  },
  {
   "cell_type": "code",
   "execution_count": 55,
   "id": "664a37c5",
   "metadata": {},
   "outputs": [
    {
     "data": {
      "text/plain": [
       "8"
      ]
     },
     "execution_count": 55,
     "metadata": {},
     "output_type": "execute_result"
    }
   ],
   "source": [
    "sum_numbers(3,5)"
   ]
  },
  {
   "cell_type": "code",
   "execution_count": 56,
   "id": "97851a5a",
   "metadata": {},
   "outputs": [
    {
     "data": {
      "text/plain": [
       "11"
      ]
     },
     "execution_count": 56,
     "metadata": {},
     "output_type": "execute_result"
    }
   ],
   "source": [
    "sum_numbers(3,8)"
   ]
  },
  {
   "cell_type": "code",
   "execution_count": 57,
   "id": "3ffdf997",
   "metadata": {},
   "outputs": [
    {
     "ename": "TypeError",
     "evalue": "sum_numbers() takes 2 positional arguments but 3 were given",
     "output_type": "error",
     "traceback": [
      "\u001b[1;31m---------------------------------------------------------------------------\u001b[0m",
      "\u001b[1;31mTypeError\u001b[0m                                 Traceback (most recent call last)",
      "Cell \u001b[1;32mIn[57], line 1\u001b[0m\n\u001b[1;32m----> 1\u001b[0m \u001b[43msum_numbers\u001b[49m\u001b[43m(\u001b[49m\u001b[38;5;241;43m3\u001b[39;49m\u001b[43m,\u001b[49m\u001b[38;5;241;43m5\u001b[39;49m\u001b[43m,\u001b[49m\u001b[38;5;241;43m2\u001b[39;49m\u001b[43m)\u001b[49m\n",
      "\u001b[1;31mTypeError\u001b[0m: sum_numbers() takes 2 positional arguments but 3 were given"
     ]
    }
   ],
   "source": [
    "sum_numbers(3,5,2)"
   ]
  },
  {
   "cell_type": "code",
   "execution_count": 58,
   "id": "82e8ba09",
   "metadata": {},
   "outputs": [],
   "source": [
    "def sum_numbers(x,y,*args):\n",
    "    print(x)\n",
    "    print(y)\n",
    "    print(args)"
   ]
  },
  {
   "cell_type": "code",
   "execution_count": 59,
   "id": "2d201a3d",
   "metadata": {},
   "outputs": [
    {
     "name": "stdout",
     "output_type": "stream",
     "text": [
      "3\n",
      "5\n",
      "()\n"
     ]
    }
   ],
   "source": [
    "sum_numbers(3,5)"
   ]
  },
  {
   "cell_type": "code",
   "execution_count": 60,
   "id": "fdd9d3ee",
   "metadata": {},
   "outputs": [
    {
     "name": "stdout",
     "output_type": "stream",
     "text": [
      "3\n",
      "5\n",
      "(6,)\n"
     ]
    }
   ],
   "source": [
    "sum_numbers(3,5,6)"
   ]
  },
  {
   "cell_type": "code",
   "execution_count": 61,
   "id": "5122659a",
   "metadata": {},
   "outputs": [
    {
     "name": "stdout",
     "output_type": "stream",
     "text": [
      "3\n",
      "5\n",
      "(6, 7, 4, 6)\n"
     ]
    }
   ],
   "source": [
    "sum_numbers(3,5,6,7,4,6)"
   ]
  },
  {
   "cell_type": "code",
   "execution_count": 64,
   "id": "825b2fa0",
   "metadata": {},
   "outputs": [],
   "source": [
    "def modified_sum(x,y,*args):\n",
    "    result = x+y\n",
    "    \n",
    "    if len(args) !=0:\n",
    "        result += sum(args)\n",
    "        \n",
    "    return result"
   ]
  },
  {
   "cell_type": "code",
   "execution_count": 65,
   "id": "bb37669c",
   "metadata": {},
   "outputs": [
    {
     "data": {
      "text/plain": [
       "8"
      ]
     },
     "execution_count": 65,
     "metadata": {},
     "output_type": "execute_result"
    }
   ],
   "source": [
    "modified_sum(3,5)"
   ]
  },
  {
   "cell_type": "code",
   "execution_count": 66,
   "id": "92527673",
   "metadata": {},
   "outputs": [
    {
     "data": {
      "text/plain": [
       "23"
      ]
     },
     "execution_count": 66,
     "metadata": {},
     "output_type": "execute_result"
    }
   ],
   "source": [
    "modified_sum(3,5,7,8)"
   ]
  },
  {
   "cell_type": "code",
   "execution_count": 67,
   "id": "7acbbefb",
   "metadata": {},
   "outputs": [
    {
     "data": {
      "text/plain": [
       "33"
      ]
     },
     "execution_count": 67,
     "metadata": {},
     "output_type": "execute_result"
    }
   ],
   "source": [
    "modified_sum(3,5,7,8,10)"
   ]
  },
  {
   "cell_type": "code",
   "execution_count": 68,
   "id": "c62f8bf1",
   "metadata": {},
   "outputs": [],
   "source": [
    "#### kwargs"
   ]
  },
  {
   "cell_type": "code",
   "execution_count": 69,
   "id": "f8b3967e",
   "metadata": {},
   "outputs": [],
   "source": [
    "def create_person(name,age,city):\n",
    "    profile = {\n",
    "        \"name\" : name,\n",
    "        \"age\" : age,\n",
    "        \"city\" : city\n",
    "    }\n",
    "    \n",
    "    return profile"
   ]
  },
  {
   "cell_type": "code",
   "execution_count": 70,
   "id": "523b81e4",
   "metadata": {},
   "outputs": [
    {
     "data": {
      "text/plain": [
       "{'name': 'yuvraj', 'age': 24, 'city': 'Mumbai'}"
      ]
     },
     "execution_count": 70,
     "metadata": {},
     "output_type": "execute_result"
    }
   ],
   "source": [
    "create_person(name = \"yuvraj\", age=24, city=\"Mumbai\")"
   ]
  },
  {
   "cell_type": "code",
   "execution_count": 71,
   "id": "4b6ffc73",
   "metadata": {},
   "outputs": [],
   "source": [
    "def create_person(name,age,city,**kwargs):\n",
    "    print(name)\n",
    "    print(age)\n",
    "    print(city)\n",
    "    print(kwargs)"
   ]
  },
  {
   "cell_type": "code",
   "execution_count": 72,
   "id": "a02c1cf6",
   "metadata": {},
   "outputs": [
    {
     "name": "stdout",
     "output_type": "stream",
     "text": [
      "Yuvi\n",
      "25\n",
      "Vasai\n",
      "{}\n"
     ]
    }
   ],
   "source": [
    "create_person(name = \"Yuvi\", age=25, city =\"Vasai\")"
   ]
  },
  {
   "cell_type": "code",
   "execution_count": 73,
   "id": "6d39a3a6",
   "metadata": {},
   "outputs": [
    {
     "name": "stdout",
     "output_type": "stream",
     "text": [
      "Yuvi\n",
      "25\n",
      "Vasai\n",
      "{'state': 'Maharashtra', 'fav_color': 'Blue'}\n"
     ]
    }
   ],
   "source": [
    "create_person(name = \"Yuvi\", age=25, city =\"Vasai\", state = \"Maharashtra\", fav_color =\"Blue\")"
   ]
  },
  {
   "cell_type": "code",
   "execution_count": 74,
   "id": "0e0853c7",
   "metadata": {},
   "outputs": [],
   "source": [
    "def modified_profile(name,age,city, **kwargs):\n",
    "    \n",
    "    profile = {\n",
    "        \"name\" : name,\n",
    "        \"age\"  : age,\n",
    "        \"city\" : city\n",
    "    }\n",
    "    \n",
    "    if len(kwargs) !=0:\n",
    "        profile.update(kwargs)\n",
    "        \n",
    "    return profile"
   ]
  },
  {
   "cell_type": "code",
   "execution_count": 75,
   "id": "ccc635ee",
   "metadata": {},
   "outputs": [
    {
     "data": {
      "text/plain": [
       "{'name': 'Raju', 'age': 35, 'city': 'Pune'}"
      ]
     },
     "execution_count": 75,
     "metadata": {},
     "output_type": "execute_result"
    }
   ],
   "source": [
    "modified_profile(name = \"Raju\", age =35, city=\"Pune\")"
   ]
  },
  {
   "cell_type": "code",
   "execution_count": 76,
   "id": "6374795f",
   "metadata": {},
   "outputs": [
    {
     "data": {
      "text/plain": [
       "{'name': 'Yuvi',\n",
       " 'age': 25,\n",
       " 'city': 'Vasai',\n",
       " 'state': 'Maharashtra',\n",
       " 'fav_color': 'Blue'}"
      ]
     },
     "execution_count": 76,
     "metadata": {},
     "output_type": "execute_result"
    }
   ],
   "source": [
    "modified_profile(name = \"Yuvi\", age=25, city =\"Vasai\", state = \"Maharashtra\", fav_color =\"Blue\")"
   ]
  },
  {
   "cell_type": "markdown",
   "id": "0c5e2200",
   "metadata": {},
   "source": [
    "* Postional -> extra positional arguments (args) --> keyworded -> extra keyworded arguments (kwargs)"
   ]
  },
  {
   "cell_type": "code",
   "execution_count": 78,
   "id": "d3e98b1d",
   "metadata": {},
   "outputs": [],
   "source": [
    "def show(x,y,*args,**kwargs):\n",
    "    print(x)\n",
    "    print(y)\n",
    "    print(args)\n",
    "    print(kwargs)"
   ]
  },
  {
   "cell_type": "code",
   "execution_count": 79,
   "id": "105144b3",
   "metadata": {},
   "outputs": [
    {
     "name": "stdout",
     "output_type": "stream",
     "text": [
      "4\n",
      "5\n",
      "(6, 7, 9)\n",
      "{'a': 8, 'b': 5, 'c': 3}\n"
     ]
    }
   ],
   "source": [
    "show(4,5,6,7,9,a=8,b=5,c=3)"
   ]
  },
  {
   "cell_type": "code",
   "execution_count": null,
   "id": "e20feac9",
   "metadata": {},
   "outputs": [],
   "source": [
    " "
   ]
  }
 ],
 "metadata": {
  "kernelspec": {
   "display_name": "Python 3 (ipykernel)",
   "language": "python",
   "name": "python3"
  },
  "language_info": {
   "codemirror_mode": {
    "name": "ipython",
    "version": 3
   },
   "file_extension": ".py",
   "mimetype": "text/x-python",
   "name": "python",
   "nbconvert_exporter": "python",
   "pygments_lexer": "ipython3",
   "version": "3.10.9"
  }
 },
 "nbformat": 4,
 "nbformat_minor": 5
}
