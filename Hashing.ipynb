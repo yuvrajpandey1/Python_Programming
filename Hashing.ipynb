{
 "cells": [
  {
   "cell_type": "markdown",
   "id": "8f83a9f0",
   "metadata": {},
   "source": [
    "### Scenario -> \n",
    "* You are given values from 1 to 1000 in a list\n",
    "* Size of list is N\n",
    "* You will get 1000 queries, each containing a value x\n",
    "* You have to tell whether the value x is present in the list or not\n"
   ]
  },
  {
   "cell_type": "markdown",
   "id": "a486eb11",
   "metadata": {},
   "source": [
    "* ls = [1,5,3,8,4]\n",
    "\n",
    "* x = 3 -> T\n",
    "* x = 10 -> F\n",
    "#### Approach :\n",
    "* For each query search entire list\n",
    "* If x is present return true,else return false\n",
    "* TC -> O(N*Q)\n",
    "* N = 100, Q = 100 , TC -> 10^4\n"
   ]
  },
  {
   "cell_type": "markdown",
   "id": "ba176729",
   "metadata": {},
   "source": [
    "#### Approach2:\n",
    "* Sorting + Binary Search\n",
    "* TC -> O(N*logN) + O(Q*logN)  -> O((Q+N)logN)\n",
    "* N = 10*6, Q=10*6,TC->(2*10^6)*20 => 4s"
   ]
  },
  {
   "cell_type": "code",
   "execution_count": 3,
   "id": "0e8f3237",
   "metadata": {},
   "outputs": [],
   "source": [
    "def valueExits(ls,queries):\n",
    "    exist = [False]*1001\n",
    "    for x in ls:\n",
    "        exist[x] = True\n",
    "    for x in queries:\n",
    "        if exist[x] ==True:\n",
    "            print(\"True\")\n",
    "        else:\n",
    "            print(\"False\")\n",
    "            \n",
    "            "
   ]
  },
  {
   "cell_type": "code",
   "execution_count": 4,
   "id": "883f85ac",
   "metadata": {},
   "outputs": [
    {
     "name": "stdout",
     "output_type": "stream",
     "text": [
      "False\n",
      "False\n",
      "False\n",
      "True\n"
     ]
    }
   ],
   "source": [
    "valueExits([1,5,3,8,4],[2,9,10,8])"
   ]
  },
  {
   "cell_type": "markdown",
   "id": "44c010c3",
   "metadata": {},
   "source": [
    "### Hashing\n",
    "\n",
    "* Set\n",
    "* Dict "
   ]
  },
  {
   "cell_type": "markdown",
   "id": "9422f780",
   "metadata": {},
   "source": [
    "* Insert\n",
    "* Find\n",
    "* Delete\n",
    "* Modify"
   ]
  },
  {
   "cell_type": "code",
   "execution_count": null,
   "id": "1ae9588c",
   "metadata": {},
   "outputs": [],
   "source": []
  }
 ],
 "metadata": {
  "kernelspec": {
   "display_name": "Python 3 (ipykernel)",
   "language": "python",
   "name": "python3"
  },
  "language_info": {
   "codemirror_mode": {
    "name": "ipython",
    "version": 3
   },
   "file_extension": ".py",
   "mimetype": "text/x-python",
   "name": "python",
   "nbconvert_exporter": "python",
   "pygments_lexer": "ipython3",
   "version": "3.11.4"
  }
 },
 "nbformat": 4,
 "nbformat_minor": 5
}
