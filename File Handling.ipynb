{
 "cells": [
  {
   "cell_type": "markdown",
   "id": "67c6409b",
   "metadata": {},
   "source": [
    "* By using code we can read , write and edit code "
   ]
  },
  {
   "cell_type": "markdown",
   "id": "3a909e3d",
   "metadata": {},
   "source": [
    "#### Memory\n",
    "\n",
    "* 1. Primary (RAM) --> Temporary / Volatile for quick process or working of application\n",
    "* 2. Secondary (Hard-drives), HDD, SDD for only storage of data --> Persistent / Fixed"
   ]
  },
  {
   "cell_type": "markdown",
   "id": "b0313764",
   "metadata": {},
   "source": [
    "#### File Storage ;- \n",
    "\n",
    "* Fundamental unit to store data is bits -> 0/1\n",
    "\n",
    "* ASCII "
   ]
  },
  {
   "cell_type": "markdown",
   "id": "f36c11ef",
   "metadata": {},
   "source": [
    "* File Extension ( .exe, .txt, .csv)"
   ]
  },
  {
   "cell_type": "markdown",
   "id": "ace69d9b",
   "metadata": {},
   "source": [
    "* Program locks the file and then writes in it "
   ]
  },
  {
   "cell_type": "markdown",
   "id": "4fb8b028",
   "metadata": {},
   "source": [
    "### File Access Modes\n",
    "Access modes govern the type of operations possible in the opened file. It refers to how the file will be used once its opened. These modes also define the location of the File Handle in the file. File handle is like a cursor, which defines from where the data has to be read or written in the file. There are 6 access modes in python.\n",
    "\n",
    "* Read Only (‘r’) : Open text file for reading. The handle is positioned at the beginning of the file. If the file does not exists, raises I/O error. This is also the default mode in which file is opened.\n",
    "\n",
    "* Read and Write (‘r+’) : Open the file for reading and writing. The handle is positioned at the beginning of the file. Raises I/O error if the file does not exists.\n",
    "\n",
    "* Write Only (‘w’) : Open the file for writing. For existing file, the data is truncated and over-written. The handle is positioned at the beginning of the file. Creates the file if the file does not exists.\n",
    "\n",
    "* Write and Read (‘w+’) : Open the file for reading and writing. For existing file, data is truncated and over-written. The handle is positioned at the beginning of the file.\n",
    "\n",
    "* Append Only (‘a’) : Open the file for writing. The file is created if it does not exist. The handle is positioned at the end of the file. The data being written will be inserted at the end, after the existing data.\n",
    "\n",
    "* Append and Read (‘a+’) : Open the file for reading and writing. The file is created if it does not exist. The handle is positioned at the end of the file. The data being written will be inserted at the end, after the existing data.\n"
   ]
  },
  {
   "cell_type": "markdown",
   "id": "ab1a0907",
   "metadata": {},
   "source": [
    "#### Opening a file"
   ]
  },
  {
   "cell_type": "code",
   "execution_count": 4,
   "id": "8358e452",
   "metadata": {},
   "outputs": [
    {
     "data": {
      "text/plain": [
       "<_io.TextIOWrapper name='aerofit_treadmill.txt' mode='r' encoding='cp1252'>"
      ]
     },
     "execution_count": 4,
     "metadata": {},
     "output_type": "execute_result"
    }
   ],
   "source": [
    "file = open('aerofit_treadmill.txt',\"r\")\n",
    "file"
   ]
  },
  {
   "cell_type": "markdown",
   "id": "c5347875",
   "metadata": {},
   "source": [
    "#### Close a file"
   ]
  },
  {
   "cell_type": "code",
   "execution_count": 6,
   "id": "f2ca22dc",
   "metadata": {},
   "outputs": [
    {
     "data": {
      "text/plain": [
       "<_io.TextIOWrapper name='aerofit_treadmill.txt' mode='r' encoding='cp1252'>"
      ]
     },
     "execution_count": 6,
     "metadata": {},
     "output_type": "execute_result"
    }
   ],
   "source": [
    "file.close()\n",
    "file"
   ]
  },
  {
   "cell_type": "markdown",
   "id": "86156dd0",
   "metadata": {},
   "source": [
    "#### Writing to a file\n",
    "\n",
    "* write\n",
    "* writelines"
   ]
  },
  {
   "cell_type": "code",
   "execution_count": 8,
   "id": "de1af9c8",
   "metadata": {},
   "outputs": [],
   "source": [
    "file = open(\"sample.txt\",'w+')"
   ]
  },
  {
   "cell_type": "code",
   "execution_count": 9,
   "id": "8a702ad3",
   "metadata": {},
   "outputs": [
    {
     "data": {
      "text/plain": [
       "24"
      ]
     },
     "execution_count": 9,
     "metadata": {},
     "output_type": "execute_result"
    }
   ],
   "source": [
    "file.write(\"This is some sample text\")\n",
    "# return number of bytes used in memory"
   ]
  },
  {
   "cell_type": "code",
   "execution_count": 10,
   "id": "b1077e36",
   "metadata": {},
   "outputs": [],
   "source": [
    "file.close()"
   ]
  },
  {
   "cell_type": "code",
   "execution_count": 11,
   "id": "37dfd499",
   "metadata": {},
   "outputs": [],
   "source": [
    "file = open(\"sample2.txt\",'w+')"
   ]
  },
  {
   "cell_type": "code",
   "execution_count": 12,
   "id": "8f28d683",
   "metadata": {},
   "outputs": [],
   "source": [
    "file.writelines(['Hello','Line 1','2nd Line','3rd Line'])"
   ]
  },
  {
   "cell_type": "code",
   "execution_count": 13,
   "id": "4d2037e0",
   "metadata": {},
   "outputs": [],
   "source": [
    "file.close()"
   ]
  },
  {
   "cell_type": "markdown",
   "id": "aaf7df8b",
   "metadata": {},
   "source": [
    "#### Reading from a file\n",
    "\n",
    "* read -> read entire document at once\n",
    "* readline -> reads line by line\n",
    "* readlines -> returns all lines at once on a list"
   ]
  },
  {
   "cell_type": "code",
   "execution_count": 14,
   "id": "218e855a",
   "metadata": {},
   "outputs": [
    {
     "data": {
      "text/plain": [
       "<_io.TextIOWrapper name='sample.txt' mode='r' encoding='cp1252'>"
      ]
     },
     "execution_count": 14,
     "metadata": {},
     "output_type": "execute_result"
    }
   ],
   "source": [
    "file = open(\"sample.txt\",'r')\n",
    "file"
   ]
  },
  {
   "cell_type": "code",
   "execution_count": 15,
   "id": "0e15dd23",
   "metadata": {},
   "outputs": [
    {
     "name": "stdout",
     "output_type": "stream",
     "text": [
      "This is some sample text\n"
     ]
    }
   ],
   "source": [
    "print(file.read())"
   ]
  },
  {
   "cell_type": "code",
   "execution_count": 16,
   "id": "269f5f68",
   "metadata": {},
   "outputs": [
    {
     "name": "stdout",
     "output_type": "stream",
     "text": [
      "HelloLine 12nd Line3rd Line\n"
     ]
    }
   ],
   "source": [
    "file = open(\"sample2.txt\",'r')\n",
    "print(file.read())"
   ]
  },
  {
   "cell_type": "code",
   "execution_count": 17,
   "id": "ede58f32",
   "metadata": {},
   "outputs": [
    {
     "name": "stdout",
     "output_type": "stream",
     "text": [
      "HelloLine 12nd Line3rd Line\n"
     ]
    }
   ],
   "source": [
    "file = open(\"sample2.txt\",'r')\n",
    "print(file.read())\n",
    "file.close()"
   ]
  },
  {
   "cell_type": "code",
   "execution_count": 18,
   "id": "bb8e4e44",
   "metadata": {},
   "outputs": [
    {
     "ename": "ValueError",
     "evalue": "I/O operation on closed file.",
     "output_type": "error",
     "traceback": [
      "\u001b[1;31m---------------------------------------------------------------------------\u001b[0m",
      "\u001b[1;31mValueError\u001b[0m                                Traceback (most recent call last)",
      "Cell \u001b[1;32mIn[18], line 1\u001b[0m\n\u001b[1;32m----> 1\u001b[0m file\u001b[38;5;241m.\u001b[39mwritelines([\u001b[38;5;124m'\u001b[39m\u001b[38;5;124mHello\u001b[39m\u001b[38;5;130;01m\\n\u001b[39;00m\u001b[38;5;124m'\u001b[39m,\u001b[38;5;124m'\u001b[39m\u001b[38;5;124mLine 1\u001b[39m\u001b[38;5;130;01m\\n\u001b[39;00m\u001b[38;5;124m'\u001b[39m,\u001b[38;5;124m'\u001b[39m\u001b[38;5;124m2nd Line\u001b[39m\u001b[38;5;130;01m\\n\u001b[39;00m\u001b[38;5;124m'\u001b[39m,\u001b[38;5;124m'\u001b[39m\u001b[38;5;124m3rd Line\u001b[39m\u001b[38;5;130;01m\\n\u001b[39;00m\u001b[38;5;124m'\u001b[39m])\n",
      "\u001b[1;31mValueError\u001b[0m: I/O operation on closed file."
     ]
    }
   ],
   "source": [
    "file.writelines(['Hello\\n','Line 1\\n','2nd Line\\n','3rd Line\\n'])"
   ]
  },
  {
   "cell_type": "code",
   "execution_count": 28,
   "id": "3a117e97",
   "metadata": {},
   "outputs": [],
   "source": [
    "file = open(\"sample3.txt\",'w+')"
   ]
  },
  {
   "cell_type": "code",
   "execution_count": 29,
   "id": "89f829d2",
   "metadata": {},
   "outputs": [],
   "source": [
    "file.writelines(['Hello\\n','Line 1\\n','2nd Line\\n','3rd Line\\n'])"
   ]
  },
  {
   "cell_type": "code",
   "execution_count": 30,
   "id": "bbafe4d1",
   "metadata": {},
   "outputs": [
    {
     "name": "stdout",
     "output_type": "stream",
     "text": [
      "\n"
     ]
    }
   ],
   "source": [
    "print(file.read())\n"
   ]
  },
  {
   "cell_type": "code",
   "execution_count": 31,
   "id": "8f20de3c",
   "metadata": {},
   "outputs": [],
   "source": [
    "file.close()"
   ]
  },
  {
   "cell_type": "markdown",
   "id": "c5c90179",
   "metadata": {},
   "source": [
    "#### read()\n"
   ]
  },
  {
   "cell_type": "code",
   "execution_count": 32,
   "id": "cc561cae",
   "metadata": {},
   "outputs": [
    {
     "name": "stdout",
     "output_type": "stream",
     "text": [
      "Hello\n",
      "Line 1\n",
      "2nd Line\n",
      "3rd Line\n",
      "\n"
     ]
    }
   ],
   "source": [
    "file = open(\"sample3.txt\",'r')\n",
    "print(file.read())"
   ]
  },
  {
   "cell_type": "code",
   "execution_count": 33,
   "id": "93cd6f4f",
   "metadata": {},
   "outputs": [],
   "source": [
    "file.close()"
   ]
  },
  {
   "cell_type": "code",
   "execution_count": 35,
   "id": "f9bef34d",
   "metadata": {},
   "outputs": [],
   "source": [
    "file1 = open(\"sample2.txt\",'r+')\n",
    "file2 = open('sample3.txt','r+')\n",
    "\n",
    "file1.close()\n",
    "file2.close()"
   ]
  },
  {
   "cell_type": "markdown",
   "id": "9aca5867",
   "metadata": {},
   "source": [
    "#### readlines()"
   ]
  },
  {
   "cell_type": "code",
   "execution_count": 39,
   "id": "e09809f1",
   "metadata": {},
   "outputs": [
    {
     "name": "stdout",
     "output_type": "stream",
     "text": [
      "['Hello\\n', 'Line 1\\n', '2nd Line\\n', '3rd Line\\n']\n"
     ]
    }
   ],
   "source": [
    "file = open('sample2.txt','r')\n",
    "print(file.readlines())\n",
    "file.close()"
   ]
  },
  {
   "cell_type": "markdown",
   "id": "d9531ffd",
   "metadata": {},
   "source": [
    "#### readline()"
   ]
  },
  {
   "cell_type": "code",
   "execution_count": 40,
   "id": "3ad6c080",
   "metadata": {},
   "outputs": [
    {
     "data": {
      "text/plain": [
       "'Hello\\n'"
      ]
     },
     "execution_count": 40,
     "metadata": {},
     "output_type": "execute_result"
    }
   ],
   "source": [
    "file = open('sample3.txt','r')\n",
    "file.readline()"
   ]
  },
  {
   "cell_type": "code",
   "execution_count": 41,
   "id": "a9067b39",
   "metadata": {},
   "outputs": [
    {
     "data": {
      "text/plain": [
       "'Line 1\\n'"
      ]
     },
     "execution_count": 41,
     "metadata": {},
     "output_type": "execute_result"
    }
   ],
   "source": [
    "file.readline()"
   ]
  },
  {
   "cell_type": "code",
   "execution_count": 42,
   "id": "2f5ef00a",
   "metadata": {},
   "outputs": [
    {
     "data": {
      "text/plain": [
       "'2nd Line\\n'"
      ]
     },
     "execution_count": 42,
     "metadata": {},
     "output_type": "execute_result"
    }
   ],
   "source": [
    "file.readline()"
   ]
  },
  {
   "cell_type": "code",
   "execution_count": 43,
   "id": "499956e4",
   "metadata": {},
   "outputs": [
    {
     "data": {
      "text/plain": [
       "'3rd Line\\n'"
      ]
     },
     "execution_count": 43,
     "metadata": {},
     "output_type": "execute_result"
    }
   ],
   "source": [
    "file.readline()"
   ]
  },
  {
   "cell_type": "code",
   "execution_count": 44,
   "id": "bc0cc920",
   "metadata": {},
   "outputs": [
    {
     "data": {
      "text/plain": [
       "''"
      ]
     },
     "execution_count": 44,
     "metadata": {},
     "output_type": "execute_result"
    }
   ],
   "source": [
    "file.readline()"
   ]
  },
  {
   "cell_type": "code",
   "execution_count": 45,
   "id": "d7bb8471",
   "metadata": {},
   "outputs": [
    {
     "data": {
      "text/plain": [
       "''"
      ]
     },
     "execution_count": 45,
     "metadata": {},
     "output_type": "execute_result"
    }
   ],
   "source": [
    "\n",
    "file.readline()"
   ]
  },
  {
   "cell_type": "markdown",
   "id": "2efeb4c8",
   "metadata": {},
   "source": [
    "#### Better way of reading data?"
   ]
  },
  {
   "cell_type": "code",
   "execution_count": 46,
   "id": "92adb400",
   "metadata": {},
   "outputs": [
    {
     "name": "stdout",
     "output_type": "stream",
     "text": [
      "Hello\n",
      "\n",
      "Line 1\n",
      "\n",
      "2nd Line\n",
      "\n",
      "3rd Line\n",
      "\n"
     ]
    }
   ],
   "source": [
    "# Case 1 -> Data is small\n",
    "# Use read() or readlines()\n",
    "# This is faster since all data is loaded at once and we can use it\n",
    "\n",
    "file = open('sample2.txt','r')\n",
    "for line in file.readlines():\n",
    "    print(line)\n",
    "    \n",
    "file.close()"
   ]
  },
  {
   "cell_type": "code",
   "execution_count": 49,
   "id": "a0ab6eeb",
   "metadata": {},
   "outputs": [
    {
     "name": "stdout",
     "output_type": "stream",
     "text": [
      "Hello\n",
      "\n",
      "Line 1\n",
      "\n",
      "2nd Line\n",
      "\n",
      "3rd Line\n",
      "\n"
     ]
    }
   ],
   "source": [
    "# Case 2 -> Data is large\n",
    "# Use readlines()\n",
    "# Since you need to read data from memory in pieces\n",
    "\n",
    "file = open('sample2.txt','r')\n",
    "while True:\n",
    "    line = file.readline()\n",
    "    if line == '' :\n",
    "        break\n",
    "    print(line)\n",
    "file.close()\n",
    "    "
   ]
  },
  {
   "cell_type": "code",
   "execution_count": 50,
   "id": "65128d9c",
   "metadata": {},
   "outputs": [
    {
     "name": "stdout",
     "output_type": "stream",
     "text": [
      "Hello\n",
      "Line 1\n",
      "2nd Line\n",
      "3rd Line\n",
      "\n"
     ]
    }
   ],
   "source": [
    "# Case 3 -> Single line is large\n",
    "# Use read(chunk_size)\n",
    "# Since you need to read from memory in chunka\n",
    "file = open('sample3.txt','r')\n",
    "while True:\n",
    "    line = file.read()\n",
    "    if line == '' :\n",
    "        break\n",
    "    print(line)\n",
    "file.close()\n",
    "    "
   ]
  },
  {
   "cell_type": "code",
   "execution_count": 51,
   "id": "5da2aa92",
   "metadata": {},
   "outputs": [
    {
     "name": "stdout",
     "output_type": "stream",
     "text": [
      "Hello\n",
      "Li\n",
      "ne 1\n",
      "2nd\n",
      " Line\n",
      "3r\n",
      "d Line\n",
      "\n"
     ]
    }
   ],
   "source": [
    "# Case 3 -> Single line is large\n",
    "# Use read(chunk_size)\n",
    "# Since you need to read from memory in chunka\n",
    "file = open('sample3.txt','r')\n",
    "while True:\n",
    "    chunk = file.read(8)\n",
    "    if chunk == '' :\n",
    "        break\n",
    "    print(chunk)\n",
    "file.close()"
   ]
  },
  {
   "cell_type": "markdown",
   "id": "7f64ebf6",
   "metadata": {},
   "source": [
    "### Moving the cursor\n",
    "\n",
    "* seek(n) : takes the file read handle to the nth byte from the beginning."
   ]
  },
  {
   "cell_type": "code",
   "execution_count": 52,
   "id": "e95a0717",
   "metadata": {},
   "outputs": [
    {
     "name": "stdout",
     "output_type": "stream",
     "text": [
      "Hello\n",
      "Line 1\n",
      "2nd Line\n",
      "3rd Line\n",
      "\n"
     ]
    }
   ],
   "source": [
    "file = open('sample3.txt','r')\n",
    "print(file.read())\n",
    "file.close()"
   ]
  },
  {
   "cell_type": "code",
   "execution_count": 53,
   "id": "fe1338bf",
   "metadata": {},
   "outputs": [],
   "source": [
    "file = open('sample3.txt','r')\n"
   ]
  },
  {
   "cell_type": "code",
   "execution_count": 54,
   "id": "466069e9",
   "metadata": {},
   "outputs": [
    {
     "name": "stdout",
     "output_type": "stream",
     "text": [
      "Hello\n",
      "Line\n"
     ]
    }
   ],
   "source": [
    "print(file.read(10))"
   ]
  },
  {
   "cell_type": "code",
   "execution_count": 55,
   "id": "fa7f9447",
   "metadata": {},
   "outputs": [
    {
     "name": "stdout",
     "output_type": "stream",
     "text": [
      " \n"
     ]
    }
   ],
   "source": [
    "print(file.read(1))"
   ]
  },
  {
   "cell_type": "code",
   "execution_count": 56,
   "id": "9cb3c714",
   "metadata": {},
   "outputs": [
    {
     "name": "stdout",
     "output_type": "stream",
     "text": [
      "1\n",
      "2nd Line\n",
      "\n"
     ]
    }
   ],
   "source": [
    "print(file.read(11))"
   ]
  },
  {
   "cell_type": "code",
   "execution_count": 57,
   "id": "f3e4bbcf",
   "metadata": {},
   "outputs": [
    {
     "name": "stdout",
     "output_type": "stream",
     "text": [
      "o\n",
      "Lin\n"
     ]
    }
   ],
   "source": [
    "file.seek(4)\n",
    "print(file.read(5))"
   ]
  },
  {
   "cell_type": "markdown",
   "id": "c4df1bb8",
   "metadata": {},
   "source": [
    "#### Task:\n",
    "* read image and create its copy"
   ]
  },
  {
   "cell_type": "code",
   "execution_count": null,
   "id": "79ff293e",
   "metadata": {},
   "outputs": [],
   "source": []
  },
  {
   "cell_type": "code",
   "execution_count": 59,
   "id": "53964412",
   "metadata": {},
   "outputs": [],
   "source": [
    "# read the file as a binary file\n",
    "source = open(\"fruits.png\", \"rb\")\n",
    "destination = open('fr.png','wb')"
   ]
  },
  {
   "cell_type": "code",
   "execution_count": null,
   "id": "2efa7d80",
   "metadata": {},
   "outputs": [],
   "source": [
    "while True:\n",
    "    chunk = source.read(256)\n",
    "    \n",
    "    if not chunk:\n",
    "        break\n",
    "    destination.write(chunk)\n",
    "source.close()\n",
    "dest.close()"
   ]
  },
  {
   "cell_type": "code",
   "execution_count": null,
   "id": "7f7bae75",
   "metadata": {},
   "outputs": [],
   "source": [
    "# read the file as a binary file\n",
    "source = open(\"download.png\", \"rb\")\n",
    "dest = open(\"download3.png\", \"wb\")\n",
    "\n",
    "while True :\n",
    "  chunk = source.read()[::-1] # reverse the string\n",
    "\n",
    "  if not chunk:\n",
    "    break\n",
    "\n",
    "  dest.write(chunk)\n",
    "\n",
    "source.close()\n",
    "dest.close()"
   ]
  },
  {
   "cell_type": "markdown",
   "id": "fb46682e",
   "metadata": {},
   "source": [
    "### Smarter way of opening files...\n",
    "With the \"with\" statement, you get better syntax and exceptions handling.\n",
    "\n",
    "\"The with statement simplifies exception handling by encapsulating common preparation and cleanup tasks.\"\n",
    "\n",
    "In addition, it will automatically close the file. The with statement provides a way for ensuring that a clean-up is always used."
   ]
  },
  {
   "cell_type": "code",
   "execution_count": null,
   "id": "3df9d2a3",
   "metadata": {},
   "outputs": [],
   "source": []
  }
 ],
 "metadata": {
  "kernelspec": {
   "display_name": "Python 3 (ipykernel)",
   "language": "python",
   "name": "python3"
  },
  "language_info": {
   "codemirror_mode": {
    "name": "ipython",
    "version": 3
   },
   "file_extension": ".py",
   "mimetype": "text/x-python",
   "name": "python",
   "nbconvert_exporter": "python",
   "pygments_lexer": "ipython3",
   "version": "3.11.4"
  }
 },
 "nbformat": 4,
 "nbformat_minor": 5
}
