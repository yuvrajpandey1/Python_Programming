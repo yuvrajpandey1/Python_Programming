{
 "cells": [
  {
   "cell_type": "markdown",
   "id": "aa411d38",
   "metadata": {},
   "source": [
    "* A function is a set of instruction that can be invoked whenever needed"
   ]
  },
  {
   "cell_type": "code",
   "execution_count": 1,
   "id": "2f050a6c",
   "metadata": {},
   "outputs": [
    {
     "name": "stdout",
     "output_type": "stream",
     "text": [
      "knock knock ashish\n"
     ]
    }
   ],
   "source": [
    "print(\"knock knock ashish\")"
   ]
  },
  {
   "cell_type": "code",
   "execution_count": 2,
   "id": "fbd5c958",
   "metadata": {},
   "outputs": [],
   "source": [
    "def prepare_for_guests():\n",
    "    print(\"anything\")"
   ]
  },
  {
   "cell_type": "code",
   "execution_count": 3,
   "id": "6ccdec61",
   "metadata": {},
   "outputs": [
    {
     "name": "stdout",
     "output_type": "stream",
     "text": [
      "anything\n"
     ]
    }
   ],
   "source": [
    "prepare_for_guests()"
   ]
  },
  {
   "cell_type": "markdown",
   "id": "74d172e3",
   "metadata": {},
   "source": [
    "### Q1.) Write a piece of code which cook tea 5 times"
   ]
  },
  {
   "cell_type": "code",
   "execution_count": 4,
   "id": "85e1842e",
   "metadata": {},
   "outputs": [],
   "source": [
    "def make_tea():\n",
    "    print(\"I am making tea\")\n",
    "    "
   ]
  },
  {
   "cell_type": "code",
   "execution_count": 5,
   "id": "b96b2e45",
   "metadata": {},
   "outputs": [
    {
     "name": "stdout",
     "output_type": "stream",
     "text": [
      "I am making tea\n",
      "I am making tea\n",
      "I am making tea\n",
      "I am making tea\n",
      "I am making tea\n"
     ]
    }
   ],
   "source": [
    "for i in range(5):\n",
    "    make_tea()"
   ]
  },
  {
   "cell_type": "markdown",
   "id": "92bed512",
   "metadata": {},
   "source": [
    "* function can accept arguments or parameters"
   ]
  },
  {
   "cell_type": "code",
   "execution_count": 9,
   "id": "5669fba2",
   "metadata": {},
   "outputs": [],
   "source": [
    "def sheldon_knock(names):\n",
    "    print(names)\n",
    "    print(\"knock knock sharma!\",names)"
   ]
  },
  {
   "cell_type": "code",
   "execution_count": 12,
   "id": "8cf1c272",
   "metadata": {},
   "outputs": [
    {
     "name": "stdout",
     "output_type": "stream",
     "text": [
      "Parash\n",
      "knock knock sharma! Parash\n"
     ]
    }
   ],
   "source": [
    "sheldon_knock(\"Parash\")"
   ]
  },
  {
   "cell_type": "markdown",
   "id": "aa849360",
   "metadata": {},
   "source": [
    "* value inside pass Parash is argument/parameter\n",
    "* def is keyword\n",
    "* sheldon_knock name of the function\n",
    "* other things inside that is a function body"
   ]
  },
  {
   "cell_type": "markdown",
   "id": "25afa0c6",
   "metadata": {},
   "source": [
    "### Q.) Take a name as input.Write a greater function which prints \"Hello name\" after accepting a name as argument"
   ]
  },
  {
   "cell_type": "code",
   "execution_count": 20,
   "id": "7b368bc7",
   "metadata": {},
   "outputs": [],
   "source": [
    "#name = input()\n",
    "def greater(name):\n",
    "    print(\"Hello\",name)"
   ]
  },
  {
   "cell_type": "code",
   "execution_count": 21,
   "id": "e103210f",
   "metadata": {},
   "outputs": [
    {
     "name": "stdout",
     "output_type": "stream",
     "text": [
      "Hello Yuvraj\n"
     ]
    }
   ],
   "source": [
    "greater(\"Yuvraj\")"
   ]
  },
  {
   "cell_type": "code",
   "execution_count": 24,
   "id": "9e10ee71",
   "metadata": {},
   "outputs": [
    {
     "name": "stdout",
     "output_type": "stream",
     "text": [
      "Shubham\n"
     ]
    }
   ],
   "source": [
    "def propose(name):\n",
    "    print(\"I Love you\",name)\n",
    "name=input()"
   ]
  },
  {
   "cell_type": "code",
   "execution_count": 25,
   "id": "45bd6fca",
   "metadata": {},
   "outputs": [
    {
     "name": "stdout",
     "output_type": "stream",
     "text": [
      "I Love you Shubham\n"
     ]
    }
   ],
   "source": [
    "propose(\"Shubham\")"
   ]
  },
  {
   "cell_type": "markdown",
   "id": "e8aaf9aa",
   "metadata": {},
   "source": [
    "### Introduce my family\n"
   ]
  },
  {
   "cell_type": "code",
   "execution_count": 26,
   "id": "7fc737ad",
   "metadata": {},
   "outputs": [],
   "source": [
    "def introduce_family(father,mother,sibling):\n",
    "    print(\"Father\",father)\n",
    "    print(\"Mother\",mother)\n",
    "    print(\"Sibling\",sibling)"
   ]
  },
  {
   "cell_type": "code",
   "execution_count": 27,
   "id": "9db6538f",
   "metadata": {},
   "outputs": [
    {
     "name": "stdout",
     "output_type": "stream",
     "text": [
      "Father Deepak\n",
      "Mother Deepa\n",
      "Sibling Vidhi\n"
     ]
    }
   ],
   "source": [
    "introduce_family(\"Deepak\",\"Deepa\",\"Vidhi\") # passing as argument"
   ]
  },
  {
   "cell_type": "code",
   "execution_count": 28,
   "id": "a750e74c",
   "metadata": {},
   "outputs": [],
   "source": [
    "def add_two(a,b):\n",
    "    result=a+b\n",
    "    print(result)"
   ]
  },
  {
   "cell_type": "code",
   "execution_count": 29,
   "id": "7c9d2152",
   "metadata": {},
   "outputs": [
    {
     "name": "stdout",
     "output_type": "stream",
     "text": [
      "9\n"
     ]
    }
   ],
   "source": [
    "add_two(4,5)"
   ]
  },
  {
   "cell_type": "code",
   "execution_count": 31,
   "id": "d8b1c787",
   "metadata": {},
   "outputs": [
    {
     "name": "stdout",
     "output_type": "stream",
     "text": [
      "Iam\n"
     ]
    }
   ],
   "source": [
    "add_two(\"I\",\"am\")"
   ]
  },
  {
   "cell_type": "code",
   "execution_count": 32,
   "id": "c52752e8",
   "metadata": {},
   "outputs": [
    {
     "ename": "TypeError",
     "evalue": "can only concatenate str (not \"int\") to str",
     "output_type": "error",
     "traceback": [
      "\u001b[1;31m---------------------------------------------------------------------------\u001b[0m",
      "\u001b[1;31mTypeError\u001b[0m                                 Traceback (most recent call last)",
      "Cell \u001b[1;32mIn[32], line 1\u001b[0m\n\u001b[1;32m----> 1\u001b[0m add_two(\u001b[38;5;124m\"\u001b[39m\u001b[38;5;124mI\u001b[39m\u001b[38;5;124m\"\u001b[39m,\u001b[38;5;241m4\u001b[39m)\n",
      "Cell \u001b[1;32mIn[28], line 2\u001b[0m, in \u001b[0;36madd_two\u001b[1;34m(a, b)\u001b[0m\n\u001b[0;32m      1\u001b[0m \u001b[38;5;28;01mdef\u001b[39;00m \u001b[38;5;21madd_two\u001b[39m(a,b):\n\u001b[1;32m----> 2\u001b[0m     result\u001b[38;5;241m=\u001b[39ma\u001b[38;5;241m+\u001b[39mb\n\u001b[0;32m      3\u001b[0m     \u001b[38;5;28mprint\u001b[39m(result)\n",
      "\u001b[1;31mTypeError\u001b[0m: can only concatenate str (not \"int\") to str"
     ]
    }
   ],
   "source": [
    "add_two(\"I\",4)   # It won't work"
   ]
  },
  {
   "cell_type": "code",
   "execution_count": 33,
   "id": "cf8470bd",
   "metadata": {},
   "outputs": [
    {
     "name": "stdout",
     "output_type": "stream",
     "text": [
      "4\n",
      "5\n",
      "9\n",
      "9\n"
     ]
    }
   ],
   "source": [
    "num1 = int(input())\n",
    "num2 = int(input())\n",
    "add_two(num1,num2)\n",
    "addition_result = add_two(num1,num2)"
   ]
  },
  {
   "cell_type": "code",
   "execution_count": 34,
   "id": "5f19a779",
   "metadata": {},
   "outputs": [],
   "source": [
    "def accept_money(amount):\n",
    "    print(2*amount)"
   ]
  },
  {
   "cell_type": "code",
   "execution_count": 35,
   "id": "425aa12e",
   "metadata": {},
   "outputs": [
    {
     "name": "stdout",
     "output_type": "stream",
     "text": [
      "2000\n"
     ]
    }
   ],
   "source": [
    "accept_money(1000)"
   ]
  },
  {
   "cell_type": "code",
   "execution_count": 37,
   "id": "2621050e",
   "metadata": {},
   "outputs": [
    {
     "name": "stdout",
     "output_type": "stream",
     "text": [
      "1000\n"
     ]
    }
   ],
   "source": [
    "result_money=accept_money(500)\n"
   ]
  },
  {
   "cell_type": "code",
   "execution_count": 38,
   "id": "9635fcab",
   "metadata": {},
   "outputs": [
    {
     "name": "stdout",
     "output_type": "stream",
     "text": [
      "None\n"
     ]
    }
   ],
   "source": [
    "print(result_money)"
   ]
  },
  {
   "cell_type": "markdown",
   "id": "1c1263b4",
   "metadata": {},
   "source": [
    "### Printing\n",
    "* printing just showing value\n",
    "* value is displaying where we print"
   ]
  },
  {
   "cell_type": "markdown",
   "id": "59b21d7b",
   "metadata": {},
   "source": [
    "### Returning\n",
    "* actually returing value\n",
    "* value can be stored in variable"
   ]
  },
  {
   "cell_type": "markdown",
   "id": "3df2a7d1",
   "metadata": {},
   "source": [
    "### Q.) Write a function which take 2 number as argument and return the product of those no\n"
   ]
  },
  {
   "cell_type": "code",
   "execution_count": 41,
   "id": "4b40dcd5",
   "metadata": {},
   "outputs": [
    {
     "name": "stdout",
     "output_type": "stream",
     "text": [
      "20\n",
      "20\n",
      "None\n"
     ]
    }
   ],
   "source": [
    "def prod(a,b):\n",
    "    print(a*b)\n",
    "prod(4,5)\n",
    "result=prod(4,5)\n",
    "print(result)"
   ]
  },
  {
   "cell_type": "code",
   "execution_count": 42,
   "id": "9c353599",
   "metadata": {},
   "outputs": [
    {
     "name": "stdout",
     "output_type": "stream",
     "text": [
      "20\n"
     ]
    }
   ],
   "source": [
    "def prod(a,b):\n",
    "    return a*b\n",
    "prod(4,5)\n",
    "result=prod(4,5)\n",
    "result\n",
    "print(result)\n"
   ]
  },
  {
   "cell_type": "code",
   "execution_count": 46,
   "id": "26f79862",
   "metadata": {},
   "outputs": [],
   "source": [
    "def random():\n",
    "    print(\"Before return\")\n",
    "    return 1\n",
    "    print(\"After return\")\n"
   ]
  },
  {
   "cell_type": "code",
   "execution_count": 47,
   "id": "abf24981",
   "metadata": {},
   "outputs": [
    {
     "name": "stdout",
     "output_type": "stream",
     "text": [
      "Before return\n"
     ]
    },
    {
     "data": {
      "text/plain": [
       "1"
      ]
     },
     "execution_count": 47,
     "metadata": {},
     "output_type": "execute_result"
    }
   ],
   "source": [
    "random()"
   ]
  },
  {
   "cell_type": "markdown",
   "id": "07f13ab0",
   "metadata": {},
   "source": [
    "* anything after return will necer go to execute\n",
    "* print is pre-defined/inbuilt function"
   ]
  },
  {
   "cell_type": "markdown",
   "id": "08567800",
   "metadata": {},
   "source": [
    "## Funtion -2"
   ]
  },
  {
   "cell_type": "code",
   "execution_count": 48,
   "id": "99478c64",
   "metadata": {},
   "outputs": [],
   "source": [
    "def random(random_var):\n",
    "    print(random_var)\n",
    "a=\"Something\"\n",
    "\n",
    "    "
   ]
  },
  {
   "cell_type": "code",
   "execution_count": 49,
   "id": "a77e5e98",
   "metadata": {},
   "outputs": [
    {
     "name": "stdout",
     "output_type": "stream",
     "text": [
      "Something\n"
     ]
    }
   ],
   "source": [
    "random(a)"
   ]
  },
  {
   "cell_type": "code",
   "execution_count": 50,
   "id": "0406cadb",
   "metadata": {},
   "outputs": [],
   "source": [
    "def introduce_family(my_name,sibling_name,father_name,mother_name):\n",
    "    print(\"My name is\", my_name)\n",
    "    print(\"My sibling is\" ,sibling_name)\n",
    "    print(\"My father is\" ,father_name)\n",
    "    print(\"My mother is\", mother_name)"
   ]
  },
  {
   "cell_type": "code",
   "execution_count": 51,
   "id": "e623aaeb",
   "metadata": {},
   "outputs": [
    {
     "name": "stdout",
     "output_type": "stream",
     "text": [
      "My name is Bipin\n",
      "My sibling is Deepak\n",
      "My father is Deepa\n",
      "My mother is Vidhi\n"
     ]
    }
   ],
   "source": [
    "introduce_family(\"Bipin\",\"Deepak\",\"Deepa\",\"Vidhi\")"
   ]
  },
  {
   "cell_type": "code",
   "execution_count": 52,
   "id": "4754f454",
   "metadata": {},
   "outputs": [
    {
     "name": "stdout",
     "output_type": "stream",
     "text": [
      "My name is Bipin\n",
      "My sibling is Vidhi\n",
      "My father is Deepak\n",
      "My mother is Deepa\n"
     ]
    }
   ],
   "source": [
    "introduce_family(\"Bipin\",\"Vidhi\",\"Deepak\",\"Deepa\")"
   ]
  },
  {
   "cell_type": "code",
   "execution_count": 54,
   "id": "f74ff258",
   "metadata": {},
   "outputs": [
    {
     "name": "stdout",
     "output_type": "stream",
     "text": [
      "My name is Bipin\n",
      "My sibling is Vidhi\n",
      "My father is Deepak\n",
      "My mother is Deepa\n"
     ]
    }
   ],
   "source": [
    "introduce_family(my_name=\"Bipin\",father_name=\"Deepak\",mother_name=\"Deepa\",sibling_name=\"Vidhi\")"
   ]
  },
  {
   "cell_type": "code",
   "execution_count": 57,
   "id": "8718a032",
   "metadata": {},
   "outputs": [],
   "source": [
    "def random(a,b,c,d):\n",
    "    random(4,5,d=6,c=7)"
   ]
  },
  {
   "cell_type": "code",
   "execution_count": 59,
   "id": "6f4dda6d",
   "metadata": {},
   "outputs": [
    {
     "data": {
      "text/plain": [
       "<function __main__.random(a, b, c, d)>"
      ]
     },
     "execution_count": 59,
     "metadata": {},
     "output_type": "execute_result"
    }
   ],
   "source": [
    "random"
   ]
  },
  {
   "cell_type": "markdown",
   "id": "c6b8dcfa",
   "metadata": {},
   "source": [
    "### Simple Intrest"
   ]
  },
  {
   "cell_type": "code",
   "execution_count": 62,
   "id": "5982ba3c",
   "metadata": {},
   "outputs": [],
   "source": [
    "def simple_interest(p,r,t):\n",
    "    interest=(p*r*t)/100\n",
    "    return interest\n"
   ]
  },
  {
   "cell_type": "code",
   "execution_count": 63,
   "id": "37bba6dd",
   "metadata": {},
   "outputs": [
    {
     "data": {
      "text/plain": [
       "1500.0"
      ]
     },
     "execution_count": 63,
     "metadata": {},
     "output_type": "execute_result"
    }
   ],
   "source": [
    "simple_interest(5000,10,3)"
   ]
  },
  {
   "cell_type": "code",
   "execution_count": 64,
   "id": "31e4328e",
   "metadata": {},
   "outputs": [],
   "source": [
    "def simple_interest(p,t,r=5):\n",
    "    interest = (p*r*t)/100\n",
    "    return interest"
   ]
  },
  {
   "cell_type": "code",
   "execution_count": 65,
   "id": "5e921747",
   "metadata": {},
   "outputs": [
    {
     "data": {
      "text/plain": [
       "750.0"
      ]
     },
     "execution_count": 65,
     "metadata": {},
     "output_type": "execute_result"
    }
   ],
   "source": [
    "simple_interest(5000,3)"
   ]
  },
  {
   "cell_type": "code",
   "execution_count": 66,
   "id": "9701d71e",
   "metadata": {},
   "outputs": [
    {
     "data": {
      "text/plain": [
       "1500.0"
      ]
     },
     "execution_count": 66,
     "metadata": {},
     "output_type": "execute_result"
    }
   ],
   "source": [
    "simple_interest(5000,3,10)"
   ]
  },
  {
   "cell_type": "markdown",
   "id": "d5d5c714",
   "metadata": {},
   "source": [
    "### Q1.) Create a date printing function should take in 4 arguments day, month, year, style\n",
    "### style --> 0 --> d/m/y\n",
    "### style --> 1 --> m/d/y\n",
    "### default style is 0"
   ]
  },
  {
   "cell_type": "code",
   "execution_count": 67,
   "id": "8bbc313a",
   "metadata": {},
   "outputs": [],
   "source": [
    "def print_date(day,month,year,style=0):\n",
    "    if style ==0:\n",
    "        print(day,\"/\",month,\"/\",year)\n",
    "    elif style ==1:\n",
    "        print(month,\"/\",day,\"/\",year)\n",
    "    else:\n",
    "        print(\"Invalid style!\")"
   ]
  },
  {
   "cell_type": "code",
   "execution_count": 68,
   "id": "383eac61",
   "metadata": {},
   "outputs": [
    {
     "name": "stdout",
     "output_type": "stream",
     "text": [
      "23 / 12 / 2022\n"
     ]
    }
   ],
   "source": [
    "print_date(23,12,2022)"
   ]
  },
  {
   "cell_type": "code",
   "execution_count": 69,
   "id": "ca457a0c",
   "metadata": {},
   "outputs": [
    {
     "name": "stdout",
     "output_type": "stream",
     "text": [
      "12 / 23 / 2022\n"
     ]
    }
   ],
   "source": [
    "print_date(23,12,2022,1)"
   ]
  },
  {
   "cell_type": "code",
   "execution_count": 70,
   "id": "53005966",
   "metadata": {},
   "outputs": [
    {
     "name": "stdout",
     "output_type": "stream",
     "text": [
      "Chief of House is - Mother\n"
     ]
    }
   ],
   "source": [
    "chief_of_house = \"Mother\"\n",
    "print(\"Chief of House is -\", chief_of_house)"
   ]
  },
  {
   "cell_type": "code",
   "execution_count": 71,
   "id": "a4123a4d",
   "metadata": {},
   "outputs": [],
   "source": [
    "def change_chief():\n",
    "    chief_of_house=\"Father\"\n",
    "    print(\"New chief of house is -\",chief_of_house)"
   ]
  },
  {
   "cell_type": "code",
   "execution_count": 72,
   "id": "e79464d9",
   "metadata": {},
   "outputs": [
    {
     "name": "stdout",
     "output_type": "stream",
     "text": [
      "New chief of house is - Father\n"
     ]
    }
   ],
   "source": [
    "change_chief()"
   ]
  },
  {
   "cell_type": "code",
   "execution_count": 74,
   "id": "376d2194",
   "metadata": {},
   "outputs": [
    {
     "name": "stdout",
     "output_type": "stream",
     "text": [
      "Inside - 50\n",
      "Outside - 10\n"
     ]
    }
   ],
   "source": [
    "a=10\n",
    "def random():\n",
    "    a=50\n",
    "    print(\"Inside -\",end=\" \")\n",
    "    print(a)\n",
    "random()\n",
    "print(\"Outside -\",end=\" \")\n",
    "print(a)"
   ]
  },
  {
   "cell_type": "markdown",
   "id": "65fee24d",
   "metadata": {},
   "source": [
    "* a = 50 , local variable -> only accessible within the block\n",
    "* a = 10 , global variable -> accessible outside the block if local variable not available then it use global variable"
   ]
  },
  {
   "cell_type": "markdown",
   "id": "1c5078a2",
   "metadata": {},
   "source": [
    "### How many digit does number have ?"
   ]
  },
  {
   "cell_type": "code",
   "execution_count": 75,
   "id": "986eb664",
   "metadata": {},
   "outputs": [],
   "source": [
    "a = 234567898765"
   ]
  },
  {
   "cell_type": "code",
   "execution_count": 78,
   "id": "83f23a5d",
   "metadata": {},
   "outputs": [
    {
     "data": {
      "text/plain": [
       "12"
      ]
     },
     "execution_count": 78,
     "metadata": {},
     "output_type": "execute_result"
    }
   ],
   "source": [
    "len(str(a))"
   ]
  },
  {
   "cell_type": "markdown",
   "id": "1d3f7945",
   "metadata": {},
   "source": [
    "### Calculate the sum of individual digits of the number \n",
    "#### 45 --> 4+5 = 9"
   ]
  },
  {
   "cell_type": "code",
   "execution_count": 79,
   "id": "163e55a9",
   "metadata": {},
   "outputs": [
    {
     "data": {
      "text/plain": [
       "8"
      ]
     },
     "execution_count": 79,
     "metadata": {},
     "output_type": "execute_result"
    }
   ],
   "source": [
    "random=45678\n",
    "last_digits=random%10\n",
    "last_digits"
   ]
  },
  {
   "cell_type": "code",
   "execution_count": 80,
   "id": "5b22f841",
   "metadata": {},
   "outputs": [],
   "source": [
    "random=random//10"
   ]
  },
  {
   "cell_type": "code",
   "execution_count": 81,
   "id": "517b94bf",
   "metadata": {},
   "outputs": [
    {
     "data": {
      "text/plain": [
       "4567"
      ]
     },
     "execution_count": 81,
     "metadata": {},
     "output_type": "execute_result"
    }
   ],
   "source": [
    "random"
   ]
  },
  {
   "cell_type": "code",
   "execution_count": 82,
   "id": "b0f2be8f",
   "metadata": {},
   "outputs": [
    {
     "name": "stdout",
     "output_type": "stream",
     "text": [
      "Please enter the no - 456789\n",
      "Sum of individual digits = 39\n"
     ]
    }
   ],
   "source": [
    "number = int(input(\"Please enter the no - \"))\n",
    "sum_digits = 0\n",
    "while number>0:\n",
    "    last_digits = number%10\n",
    "    sum_digits += last_digits\n",
    "    number = number//10\n",
    "print(\"Sum of individual digits =\",sum_digits)"
   ]
  },
  {
   "cell_type": "code",
   "execution_count": null,
   "id": "ebf52567",
   "metadata": {},
   "outputs": [],
   "source": []
  }
 ],
 "metadata": {
  "kernelspec": {
   "display_name": "Python 3 (ipykernel)",
   "language": "python",
   "name": "python3"
  },
  "language_info": {
   "codemirror_mode": {
    "name": "ipython",
    "version": 3
   },
   "file_extension": ".py",
   "mimetype": "text/x-python",
   "name": "python",
   "nbconvert_exporter": "python",
   "pygments_lexer": "ipython3",
   "version": "3.11.4"
  }
 },
 "nbformat": 4,
 "nbformat_minor": 5
}
