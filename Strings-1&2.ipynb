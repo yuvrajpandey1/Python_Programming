{
 "cells": [
  {
   "cell_type": "code",
   "execution_count": 1,
   "id": "45ef1357",
   "metadata": {},
   "outputs": [],
   "source": [
    "x= \"Whatever I write. UPPERCASE, lowercaSE, @# (##$%^()), 345678965433           \""
   ]
  },
  {
   "cell_type": "code",
   "execution_count": 2,
   "id": "9a7b81be",
   "metadata": {},
   "outputs": [
    {
     "name": "stdout",
     "output_type": "stream",
     "text": [
      "Whatever I write. UPPERCASE, lowercaSE, @# (##$%^()), 345678965433           \n"
     ]
    }
   ],
   "source": [
    "print(x)"
   ]
  },
  {
   "cell_type": "code",
   "execution_count": 3,
   "id": "cdad5c82",
   "metadata": {},
   "outputs": [
    {
     "data": {
      "text/plain": [
       "str"
      ]
     },
     "execution_count": 3,
     "metadata": {},
     "output_type": "execute_result"
    }
   ],
   "source": [
    "type(x)"
   ]
  },
  {
   "cell_type": "code",
   "execution_count": 4,
   "id": "e01736b9",
   "metadata": {},
   "outputs": [
    {
     "data": {
      "text/plain": [
       "'valid string'"
      ]
     },
     "execution_count": 4,
     "metadata": {},
     "output_type": "execute_result"
    }
   ],
   "source": [
    "'valid string'"
   ]
  },
  {
   "cell_type": "code",
   "execution_count": 5,
   "id": "e8eb0923",
   "metadata": {},
   "outputs": [
    {
     "data": {
      "text/plain": [
       "'valid string'"
      ]
     },
     "execution_count": 5,
     "metadata": {},
     "output_type": "execute_result"
    }
   ],
   "source": [
    "\"valid string\""
   ]
  },
  {
   "cell_type": "code",
   "execution_count": 6,
   "id": "29241757",
   "metadata": {},
   "outputs": [
    {
     "data": {
      "text/plain": [
       "'valid string'"
      ]
     },
     "execution_count": 6,
     "metadata": {},
     "output_type": "execute_result"
    }
   ],
   "source": [
    "'''valid string'''"
   ]
  },
  {
   "cell_type": "code",
   "execution_count": 9,
   "id": "e1e12f1a",
   "metadata": {
    "scrolled": true
   },
   "outputs": [
    {
     "ename": "SyntaxError",
     "evalue": "unterminated string literal (detected at line 1) (246300127.py, line 1)",
     "output_type": "error",
     "traceback": [
      "\u001b[1;36m  Cell \u001b[1;32mIn[9], line 1\u001b[1;36m\u001b[0m\n\u001b[1;33m    \"valid string?'  # opening and closing should be same\u001b[0m\n\u001b[1;37m    ^\u001b[0m\n\u001b[1;31mSyntaxError\u001b[0m\u001b[1;31m:\u001b[0m unterminated string literal (detected at line 1)\n"
     ]
    }
   ],
   "source": [
    "\"valid string?'  # opening and closing should be same"
   ]
  },
  {
   "cell_type": "code",
   "execution_count": null,
   "id": "07a90547",
   "metadata": {},
   "outputs": [],
   "source": []
  },
  {
   "cell_type": "markdown",
   "id": "1108450e",
   "metadata": {},
   "source": [
    " * ASCII --> Anerican Standard Code for Info Interchange\n",
    " * Unicode , UTF-8, ANSI\n",
    " "
   ]
  },
  {
   "cell_type": "markdown",
   "id": "b4a28558",
   "metadata": {},
   "source": [
    "### ASCII Maping\n",
    "* a (097)  --->  z (122)\n",
    "* A (065)  --->  Z (090)\n",
    "* 0 (048)  --->  9 (057)"
   ]
  },
  {
   "cell_type": "code",
   "execution_count": 2,
   "id": "e794da77",
   "metadata": {},
   "outputs": [
    {
     "data": {
      "text/plain": [
       "True"
      ]
     },
     "execution_count": 2,
     "metadata": {},
     "output_type": "execute_result"
    }
   ],
   "source": [
    "'a' > 'A'"
   ]
  },
  {
   "cell_type": "code",
   "execution_count": 3,
   "id": "026cbda1",
   "metadata": {},
   "outputs": [
    {
     "data": {
      "text/plain": [
       "'randomrandom2'"
      ]
     },
     "execution_count": 3,
     "metadata": {},
     "output_type": "execute_result"
    }
   ],
   "source": [
    "\"random\" + 'random2'"
   ]
  },
  {
   "cell_type": "code",
   "execution_count": 5,
   "id": "7831f5b2",
   "metadata": {},
   "outputs": [
    {
     "data": {
      "text/plain": [
       "'aaaaaaaaaaaaaaa'"
      ]
     },
     "execution_count": 5,
     "metadata": {},
     "output_type": "execute_result"
    }
   ],
   "source": [
    "\"a\" * 3 * 5"
   ]
  },
  {
   "cell_type": "markdown",
   "id": "82936923",
   "metadata": {},
   "source": [
    "* Lexicographical order --> order of words in a dictionary"
   ]
  },
  {
   "cell_type": "code",
   "execution_count": 6,
   "id": "69d0a88f",
   "metadata": {},
   "outputs": [
    {
     "data": {
      "text/plain": [
       "True"
      ]
     },
     "execution_count": 6,
     "metadata": {},
     "output_type": "execute_result"
    }
   ],
   "source": [
    "\"zebra\" > \"abcsdfghjk\""
   ]
  },
  {
   "cell_type": "code",
   "execution_count": 8,
   "id": "0e6d4914",
   "metadata": {},
   "outputs": [
    {
     "data": {
      "text/plain": [
       "False"
      ]
     },
     "execution_count": 8,
     "metadata": {},
     "output_type": "execute_result"
    }
   ],
   "source": [
    "'aAa' > 'aaa'"
   ]
  },
  {
   "cell_type": "code",
   "execution_count": 9,
   "id": "4cf300d3",
   "metadata": {},
   "outputs": [],
   "source": [
    "l = 5\n",
    "b=10\n",
    "a=l*b"
   ]
  },
  {
   "cell_type": "code",
   "execution_count": 10,
   "id": "6504f8b1",
   "metadata": {},
   "outputs": [],
   "source": [
    "# Length =l, Breadth = b and Area = a"
   ]
  },
  {
   "cell_type": "code",
   "execution_count": 11,
   "id": "b4847a2b",
   "metadata": {},
   "outputs": [
    {
     "name": "stdout",
     "output_type": "stream",
     "text": [
      "Length = 5 Breadth = 10 Area = 50\n"
     ]
    }
   ],
   "source": [
    "print('Length =',l, \"Breadth =\",b , 'Area =',a)"
   ]
  },
  {
   "cell_type": "code",
   "execution_count": 13,
   "id": "b99999bf",
   "metadata": {},
   "outputs": [
    {
     "name": "stdout",
     "output_type": "stream",
     "text": [
      "Length =5, Breadth = 10 and Area = 50\n"
     ]
    }
   ],
   "source": [
    "print('Length ={}, Breadth = {} and Area = {}'.format(l,b,a))"
   ]
  },
  {
   "cell_type": "code",
   "execution_count": 14,
   "id": "b5954282",
   "metadata": {},
   "outputs": [
    {
     "name": "stdout",
     "output_type": "stream",
     "text": [
      "Yuvraj\n"
     ]
    }
   ],
   "source": [
    "a = input()\n",
    "\n",
    "result = 'variable is -{}'.format(a)"
   ]
  },
  {
   "cell_type": "code",
   "execution_count": 15,
   "id": "0b55f607",
   "metadata": {},
   "outputs": [
    {
     "data": {
      "text/plain": [
       "'variable is -Yuvraj'"
      ]
     },
     "execution_count": 15,
     "metadata": {},
     "output_type": "execute_result"
    }
   ],
   "source": [
    "result"
   ]
  },
  {
   "cell_type": "code",
   "execution_count": 17,
   "id": "64c72818",
   "metadata": {},
   "outputs": [],
   "source": [
    "a =l*b"
   ]
  },
  {
   "cell_type": "code",
   "execution_count": 18,
   "id": "46e58455",
   "metadata": {},
   "outputs": [
    {
     "name": "stdout",
     "output_type": "stream",
     "text": [
      "Length -1, Breadth -10, and Area = 50\n"
     ]
    }
   ],
   "source": [
    "# f --> formatable string\n",
    "print(f'Length -{1}, Breadth -{b}, and Area = {a}')"
   ]
  },
  {
   "cell_type": "code",
   "execution_count": 19,
   "id": "6c0f7cba",
   "metadata": {},
   "outputs": [
    {
     "data": {
      "text/plain": [
       "97"
      ]
     },
     "execution_count": 19,
     "metadata": {},
     "output_type": "execute_result"
    }
   ],
   "source": [
    "ord('a') # ord function gives the ASCII value of a character"
   ]
  },
  {
   "cell_type": "code",
   "execution_count": 20,
   "id": "78631f99",
   "metadata": {},
   "outputs": [
    {
     "data": {
      "text/plain": [
       "64"
      ]
     },
     "execution_count": 20,
     "metadata": {},
     "output_type": "execute_result"
    }
   ],
   "source": [
    "ord('@')"
   ]
  },
  {
   "cell_type": "code",
   "execution_count": 21,
   "id": "f0494774",
   "metadata": {},
   "outputs": [
    {
     "data": {
      "text/plain": [
       "36"
      ]
     },
     "execution_count": 21,
     "metadata": {},
     "output_type": "execute_result"
    }
   ],
   "source": [
    "ord('$')"
   ]
  },
  {
   "cell_type": "code",
   "execution_count": 22,
   "id": "ba0cfe74",
   "metadata": {},
   "outputs": [
    {
     "data": {
      "text/plain": [
       "37"
      ]
     },
     "execution_count": 22,
     "metadata": {},
     "output_type": "execute_result"
    }
   ],
   "source": [
    "ord('%')"
   ]
  },
  {
   "cell_type": "code",
   "execution_count": 23,
   "id": "c610fdcd",
   "metadata": {},
   "outputs": [
    {
     "data": {
      "text/plain": [
       "10"
      ]
     },
     "execution_count": 23,
     "metadata": {},
     "output_type": "execute_result"
    }
   ],
   "source": [
    "ord('\\n')"
   ]
  },
  {
   "cell_type": "code",
   "execution_count": 24,
   "id": "de3b2f91",
   "metadata": {},
   "outputs": [
    {
     "data": {
      "text/plain": [
       "'#'"
      ]
     },
     "execution_count": 24,
     "metadata": {},
     "output_type": "execute_result"
    }
   ],
   "source": [
    "chr(35)  # chr convert ASCII value to string"
   ]
  },
  {
   "cell_type": "code",
   "execution_count": 25,
   "id": "037d2ae2",
   "metadata": {},
   "outputs": [
    {
     "data": {
      "text/plain": [
       "'宠'"
      ]
     },
     "execution_count": 25,
     "metadata": {},
     "output_type": "execute_result"
    }
   ],
   "source": [
    "chr(23456)"
   ]
  },
  {
   "cell_type": "code",
   "execution_count": 26,
   "id": "6f80c3f4",
   "metadata": {},
   "outputs": [
    {
     "data": {
      "text/plain": [
       "'😄'"
      ]
     },
     "execution_count": 26,
     "metadata": {},
     "output_type": "execute_result"
    }
   ],
   "source": [
    "chr(128516)"
   ]
  },
  {
   "cell_type": "code",
   "execution_count": 28,
   "id": "bab75655",
   "metadata": {},
   "outputs": [
    {
     "data": {
      "text/plain": [
       "\"\\n\\nQuestion 1;- \\n1. Take a string input from the user\\n2. Print that string character by character with each character in new line\\n\\n\\nInput ;- 'INDIA'\\nOutput ;- \\nI\\nN\\nD\\nI\\nA\\n\""
      ]
     },
     "execution_count": 28,
     "metadata": {},
     "output_type": "execute_result"
    }
   ],
   "source": [
    "'''\n",
    "\n",
    "Question 1;- \n",
    "1. Take a string input from the user\n",
    "2. Print that string character by character with each character in new line\n",
    "\n",
    "\n",
    "Input ;- 'INDIA'\n",
    "Output ;- \n",
    "I\n",
    "N\n",
    "D\n",
    "I\n",
    "A\n",
    "'''"
   ]
  },
  {
   "cell_type": "code",
   "execution_count": 30,
   "id": "5fa895bc",
   "metadata": {},
   "outputs": [
    {
     "name": "stdout",
     "output_type": "stream",
     "text": [
      "INDIA\n",
      "I\n",
      "N\n",
      "D\n",
      "I\n",
      "A\n"
     ]
    }
   ],
   "source": [
    "a = input()\n",
    "\n",
    "for i in a:\n",
    "    print(i)"
   ]
  },
  {
   "cell_type": "code",
   "execution_count": 31,
   "id": "b803bc8f",
   "metadata": {},
   "outputs": [
    {
     "data": {
      "text/plain": [
       "'\\nQuestion 2;-\\n1. Take a string input from the user.\\n2. Print the following-\\n\"First Character -<first_character> ,<last_character>\"\\n'"
      ]
     },
     "execution_count": 31,
     "metadata": {},
     "output_type": "execute_result"
    }
   ],
   "source": [
    "'''\n",
    "Question 2;-\n",
    "1. Take a string input from the user.\n",
    "2. Print the following-\n",
    "\"First Character -<first_character> ,<last_character>\"\n",
    "'''"
   ]
  },
  {
   "cell_type": "code",
   "execution_count": 34,
   "id": "cbdd0f32",
   "metadata": {
    "collapsed": true
   },
   "outputs": [
    {
     "name": "stdout",
     "output_type": "stream",
     "text": [
      "INDIA\n"
     ]
    },
    {
     "ename": "TypeError",
     "evalue": "'str' object is not callable",
     "output_type": "error",
     "traceback": [
      "\u001b[1;31m---------------------------------------------------------------------------\u001b[0m",
      "\u001b[1;31mTypeError\u001b[0m                                 Traceback (most recent call last)",
      "Cell \u001b[1;32mIn[34], line 3\u001b[0m\n\u001b[0;32m      1\u001b[0m a \u001b[38;5;241m=\u001b[39m \u001b[38;5;28minput\u001b[39m()\n\u001b[1;32m----> 3\u001b[0m \u001b[38;5;28mprint\u001b[39m(\u001b[38;5;124mf\u001b[39m\u001b[38;5;124m'\u001b[39m\u001b[38;5;124mFirst Character -\u001b[39m\u001b[38;5;132;01m{\u001b[39;00ma(\u001b[38;5;241m0\u001b[39m)\u001b[38;5;132;01m}\u001b[39;00m\u001b[38;5;124m, Last Character -\u001b[39m\u001b[38;5;132;01m{\u001b[39;00ma(\u001b[38;5;241m-\u001b[39m\u001b[38;5;241m1\u001b[39m)\u001b[38;5;132;01m}\u001b[39;00m\u001b[38;5;124m'\u001b[39m)\n",
      "\u001b[1;31mTypeError\u001b[0m: 'str' object is not callable"
     ]
    }
   ],
   "source": [
    "a = input()\n",
    "\n",
    "print(f'First Character -{a(0)}, Last Character -{a(-1)}')"
   ]
  },
  {
   "cell_type": "code",
   "execution_count": 35,
   "id": "f2f7a0ca",
   "metadata": {},
   "outputs": [],
   "source": [
    "a = \"INDIA_IS_MY_COUNTRY\""
   ]
  },
  {
   "cell_type": "code",
   "execution_count": 36,
   "id": "3fa17e2c",
   "metadata": {},
   "outputs": [
    {
     "data": {
      "text/plain": [
       "'INDIA'"
      ]
     },
     "execution_count": 36,
     "metadata": {},
     "output_type": "execute_result"
    }
   ],
   "source": [
    "a[:5]"
   ]
  },
  {
   "cell_type": "code",
   "execution_count": 37,
   "id": "be1c63ec",
   "metadata": {},
   "outputs": [
    {
     "ename": "TypeError",
     "evalue": "'str' object does not support item assignment",
     "output_type": "error",
     "traceback": [
      "\u001b[1;31m---------------------------------------------------------------------------\u001b[0m",
      "\u001b[1;31mTypeError\u001b[0m                                 Traceback (most recent call last)",
      "Cell \u001b[1;32mIn[37], line 1\u001b[0m\n\u001b[1;32m----> 1\u001b[0m a[\u001b[38;5;241m0\u001b[39m] \u001b[38;5;241m=\u001b[39m\u001b[38;5;124m'\u001b[39m\u001b[38;5;124mR\u001b[39m\u001b[38;5;124m'\u001b[39m\n",
      "\u001b[1;31mTypeError\u001b[0m: 'str' object does not support item assignment"
     ]
    }
   ],
   "source": [
    "a[0] ='R'"
   ]
  },
  {
   "cell_type": "code",
   "execution_count": 38,
   "id": "b4b37613",
   "metadata": {},
   "outputs": [],
   "source": [
    "# We can not change character of string"
   ]
  },
  {
   "cell_type": "code",
   "execution_count": 39,
   "id": "68e41232",
   "metadata": {},
   "outputs": [
    {
     "data": {
      "text/plain": [
       "'\\nQuestion 3-\\n1. Take a string input from the user.\\n2. Reverse that string\\n\\n'"
      ]
     },
     "execution_count": 39,
     "metadata": {},
     "output_type": "execute_result"
    }
   ],
   "source": [
    "'''\n",
    "Question 3-\n",
    "1. Take a string input from the user.\n",
    "2. Reverse that string\n",
    "\n",
    "'''"
   ]
  },
  {
   "cell_type": "code",
   "execution_count": 40,
   "id": "1b7abb25",
   "metadata": {},
   "outputs": [],
   "source": [
    "s = 'any string'\n",
    "\n"
   ]
  },
  {
   "cell_type": "code",
   "execution_count": 41,
   "id": "2285002a",
   "metadata": {},
   "outputs": [
    {
     "data": {
      "text/plain": [
       "'gnirts yna'"
      ]
     },
     "execution_count": 41,
     "metadata": {},
     "output_type": "execute_result"
    }
   ],
   "source": [
    "s[::-1]"
   ]
  },
  {
   "cell_type": "code",
   "execution_count": 42,
   "id": "adbd5488",
   "metadata": {},
   "outputs": [
    {
     "data": {
      "text/plain": [
       "'\\nQuestion 4-\\n1. Take a string input from user.\\n2. Return \"PALINDROME\" if the string is a palindrome. otherwise return \"NOT A PALINDROME\"\\n'"
      ]
     },
     "execution_count": 42,
     "metadata": {},
     "output_type": "execute_result"
    }
   ],
   "source": [
    "'''\n",
    "Question 4-\n",
    "1. Take a string input from user.\n",
    "2. Return \"PALINDROME\" if the string is a palindrome. otherwise return \"NOT A PALINDROME\"\n",
    "'''"
   ]
  },
  {
   "cell_type": "markdown",
   "id": "0411d6e9",
   "metadata": {},
   "source": [
    "### PALINDROME ;-  any string which we can read forward or backward will be same\n",
    "\n",
    "* NAMAN\n",
    "* ANA"
   ]
  },
  {
   "cell_type": "code",
   "execution_count": 43,
   "id": "06544c4f",
   "metadata": {},
   "outputs": [
    {
     "name": "stdout",
     "output_type": "stream",
     "text": [
      "NAMAN\n"
     ]
    }
   ],
   "source": [
    "a = input()"
   ]
  },
  {
   "cell_type": "code",
   "execution_count": 44,
   "id": "011739bf",
   "metadata": {},
   "outputs": [],
   "source": [
    "def check_palindrome(a):\n",
    "    return \"PALINDROME\" if a ==a[::-1] else \"NOT A PALINDROME\""
   ]
  },
  {
   "cell_type": "code",
   "execution_count": 45,
   "id": "2c33ab75",
   "metadata": {},
   "outputs": [
    {
     "data": {
      "text/plain": [
       "'PALINDROME'"
      ]
     },
     "execution_count": 45,
     "metadata": {},
     "output_type": "execute_result"
    }
   ],
   "source": [
    "check_palindrome(a)"
   ]
  },
  {
   "cell_type": "code",
   "execution_count": 46,
   "id": "1193ddb9",
   "metadata": {},
   "outputs": [
    {
     "name": "stdout",
     "output_type": "stream",
     "text": [
      "Naman\n"
     ]
    }
   ],
   "source": [
    "a2 = input()\n"
   ]
  },
  {
   "cell_type": "code",
   "execution_count": 47,
   "id": "c317dfae",
   "metadata": {},
   "outputs": [
    {
     "data": {
      "text/plain": [
       "'NOT A PALINDROME'"
      ]
     },
     "execution_count": 47,
     "metadata": {},
     "output_type": "execute_result"
    }
   ],
   "source": [
    "check_palindrome(a2)"
   ]
  },
  {
   "cell_type": "code",
   "execution_count": 48,
   "id": "d34e4ec8",
   "metadata": {},
   "outputs": [],
   "source": [
    "def check_palindrome(a):\n",
    "    a= a.lower()\n",
    "    return \"PALINDROME\" if a ==a[::-1] else \"NOT A PALINDROME\""
   ]
  },
  {
   "cell_type": "code",
   "execution_count": 49,
   "id": "9756924a",
   "metadata": {},
   "outputs": [
    {
     "data": {
      "text/plain": [
       "'PALINDROME'"
      ]
     },
     "execution_count": 49,
     "metadata": {},
     "output_type": "execute_result"
    }
   ],
   "source": [
    "check_palindrome(a2)"
   ]
  },
  {
   "cell_type": "code",
   "execution_count": 51,
   "id": "d094af37",
   "metadata": {},
   "outputs": [
    {
     "data": {
      "text/plain": [
       "'\\nQuestion 5 -\\n1. Take a string input from the user\\n2. Print the number of upper case character in that string\\n\\nInput;- \"This is a RANDOM stinG 67890, %\"\\nOutput ;- 8\\n'"
      ]
     },
     "execution_count": 51,
     "metadata": {},
     "output_type": "execute_result"
    }
   ],
   "source": [
    "'''\n",
    "Question 5 -\n",
    "1. Take a string input from the user\n",
    "2. Print the number of upper case character in that string\n",
    "\n",
    "Input;- \"This is a RANDOM stinG 67890, %^+\"\n",
    "Output ;- 8\n",
    "'''"
   ]
  },
  {
   "cell_type": "code",
   "execution_count": 52,
   "id": "2a7659aa",
   "metadata": {},
   "outputs": [],
   "source": [
    "a = \"This is a RANDOM stinG 67890, %^+\""
   ]
  },
  {
   "cell_type": "code",
   "execution_count": 53,
   "id": "3ef04112",
   "metadata": {},
   "outputs": [],
   "source": [
    "def count_upper_case(a):\n",
    "    count=0\n",
    "    \n",
    "    \n",
    "    for i in a:\n",
    "        if ord(i) >=65 and ord(i) <=90:\n",
    "            count +=1\n",
    "    return count\n",
    "    \n",
    "        "
   ]
  },
  {
   "cell_type": "code",
   "execution_count": 54,
   "id": "c88bda1b",
   "metadata": {},
   "outputs": [
    {
     "data": {
      "text/plain": [
       "8"
      ]
     },
     "execution_count": 54,
     "metadata": {},
     "output_type": "execute_result"
    }
   ],
   "source": [
    "count_upper_case(a)"
   ]
  },
  {
   "cell_type": "code",
   "execution_count": 55,
   "id": "9f573590",
   "metadata": {},
   "outputs": [],
   "source": [
    "def count_upper_case_2(a):\n",
    "    count = 0\n",
    "    \n",
    "    for i in a:\n",
    "        if i.isupper():\n",
    "            count += 1\n",
    "    return count"
   ]
  },
  {
   "cell_type": "code",
   "execution_count": 57,
   "id": "2d86396b",
   "metadata": {},
   "outputs": [
    {
     "data": {
      "text/plain": [
       "True"
      ]
     },
     "execution_count": 57,
     "metadata": {},
     "output_type": "execute_result"
    }
   ],
   "source": [
    "\"A\".isupper()"
   ]
  },
  {
   "cell_type": "code",
   "execution_count": 59,
   "id": "4d0cbbcf",
   "metadata": {},
   "outputs": [
    {
     "data": {
      "text/plain": [
       "True"
      ]
     },
     "execution_count": 59,
     "metadata": {},
     "output_type": "execute_result"
    }
   ],
   "source": [
    "'a'.islower()"
   ]
  },
  {
   "cell_type": "code",
   "execution_count": 60,
   "id": "73e6e809",
   "metadata": {},
   "outputs": [
    {
     "data": {
      "text/plain": [
       "False"
      ]
     },
     "execution_count": 60,
     "metadata": {},
     "output_type": "execute_result"
    }
   ],
   "source": [
    "\"A\".islower()"
   ]
  },
  {
   "cell_type": "code",
   "execution_count": 61,
   "id": "6c579099",
   "metadata": {},
   "outputs": [
    {
     "data": {
      "text/plain": [
       "8"
      ]
     },
     "execution_count": 61,
     "metadata": {},
     "output_type": "execute_result"
    }
   ],
   "source": [
    "count_upper_case_2(a)"
   ]
  },
  {
   "cell_type": "code",
   "execution_count": 63,
   "id": "5f3da5e9",
   "metadata": {},
   "outputs": [
    {
     "data": {
      "text/plain": [
       "8"
      ]
     },
     "execution_count": 63,
     "metadata": {},
     "output_type": "execute_result"
    }
   ],
   "source": [
    "count_upper_case_2(a)"
   ]
  },
  {
   "cell_type": "code",
   "execution_count": 64,
   "id": "608793d9",
   "metadata": {},
   "outputs": [
    {
     "data": {
      "text/plain": [
       "\"\\nQuestion 6-\\n1. You are given a list of number between 1 abd 256\\n2. Generate a string from the chr value of these numbers.\\n\\nInput - [65,97,65]\\nOutput = 'Aad'\\n\\nExplanation -\\nchar(65) -> A\\nchar(97) -> a\\nchar(68) -> d\\n\\n\""
      ]
     },
     "execution_count": 64,
     "metadata": {},
     "output_type": "execute_result"
    }
   ],
   "source": [
    "'''\n",
    "Question 6-\n",
    "1. You are given a list of number between 1 abd 256\n",
    "2. Generate a string from the chr value of these numbers.\n",
    "\n",
    "Input - [65,97,65]\n",
    "Output = 'Aad'\n",
    "\n",
    "Explanation -\n",
    "char(65) -> A\n",
    "char(97) -> a\n",
    "char(68) -> d\n",
    "\n",
    "'''"
   ]
  },
  {
   "cell_type": "code",
   "execution_count": 65,
   "id": "541e0ed4",
   "metadata": {},
   "outputs": [],
   "source": [
    "a = [56,78,99,183,157,22,22,24,10,100]"
   ]
  },
  {
   "cell_type": "code",
   "execution_count": 72,
   "id": "709f821b",
   "metadata": {},
   "outputs": [],
   "source": [
    "def generate_string(a):\n",
    "    s=\"\"\n",
    "    \n",
    "    \n",
    "    for i in a:\n",
    "        s += chr(i)\n",
    "    return a"
   ]
  },
  {
   "cell_type": "code",
   "execution_count": 73,
   "id": "a7aed02c",
   "metadata": {},
   "outputs": [
    {
     "data": {
      "text/plain": [
       "[56, 78, 99, 183, 157, 22, 22, 24, 10, 100]"
      ]
     },
     "execution_count": 73,
     "metadata": {},
     "output_type": "execute_result"
    }
   ],
   "source": [
    "generate_string(a)"
   ]
  },
  {
   "cell_type": "code",
   "execution_count": 74,
   "id": "a5639c0d",
   "metadata": {},
   "outputs": [],
   "source": [
    "def generate_string_cool(a):\n",
    "    result = []\n",
    "    \n",
    "    for i in a:\n",
    "        result.append(chr(i))\n",
    "    print(result)"
   ]
  },
  {
   "cell_type": "code",
   "execution_count": 75,
   "id": "88a0e882",
   "metadata": {},
   "outputs": [
    {
     "name": "stdout",
     "output_type": "stream",
     "text": [
      "['8', 'N', 'c', '·', '\\x9d', '\\x16', '\\x16', '\\x18', '\\n', 'd']\n"
     ]
    }
   ],
   "source": [
    "generate_string_cool(a)"
   ]
  },
  {
   "cell_type": "code",
   "execution_count": 78,
   "id": "c097defd",
   "metadata": {},
   "outputs": [],
   "source": [
    "def generate_string_cool(a):\n",
    "    result = []\n",
    "    \n",
    "    for i in a:\n",
    "        result.append(chr(i))\n",
    "    return \"\".join(result)"
   ]
  },
  {
   "cell_type": "code",
   "execution_count": 79,
   "id": "ac519f06",
   "metadata": {},
   "outputs": [
    {
     "data": {
      "text/plain": [
       "'8Nc·\\x9d\\x16\\x16\\x18\\nd'"
      ]
     },
     "execution_count": 79,
     "metadata": {},
     "output_type": "execute_result"
    }
   ],
   "source": [
    "generate_string_cool(a)"
   ]
  },
  {
   "cell_type": "code",
   "execution_count": 80,
   "id": "a007b195",
   "metadata": {},
   "outputs": [
    {
     "data": {
      "text/plain": [
       "\"\\nQuestion 7-\\n1. Given a string of comma separated value\\n2. Convert it into a list of individual values.\\n\\n\\nInput ;- '56,78,99,101,23,34,56,102'\\nOutput ;- [56,78,99,101,23,34,56,102]\\n\\n\""
      ]
     },
     "execution_count": 80,
     "metadata": {},
     "output_type": "execute_result"
    }
   ],
   "source": [
    "'''\n",
    "Question 7-\n",
    "1. Given a string of comma separated value\n",
    "2. Convert it into a list of individual values.\n",
    "\n",
    "\n",
    "Input ;- '56,78,99,101,23,34,56,102'\n",
    "Output ;- [56,78,99,101,23,34,56,102]\n",
    "\n",
    "'''"
   ]
  },
  {
   "cell_type": "code",
   "execution_count": 81,
   "id": "ba895a5d",
   "metadata": {},
   "outputs": [],
   "source": [
    "a = '56,78,99,101,23,34,56,102'"
   ]
  },
  {
   "cell_type": "code",
   "execution_count": 82,
   "id": "738b10b8",
   "metadata": {
    "collapsed": true
   },
   "outputs": [
    {
     "ename": "SyntaxError",
     "evalue": "incomplete input (3143590203.py, line 5)",
     "output_type": "error",
     "traceback": [
      "\u001b[1;36m  Cell \u001b[1;32mIn[82], line 5\u001b[1;36m\u001b[0m\n\u001b[1;33m    \u001b[0m\n\u001b[1;37m    ^\u001b[0m\n\u001b[1;31mSyntaxError\u001b[0m\u001b[1;31m:\u001b[0m incomplete input\n"
     ]
    }
   ],
   "source": [
    "def tough_way(a):\n",
    "    result = []\n",
    "    \n",
    "    for i in a:\n",
    "        "
   ]
  },
  {
   "cell_type": "code",
   "execution_count": 83,
   "id": "3375a543",
   "metadata": {},
   "outputs": [],
   "source": [
    "def easy_way(a):\n",
    "    list_a = a.split(\",\")\n",
    "    \n",
    "    print(list_a)"
   ]
  },
  {
   "cell_type": "code",
   "execution_count": 84,
   "id": "96355886",
   "metadata": {},
   "outputs": [
    {
     "name": "stdout",
     "output_type": "stream",
     "text": [
      "['56', '78', '99', '101', '23', '34', '56', '102']\n"
     ]
    }
   ],
   "source": [
    "easy_way(a)"
   ]
  },
  {
   "cell_type": "code",
   "execution_count": 86,
   "id": "3e7d606a",
   "metadata": {},
   "outputs": [
    {
     "data": {
      "text/plain": [
       "['This', 'is', 'a', 'string']"
      ]
     },
     "execution_count": 86,
     "metadata": {},
     "output_type": "execute_result"
    }
   ],
   "source": [
    "\"This_is_a_string\".split(\"_\")"
   ]
  },
  {
   "cell_type": "code",
   "execution_count": 87,
   "id": "ea8b74fe",
   "metadata": {},
   "outputs": [],
   "source": [
    "def easy_way(a):\n",
    "    list_a = a.split(\",\")\n",
    "    result = []\n",
    "    \n",
    "    for i in list_a:\n",
    "        result.append(int(i))\n",
    "        \n",
    "    return result\n",
    "        "
   ]
  },
  {
   "cell_type": "code",
   "execution_count": 88,
   "id": "0c423eea",
   "metadata": {},
   "outputs": [
    {
     "data": {
      "text/plain": [
       "[56, 78, 99, 101, 23, 34, 56, 102]"
      ]
     },
     "execution_count": 88,
     "metadata": {},
     "output_type": "execute_result"
    }
   ],
   "source": [
    "easy_way(a)"
   ]
  },
  {
   "cell_type": "markdown",
   "id": "f19380e2",
   "metadata": {},
   "source": [
    "### String -2"
   ]
  },
  {
   "cell_type": "code",
   "execution_count": 1,
   "id": "a9c7ab1b",
   "metadata": {},
   "outputs": [
    {
     "data": {
      "text/plain": [
       "['4', '5', '6', '7', '8', '9']"
      ]
     },
     "execution_count": 1,
     "metadata": {},
     "output_type": "execute_result"
    }
   ],
   "source": [
    "\"4 5 6 7 8 9\".split()"
   ]
  },
  {
   "cell_type": "code",
   "execution_count": 3,
   "id": "15754765",
   "metadata": {},
   "outputs": [],
   "source": [
    "random=\"This_is_a_underscore_string\".split(\"_\")"
   ]
  },
  {
   "cell_type": "code",
   "execution_count": 4,
   "id": "517680b4",
   "metadata": {},
   "outputs": [
    {
     "data": {
      "text/plain": [
       "['This', 'is', 'a', 'underscore', 'string']"
      ]
     },
     "execution_count": 4,
     "metadata": {},
     "output_type": "execute_result"
    }
   ],
   "source": [
    "random"
   ]
  },
  {
   "cell_type": "code",
   "execution_count": 5,
   "id": "6988ef76",
   "metadata": {},
   "outputs": [
    {
     "data": {
      "text/plain": [
       "'This is a underscore string'"
      ]
     },
     "execution_count": 5,
     "metadata": {},
     "output_type": "execute_result"
    }
   ],
   "source": [
    "\" \".join(random)"
   ]
  },
  {
   "cell_type": "code",
   "execution_count": 6,
   "id": "666b426b",
   "metadata": {},
   "outputs": [
    {
     "data": {
      "text/plain": [
       "'This_is_a_underscore_string'"
      ]
     },
     "execution_count": 6,
     "metadata": {},
     "output_type": "execute_result"
    }
   ],
   "source": [
    "\"_\".join(random)"
   ]
  },
  {
   "cell_type": "code",
   "execution_count": 7,
   "id": "b1d2886c",
   "metadata": {},
   "outputs": [],
   "source": [
    "a = ['random', 102,202,'string']"
   ]
  },
  {
   "cell_type": "code",
   "execution_count": 8,
   "id": "33c84c61",
   "metadata": {},
   "outputs": [
    {
     "ename": "TypeError",
     "evalue": "sequence item 1: expected str instance, int found",
     "output_type": "error",
     "traceback": [
      "\u001b[1;31m---------------------------------------------------------------------------\u001b[0m",
      "\u001b[1;31mTypeError\u001b[0m                                 Traceback (most recent call last)",
      "Cell \u001b[1;32mIn[8], line 1\u001b[0m\n\u001b[1;32m----> 1\u001b[0m \u001b[38;5;124m\"\u001b[39m\u001b[38;5;124m \u001b[39m\u001b[38;5;124m\"\u001b[39m\u001b[38;5;241m.\u001b[39mjoin(a)\n",
      "\u001b[1;31mTypeError\u001b[0m: sequence item 1: expected str instance, int found"
     ]
    }
   ],
   "source": [
    "\" \".join(a)"
   ]
  },
  {
   "cell_type": "code",
   "execution_count": 10,
   "id": "352c7113",
   "metadata": {},
   "outputs": [
    {
     "data": {
      "text/plain": [
       "'45'"
      ]
     },
     "execution_count": 10,
     "metadata": {},
     "output_type": "execute_result"
    }
   ],
   "source": [
    "str(45)"
   ]
  },
  {
   "cell_type": "code",
   "execution_count": 11,
   "id": "da170464",
   "metadata": {},
   "outputs": [
    {
     "data": {
      "text/plain": [
       "2"
      ]
     },
     "execution_count": 11,
     "metadata": {},
     "output_type": "execute_result"
    }
   ],
   "source": [
    "'this is a random string'.find('is')"
   ]
  },
  {
   "cell_type": "code",
   "execution_count": 12,
   "id": "f4128186",
   "metadata": {},
   "outputs": [
    {
     "data": {
      "text/plain": [
       "7"
      ]
     },
     "execution_count": 12,
     "metadata": {},
     "output_type": "execute_result"
    }
   ],
   "source": [
    "'this is a random string'.find(' a ') # index of the starting of sub-string"
   ]
  },
  {
   "cell_type": "code",
   "execution_count": 13,
   "id": "d2fc2659",
   "metadata": {},
   "outputs": [
    {
     "data": {
      "text/plain": [
       "-1"
      ]
     },
     "execution_count": 13,
     "metadata": {},
     "output_type": "execute_result"
    }
   ],
   "source": [
    "'this is a random string'.find('abcdfgh')\n",
    "# -1 if sub-string is not present"
   ]
  },
  {
   "cell_type": "code",
   "execution_count": 14,
   "id": "abfb4452",
   "metadata": {},
   "outputs": [],
   "source": [
    "random = 'this is a random string that I have created!'"
   ]
  },
  {
   "cell_type": "code",
   "execution_count": 17,
   "id": "f2f4d268",
   "metadata": {},
   "outputs": [],
   "source": [
    "replaced_random=random.replace(\"random\",\"SUPER RANDOM\")"
   ]
  },
  {
   "cell_type": "code",
   "execution_count": 18,
   "id": "0471e18b",
   "metadata": {},
   "outputs": [
    {
     "data": {
      "text/plain": [
       "'this is a SUPER RANDOM string that I have created!'"
      ]
     },
     "execution_count": 18,
     "metadata": {},
     "output_type": "execute_result"
    }
   ],
   "source": [
    "replaced_random\n",
    "# replaced but genrate new string original will be same"
   ]
  },
  {
   "cell_type": "code",
   "execution_count": 16,
   "id": "bae24dde",
   "metadata": {},
   "outputs": [
    {
     "data": {
      "text/plain": [
       "'this is a random string that I have created!'"
      ]
     },
     "execution_count": 16,
     "metadata": {},
     "output_type": "execute_result"
    }
   ],
   "source": [
    "random"
   ]
  },
  {
   "cell_type": "code",
   "execution_count": 19,
   "id": "55ac0737",
   "metadata": {},
   "outputs": [
    {
     "data": {
      "text/plain": [
       "5"
      ]
     },
     "execution_count": 19,
     "metadata": {},
     "output_type": "execute_result"
    }
   ],
   "source": [
    "random.count('a')"
   ]
  },
  {
   "cell_type": "code",
   "execution_count": 20,
   "id": "7951c601",
   "metadata": {},
   "outputs": [
    {
     "data": {
      "text/plain": [
       "1"
      ]
     },
     "execution_count": 20,
     "metadata": {},
     "output_type": "execute_result"
    }
   ],
   "source": [
    "random.count('random')"
   ]
  },
  {
   "cell_type": "code",
   "execution_count": 21,
   "id": "f588210a",
   "metadata": {},
   "outputs": [
    {
     "data": {
      "text/plain": [
       "'\\nQuestion 1 -\\n1. Take a string as input \\n2. If convert the string to lower case without using any in-built function to do the same\\n'"
      ]
     },
     "execution_count": 21,
     "metadata": {},
     "output_type": "execute_result"
    }
   ],
   "source": [
    "'''\n",
    "Question 1 -\n",
    "1. Take a string as input \n",
    "2. If convert the string to lower case without using any in-built function to do the same\n",
    "'''"
   ]
  },
  {
   "cell_type": "code",
   "execution_count": 22,
   "id": "e71b879d",
   "metadata": {},
   "outputs": [
    {
     "data": {
      "text/plain": [
       "'This is A stRing'"
      ]
     },
     "execution_count": 22,
     "metadata": {},
     "output_type": "execute_result"
    }
   ],
   "source": [
    "'This is A stRing'"
   ]
  },
  {
   "cell_type": "code",
   "execution_count": 23,
   "id": "7e6f0cfe",
   "metadata": {},
   "outputs": [],
   "source": [
    "string = 'This is A stRing'"
   ]
  },
  {
   "cell_type": "code",
   "execution_count": 26,
   "id": "e1ee2aff",
   "metadata": {},
   "outputs": [],
   "source": [
    "def custom_lower(a):\n",
    "    result =''\n",
    "    \n",
    "    \n",
    "    for i in string:\n",
    "        order = ord(i)\n",
    "        order += 32\n",
    "        result += chr(order)\n",
    "        \n",
    "    return result\n",
    "        "
   ]
  },
  {
   "cell_type": "code",
   "execution_count": 27,
   "id": "2371be3b",
   "metadata": {},
   "outputs": [
    {
     "data": {
      "text/plain": [
       "'t\\x88\\x89\\x93@\\x89\\x93@a@\\x93\\x94r\\x89\\x8e\\x87'"
      ]
     },
     "execution_count": 27,
     "metadata": {},
     "output_type": "execute_result"
    }
   ],
   "source": [
    "custom_lower(string)"
   ]
  },
  {
   "cell_type": "code",
   "execution_count": 30,
   "id": "440e9cb2",
   "metadata": {},
   "outputs": [],
   "source": [
    "def custom_lower(a):\n",
    "    result =''\n",
    "    \n",
    "    \n",
    "    for i in string:\n",
    "        if ord(i) >= 65 and ord(i) <= 90:\n",
    "            order = ord(i)\n",
    "            order += 32\n",
    "            result += chr(order)\n",
    "        else:\n",
    "            result += i\n",
    "        \n",
    "    return result"
   ]
  },
  {
   "cell_type": "code",
   "execution_count": 31,
   "id": "eb33f244",
   "metadata": {},
   "outputs": [
    {
     "data": {
      "text/plain": [
       "'this is a string'"
      ]
     },
     "execution_count": 31,
     "metadata": {},
     "output_type": "execute_result"
    }
   ],
   "source": [
    "custom_lower(string)"
   ]
  },
  {
   "cell_type": "code",
   "execution_count": 32,
   "id": "cedce239",
   "metadata": {},
   "outputs": [
    {
     "data": {
      "text/plain": [
       "False"
      ]
     },
     "execution_count": 32,
     "metadata": {},
     "output_type": "execute_result"
    }
   ],
   "source": [
    "\" The product was amazing\" == 'amazing'"
   ]
  },
  {
   "cell_type": "code",
   "execution_count": 33,
   "id": "e2b28ea5",
   "metadata": {},
   "outputs": [
    {
     "data": {
      "text/plain": [
       "True"
      ]
     },
     "execution_count": 33,
     "metadata": {},
     "output_type": "execute_result"
    }
   ],
   "source": [
    "'amazing' in 'The product was amazing'\n",
    "# looks for the first string in the second one"
   ]
  },
  {
   "cell_type": "code",
   "execution_count": 34,
   "id": "744bb2c1",
   "metadata": {},
   "outputs": [
    {
     "data": {
      "text/plain": [
       "True"
      ]
     },
     "execution_count": 34,
     "metadata": {},
     "output_type": "execute_result"
    }
   ],
   "source": [
    "'6'.isdigit()"
   ]
  },
  {
   "cell_type": "code",
   "execution_count": 35,
   "id": "f571c615",
   "metadata": {},
   "outputs": [
    {
     "data": {
      "text/plain": [
       "False"
      ]
     },
     "execution_count": 35,
     "metadata": {},
     "output_type": "execute_result"
    }
   ],
   "source": [
    "'a'.isdigit()"
   ]
  },
  {
   "cell_type": "code",
   "execution_count": 36,
   "id": "999521a5",
   "metadata": {},
   "outputs": [
    {
     "data": {
      "text/plain": [
       "False"
      ]
     },
     "execution_count": 36,
     "metadata": {},
     "output_type": "execute_result"
    }
   ],
   "source": [
    "\"23456bvchjk\".isdigit()"
   ]
  },
  {
   "cell_type": "code",
   "execution_count": 37,
   "id": "15fd796e",
   "metadata": {},
   "outputs": [
    {
     "data": {
      "text/plain": [
       "True"
      ]
     },
     "execution_count": 37,
     "metadata": {},
     "output_type": "execute_result"
    }
   ],
   "source": [
    "'34567'.isdigit() # works only for integers"
   ]
  },
  {
   "cell_type": "code",
   "execution_count": 39,
   "id": "4c62c23e",
   "metadata": {},
   "outputs": [
    {
     "data": {
      "text/plain": [
       "True"
      ]
     },
     "execution_count": 39,
     "metadata": {},
     "output_type": "execute_result"
    }
   ],
   "source": [
    "'a'.isalpha()"
   ]
  },
  {
   "cell_type": "code",
   "execution_count": 41,
   "id": "e119fcaa",
   "metadata": {},
   "outputs": [
    {
     "data": {
      "text/plain": [
       "False"
      ]
     },
     "execution_count": 41,
     "metadata": {},
     "output_type": "execute_result"
    }
   ],
   "source": [
    "'asdf34567'.isalpha()"
   ]
  },
  {
   "cell_type": "code",
   "execution_count": 42,
   "id": "35d136f5",
   "metadata": {},
   "outputs": [
    {
     "data": {
      "text/plain": [
       "True"
      ]
     },
     "execution_count": 42,
     "metadata": {},
     "output_type": "execute_result"
    }
   ],
   "source": [
    "'abc'.isalpha()"
   ]
  },
  {
   "cell_type": "code",
   "execution_count": 43,
   "id": "34a856e2",
   "metadata": {},
   "outputs": [
    {
     "data": {
      "text/plain": [
       "True"
      ]
     },
     "execution_count": 43,
     "metadata": {},
     "output_type": "execute_result"
    }
   ],
   "source": [
    "'A'.isupper()"
   ]
  },
  {
   "cell_type": "code",
   "execution_count": 44,
   "id": "fc8ac10a",
   "metadata": {},
   "outputs": [
    {
     "data": {
      "text/plain": [
       "True"
      ]
     },
     "execution_count": 44,
     "metadata": {},
     "output_type": "execute_result"
    }
   ],
   "source": [
    "'a'.islower()"
   ]
  },
  {
   "cell_type": "code",
   "execution_count": 45,
   "id": "2f8446c1",
   "metadata": {},
   "outputs": [
    {
     "data": {
      "text/plain": [
       "False"
      ]
     },
     "execution_count": 45,
     "metadata": {},
     "output_type": "execute_result"
    }
   ],
   "source": [
    "'A'.islower()"
   ]
  },
  {
   "cell_type": "code",
   "execution_count": 46,
   "id": "002ccac2",
   "metadata": {},
   "outputs": [
    {
     "data": {
      "text/plain": [
       "False"
      ]
     },
     "execution_count": 46,
     "metadata": {},
     "output_type": "execute_result"
    }
   ],
   "source": [
    "'abc'.isspace()"
   ]
  },
  {
   "cell_type": "code",
   "execution_count": 47,
   "id": "5c5889e6",
   "metadata": {},
   "outputs": [
    {
     "data": {
      "text/plain": [
       "True"
      ]
     },
     "execution_count": 47,
     "metadata": {},
     "output_type": "execute_result"
    }
   ],
   "source": [
    "\" \".isspace()"
   ]
  },
  {
   "cell_type": "code",
   "execution_count": 48,
   "id": "c1e5f712",
   "metadata": {},
   "outputs": [
    {
     "data": {
      "text/plain": [
       "'\\nQuestion 2 -\\n1. Take a string as input.\\n2. Replace all spaces by underscore\\n'"
      ]
     },
     "execution_count": 48,
     "metadata": {},
     "output_type": "execute_result"
    }
   ],
   "source": [
    "'''\n",
    "Question 2 -\n",
    "1. Take a string as input.\n",
    "2. Replace all spaces by underscore\n",
    "'''"
   ]
  },
  {
   "cell_type": "code",
   "execution_count": 49,
   "id": "e4d6028b",
   "metadata": {},
   "outputs": [],
   "source": [
    "string = \"this is a random string!\""
   ]
  },
  {
   "cell_type": "code",
   "execution_count": 50,
   "id": "4ad1b615",
   "metadata": {},
   "outputs": [],
   "source": [
    "def change_to_underscore(string):\n",
    "    result = \"\"\n",
    "    for i in string:\n",
    "        if i.isspace():\n",
    "            result += \"_\"\n",
    "        else:\n",
    "            result += i\n",
    "    return result"
   ]
  },
  {
   "cell_type": "code",
   "execution_count": 51,
   "id": "b2e751e4",
   "metadata": {},
   "outputs": [
    {
     "data": {
      "text/plain": [
       "'this_is_a_random_string!'"
      ]
     },
     "execution_count": 51,
     "metadata": {},
     "output_type": "execute_result"
    }
   ],
   "source": [
    "change_to_underscore(string)\n"
   ]
  },
  {
   "cell_type": "code",
   "execution_count": 52,
   "id": "0a6cb133",
   "metadata": {},
   "outputs": [
    {
     "data": {
      "text/plain": [
       "'this_is_a_random_string!'"
      ]
     },
     "execution_count": 52,
     "metadata": {},
     "output_type": "execute_result"
    }
   ],
   "source": [
    "string.replace(\" \",\"_\")"
   ]
  },
  {
   "cell_type": "markdown",
   "id": "f8b619a3",
   "metadata": {},
   "source": [
    "### Glossary of string Method\n",
    "\n",
    "1. split\n",
    "2. join\n",
    "3. replace\n",
    "4. find\n",
    "5. count\n",
    "6. isdigit\n",
    "7. isalpha\n",
    "8. islower\n",
    "9. isupper\n",
    "10. isspace\n",
    "11. lower/upper\n",
    "12. in"
   ]
  },
  {
   "cell_type": "code",
   "execution_count": null,
   "id": "7858e877",
   "metadata": {},
   "outputs": [],
   "source": []
  }
 ],
 "metadata": {
  "kernelspec": {
   "display_name": "Python 3 (ipykernel)",
   "language": "python",
   "name": "python3"
  },
  "language_info": {
   "codemirror_mode": {
    "name": "ipython",
    "version": 3
   },
   "file_extension": ".py",
   "mimetype": "text/x-python",
   "name": "python",
   "nbconvert_exporter": "python",
   "pygments_lexer": "ipython3",
   "version": "3.11.4"
  }
 },
 "nbformat": 4,
 "nbformat_minor": 5
}
