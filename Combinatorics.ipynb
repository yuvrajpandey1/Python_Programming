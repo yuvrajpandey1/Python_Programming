{
 "cells": [
  {
   "cell_type": "markdown",
   "id": "c8b3b689",
   "metadata": {},
   "source": [
    "* Mathematics of counting"
   ]
  },
  {
   "cell_type": "markdown",
   "id": "803f3eda",
   "metadata": {},
   "source": [
    "#### Given three True/False questions. Count the total number of ways to answer the questions?\n",
    "* ans = 8"
   ]
  },
  {
   "cell_type": "markdown",
   "id": "bc66cdc1",
   "metadata": {},
   "source": [
    "* Fundamental principal of counting\n",
    "* AND -> Multiply"
   ]
  },
  {
   "cell_type": "markdown",
   "id": "f1404abe",
   "metadata": {},
   "source": [
    "#### If there are 10 girls and 7 boys in a hall. Count the total number of ways to pick one 'boy-girl' couple?\n",
    "\n",
    "* ans = 17"
   ]
  },
  {
   "cell_type": "markdown",
   "id": "15d6aa9d",
   "metadata": {},
   "source": [
    "#### If there are 3 different paths from Hyderabad to Mumbai and 4 different paths from Mumbai to Delhi. Count the total number of paths from Hyderabad to Delhi via Mumbai.?\n",
    "\n",
    "* ans = 12"
   ]
  },
  {
   "cell_type": "markdown",
   "id": "6f8efbff",
   "metadata": {},
   "source": [
    "#### If there are 2 different paths from Hyderabad to Nagpur and 3 different paths from Nagpur to Delhi. Count the total number of paths from Hyderabad to Delhi via Nagpur.\n",
    "\n",
    "* ans = 6"
   ]
  },
  {
   "cell_type": "markdown",
   "id": "5d93f4b6",
   "metadata": {},
   "source": [
    "#### If you have the following number of different paths:\n",
    "1. Hyderabad to Mumbai : 3 \n",
    "2. Hyderabad to Nagpur : 2\n",
    "3. Mumbai to Delhi : 4\n",
    "4. Nagpur to Delhi : 3\n",
    "\n",
    "#### Count the total number of paths from Hyderabad to Delhi.?\n",
    "\n",
    "* ans = 18"
   ]
  },
  {
   "cell_type": "markdown",
   "id": "888ce9f3",
   "metadata": {},
   "source": [
    "#### You have the following items:\n",
    "1. Pens: 3\n",
    "2. Books: 5\n",
    "3. Flowers: 7\n",
    "4. Chocolates: 3\n",
    "5. Rings: 3\n",
    "\n",
    "#### You can only gift one of the following combos, count the total number of ways to form gifts.\n",
    "1. 1 pen & 1 book \n",
    "2. 1 flower & 1 chocolate \n",
    "3. 1 ring\n",
    "\n",
    "* ans = 39"
   ]
  },
  {
   "cell_type": "markdown",
   "id": "2eee60c1",
   "metadata": {},
   "source": [
    "### Permutations \n",
    "\n",
    "* arrangement of objects"
   ]
  },
  {
   "cell_type": "markdown",
   "id": "6fbfd681",
   "metadata": {},
   "source": [
    "* i,j != j,i"
   ]
  },
  {
   "cell_type": "markdown",
   "id": "4cfa6b1f",
   "metadata": {},
   "source": [
    "#### Q7.Count the number of ways to arrange 3 characters a, b, & c\n",
    "\n",
    "* ans = 6"
   ]
  },
  {
   "cell_type": "markdown",
   "id": "358cb6e8",
   "metadata": {},
   "source": [
    "#### Q8) Count the number of ways to arrange 4 different characters a, b, c & d?\n",
    "\n",
    "* ans = 24"
   ]
  },
  {
   "cell_type": "markdown",
   "id": "e507ef51",
   "metadata": {},
   "source": [
    "#### Q9) Count the number of ways to arrange 0 distinct characters?\n",
    "\n",
    "* ans = 1\n"
   ]
  },
  {
   "cell_type": "markdown",
   "id": "7fbfae3a",
   "metadata": {},
   "source": [
    "#### Q10) Given 5 different characters, in how many ways can we arrange them in 2 places?\n",
    "\n",
    "* ans = 20"
   ]
  },
  {
   "cell_type": "markdown",
   "id": "f8f3f111",
   "metadata": {},
   "source": [
    "* No of ways to arrange n distinct items at Y places \n",
    "* n!/(n-Y)!"
   ]
  },
  {
   "cell_type": "markdown",
   "id": "45bf06e9",
   "metadata": {},
   "source": [
    "### Combination\n",
    "\n",
    "* Selection of objects\n",
    "* In Permutation order matter\n"
   ]
  },
  {
   "cell_type": "markdown",
   "id": "1fd340d6",
   "metadata": {},
   "source": [
    "* In Combination order doesn't matter\n",
    "* i,j = j,i"
   ]
  },
  {
   "cell_type": "markdown",
   "id": "ab74085c",
   "metadata": {},
   "source": [
    "#### Q1) In how many ways can we select 3 batsmen from a pool of 4 cricketers.\n",
    "\n",
    "* ans = 4"
   ]
  },
  {
   "cell_type": "markdown",
   "id": "c1401151",
   "metadata": {},
   "source": [
    "* Permutation = n!/(n-r)!\n",
    "\n",
    "* Combinations = n!/r!*(n-r)!"
   ]
  },
  {
   "cell_type": "markdown",
   "id": "e9bbdf8b",
   "metadata": {},
   "source": [
    "#### Properties\n",
    "\n",
    "1. nC1 = n!/(n-1)!1! = n\n",
    "\n",
    "2. nC0 = n!/n!0! = 1\n",
    "\n",
    "3. nCr = nCn-r \n",
    "* -> n!/r!(n-r)! = n!/(n-r)!r!\n",
    "\n",
    "4. nCr = n-1Cr + n-1Cr-1"
   ]
  },
  {
   "cell_type": "markdown",
   "id": "9998cec9",
   "metadata": {},
   "source": [
    "#### Q2) What is nC0 + nC1 + nC2 + ..... + nCn?\n",
    "\n",
    "* ans = 2^n"
   ]
  },
  {
   "cell_type": "code",
   "execution_count": null,
   "id": "c772dc3d",
   "metadata": {},
   "outputs": [],
   "source": []
  }
 ],
 "metadata": {
  "kernelspec": {
   "display_name": "Python 3 (ipykernel)",
   "language": "python",
   "name": "python3"
  },
  "language_info": {
   "codemirror_mode": {
    "name": "ipython",
    "version": 3
   },
   "file_extension": ".py",
   "mimetype": "text/x-python",
   "name": "python",
   "nbconvert_exporter": "python",
   "pygments_lexer": "ipython3",
   "version": "3.11.4"
  }
 },
 "nbformat": 4,
 "nbformat_minor": 5
}
