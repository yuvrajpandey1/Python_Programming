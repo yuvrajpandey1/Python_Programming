{
  "nbformat": 4,
  "nbformat_minor": 0,
  "metadata": {
    "colab": {
      "provenance": []
    },
    "kernelspec": {
      "name": "python3",
      "display_name": "Python 3"
    },
    "language_info": {
      "name": "python"
    }
  },
  "cells": [
    {
      "cell_type": "code",
      "execution_count": null,
      "metadata": {
        "id": "vY7nGkIpKeXX"
      },
      "outputs": [],
      "source": []
    },
    {
      "cell_type": "markdown",
      "source": [
        "Pure Function :-\n",
        "\n",
        "\n",
        "\n",
        "*   Deterministic O/P\n",
        "*   No side effects(You are not updating variable of a particular functions).\n",
        "*   Sure about the output based on given input\n",
        "\n"
      ],
      "metadata": {
        "id": "YVsudDKoNPTr"
      }
    },
    {
      "cell_type": "code",
      "source": [
        "def add(a,b):\n",
        "  return a+b"
      ],
      "metadata": {
        "id": "H2OzfZmENnF7"
      },
      "execution_count": null,
      "outputs": []
    },
    {
      "cell_type": "code",
      "source": [
        "print(add(3,5))"
      ],
      "metadata": {
        "colab": {
          "base_uri": "https://localhost:8080/"
        },
        "id": "fIOh4tb6NrBG",
        "outputId": "69f16aff-32c4-40f2-e671-76f5b600e8e4"
      },
      "execution_count": null,
      "outputs": [
        {
          "output_type": "stream",
          "name": "stdout",
          "text": [
            "8\n"
          ]
        }
      ]
    },
    {
      "cell_type": "code",
      "source": [
        "# impure function\n",
        "# Output is not fixed\n",
        "\n",
        "import random\n",
        "def gen_random(a):\n",
        "  return random.randint(0,9)"
      ],
      "metadata": {
        "id": "7hxBRS8cNtMH"
      },
      "execution_count": null,
      "outputs": []
    },
    {
      "cell_type": "code",
      "source": [
        "gen_random(1)"
      ],
      "metadata": {
        "colab": {
          "base_uri": "https://localhost:8080/"
        },
        "id": "HFIzTbFLN9o5",
        "outputId": "3ec87ecf-c61b-4869-86be-468460abff2f"
      },
      "execution_count": null,
      "outputs": [
        {
          "output_type": "execute_result",
          "data": {
            "text/plain": [
              "9"
            ]
          },
          "metadata": {},
          "execution_count": 4
        }
      ]
    },
    {
      "cell_type": "code",
      "source": [
        "gen_random(1)"
      ],
      "metadata": {
        "colab": {
          "base_uri": "https://localhost:8080/"
        },
        "id": "zRu0quTUN_8m",
        "outputId": "d3d5155b-becc-4b19-a7e2-830815ca3976"
      },
      "execution_count": null,
      "outputs": [
        {
          "output_type": "execute_result",
          "data": {
            "text/plain": [
              "2"
            ]
          },
          "metadata": {},
          "execution_count": 5
        }
      ]
    },
    {
      "cell_type": "code",
      "source": [
        "gen_random(1)"
      ],
      "metadata": {
        "colab": {
          "base_uri": "https://localhost:8080/"
        },
        "id": "uNNN7e2_ODLL",
        "outputId": "8bfc51d2-f738-4949-c4f5-d2c23dcfd117"
      },
      "execution_count": null,
      "outputs": [
        {
          "output_type": "execute_result",
          "data": {
            "text/plain": [
              "1"
            ]
          },
          "metadata": {},
          "execution_count": 6
        }
      ]
    },
    {
      "cell_type": "code",
      "source": [],
      "metadata": {
        "id": "HyR0BRqNOEho"
      },
      "execution_count": null,
      "outputs": []
    },
    {
      "cell_type": "markdown",
      "source": [
        "HOF (High Order Functions)\n",
        "\n",
        "* even functions can be treated as arguments & functions can also be written\n",
        "\n",
        "def f3(f1,f2):\n",
        "\n",
        "\n",
        "\n",
        "return f2"
      ],
      "metadata": {
        "id": "aV0by3sfOdNT"
      }
    },
    {
      "cell_type": "code",
      "source": [
        "# Lambda Functions\n",
        "# lambda functions do not have a name\n",
        "lambda ____ : ______"
      ],
      "metadata": {
        "colab": {
          "base_uri": "https://localhost:8080/"
        },
        "id": "jSoajIN0Oh3k",
        "outputId": "d7fd4d31-23d9-431a-8dd1-3c650b01249c"
      },
      "execution_count": null,
      "outputs": [
        {
          "output_type": "execute_result",
          "data": {
            "text/plain": [
              "<function __main__.<lambda>(____)>"
            ]
          },
          "metadata": {},
          "execution_count": 8
        }
      ]
    },
    {
      "cell_type": "code",
      "source": [
        "def sq(x):\n",
        "  return x**2"
      ],
      "metadata": {
        "id": "aohv2tlrPKdz"
      },
      "execution_count": null,
      "outputs": []
    },
    {
      "cell_type": "code",
      "source": [
        "sq(3)"
      ],
      "metadata": {
        "colab": {
          "base_uri": "https://localhost:8080/"
        },
        "id": "ULsw0o8CPt0Y",
        "outputId": "112e26f7-0daa-4962-a3ad-4354cf2be6ee"
      },
      "execution_count": null,
      "outputs": [
        {
          "output_type": "execute_result",
          "data": {
            "text/plain": [
              "9"
            ]
          },
          "metadata": {},
          "execution_count": 10
        }
      ]
    },
    {
      "cell_type": "code",
      "source": [
        "sq(9)"
      ],
      "metadata": {
        "colab": {
          "base_uri": "https://localhost:8080/"
        },
        "id": "h4qgl7vwPucb",
        "outputId": "34b93712-c857-448e-8c6b-20daa687c7e1"
      },
      "execution_count": null,
      "outputs": [
        {
          "output_type": "execute_result",
          "data": {
            "text/plain": [
              "81"
            ]
          },
          "metadata": {},
          "execution_count": 11
        }
      ]
    },
    {
      "cell_type": "code",
      "source": [
        "lambda x : x**2"
      ],
      "metadata": {
        "colab": {
          "base_uri": "https://localhost:8080/"
        },
        "id": "KFJT35csPv9m",
        "outputId": "5d4a08e1-9119-45bb-a75a-6901d20866ad"
      },
      "execution_count": null,
      "outputs": [
        {
          "output_type": "execute_result",
          "data": {
            "text/plain": [
              "<function __main__.<lambda>(x)>"
            ]
          },
          "metadata": {},
          "execution_count": 12
        }
      ]
    },
    {
      "cell_type": "code",
      "source": [
        "s = lambda x : x**2"
      ],
      "metadata": {
        "id": "0qLIQxN4QEvR"
      },
      "execution_count": null,
      "outputs": []
    },
    {
      "cell_type": "code",
      "source": [
        "s(7)"
      ],
      "metadata": {
        "colab": {
          "base_uri": "https://localhost:8080/"
        },
        "id": "Qcc17uIjQJSr",
        "outputId": "b32d88bf-37a5-49a1-c650-d164c6d8dd17"
      },
      "execution_count": null,
      "outputs": [
        {
          "output_type": "execute_result",
          "data": {
            "text/plain": [
              "49"
            ]
          },
          "metadata": {},
          "execution_count": 14
        }
      ]
    },
    {
      "cell_type": "code",
      "source": [
        "(lambda x : x**2)(7)"
      ],
      "metadata": {
        "colab": {
          "base_uri": "https://localhost:8080/"
        },
        "id": "QJljCvQDQK2P",
        "outputId": "d28f7560-087d-435d-f81d-4be8a0e179da"
      },
      "execution_count": null,
      "outputs": [
        {
          "output_type": "execute_result",
          "data": {
            "text/plain": [
              "49"
            ]
          },
          "metadata": {},
          "execution_count": 15
        }
      ]
    },
    {
      "cell_type": "code",
      "source": [
        "(lambda x : x**2)(5)"
      ],
      "metadata": {
        "colab": {
          "base_uri": "https://localhost:8080/"
        },
        "id": "CZdBk30QQQ28",
        "outputId": "dce5e543-d342-4a84-b4ba-f43171d87d46"
      },
      "execution_count": null,
      "outputs": [
        {
          "output_type": "execute_result",
          "data": {
            "text/plain": [
              "25"
            ]
          },
          "metadata": {},
          "execution_count": 17
        }
      ]
    },
    {
      "cell_type": "code",
      "source": [
        "t = lambda P1,P2,P3 : P1+P2-P3"
      ],
      "metadata": {
        "id": "F9OWZAbeQdEo"
      },
      "execution_count": null,
      "outputs": []
    },
    {
      "cell_type": "code",
      "source": [
        "t(3,5,2)"
      ],
      "metadata": {
        "colab": {
          "base_uri": "https://localhost:8080/"
        },
        "id": "E6N2Ik8nQmTO",
        "outputId": "ae914072-d966-486d-bd9c-0aa510954aa9"
      },
      "execution_count": null,
      "outputs": [
        {
          "output_type": "execute_result",
          "data": {
            "text/plain": [
              "6"
            ]
          },
          "metadata": {},
          "execution_count": 19
        }
      ]
    },
    {
      "cell_type": "code",
      "source": [
        "# \"Yuvraj\" \"Pandey\" --> \"Yuvraj Pandey\""
      ],
      "metadata": {
        "id": "YhL-hc4lQoR4"
      },
      "execution_count": null,
      "outputs": []
    },
    {
      "cell_type": "code",
      "source": [
        " def concat_str(a,b):\n",
        "  return a+\" \"+b"
      ],
      "metadata": {
        "id": "JKVuoiMmRBRV"
      },
      "execution_count": null,
      "outputs": []
    },
    {
      "cell_type": "code",
      "source": [
        "concat_str(\"Yuvraj\" , \"Pandey\")"
      ],
      "metadata": {
        "colab": {
          "base_uri": "https://localhost:8080/",
          "height": 35
        },
        "id": "j92cC5UzSB6v",
        "outputId": "c3243ee2-8891-432a-8660-5cabc93fe157"
      },
      "execution_count": null,
      "outputs": [
        {
          "output_type": "execute_result",
          "data": {
            "text/plain": [
              "'Yuvraj Pandey'"
            ],
            "application/vnd.google.colaboratory.intrinsic+json": {
              "type": "string"
            }
          },
          "metadata": {},
          "execution_count": 22
        }
      ]
    },
    {
      "cell_type": "code",
      "source": [
        "concat_str(\"Durgesh\" , \"Kumari\")"
      ],
      "metadata": {
        "colab": {
          "base_uri": "https://localhost:8080/",
          "height": 35
        },
        "id": "0uY8GlrRSHzu",
        "outputId": "9e4324cc-450c-4a3e-d454-a492ec56ee60"
      },
      "execution_count": null,
      "outputs": [
        {
          "output_type": "execute_result",
          "data": {
            "text/plain": [
              "'Durgesh Kumari'"
            ],
            "application/vnd.google.colaboratory.intrinsic+json": {
              "type": "string"
            }
          },
          "metadata": {},
          "execution_count": 23
        }
      ]
    },
    {
      "cell_type": "code",
      "source": [
        "# lambda functions\n",
        "\n",
        "concat_str = lambda a,b: a+\" \"+b"
      ],
      "metadata": {
        "id": "095cdBEFSS4Z"
      },
      "execution_count": null,
      "outputs": []
    },
    {
      "cell_type": "code",
      "source": [
        "concat_str(\"A\",\"B\")"
      ],
      "metadata": {
        "colab": {
          "base_uri": "https://localhost:8080/",
          "height": 35
        },
        "id": "7Rd2lX_CUiSV",
        "outputId": "f651cd7a-9974-4fda-8762-306e3d09b244"
      },
      "execution_count": null,
      "outputs": [
        {
          "output_type": "execute_result",
          "data": {
            "text/plain": [
              "'A B'"
            ],
            "application/vnd.google.colaboratory.intrinsic+json": {
              "type": "string"
            }
          },
          "metadata": {},
          "execution_count": 25
        }
      ]
    },
    {
      "cell_type": "code",
      "source": [
        "(lambda a,b : a+ \" \"+b)(\"Durgesh\",\"Kumari\")"
      ],
      "metadata": {
        "colab": {
          "base_uri": "https://localhost:8080/",
          "height": 35
        },
        "id": "AnSoms_KUnKN",
        "outputId": "fafb8820-4ea6-42b9-aad6-b4553f71ee56"
      },
      "execution_count": null,
      "outputs": [
        {
          "output_type": "execute_result",
          "data": {
            "text/plain": [
              "'Durgesh Kumari'"
            ],
            "application/vnd.google.colaboratory.intrinsic+json": {
              "type": "string"
            }
          },
          "metadata": {},
          "execution_count": 26
        }
      ]
    },
    {
      "cell_type": "markdown",
      "source": [
        "Return the reverse of a given string"
      ],
      "metadata": {
        "id": "S-Pu_U99U1zF"
      }
    },
    {
      "cell_type": "code",
      "source": [
        "def rev_str(s):\n",
        "  return s[::-1]"
      ],
      "metadata": {
        "id": "eFBEAnnIUxWO"
      },
      "execution_count": null,
      "outputs": []
    },
    {
      "cell_type": "code",
      "source": [
        "rev_str(\"Yuvraj\")"
      ],
      "metadata": {
        "colab": {
          "base_uri": "https://localhost:8080/",
          "height": 35
        },
        "id": "36Ha4gdKV7T0",
        "outputId": "f722c99b-08bf-4a36-91fe-d0f478d7e39d"
      },
      "execution_count": null,
      "outputs": [
        {
          "output_type": "execute_result",
          "data": {
            "text/plain": [
              "'jarvuY'"
            ],
            "application/vnd.google.colaboratory.intrinsic+json": {
              "type": "string"
            }
          },
          "metadata": {},
          "execution_count": 28
        }
      ]
    },
    {
      "cell_type": "code",
      "source": [
        "rev_str(\"Helllo\")"
      ],
      "metadata": {
        "colab": {
          "base_uri": "https://localhost:8080/",
          "height": 35
        },
        "id": "rxZTt-dRV9O2",
        "outputId": "73121b61-94c2-4a2a-89b2-098daff79023"
      },
      "execution_count": null,
      "outputs": [
        {
          "output_type": "execute_result",
          "data": {
            "text/plain": [
              "'ollleH'"
            ],
            "application/vnd.google.colaboratory.intrinsic+json": {
              "type": "string"
            }
          },
          "metadata": {},
          "execution_count": 29
        }
      ]
    },
    {
      "cell_type": "code",
      "source": [
        "rev = lambda s: s[::-1]\n",
        "rev(\"Pandey\")"
      ],
      "metadata": {
        "colab": {
          "base_uri": "https://localhost:8080/",
          "height": 35
        },
        "id": "vl5ykx5OV_kP",
        "outputId": "5cbe88aa-9c76-46ac-a545-0e28a36a6b3d"
      },
      "execution_count": null,
      "outputs": [
        {
          "output_type": "execute_result",
          "data": {
            "text/plain": [
              "'yednaP'"
            ],
            "application/vnd.google.colaboratory.intrinsic+json": {
              "type": "string"
            }
          },
          "metadata": {},
          "execution_count": 31
        }
      ]
    },
    {
      "cell_type": "code",
      "source": [
        "(lambda s:s[::-1])(\"yuvraj\")"
      ],
      "metadata": {
        "colab": {
          "base_uri": "https://localhost:8080/",
          "height": 35
        },
        "id": "J8M_uGywWM1s",
        "outputId": "aea39a41-2fce-4516-ad2c-fce99b65b22f"
      },
      "execution_count": null,
      "outputs": [
        {
          "output_type": "execute_result",
          "data": {
            "text/plain": [
              "'jarvuy'"
            ],
            "application/vnd.google.colaboratory.intrinsic+json": {
              "type": "string"
            }
          },
          "metadata": {},
          "execution_count": 34
        }
      ]
    },
    {
      "cell_type": "code",
      "source": [
        "# Given an integer, return if it is even else return false"
      ],
      "metadata": {
        "id": "2NmXrEGcWY4H"
      },
      "execution_count": null,
      "outputs": []
    },
    {
      "cell_type": "code",
      "source": [
        "def is_even(n):\n",
        "  return n%2==0"
      ],
      "metadata": {
        "id": "nAKCYTrOW4Nu"
      },
      "execution_count": null,
      "outputs": []
    },
    {
      "cell_type": "code",
      "source": [
        "is_even(10)"
      ],
      "metadata": {
        "colab": {
          "base_uri": "https://localhost:8080/"
        },
        "id": "mcqE63YuW8SV",
        "outputId": "229d8450-dc5e-4346-b2ad-a1236fb89af9"
      },
      "execution_count": null,
      "outputs": [
        {
          "output_type": "execute_result",
          "data": {
            "text/plain": [
              "True"
            ]
          },
          "metadata": {},
          "execution_count": 37
        }
      ]
    },
    {
      "cell_type": "code",
      "source": [
        "is_even(15)"
      ],
      "metadata": {
        "colab": {
          "base_uri": "https://localhost:8080/"
        },
        "id": "mMxjzVGXW-CW",
        "outputId": "1e6559da-5241-4a5f-8934-18bef5c4c4f6"
      },
      "execution_count": null,
      "outputs": [
        {
          "output_type": "execute_result",
          "data": {
            "text/plain": [
              "False"
            ]
          },
          "metadata": {},
          "execution_count": 38
        }
      ]
    },
    {
      "cell_type": "code",
      "source": [
        "is_eve = lambda x: x%2 ==0\n",
        "\n",
        "is_eve(5)"
      ],
      "metadata": {
        "colab": {
          "base_uri": "https://localhost:8080/"
        },
        "id": "JtC2vxSDXAG9",
        "outputId": "7ad6c600-0c4a-476a-acf9-958e1bf8b8b4"
      },
      "execution_count": null,
      "outputs": [
        {
          "output_type": "execute_result",
          "data": {
            "text/plain": [
              "False"
            ]
          },
          "metadata": {},
          "execution_count": 40
        }
      ]
    },
    {
      "cell_type": "code",
      "source": [
        "(lambda x:x%2 ==0)(10)"
      ],
      "metadata": {
        "colab": {
          "base_uri": "https://localhost:8080/"
        },
        "id": "F8mmBRn7XIPU",
        "outputId": "36da3518-2efd-48ed-c447-63ae7b6eb936"
      },
      "execution_count": null,
      "outputs": [
        {
          "output_type": "execute_result",
          "data": {
            "text/plain": [
              "True"
            ]
          },
          "metadata": {},
          "execution_count": 41
        }
      ]
    },
    {
      "cell_type": "code",
      "source": [],
      "metadata": {
        "id": "ARX9HD4HXjL_"
      },
      "execution_count": null,
      "outputs": []
    },
    {
      "cell_type": "markdown",
      "source": [
        "Sort & Sorted\n",
        "\n",
        "* Sort -> Sort make changes to original list itself\n",
        "* Soreted -> Copy of it in a sorted format"
      ],
      "metadata": {
        "id": "Yf4nbDCwgI8r"
      }
    },
    {
      "cell_type": "code",
      "source": [
        "a = [20,40,10,15]\n",
        "\n",
        "a.sort()"
      ],
      "metadata": {
        "id": "zM6RJoFhgLI4"
      },
      "execution_count": null,
      "outputs": []
    },
    {
      "cell_type": "code",
      "source": [
        "a"
      ],
      "metadata": {
        "colab": {
          "base_uri": "https://localhost:8080/"
        },
        "id": "O_K8Ttn2g5Bl",
        "outputId": "5a98bd88-00ff-4139-bcd9-6704f2d743cf"
      },
      "execution_count": null,
      "outputs": [
        {
          "output_type": "execute_result",
          "data": {
            "text/plain": [
              "[10, 15, 20, 40]"
            ]
          },
          "metadata": {},
          "execution_count": 43
        }
      ]
    },
    {
      "cell_type": "code",
      "source": [
        "a = [20,40,10,15]\n",
        "n = sorted(a)"
      ],
      "metadata": {
        "id": "-1FYvxoag5gU"
      },
      "execution_count": null,
      "outputs": []
    },
    {
      "cell_type": "code",
      "source": [
        "n\n"
      ],
      "metadata": {
        "colab": {
          "base_uri": "https://localhost:8080/"
        },
        "id": "_z87z3rjhC3h",
        "outputId": "8f07c8ef-3ea0-46bd-92c8-281be2cb0a40"
      },
      "execution_count": null,
      "outputs": [
        {
          "output_type": "execute_result",
          "data": {
            "text/plain": [
              "[10, 15, 20, 40]"
            ]
          },
          "metadata": {},
          "execution_count": 45
        }
      ]
    },
    {
      "cell_type": "code",
      "source": [
        "a"
      ],
      "metadata": {
        "colab": {
          "base_uri": "https://localhost:8080/"
        },
        "id": "9_Lr5RRphDm1",
        "outputId": "6ffac617-a7e3-4a06-9cf9-dd74d982139a"
      },
      "execution_count": null,
      "outputs": [
        {
          "output_type": "execute_result",
          "data": {
            "text/plain": [
              "[20, 40, 10, 15]"
            ]
          },
          "metadata": {},
          "execution_count": 46
        }
      ]
    },
    {
      "cell_type": "code",
      "source": [
        "help(sorted)"
      ],
      "metadata": {
        "colab": {
          "base_uri": "https://localhost:8080/"
        },
        "id": "bh75V0HohFSw",
        "outputId": "71b4caf2-a3db-4c4d-c3c8-2ce9747bf8e0"
      },
      "execution_count": null,
      "outputs": [
        {
          "output_type": "stream",
          "name": "stdout",
          "text": [
            "Help on built-in function sorted in module builtins:\n",
            "\n",
            "sorted(iterable, /, *, key=None, reverse=False)\n",
            "    Return a new list containing all items from the iterable in ascending order.\n",
            "    \n",
            "    A custom key function can be supplied to customize the sort order, and the\n",
            "    reverse flag can be set to request the result in descending order.\n",
            "\n"
          ]
        }
      ]
    },
    {
      "cell_type": "code",
      "source": [],
      "metadata": {
        "id": "p_bIQUllhvwx"
      },
      "execution_count": null,
      "outputs": []
    },
    {
      "cell_type": "markdown",
      "source": [
        "Custom Sorting\n",
        "\n",
        "* Sorting as per our requirement"
      ],
      "metadata": {
        "id": "QSBTtEV3h3EC"
      }
    },
    {
      "cell_type": "code",
      "source": [
        "coordinates = [(1,1),(-2,-2),(2,3),(5,5)]"
      ],
      "metadata": {
        "id": "S7vXXzGAh9fb"
      },
      "execution_count": null,
      "outputs": []
    },
    {
      "cell_type": "code",
      "source": [
        "a = sorted(coordinates)\n",
        "print(a)"
      ],
      "metadata": {
        "colab": {
          "base_uri": "https://localhost:8080/"
        },
        "id": "Blolgw8diVXs",
        "outputId": "429023b2-93e2-440c-c99f-bb0d42ea7d37"
      },
      "execution_count": null,
      "outputs": [
        {
          "output_type": "stream",
          "name": "stdout",
          "text": [
            "[(-2, -2), (1, 1), (2, 3), (5, 5)]\n"
          ]
        }
      ]
    },
    {
      "cell_type": "code",
      "source": [
        "coordinates = [(1,1),(-2,-2),(2,3),(5,5)]\n",
        "a = sorted(coordinates, key = lambda x:x[1])"
      ],
      "metadata": {
        "id": "jfzaRhDWiaaw"
      },
      "execution_count": null,
      "outputs": []
    },
    {
      "cell_type": "code",
      "source": [
        "print(a)"
      ],
      "metadata": {
        "colab": {
          "base_uri": "https://localhost:8080/"
        },
        "id": "XvPDvdtLixH2",
        "outputId": "a1bf1e73-22ac-45a6-faf4-8162c37af277"
      },
      "execution_count": null,
      "outputs": [
        {
          "output_type": "stream",
          "name": "stdout",
          "text": [
            "[(-2, -2), (1, 1), (2, 3), (5, 5)]\n"
          ]
        }
      ]
    },
    {
      "cell_type": "code",
      "source": [
        "coordinates = [(1,1),(-2,-2),(2,3),(5,5)]\n",
        "a = sorted(coordinates, key = lambda x:x[1], reverse=True)"
      ],
      "metadata": {
        "id": "iC6JqodGiydA"
      },
      "execution_count": null,
      "outputs": []
    },
    {
      "cell_type": "code",
      "source": [
        "print(a)"
      ],
      "metadata": {
        "colab": {
          "base_uri": "https://localhost:8080/"
        },
        "id": "E29hpTA8i6iJ",
        "outputId": "9e7b4cc8-eafe-4800-8cee-70cabcb67763"
      },
      "execution_count": null,
      "outputs": [
        {
          "output_type": "stream",
          "name": "stdout",
          "text": [
            "[(-2, -2), (1, 1), (2, 3), (5, 5)]\n"
          ]
        }
      ]
    },
    {
      "cell_type": "code",
      "source": [
        "def get_y(t):\n",
        "  return t[1]\n",
        "\n",
        "coordinates = [(1,1),(-1,2),(-2,-2),(2,3),(5,5)]\n",
        "a= sorted(coordinates, key = get_y, reverse=True)\n",
        "print(a)"
      ],
      "metadata": {
        "colab": {
          "base_uri": "https://localhost:8080/"
        },
        "id": "An9UHEfzi7VP",
        "outputId": "fcdaffd4-33b4-4164-b07e-b12a581b423b"
      },
      "execution_count": null,
      "outputs": [
        {
          "output_type": "stream",
          "name": "stdout",
          "text": [
            "[(5, 5), (2, 3), (-1, 2), (1, 1), (-2, -2)]\n"
          ]
        }
      ]
    },
    {
      "cell_type": "code",
      "source": [
        "# Qu\"estion\n",
        "\n",
        "students = [\n",
        "    {\"name\":\"A\",\"marks\":50},\n",
        "    {\"name\":\"B\",\"marks\":100},\n",
        "    {\"name\":\"C\",\"marks\":40},\n",
        "    {\"name\":\"D\",\"marks\":70},\n",
        "    {\"name\":\"E\",\"marks\":60},\n",
        "]\n",
        "\n",
        "\n",
        "# Given the lisr of dictionaries, we have to sort them on the basis of marks"
      ],
      "metadata": {
        "id": "r3uEbXa4jS5n"
      },
      "execution_count": null,
      "outputs": []
    },
    {
      "cell_type": "code",
      "source": [
        "sorted(students, key = lambda x:x[\"marks\"],reverse =True)"
      ],
      "metadata": {
        "id": "cnUjTHRnkC7t",
        "colab": {
          "base_uri": "https://localhost:8080/"
        },
        "outputId": "65ad2682-6259-4e64-d285-a4e7ef4fff14"
      },
      "execution_count": null,
      "outputs": [
        {
          "output_type": "execute_result",
          "data": {
            "text/plain": [
              "[{'name': 'B', 'marks': 100},\n",
              " {'name': 'D', 'marks': 70},\n",
              " {'name': 'E', 'marks': 60},\n",
              " {'name': 'A', 'marks': 50},\n",
              " {'name': 'C', 'marks': 40}]"
            ]
          },
          "metadata": {},
          "execution_count": 2
        }
      ]
    },
    {
      "cell_type": "markdown",
      "source": [
        "Why can functional programs be more efficient compared to imperative programs?\n",
        "\n",
        "*  They do not require state updates, which can be a costly operation."
      ],
      "metadata": {
        "id": "TBC_rU84ezpD"
      }
    },
    {
      "cell_type": "markdown",
      "source": [
        "How can you sort a list of dictionaries based on a specific key using a lambda function?\n",
        "\n",
        "*  Using the sorted() function and specifying the key with the lambda function."
      ],
      "metadata": {
        "id": "89upWBGufBy6"
      }
    },
    {
      "cell_type": "markdown",
      "source": [
        "**HOF (High Order Functions)**\n",
        "\n",
        "* That can accept functions as an arguments\n",
        "* That can return a function\n",
        "* or both\n",
        "\n"
      ],
      "metadata": {
        "id": "h4o4dDfOfV74"
      }
    },
    {
      "cell_type": "code",
      "source": [
        " def gen_exp(n):\n",
        "  def exp(x):\n",
        "    return x**n\n",
        "  return exp"
      ],
      "metadata": {
        "id": "oM9b6g0EfJs4"
      },
      "execution_count": null,
      "outputs": []
    },
    {
      "cell_type": "code",
      "source": [
        "exp_5 = gen_exp(5)"
      ],
      "metadata": {
        "id": "tlWeN2QygYUi"
      },
      "execution_count": null,
      "outputs": []
    },
    {
      "cell_type": "code",
      "source": [
        "exp_5(2)"
      ],
      "metadata": {
        "colab": {
          "base_uri": "https://localhost:8080/"
        },
        "id": "ie2Xc-2DgiTb",
        "outputId": "09a28c0b-8ca2-498d-f680-6abd96108695"
      },
      "execution_count": null,
      "outputs": [
        {
          "output_type": "execute_result",
          "data": {
            "text/plain": [
              "32"
            ]
          },
          "metadata": {},
          "execution_count": 6
        }
      ]
    },
    {
      "cell_type": "code",
      "source": [
        "exp_5(3)"
      ],
      "metadata": {
        "colab": {
          "base_uri": "https://localhost:8080/"
        },
        "id": "TtuawZCYglOK",
        "outputId": "6f41ca5a-8157-483e-eb17-39bee7a34721"
      },
      "execution_count": null,
      "outputs": [
        {
          "output_type": "execute_result",
          "data": {
            "text/plain": [
              "243"
            ]
          },
          "metadata": {},
          "execution_count": 7
        }
      ]
    },
    {
      "cell_type": "markdown",
      "source": [
        "Decorators\n",
        "\n",
        "* div(8,2)"
      ],
      "metadata": {
        "id": "U3ZoOpb1ivbI"
      }
    },
    {
      "cell_type": "code",
      "source": [
        "def div(a,b):\n",
        "  return a/b\n",
        "\n",
        "div(8,2)"
      ],
      "metadata": {
        "colab": {
          "base_uri": "https://localhost:8080/"
        },
        "id": "EkqGVW_Zi4gi",
        "outputId": "e99ece4e-ff20-47de-d912-bd4310f00ae8"
      },
      "execution_count": null,
      "outputs": [
        {
          "output_type": "execute_result",
          "data": {
            "text/plain": [
              "4.0"
            ]
          },
          "metadata": {},
          "execution_count": 10
        }
      ]
    },
    {
      "cell_type": "code",
      "source": [
        "div(2,4)"
      ],
      "metadata": {
        "colab": {
          "base_uri": "https://localhost:8080/"
        },
        "id": "_uWoU_R-j_BY",
        "outputId": "1d2f2fc6-0277-49b3-f51e-cfae99d18655"
      },
      "execution_count": null,
      "outputs": [
        {
          "output_type": "execute_result",
          "data": {
            "text/plain": [
              "0.5"
            ]
          },
          "metadata": {},
          "execution_count": 11
        }
      ]
    },
    {
      "cell_type": "code",
      "source": [
        "def smart_div(func):\n",
        "  def inner(a,b):\n",
        "    if a<b:\n",
        "      a,b=b,a\n",
        "    return func(a,b)\n",
        "  return inner\n"
      ],
      "metadata": {
        "id": "l0qgiiCakAQm"
      },
      "execution_count": null,
      "outputs": []
    },
    {
      "cell_type": "code",
      "source": [
        "d1 = smart_div(div)"
      ],
      "metadata": {
        "id": "u9cikW_7kdjg"
      },
      "execution_count": null,
      "outputs": []
    },
    {
      "cell_type": "code",
      "source": [
        "d1(8,2)"
      ],
      "metadata": {
        "colab": {
          "base_uri": "https://localhost:8080/"
        },
        "id": "BcjrfYAMkrGF",
        "outputId": "270624d8-8d73-42d6-e5ad-54398159ff82"
      },
      "execution_count": null,
      "outputs": [
        {
          "output_type": "execute_result",
          "data": {
            "text/plain": [
              "4.0"
            ]
          },
          "metadata": {},
          "execution_count": 14
        }
      ]
    },
    {
      "cell_type": "code",
      "source": [
        "d1(2,4)"
      ],
      "metadata": {
        "colab": {
          "base_uri": "https://localhost:8080/"
        },
        "id": "gTw_4_nkkzcS",
        "outputId": "54781c74-1259-4b24-a6af-72c47de2ecbe"
      },
      "execution_count": null,
      "outputs": [
        {
          "output_type": "execute_result",
          "data": {
            "text/plain": [
              "2.0"
            ]
          },
          "metadata": {},
          "execution_count": 15
        }
      ]
    },
    {
      "cell_type": "code",
      "source": [
        "def foo():\n",
        "  print(\"Hi\")"
      ],
      "metadata": {
        "id": "rXN7TzPPk0d1"
      },
      "execution_count": null,
      "outputs": []
    },
    {
      "cell_type": "code",
      "source": [
        "foo()"
      ],
      "metadata": {
        "colab": {
          "base_uri": "https://localhost:8080/"
        },
        "id": "EPDbQYV_mGqb",
        "outputId": "aabb99cf-1a4e-4a39-87a7-6e288ce7515d"
      },
      "execution_count": null,
      "outputs": [
        {
          "output_type": "stream",
          "name": "stdout",
          "text": [
            "Hi\n"
          ]
        }
      ]
    },
    {
      "cell_type": "code",
      "source": [
        "def bar():\n",
        "  print(\"Yo\")"
      ],
      "metadata": {
        "id": "SsFAwt-KoA-_"
      },
      "execution_count": null,
      "outputs": []
    },
    {
      "cell_type": "code",
      "source": [
        "def foo1():\n",
        "  print(\"-\"*40)\n",
        "  print(\"Hi\")\n",
        "  print(\"-\"*40)"
      ],
      "metadata": {
        "id": "GeGnpJb1mJe0"
      },
      "execution_count": null,
      "outputs": []
    },
    {
      "cell_type": "code",
      "source": [
        "foo1()"
      ],
      "metadata": {
        "colab": {
          "base_uri": "https://localhost:8080/"
        },
        "id": "XzWNu3ggnH1i",
        "outputId": "f48ad506-7d80-4b84-d32d-b1e5f4a659e4"
      },
      "execution_count": null,
      "outputs": [
        {
          "output_type": "stream",
          "name": "stdout",
          "text": [
            "----------------------------------------\n",
            "Hi\n",
            "----------------------------------------\n"
          ]
        }
      ]
    },
    {
      "cell_type": "code",
      "source": [
        "def cute_print(func):\n",
        "  def inner():\n",
        "    print(\"-\"*40)\n",
        "    func()\n",
        "    print(\"-\"*40)\n",
        "\n",
        "  return inner"
      ],
      "metadata": {
        "id": "yKUs2TbqnJme"
      },
      "execution_count": null,
      "outputs": []
    },
    {
      "cell_type": "code",
      "source": [
        "p1=cute_print(foo)"
      ],
      "metadata": {
        "id": "ASV4nytongGv"
      },
      "execution_count": null,
      "outputs": []
    },
    {
      "cell_type": "code",
      "source": [
        "p1()"
      ],
      "metadata": {
        "colab": {
          "base_uri": "https://localhost:8080/"
        },
        "id": "5Kf42M-anmfm",
        "outputId": "c21fa940-e2c8-440a-f7e6-d44f07181cb8"
      },
      "execution_count": null,
      "outputs": [
        {
          "output_type": "stream",
          "name": "stdout",
          "text": [
            "----------------------------------------\n",
            "Hi\n",
            "----------------------------------------\n"
          ]
        }
      ]
    },
    {
      "cell_type": "code",
      "source": [
        "p1 = cute_print(bar)\n",
        "p1()"
      ],
      "metadata": {
        "colab": {
          "base_uri": "https://localhost:8080/"
        },
        "id": "-AOLwz-dnnx8",
        "outputId": "2b4e1854-f09c-4ed7-fe0c-63b45077c9db"
      },
      "execution_count": null,
      "outputs": [
        {
          "output_type": "stream",
          "name": "stdout",
          "text": [
            "----------------------------------------\n",
            "Yo\n",
            "----------------------------------------\n"
          ]
        }
      ]
    },
    {
      "cell_type": "code",
      "source": [
        "#2nd way\n",
        "\n",
        "@cute_print\n",
        "def show():\n",
        "  print(\"Showing some output\")\n",
        "show()"
      ],
      "metadata": {
        "colab": {
          "base_uri": "https://localhost:8080/"
        },
        "id": "j4h9pCYloL77",
        "outputId": "cbf242ba-c469-4f35-de4b-a6a8e592cfc1"
      },
      "execution_count": null,
      "outputs": [
        {
          "output_type": "stream",
          "name": "stdout",
          "text": [
            "----------------------------------------\n",
            "Showing some output\n",
            "----------------------------------------\n"
          ]
        }
      ]
    },
    {
      "cell_type": "code",
      "source": [
        "#2nd way\n",
        "\n",
        "@cute_print\n",
        "def hello_print():\n",
        "  print(\"Hello\")\n",
        "hello_print()"
      ],
      "metadata": {
        "colab": {
          "base_uri": "https://localhost:8080/"
        },
        "id": "8LdwMXDgor5s",
        "outputId": "294fb813-ac51-4224-c2f0-874945c02b46"
      },
      "execution_count": null,
      "outputs": [
        {
          "output_type": "stream",
          "name": "stdout",
          "text": [
            "----------------------------------------\n",
            "Hello\n",
            "----------------------------------------\n"
          ]
        }
      ]
    },
    {
      "cell_type": "markdown",
      "source": [
        "Consider the following scenario: You want to generate a function that can calculate the square of any number. How can you achieve this using a higher order function?\n",
        "\n",
        "* By setting the inner function to raise the input to the power of 2 and returning the inner function.\n"
      ],
      "metadata": {
        "id": "7CDbznvepIN9"
      }
    },
    {
      "cell_type": "markdown",
      "source": [
        "Which of the following best describes the purpose of the @ symbol when used with decorators?\n",
        "\n",
        "\n",
        "* To specify which decorator should be applied to a function"
      ],
      "metadata": {
        "id": "wC3JTRUGpSYF"
      }
    },
    {
      "cell_type": "code",
      "source": [],
      "metadata": {
        "id": "vz7OPqRto7yA"
      },
      "execution_count": null,
      "outputs": []
    }
  ]
}