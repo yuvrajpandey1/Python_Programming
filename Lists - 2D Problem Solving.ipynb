{
 "cells": [
  {
   "cell_type": "code",
   "execution_count": 1,
   "id": "57ff742d",
   "metadata": {},
   "outputs": [
    {
     "data": {
      "text/plain": [
       "'\\nQuestion 1;-\\n1. Write a function which takes two argumnets - a list and and a target element\\n2. Return index of the target element if it is present in the list\\n2. Otherwise return -1\\n'"
      ]
     },
     "execution_count": 1,
     "metadata": {},
     "output_type": "execute_result"
    }
   ],
   "source": [
    "'''\n",
    "Question 1;-\n",
    "1. Write a function which takes two argumnets - a list and and a target element\n",
    "2. Return index of the target element if it is present in the list\n",
    "2. Otherwise return -1\n",
    "'''"
   ]
  },
  {
   "cell_type": "code",
   "execution_count": 2,
   "id": "c48e9359",
   "metadata": {},
   "outputs": [],
   "source": [
    "a = [5,6,7,81,34,56,19,12]"
   ]
  },
  {
   "cell_type": "code",
   "execution_count": 3,
   "id": "8403abc4",
   "metadata": {},
   "outputs": [],
   "source": [
    "def search_list(a,target):\n",
    "    for i in a:\n",
    "        if i == target:\n",
    "            return a.index(target)"
   ]
  },
  {
   "cell_type": "code",
   "execution_count": 4,
   "id": "a888403c",
   "metadata": {},
   "outputs": [],
   "source": [
    "def search_list(a,target):\n",
    "    for i in range(len(a)):\n",
    "        if a[i] == target:\n",
    "            return i\n",
    "    return -1"
   ]
  },
  {
   "cell_type": "code",
   "execution_count": 5,
   "id": "5e106201",
   "metadata": {},
   "outputs": [
    {
     "data": {
      "text/plain": [
       "5"
      ]
     },
     "execution_count": 5,
     "metadata": {},
     "output_type": "execute_result"
    }
   ],
   "source": [
    "search_list(a,56)"
   ]
  },
  {
   "cell_type": "code",
   "execution_count": 6,
   "id": "fbc64a6a",
   "metadata": {},
   "outputs": [
    {
     "data": {
      "text/plain": [
       "7"
      ]
     },
     "execution_count": 6,
     "metadata": {},
     "output_type": "execute_result"
    }
   ],
   "source": [
    "search_list(a,12)"
   ]
  },
  {
   "cell_type": "code",
   "execution_count": 7,
   "id": "d171ec3c",
   "metadata": {},
   "outputs": [],
   "source": [
    "## 2nd approach\n",
    "def search_list_2(a,target):\n",
    "    counter=0\n",
    "    for i in a:\n",
    "        if i == target:\n",
    "            return counter\n",
    "        counter += 1\n",
    "    return -1"
   ]
  },
  {
   "cell_type": "code",
   "execution_count": 8,
   "id": "0e2a5302",
   "metadata": {},
   "outputs": [
    {
     "data": {
      "text/plain": [
       "7"
      ]
     },
     "execution_count": 8,
     "metadata": {},
     "output_type": "execute_result"
    }
   ],
   "source": [
    "search_list_2(a,12)"
   ]
  },
  {
   "cell_type": "code",
   "execution_count": 9,
   "id": "90fc23e4",
   "metadata": {},
   "outputs": [
    {
     "data": {
      "text/plain": [
       "5"
      ]
     },
     "execution_count": 9,
     "metadata": {},
     "output_type": "execute_result"
    }
   ],
   "source": [
    "search_list_2(a,56)"
   ]
  },
  {
   "cell_type": "code",
   "execution_count": 10,
   "id": "2a5ec84c",
   "metadata": {},
   "outputs": [
    {
     "data": {
      "text/plain": [
       "'\\nQuestion 2;-\\n1. Take two matrices as input . User will first provide the size of the matrix.\\n2. Derive a third matrix C which is A + B\\n'"
      ]
     },
     "execution_count": 10,
     "metadata": {},
     "output_type": "execute_result"
    }
   ],
   "source": [
    "'''\n",
    "Question 2;-\n",
    "1. Take two matrices as input . User will first provide the size of the matrix.\n",
    "2. Derive a third matrix C which is A + B\n",
    "'''"
   ]
  },
  {
   "cell_type": "code",
   "execution_count": 11,
   "id": "ced466c3",
   "metadata": {},
   "outputs": [
    {
     "name": "stdout",
     "output_type": "stream",
     "text": [
      "2\n",
      "2\n"
     ]
    }
   ],
   "source": [
    "rows = int(input())\n",
    "columns = int(input())"
   ]
  },
  {
   "cell_type": "code",
   "execution_count": 13,
   "id": "90324a43",
   "metadata": {},
   "outputs": [],
   "source": [
    "def input_matrix(rows,columns):\n",
    "    matrix=[]\n",
    "    \n",
    "    for i in range(rows):\n",
    "        row = []\n",
    "        \n",
    "        for j in range(columns):\n",
    "            row.append(int(input()))\n",
    "            \n",
    "        matrix.append(row)\n",
    "    return matrix"
   ]
  },
  {
   "cell_type": "code",
   "execution_count": 14,
   "id": "31f22b1c",
   "metadata": {},
   "outputs": [
    {
     "name": "stdout",
     "output_type": "stream",
     "text": [
      "4\n",
      "5\n",
      "6\n",
      "7\n"
     ]
    }
   ],
   "source": [
    "A = input_matrix(rows,columns)"
   ]
  },
  {
   "cell_type": "code",
   "execution_count": 15,
   "id": "688beffd",
   "metadata": {},
   "outputs": [
    {
     "data": {
      "text/plain": [
       "[[4, 5], [6, 7]]"
      ]
     },
     "execution_count": 15,
     "metadata": {},
     "output_type": "execute_result"
    }
   ],
   "source": [
    "A"
   ]
  },
  {
   "cell_type": "code",
   "execution_count": 16,
   "id": "bd1401e2",
   "metadata": {},
   "outputs": [
    {
     "name": "stdout",
     "output_type": "stream",
     "text": [
      "1\n",
      "2\n",
      "3\n",
      "4\n"
     ]
    }
   ],
   "source": [
    "B = input_matrix(rows,columns)"
   ]
  },
  {
   "cell_type": "code",
   "execution_count": 17,
   "id": "b9d3010d",
   "metadata": {},
   "outputs": [
    {
     "data": {
      "text/plain": [
       "[[1, 2], [3, 4]]"
      ]
     },
     "execution_count": 17,
     "metadata": {},
     "output_type": "execute_result"
    }
   ],
   "source": [
    "B"
   ]
  },
  {
   "cell_type": "code",
   "execution_count": 20,
   "id": "bcc255a2",
   "metadata": {},
   "outputs": [],
   "source": [
    "def matrix_sum(A,B):\n",
    "    C=[]\n",
    "    \n",
    "    for i in range(len(A)):\n",
    "        row=[]\n",
    "        for j in range(len(A[0])):\n",
    "            row.append(A[i][j] +B[i][j])\n",
    "            \n",
    "        C.append(row)\n",
    "    return C"
   ]
  },
  {
   "cell_type": "code",
   "execution_count": 21,
   "id": "9e26c321",
   "metadata": {},
   "outputs": [],
   "source": [
    "C = matrix_sum(A,B)"
   ]
  },
  {
   "cell_type": "code",
   "execution_count": 22,
   "id": "d57d0c7e",
   "metadata": {},
   "outputs": [
    {
     "data": {
      "text/plain": [
       "[[5, 7], [9, 11]]"
      ]
     },
     "execution_count": 22,
     "metadata": {},
     "output_type": "execute_result"
    }
   ],
   "source": [
    "C"
   ]
  },
  {
   "cell_type": "code",
   "execution_count": 23,
   "id": "34f1d4f0",
   "metadata": {},
   "outputs": [
    {
     "data": {
      "text/plain": [
       "'\\nQuestion 3 ;-\\n1. Take a matrix as input from the user.User will first provide the size \\n2. Return True if the matrix is an identity matrix otherwise return False\\n'"
      ]
     },
     "execution_count": 23,
     "metadata": {},
     "output_type": "execute_result"
    }
   ],
   "source": [
    "'''\n",
    "Question 3 ;-\n",
    "1. Take a matrix as input from the user.User will first provide the size \n",
    "2. Return True if the matrix is an identity matrix otherwise return False\n",
    "'''"
   ]
  },
  {
   "cell_type": "code",
   "execution_count": 31,
   "id": "aef703bc",
   "metadata": {},
   "outputs": [
    {
     "name": "stdout",
     "output_type": "stream",
     "text": [
      "2\n",
      "2\n"
     ]
    }
   ],
   "source": [
    "rows = int(input())\n",
    "columns = int(input())"
   ]
  },
  {
   "cell_type": "code",
   "execution_count": 32,
   "id": "21e8336e",
   "metadata": {},
   "outputs": [
    {
     "name": "stdout",
     "output_type": "stream",
     "text": [
      "0\n",
      "0\n",
      "1\n",
      "1\n"
     ]
    }
   ],
   "source": [
    "A = input_matrix(rows,columns)"
   ]
  },
  {
   "cell_type": "code",
   "execution_count": 33,
   "id": "873e5f61",
   "metadata": {},
   "outputs": [
    {
     "data": {
      "text/plain": [
       "[[0, 0], [1, 1]]"
      ]
     },
     "execution_count": 33,
     "metadata": {},
     "output_type": "execute_result"
    }
   ],
   "source": [
    "A"
   ]
  },
  {
   "cell_type": "code",
   "execution_count": 37,
   "id": "1a491b60",
   "metadata": {},
   "outputs": [],
   "source": [
    "def check_identity_matrix(A):\n",
    "    R = len(A)\n",
    "    C = len(A[0])\n",
    "    \n",
    "    if R !=C:\n",
    "        return False\n",
    "    for i in range(R):\n",
    "        for j in range(C):\n",
    "            # Check if all primary diagonal element are 1\n",
    "            if i ==j and A[i][j] !=1:\n",
    "                return False\n",
    "            elif i !=j and A[i][j] !=0:\n",
    "                return False\n",
    "    return False"
   ]
  },
  {
   "cell_type": "code",
   "execution_count": 38,
   "id": "280e4c90",
   "metadata": {},
   "outputs": [
    {
     "data": {
      "text/plain": [
       "False"
      ]
     },
     "execution_count": 38,
     "metadata": {},
     "output_type": "execute_result"
    }
   ],
   "source": [
    "check_identity_matrix(A)"
   ]
  },
  {
   "cell_type": "code",
   "execution_count": 39,
   "id": "c0c5c30d",
   "metadata": {},
   "outputs": [
    {
     "data": {
      "text/plain": [
       "'\\nHomework Question ;- Given a matrix as input, write a function which return the transpose of a matrix\\n'"
      ]
     },
     "execution_count": 39,
     "metadata": {},
     "output_type": "execute_result"
    }
   ],
   "source": [
    "'''\n",
    "Homework Question ;- Given a matrix as input, write a function which return the transpose of a matrix\n",
    "'''"
   ]
  },
  {
   "cell_type": "code",
   "execution_count": null,
   "id": "41d6f0ee",
   "metadata": {},
   "outputs": [],
   "source": []
  }
 ],
 "metadata": {
  "kernelspec": {
   "display_name": "Python 3 (ipykernel)",
   "language": "python",
   "name": "python3"
  },
  "language_info": {
   "codemirror_mode": {
    "name": "ipython",
    "version": 3
   },
   "file_extension": ".py",
   "mimetype": "text/x-python",
   "name": "python",
   "nbconvert_exporter": "python",
   "pygments_lexer": "ipython3",
   "version": "3.11.4"
  }
 },
 "nbformat": 4,
 "nbformat_minor": 5
}
