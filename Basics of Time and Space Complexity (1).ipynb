{
 "cells": [
  {
   "cell_type": "markdown",
   "id": "3ff73b11",
   "metadata": {},
   "source": [
    "* Algorithm analysis -> Algorithm is nothing but set of code , logic or set of instruction to perform task. Logic that getting problem to solved."
   ]
  },
  {
   "cell_type": "markdown",
   "id": "1cf00f8e",
   "metadata": {},
   "source": [
    "* When ever you want to analyzed the algorithms what are the metrices or key factors need to keep in mind\n",
    "1. Correctness -> Algorithms should solve the problem "
   ]
  },
  {
   "cell_type": "markdown",
   "id": "b150e8d1",
   "metadata": {},
   "source": [
    "* Algorithm has 2 main factor\n",
    "1. Space complexity -> Space deal with memory\n",
    "2. TIme -> CPU processing "
   ]
  },
  {
   "cell_type": "markdown",
   "id": "5dbdb764",
   "metadata": {},
   "source": [
    "* TIme complexity -> no of operation that program or algorithm take"
   ]
  },
  {
   "cell_type": "code",
   "execution_count": 1,
   "id": "7391ac9f",
   "metadata": {},
   "outputs": [],
   "source": [
    "# Program1\n",
    "\n",
    "def foo(n):\n",
    "    x=1   #operation1\n",
    "    y=2   #operation2\n",
    "    z=3   #operation3\n",
    "    \n",
    "    print(n) #operation4 -> O(1)"
   ]
  },
  {
   "cell_type": "code",
   "execution_count": 3,
   "id": "1f41de7f",
   "metadata": {},
   "outputs": [
    {
     "name": "stdout",
     "output_type": "stream",
     "text": [
      "5\n"
     ]
    }
   ],
   "source": [
    "foo(5)"
   ]
  },
  {
   "cell_type": "code",
   "execution_count": 4,
   "id": "37f69f7b",
   "metadata": {},
   "outputs": [
    {
     "name": "stdout",
     "output_type": "stream",
     "text": [
      "1000\n"
     ]
    }
   ],
   "source": [
    "foo(1000)"
   ]
  },
  {
   "cell_type": "code",
   "execution_count": 5,
   "id": "c6a23a76",
   "metadata": {},
   "outputs": [
    {
     "data": {
      "text/plain": [
       "'\\nAnalysis for program1:\\n\\n1. The number of operation in the code above remain constant.\\n2. NUmber of operation is NOT dependent on the input parameter\\n'"
      ]
     },
     "execution_count": 5,
     "metadata": {},
     "output_type": "execute_result"
    }
   ],
   "source": [
    "'''\n",
    "Analysis for program1:\n",
    "\n",
    "1. The number of operation in the code above remain constant.\n",
    "2. NUmber of operation is NOT dependent on the input parameter\n",
    "'''"
   ]
  },
  {
   "cell_type": "code",
   "execution_count": 8,
   "id": "4c54dd69",
   "metadata": {},
   "outputs": [],
   "source": [
    "# Program2\n",
    "\n",
    "def foo(n):\n",
    "    for i in range(n):\n",
    "        print(i)   #n times -> n operations -> O(n)"
   ]
  },
  {
   "cell_type": "code",
   "execution_count": 9,
   "id": "c644aaf3",
   "metadata": {},
   "outputs": [
    {
     "name": "stdout",
     "output_type": "stream",
     "text": [
      "0\n",
      "1\n",
      "2\n",
      "3\n",
      "4\n"
     ]
    }
   ],
   "source": [
    "foo(5)"
   ]
  },
  {
   "cell_type": "code",
   "execution_count": 10,
   "id": "6c4bbf1c",
   "metadata": {},
   "outputs": [
    {
     "name": "stdout",
     "output_type": "stream",
     "text": [
      "0\n",
      "1\n",
      "2\n",
      "3\n",
      "4\n",
      "5\n",
      "6\n",
      "7\n",
      "8\n",
      "9\n"
     ]
    }
   ],
   "source": [
    "foo(10)"
   ]
  },
  {
   "cell_type": "code",
   "execution_count": 11,
   "id": "69beafdb",
   "metadata": {},
   "outputs": [
    {
     "name": "stdout",
     "output_type": "stream",
     "text": [
      "0\n",
      "1\n",
      "2\n",
      "3\n",
      "4\n",
      "5\n",
      "6\n",
      "7\n",
      "8\n",
      "9\n",
      "10\n",
      "11\n",
      "12\n",
      "13\n",
      "14\n"
     ]
    }
   ],
   "source": [
    "foo(15)"
   ]
  },
  {
   "cell_type": "code",
   "execution_count": 12,
   "id": "6f3e02fd",
   "metadata": {},
   "outputs": [
    {
     "data": {
      "text/plain": [
       "'\\nAnalysis of Program2:\\n\\n1. The number of operation is directly dependent on the input value\\n2. It linearly grows with the input provided\\n'"
      ]
     },
     "execution_count": 12,
     "metadata": {},
     "output_type": "execute_result"
    }
   ],
   "source": [
    "'''\n",
    "Analysis of Program2:\n",
    "\n",
    "1. The number of operation is directly dependent on the input value\n",
    "2. It linearly grows with the input provided\n",
    "'''"
   ]
  },
  {
   "cell_type": "code",
   "execution_count": 13,
   "id": "f2bfe4f9",
   "metadata": {},
   "outputs": [],
   "source": [
    "# Program 3\n",
    "\n",
    "def foo(n):\n",
    "    for i in range(n):\n",
    "        for j in range(n):\n",
    "            print(i,j)    # n^2 operations -> O(n^2)"
   ]
  },
  {
   "cell_type": "code",
   "execution_count": 14,
   "id": "6217538d",
   "metadata": {},
   "outputs": [
    {
     "name": "stdout",
     "output_type": "stream",
     "text": [
      "0 0\n",
      "0 1\n",
      "0 2\n",
      "1 0\n",
      "1 1\n",
      "1 2\n",
      "2 0\n",
      "2 1\n",
      "2 2\n"
     ]
    }
   ],
   "source": [
    "foo(3)"
   ]
  },
  {
   "cell_type": "code",
   "execution_count": 15,
   "id": "d2c9e366",
   "metadata": {
    "collapsed": true
   },
   "outputs": [
    {
     "data": {
      "text/plain": [
       "'\\nAnalysis of Program3:\\n\\n1. The number of operation are dependent on the input variable\\n2. This share a quadratic relationship\\n'"
      ]
     },
     "execution_count": 15,
     "metadata": {},
     "output_type": "execute_result"
    }
   ],
   "source": [
    "'''\n",
    "Analysis of Program3:\n",
    "\n",
    "1. The number of operation are dependent on the input variable\n",
    "2. This share a quadratic relationship\n",
    "'''"
   ]
  },
  {
   "cell_type": "markdown",
   "id": "8a688683",
   "metadata": {},
   "source": [
    "#### Cost equation (function)  -> y\n",
    "* an equation that represents total number of operations w.r.t input value \n",
    "* y = x^n + k1 x^n-1 + k2 x^n-2 ..........kn x^1 + C\n",
    "* ax^3 + bx^2 + cx + d\n",
    "* Highest power terms in the above equations -> term with the x^n -> this know as time complexity \n",
    "* We represt time complexity as O -> O(x^n)"
   ]
  },
  {
   "cell_type": "markdown",
   "id": "c604448b",
   "metadata": {},
   "source": [
    "* DESMOS.COM/CALCULATOR"
   ]
  },
  {
   "cell_type": "code",
   "execution_count": 18,
   "id": "5b983688",
   "metadata": {},
   "outputs": [],
   "source": [
    " def foo(n):\n",
    "        x = 1\n",
    "        y = 2\n",
    "        for i in range(n):\n",
    "            print(i)  # n operation\n",
    "                  \n",
    "# Total number of operation in this equation -> cost equation -> n+ 2(representation of total number of operation) -> O(n)"
   ]
  },
  {
   "cell_type": "code",
   "execution_count": 26,
   "id": "4f21d81d",
   "metadata": {
    "collapsed": true
   },
   "outputs": [
    {
     "ename": "IndentationError",
     "evalue": "unindent does not match any outer indentation level (<tokenize>, line 8)",
     "output_type": "error",
     "traceback": [
      "\u001b[1;36m  File \u001b[1;32m<tokenize>:8\u001b[1;36m\u001b[0m\n\u001b[1;33m    for i in range(n):\u001b[0m\n\u001b[1;37m    ^\u001b[0m\n\u001b[1;31mIndentationError\u001b[0m\u001b[1;31m:\u001b[0m unindent does not match any outer indentation level\n"
     ]
    }
   ],
   "source": [
    "def foo2(n):\n",
    "     z = 1\n",
    "     x = 2\n",
    "     y = 3\n",
    "    \n",
    "     for i in range(n):\n",
    "            print(i)  # n operation\n",
    "    for i in range(n):\n",
    "        for j in range(n):\n",
    "            print(i+j)  # -> n^2 operation\n",
    "            \n",
    "            \n",
    "# Cost equation : n^2 + n+3 -> O(n^2) -> Take quadratic nature of equation"
   ]
  },
  {
   "cell_type": "code",
   "execution_count": 27,
   "id": "b88cb8f7",
   "metadata": {},
   "outputs": [
    {
     "name": "stdout",
     "output_type": "stream",
     "text": [
      "JavaScript andTypeScript\n"
     ]
    }
   ],
   "source": [
    "random = {}\n",
    "random[1.1] = \"JavaScript\"\n",
    "random[1.0] = \"Python\"\n",
    "random[1] = \"C++\"\n",
    "random[True] = \"Java\"\n",
    "random[1+0j] = \"TypeScript\"\n",
    "\n",
    "print(f\"{random[1.1]} and{random[True]}\")"
   ]
  },
  {
   "cell_type": "code",
   "execution_count": 28,
   "id": "6b68630d",
   "metadata": {},
   "outputs": [
    {
     "data": {
      "text/plain": [
       "['weirdamI']"
      ]
     },
     "execution_count": 28,
     "metadata": {},
     "output_type": "execute_result"
    }
   ],
   "source": [
    "## what would be the output \n",
    "\n",
    "[i+j+k for k in [\"I\"] for j in [\"am\"] for i in [\"weird\"]]"
   ]
  },
  {
   "cell_type": "code",
   "execution_count": 29,
   "id": "a96346ac",
   "metadata": {
    "collapsed": true
   },
   "outputs": [
    {
     "ename": "NameError",
     "evalue": "name 'n' is not defined",
     "output_type": "error",
     "traceback": [
      "\u001b[1;31m---------------------------------------------------------------------------\u001b[0m",
      "\u001b[1;31mNameError\u001b[0m                                 Traceback (most recent call last)",
      "Cell \u001b[1;32mIn[29], line 2\u001b[0m\n\u001b[0;32m      1\u001b[0m \u001b[38;5;66;03m# What would be the Time Complexity of the following Code ?\u001b[39;00m\n\u001b[1;32m----> 2\u001b[0m \u001b[38;5;28;01mfor\u001b[39;00m i \u001b[38;5;129;01min\u001b[39;00m \u001b[38;5;28mrange\u001b[39m(\u001b[43mn\u001b[49m):\n\u001b[0;32m      3\u001b[0m     \u001b[38;5;28mprint\u001b[39m(i)\n\u001b[0;32m      6\u001b[0m \u001b[38;5;28;01mfor\u001b[39;00m j \u001b[38;5;129;01min\u001b[39;00m \u001b[38;5;28mrange\u001b[39m(n):\n",
      "\u001b[1;31mNameError\u001b[0m: name 'n' is not defined"
     ]
    }
   ],
   "source": [
    "# What would be the Time Complexity of the following Code ?\n",
    "for i in range(n):\n",
    "    print(i)\n",
    "    \n",
    "    \n",
    "for j in range(n):\n",
    "    for k in range(n):\n",
    "        print(j,k)"
   ]
  },
  {
   "cell_type": "code",
   "execution_count": null,
   "id": "87f836ba",
   "metadata": {},
   "outputs": [],
   "source": [
    "* Ans -> O(n^2)"
   ]
  },
  {
   "cell_type": "markdown",
   "id": "bffa402b",
   "metadata": {},
   "source": [
    "### Bubble Sort"
   ]
  },
  {
   "cell_type": "markdown",
   "id": "e6378b40",
   "metadata": {},
   "source": [
    "* There are lots of sorting algorithm selecting sort, quick sort, \n",
    "* Bubble sort is most basic and fundamental sorting algorithms"
   ]
  },
  {
   "cell_type": "markdown",
   "id": "d6630b38",
   "metadata": {},
   "source": [
    "* a = 5 1 2 4 7 3 \n",
    "* Compare the value at j with j+1\n",
    "* if a[j] > a[j+1]\n",
    "* Swap the values\n",
    "* Update j by 1"
   ]
  },
  {
   "cell_type": "code",
   "execution_count": 30,
   "id": "2db5128e",
   "metadata": {},
   "outputs": [],
   "source": [
    "def bubble_sort(a):\n",
    "    n = len(a)\n",
    "    for i in range(n-1):\n",
    "        for j in range(n-1-i):\n",
    "            if a[j] > a[j+1]:\n",
    "                a[j], a[j+1] = a[j+1], a[j]\n",
    "    return a"
   ]
  },
  {
   "cell_type": "code",
   "execution_count": 31,
   "id": "03876af2",
   "metadata": {},
   "outputs": [
    {
     "data": {
      "text/plain": [
       "[1, 2, 3, 4, 5, 6, 7, 8, 9, 10]"
      ]
     },
     "execution_count": 31,
     "metadata": {},
     "output_type": "execute_result"
    }
   ],
   "source": [
    "a = [10,5,6,8,9,7,2,1,4,3]\n",
    "\n",
    "bubble_sort(a)"
   ]
  },
  {
   "cell_type": "code",
   "execution_count": 32,
   "id": "252b4c30",
   "metadata": {},
   "outputs": [],
   "source": [
    "def bubble_sort_visual(a):\n",
    "    n = len(a)\n",
    "    for i in range(n-1):\n",
    "        print(a)\n",
    "        \n",
    "        for j in range(n-1-i):\n",
    "            swap = False\n",
    "            if a[j] > a[j+1]:\n",
    "                a[j], a[j+1] = a[j+1], a[j]\n",
    "                swap = True\n",
    "                \n",
    "            print(f\"\\t {a} -> {'Swap' if swap else ''}\")\n",
    "        print(\"-\"*50)\n",
    "        \n",
    "    print(f\"FINAL RESULT -> {a}\")\n",
    "    return a"
   ]
  },
  {
   "cell_type": "code",
   "execution_count": 33,
   "id": "7d1e5335",
   "metadata": {},
   "outputs": [
    {
     "name": "stdout",
     "output_type": "stream",
     "text": [
      "[5, 2, 1, 4, 7, 3]\n",
      "\t [2, 5, 1, 4, 7, 3] -> Swap\n",
      "\t [2, 1, 5, 4, 7, 3] -> Swap\n",
      "\t [2, 1, 4, 5, 7, 3] -> Swap\n",
      "\t [2, 1, 4, 5, 7, 3] -> \n",
      "\t [2, 1, 4, 5, 3, 7] -> Swap\n",
      "--------------------------------------------------\n",
      "[2, 1, 4, 5, 3, 7]\n",
      "\t [1, 2, 4, 5, 3, 7] -> Swap\n",
      "\t [1, 2, 4, 5, 3, 7] -> \n",
      "\t [1, 2, 4, 5, 3, 7] -> \n",
      "\t [1, 2, 4, 3, 5, 7] -> Swap\n",
      "--------------------------------------------------\n",
      "[1, 2, 4, 3, 5, 7]\n",
      "\t [1, 2, 4, 3, 5, 7] -> \n",
      "\t [1, 2, 4, 3, 5, 7] -> \n",
      "\t [1, 2, 3, 4, 5, 7] -> Swap\n",
      "--------------------------------------------------\n",
      "[1, 2, 3, 4, 5, 7]\n",
      "\t [1, 2, 3, 4, 5, 7] -> \n",
      "\t [1, 2, 3, 4, 5, 7] -> \n",
      "--------------------------------------------------\n",
      "[1, 2, 3, 4, 5, 7]\n",
      "\t [1, 2, 3, 4, 5, 7] -> \n",
      "--------------------------------------------------\n",
      "FINAL RESULT -> [1, 2, 3, 4, 5, 7]\n"
     ]
    },
    {
     "data": {
      "text/plain": [
       "[1, 2, 3, 4, 5, 7]"
      ]
     },
     "execution_count": 33,
     "metadata": {},
     "output_type": "execute_result"
    }
   ],
   "source": [
    "bubble_sort_visual([5,2,1,4,7,3])"
   ]
  },
  {
   "cell_type": "code",
   "execution_count": 34,
   "id": "becc3c7c",
   "metadata": {},
   "outputs": [],
   "source": [
    "# What would be the time complexity of bubble sort if the array\n",
    "a= [1,2,3,4,5]"
   ]
  },
  {
   "cell_type": "code",
   "execution_count": 35,
   "id": "1847996d",
   "metadata": {
    "collapsed": true
   },
   "outputs": [
    {
     "ename": "SyntaxError",
     "evalue": "starred assignment target must be in a list or tuple (354544310.py, line 1)",
     "output_type": "error",
     "traceback": [
      "\u001b[1;36m  Cell \u001b[1;32mIn[35], line 1\u001b[1;36m\u001b[0m\n\u001b[1;33m    * Ans = O(n)\u001b[0m\n\u001b[1;37m    ^\u001b[0m\n\u001b[1;31mSyntaxError\u001b[0m\u001b[1;31m:\u001b[0m starred assignment target must be in a list or tuple\n"
     ]
    }
   ],
   "source": [
    "* Ans = O(n)"
   ]
  },
  {
   "cell_type": "code",
   "execution_count": null,
   "id": "455e4da1",
   "metadata": {},
   "outputs": [],
   "source": []
  }
 ],
 "metadata": {
  "kernelspec": {
   "display_name": "Python 3 (ipykernel)",
   "language": "python",
   "name": "python3"
  },
  "language_info": {
   "codemirror_mode": {
    "name": "ipython",
    "version": 3
   },
   "file_extension": ".py",
   "mimetype": "text/x-python",
   "name": "python",
   "nbconvert_exporter": "python",
   "pygments_lexer": "ipython3",
   "version": "3.10.9"
  }
 },
 "nbformat": 4,
 "nbformat_minor": 5
}
