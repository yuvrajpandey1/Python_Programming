{
 "cells": [
  {
   "cell_type": "markdown",
   "id": "7a1c9d9e",
   "metadata": {},
   "source": [
    "### Custom Python zip()"
   ]
  },
  {
   "cell_type": "markdown",
   "id": "1b764d2f",
   "metadata": {},
   "source": [
    "* Python zip() function takes two iterables as input and joins each element corresponding to that index as tuple.\n",
    "\n",
    "* example:"
   ]
  },
  {
   "cell_type": "code",
   "execution_count": 3,
   "id": "5dfe2894",
   "metadata": {},
   "outputs": [
    {
     "data": {
      "text/plain": [
       "[(1, 4), (2, 5), (3, 6)]"
      ]
     },
     "execution_count": 3,
     "metadata": {},
     "output_type": "execute_result"
    }
   ],
   "source": [
    "list(zip([1,2,3],[4,5,6,7]))\n",
    "# output:\n",
    "# [(1,4),(2,5),(3,6)]"
   ]
  },
  {
   "cell_type": "markdown",
   "id": "d148d2bf",
   "metadata": {},
   "source": [
    "* Task is to implement the class Zip that will represent the same functionality by taking only list as input and as output it should return the result as list."
   ]
  },
  {
   "cell_type": "code",
   "execution_count": 8,
   "id": "0875d689",
   "metadata": {
    "collapsed": true
   },
   "outputs": [
    {
     "ename": "NameError",
     "evalue": "name 'Zip' is not defined",
     "output_type": "error",
     "traceback": [
      "\u001b[1;31m---------------------------------------------------------------------------\u001b[0m",
      "\u001b[1;31mNameError\u001b[0m                                 Traceback (most recent call last)",
      "Cell \u001b[1;32mIn[8], line 1\u001b[0m\n\u001b[1;32m----> 1\u001b[0m zipped \u001b[38;5;241m=\u001b[39m Zip()\n\u001b[0;32m      2\u001b[0m \u001b[38;5;28mprint\u001b[39m(zipped([\u001b[38;5;241m1\u001b[39m,\u001b[38;5;241m2\u001b[39m,\u001b[38;5;241m3\u001b[39m],[\u001b[38;5;241m4\u001b[39m,\u001b[38;5;241m5\u001b[39m,\u001b[38;5;241m6\u001b[39m,\u001b[38;5;241m7\u001b[39m]))\n",
      "\u001b[1;31mNameError\u001b[0m: name 'Zip' is not defined"
     ]
    }
   ],
   "source": [
    "zipped = Zip()\n",
    "print(zipped([1,2,3],[4,5,6,7]))\n",
    "# [(1,4),(2,5),(3,6)] as output"
   ]
  },
  {
   "cell_type": "markdown",
   "id": "0b89c0b1",
   "metadata": {},
   "source": [
    "### function to implement:"
   ]
  },
  {
   "cell_type": "markdown",
   "id": "9206dae8",
   "metadata": {},
   "source": [
    "1. __call__():\n",
    "- it'll take both the list as input and return the zipped list"
   ]
  },
  {
   "cell_type": "code",
   "execution_count": 9,
   "id": "9657b59b",
   "metadata": {},
   "outputs": [],
   "source": [
    "class A :\n",
    "  def __init__(self) :\n",
    "    print(\"init\")\n",
    "\n",
    "  def __call__(self) :\n",
    "    print(\"call\")"
   ]
  },
  {
   "cell_type": "code",
   "execution_count": 10,
   "id": "1a7ab5fb",
   "metadata": {},
   "outputs": [
    {
     "name": "stdout",
     "output_type": "stream",
     "text": [
      "init\n",
      "call\n"
     ]
    }
   ],
   "source": [
    "a = A()\n",
    "a()"
   ]
  },
  {
   "cell_type": "code",
   "execution_count": 11,
   "id": "143bc2c9",
   "metadata": {},
   "outputs": [],
   "source": [
    "class Zip :\n",
    "  def __call__(self, ls1, ls2) :\n",
    "    l1 = len(ls1)\n",
    "    l2 = len(ls2)\n",
    "    mn = min(l1, l2)\n",
    "    ans = []\n",
    "    for i in range(mn) :\n",
    "      ans.append((ls1[i], ls2[i]))\n",
    "    return ans"
   ]
  },
  {
   "cell_type": "code",
   "execution_count": 12,
   "id": "0c4d6252",
   "metadata": {},
   "outputs": [
    {
     "name": "stdout",
     "output_type": "stream",
     "text": [
      "[(1, 4), (2, 5), (3, 6)]\n"
     ]
    }
   ],
   "source": [
    "zipper = Zip()\n",
    "print(zipper([1, 2, 3], [4, 5, 6, 7]))"
   ]
  },
  {
   "cell_type": "markdown",
   "id": "42edddb0",
   "metadata": {},
   "source": [
    "### Resolution Order\n",
    "* What will be the Method Resolution Order for class G of the following class inheritance"
   ]
  },
  {
   "cell_type": "code",
   "execution_count": 13,
   "id": "9acef6be",
   "metadata": {},
   "outputs": [],
   "source": [
    "class A:\n",
    "    pass\n",
    "\n",
    "class B(A):\n",
    "    pass\n",
    "\n",
    "class C(B):\n",
    "    pass\n",
    "\n",
    "class D(A):\n",
    "    pass\n",
    "\n",
    "class E(C, D):\n",
    "    pass\n",
    "\n",
    "class F(C,D):\n",
    "  pass\n",
    "\n",
    "class G(E, F):\n",
    "  pass"
   ]
  },
  {
   "cell_type": "markdown",
   "id": "7636c838",
   "metadata": {},
   "source": [
    "### OOP features\n",
    "* Which feature of OOP is represented from the following program"
   ]
  },
  {
   "cell_type": "code",
   "execution_count": 15,
   "id": "03b134af",
   "metadata": {},
   "outputs": [
    {
     "name": "stdout",
     "output_type": "stream",
     "text": [
      "4\n",
      "10\n"
     ]
    }
   ],
   "source": [
    "print(len([1,2,3,4]))\n",
    "print(len(\"helloworld\"))"
   ]
  },
  {
   "cell_type": "markdown",
   "id": "2982b919",
   "metadata": {},
   "source": [
    "* A. Abstraction\n",
    "* B. Encapsulation\n",
    "* C. Polymorphism\n",
    "* D. Inheritance"
   ]
  },
  {
   "cell_type": "markdown",
   "id": "156171cb",
   "metadata": {},
   "source": [
    "### Sort tuples\n",
    "* You are given a list having tuples of 3 elements each. Write a program that can sort them as the decreasing order of the third element from each tuple.\n",
    "* You can use the inbuilt sorted function on python."
   ]
  },
  {
   "cell_type": "markdown",
   "id": "ac83da32",
   "metadata": {},
   "source": [
    "#### Input Format\n",
    "\n",
    "* List of tuples with 3 elements in each"
   ]
  },
  {
   "cell_type": "markdown",
   "id": "2b2c10ea",
   "metadata": {},
   "source": [
    "#### Output Format\n",
    "\n",
    "* Sorted list in decreasing order of the third element from each tuple"
   ]
  },
  {
   "cell_type": "markdown",
   "id": "eb790f76",
   "metadata": {},
   "source": [
    "#### Input Sample\n",
    "\n",
    "* [(1,1,1), (1,1,2), (1,2,5), (5,6,7), (9,11,4)]"
   ]
  },
  {
   "cell_type": "markdown",
   "id": "4c42caeb",
   "metadata": {},
   "source": [
    "#### Output Sample\n",
    "\n",
    "* [(5, 6, 7), (1, 2, 5), (9, 11, 4), (1, 1, 2), (1, 1, 1)]"
   ]
  },
  {
   "cell_type": "code",
   "execution_count": 16,
   "id": "246386ef",
   "metadata": {},
   "outputs": [
    {
     "name": "stdout",
     "output_type": "stream",
     "text": [
      "[(5, 6, 7), (1, 2, 5), (9, 11, 4), (1, 1, 2), (1, 1, 1)]\n"
     ]
    }
   ],
   "source": [
    "ls = [(1,1,1), (1,1,2), (1,2,5), (5,6,7), (9,11,4)]\n",
    "\n",
    "print(sorted(ls, key= lambda x: x[2], reverse=True))"
   ]
  },
  {
   "cell_type": "markdown",
   "id": "042e6291",
   "metadata": {},
   "source": [
    "### Reducing the reduce\n",
    "* What will be the output of the following piece of code?"
   ]
  },
  {
   "cell_type": "code",
   "execution_count": 17,
   "id": "d8a58ddc",
   "metadata": {},
   "outputs": [
    {
     "name": "stdout",
     "output_type": "stream",
     "text": [
      "3.0\n"
     ]
    }
   ],
   "source": [
    "from functools import reduce\n",
    "a = [1,2,3,4,5]\n",
    "ans = reduce(lambda x, y: (x * a.index(y) + y) / float(a.index(y) + 1),a)\n",
    "print(ans)"
   ]
  },
  {
   "cell_type": "code",
   "execution_count": 18,
   "id": "90fc8536",
   "metadata": {},
   "outputs": [
    {
     "name": "stdout",
     "output_type": "stream",
     "text": [
      "3.0\n"
     ]
    }
   ],
   "source": [
    "from functools import reduce\n",
    "a = [1,2,3,4,5]\n",
    "ans = reduce(lambda x, y: (x * a.index(y) + y) / float(a.index(y) + 1),a)\n",
    "print(ans)"
   ]
  },
  {
   "cell_type": "markdown",
   "id": "4943f278",
   "metadata": {},
   "source": [
    "#### eval(arg) -> runs the arg as python code"
   ]
  },
  {
   "cell_type": "code",
   "execution_count": 19,
   "id": "6cd8a151",
   "metadata": {},
   "outputs": [
    {
     "name": "stdout",
     "output_type": "stream",
     "text": [
      "3\n"
     ]
    }
   ],
   "source": [
    "a = 2\n",
    "# a + 1\n",
    "print(eval(\"a+1\"))"
   ]
  },
  {
   "cell_type": "code",
   "execution_count": 20,
   "id": "c908554a",
   "metadata": {},
   "outputs": [
    {
     "name": "stdout",
     "output_type": "stream",
     "text": [
      "[1, 2, 3, 4] <class 'list'>\n"
     ]
    }
   ],
   "source": [
    "ls = eval(\"[1, 2, 3, 4]\")\n",
    "print(ls, type(ls))"
   ]
  },
  {
   "cell_type": "code",
   "execution_count": 21,
   "id": "5b564a32",
   "metadata": {},
   "outputs": [
    {
     "name": "stdout",
     "output_type": "stream",
     "text": [
      "3\n",
      "9\n",
      "2\n"
     ]
    }
   ],
   "source": [
    "a1 = 3\n",
    "a2 = 9\n",
    "a3 = 2\n",
    "\n",
    "for i in range(1, 4) :\n",
    "  print(eval('a'+str(i)))"
   ]
  },
  {
   "cell_type": "markdown",
   "id": "d894aed6",
   "metadata": {},
   "source": [
    "### Count set\n",
    "* You are given the binary representation of some decimal numbers as list. Find the count of all the set bits in that binary representation."
   ]
  },
  {
   "cell_type": "markdown",
   "id": "e165a814",
   "metadata": {},
   "source": [
    "#### Input Format\n",
    "\n",
    "* - List"
   ]
  },
  {
   "cell_type": "markdown",
   "id": "290afb19",
   "metadata": {},
   "source": [
    "#### Output Format\n",
    "\n",
    "* count of set bits"
   ]
  },
  {
   "cell_type": "markdown",
   "id": "b7081eff",
   "metadata": {},
   "source": [
    "#### Input Sample\n",
    "\n",
    "* [1,0,0,1,0,1,1]"
   ]
  },
  {
   "cell_type": "markdown",
   "id": "be05eb2b",
   "metadata": {},
   "source": [
    "#### Output Sample\n",
    "\n",
    "* 4"
   ]
  },
  {
   "cell_type": "code",
   "execution_count": null,
   "id": "382312a4",
   "metadata": {},
   "outputs": [],
   "source": [
    "from functools import reduce\n",
    "\n",
    "def solve(li):\n",
    "    # fill the blanks with correct lambda function to make this code work\n",
    "\n",
    "    count_1s = list(filter(______________, li)) # lambda x: x==1\n",
    "    count_1s = reduce(_____________, count_1s) # lambda x, y: x+y\n",
    "    return count_1s\n",
    "# driver code\n",
    "li = eval(input())\n",
    "print(solve(li))\n"
   ]
  },
  {
   "cell_type": "markdown",
   "id": "79390daf",
   "metadata": {},
   "source": [
    "### Map-out\n",
    "* What is the output for the following piece of code?"
   ]
  },
  {
   "cell_type": "code",
   "execution_count": null,
   "id": "09b44560",
   "metadata": {},
   "outputs": [],
   "source": [
    "a = [1,2,3,4,5,6,7,8,9,10]\n",
    "b = [5,6,7,8,9]\n",
    "\n",
    "ans = list(map(lambda x,y: x in b, a, b))\n",
    "print(ans)"
   ]
  },
  {
   "cell_type": "markdown",
   "id": "db8ee4cc",
   "metadata": {},
   "source": [
    "### Custom Numpy arrays\n",
    "Numpy arrays are special type of arrays for python which are capable of doing multiple things that normal python list can't. They are fast, memory efficient and easier to work with.\n",
    "\n",
    "One of the biggest advantage of Numpy arrays is their brodcasting feature. We don't have to loop over each element in order to perform some arithmetic operation on the arrays.\n",
    "\n",
    "example: Adding 2 to every item in list"
   ]
  },
  {
   "cell_type": "code",
   "execution_count": null,
   "id": "19894755",
   "metadata": {},
   "outputs": [],
   "source": [
    "li = [1,2,3,4,5]\n",
    "size = len(li)\n",
    "for i in range(size):\n",
    "  li[i] += 2"
   ]
  },
  {
   "cell_type": "markdown",
   "id": "c6f7aa9b",
   "metadata": {},
   "source": [
    "* Above program can be of only 1 line if we are using Numpy arrays as:"
   ]
  },
  {
   "cell_type": "code",
   "execution_count": null,
   "id": "46e98bef",
   "metadata": {},
   "outputs": [],
   "source": [
    "li  = li + 2\n",
    "# each element of li will get 2 added in it"
   ]
  },
  {
   "cell_type": "markdown",
   "id": "ca6878a4",
   "metadata": {},
   "source": [
    "* Task is to implement the Numpy class that will represent the same functionality. It'll take a list as input through that we can directly perform addition, subtraction, multiplication and division as Numpy arrays does."
   ]
  },
  {
   "cell_type": "markdown",
   "id": "2bfa9733",
   "metadata": {},
   "source": [
    "#### Sample Input"
   ]
  },
  {
   "cell_type": "code",
   "execution_count": null,
   "id": "91075dc1",
   "metadata": {},
   "outputs": [],
   "source": [
    "li = [1,2,3,4,5]\n",
    "numpy = Numpy(li)\n",
    "print(numpy + 2) # [3, 4, 5, 6, 7]\n",
    "print(numpy - 2) # [-1, 0, 1, 2, 3]\n",
    "print(numpy * 2) # [2, 4, 6, 8, 10]\n",
    "print(numpy / 2) # [0.5, 1.0, 1.5, 2.0, 2.5]"
   ]
  },
  {
   "cell_type": "markdown",
   "id": "dee69ef7",
   "metadata": {},
   "source": [
    "#### Sample output\n",
    "\n",
    "* [3, 4, 5, 6, 7]\n",
    "* [-1, 0, 1, 2, 3]\n",
    "* [2, 4, 6, 8, 10]\n",
    "* [0.5, 1.0, 1.5, 2.0, 2.5]"
   ]
  },
  {
   "cell_type": "markdown",
   "id": "5cc2e815",
   "metadata": {},
   "source": [
    "#### functions to implement:"
   ]
  },
  {
   "cell_type": "markdown",
   "id": "2d019ba1",
   "metadata": {},
   "source": [
    "1. __add__(): for addition support\n",
    "2. __sub__(): for subtraction support\n",
    "3. __mul__(): for multiplication support\n",
    "4. __truediv__(): for division support"
   ]
  },
  {
   "cell_type": "code",
   "execution_count": null,
   "id": "2dafba33",
   "metadata": {},
   "outputs": [],
   "source": [
    "class Numpy :\n",
    "\n",
    "  def __init__(self, ls) :\n",
    "    self.ls = ls\n",
    "\n",
    "  def __add__(self, x) :\n",
    "    ans = []\n",
    "    for i in range(len(self.ls)) :\n",
    "      ans.append(self.ls[i]+x)\n",
    "    return ans\n",
    "\n",
    "\n",
    "  # def __add__(self, x) :\n",
    "  #   ans = Numpy(self.ls)\n",
    "  #   for i in range(len(ans.ls)) :\n",
    "  #     ans.ls[i] += x\n",
    "  #   return ans\n",
    "\n",
    "  # def __str__(self) :\n",
    "  #   return self.ls.__str__()"
   ]
  },
  {
   "cell_type": "code",
   "execution_count": null,
   "id": "f84e31aa",
   "metadata": {},
   "outputs": [],
   "source": [
    "li = [1,2,3,4,5]\n",
    "numpy = Numpy(li)\n",
    "print(numpy + 2)"
   ]
  },
  {
   "cell_type": "markdown",
   "id": "0802ea83",
   "metadata": {},
   "source": [
    "### Chaining the decorators\n",
    "* What will be the output of the following piece of code?"
   ]
  },
  {
   "cell_type": "code",
   "execution_count": null,
   "id": "35909fd7",
   "metadata": {},
   "outputs": [],
   "source": [
    "def decorator_star(func):\n",
    "    def inner():\n",
    "        print(\"****\")\n",
    "        func()\n",
    "        print(\"****\")\n",
    "\n",
    "    return inner\n",
    "\n",
    "def decorator_hash(func):\n",
    "    def inner():\n",
    "        print(\"####\")\n",
    "        func()\n",
    "        print(\"####\")\n",
    "\n",
    "    return inner\n",
    "\n",
    "@decorator_star\n",
    "@decorator_hash\n",
    "def normal():\n",
    "    print(\"Hello World\")\n",
    "\n",
    "normal()"
   ]
  },
  {
   "cell_type": "code",
   "execution_count": null,
   "id": "fce6837f",
   "metadata": {},
   "outputs": [],
   "source": [
    "def decorator_star(func):\n",
    "    def inner():\n",
    "        print(\"****\")\n",
    "        func()\n",
    "        print(\"****\")\n",
    "\n",
    "    return inner\n",
    "\n",
    "def decorator_hash(func):\n",
    "    def inner():\n",
    "        print(\"####\")\n",
    "        func()\n",
    "        print(\"####\")\n",
    "\n",
    "    return inner\n",
    "\n",
    "@decorator_star\n",
    "@decorator_hash\n",
    "def normal():\n",
    "    print(\"Hello World\")\n",
    "\n",
    "normal()"
   ]
  },
  {
   "cell_type": "code",
   "execution_count": null,
   "id": "719e17c7",
   "metadata": {},
   "outputs": [],
   "source": []
  }
 ],
 "metadata": {
  "kernelspec": {
   "display_name": "Python 3 (ipykernel)",
   "language": "python",
   "name": "python3"
  },
  "language_info": {
   "codemirror_mode": {
    "name": "ipython",
    "version": 3
   },
   "file_extension": ".py",
   "mimetype": "text/x-python",
   "name": "python",
   "nbconvert_exporter": "python",
   "pygments_lexer": "ipython3",
   "version": "3.11.4"
  }
 },
 "nbformat": 4,
 "nbformat_minor": 5
}
