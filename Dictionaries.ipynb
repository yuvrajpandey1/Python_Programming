{
 "cells": [
  {
   "cell_type": "markdown",
   "id": "ccc9483b",
   "metadata": {},
   "source": [
    "* it follow key - value paired\n",
    "* dict are not ordered and indexable\n",
    "* We can access dict by using key\n",
    "* key will be unique"
   ]
  },
  {
   "cell_type": "code",
   "execution_count": 1,
   "id": "e81f71de",
   "metadata": {
    "scrolled": true
   },
   "outputs": [
    {
     "ename": "TypeError",
     "evalue": "unhashable type: 'set'",
     "output_type": "error",
     "traceback": [
      "\u001b[1;31m---------------------------------------------------------------------------\u001b[0m",
      "\u001b[1;31mTypeError\u001b[0m                                 Traceback (most recent call last)",
      "Cell \u001b[1;32mIn[1], line 1\u001b[0m\n\u001b[1;32m----> 1\u001b[0m a \u001b[38;5;241m=\u001b[39m {{\u001b[38;5;241m1\u001b[39m,\u001b[38;5;241m2\u001b[39m,\u001b[38;5;241m3\u001b[39m,\u001b[38;5;241m4\u001b[39m,\u001b[38;5;241m5\u001b[39m}}\n",
      "\u001b[1;31mTypeError\u001b[0m: unhashable type: 'set'"
     ]
    }
   ],
   "source": [
    "a = {{1,2,3,4,5}} # python does not allow"
   ]
  },
  {
   "cell_type": "code",
   "execution_count": 2,
   "id": "590de0bd",
   "metadata": {},
   "outputs": [],
   "source": [
    "a = [[1,2],[3,4],[4,5]]"
   ]
  },
  {
   "cell_type": "code",
   "execution_count": 3,
   "id": "5df840df",
   "metadata": {},
   "outputs": [
    {
     "data": {
      "text/plain": [
       "[3, 4]"
      ]
     },
     "execution_count": 3,
     "metadata": {},
     "output_type": "execute_result"
    }
   ],
   "source": [
    "a[1]"
   ]
  },
  {
   "cell_type": "code",
   "execution_count": 4,
   "id": "8bfc789f",
   "metadata": {},
   "outputs": [],
   "source": [
    "a,b = a[1]"
   ]
  },
  {
   "cell_type": "code",
   "execution_count": 5,
   "id": "d7a0743e",
   "metadata": {},
   "outputs": [
    {
     "data": {
      "text/plain": [
       "3"
      ]
     },
     "execution_count": 5,
     "metadata": {},
     "output_type": "execute_result"
    }
   ],
   "source": [
    "a"
   ]
  },
  {
   "cell_type": "code",
   "execution_count": 6,
   "id": "44501d55",
   "metadata": {},
   "outputs": [
    {
     "data": {
      "text/plain": [
       "4"
      ]
     },
     "execution_count": 6,
     "metadata": {},
     "output_type": "execute_result"
    }
   ],
   "source": [
    "b"
   ]
  },
  {
   "cell_type": "code",
   "execution_count": 7,
   "id": "f3adb062",
   "metadata": {},
   "outputs": [],
   "source": [
    "s1 = {1,2,3}\n",
    "s2 = {2,3,4,5}\n",
    "\n",
    "result = s1&s2-s2"
   ]
  },
  {
   "cell_type": "code",
   "execution_count": 8,
   "id": "98e92a44",
   "metadata": {},
   "outputs": [
    {
     "data": {
      "text/plain": [
       "set()"
      ]
     },
     "execution_count": 8,
     "metadata": {},
     "output_type": "execute_result"
    }
   ],
   "source": [
    "result"
   ]
  },
  {
   "cell_type": "code",
   "execution_count": 9,
   "id": "29283087",
   "metadata": {},
   "outputs": [],
   "source": [
    "a = {\n",
    "    'random': 'something which is not well defined!',\n",
    "    'bizzare': 'Ajeeb!',\n",
    "    'ship':'sea transportation'\n",
    "}"
   ]
  },
  {
   "cell_type": "code",
   "execution_count": 10,
   "id": "1be6bdbe",
   "metadata": {},
   "outputs": [],
   "source": [
    "state_wise_data = {\n",
    "    'Delhi': 450,\n",
    "    'Haryana': 400,\n",
    "    'UP': 700\n",
    "}"
   ]
  },
  {
   "cell_type": "code",
   "execution_count": 11,
   "id": "9ccc332c",
   "metadata": {},
   "outputs": [],
   "source": [
    "state_wise_data = [('Delhi',450),('Haryana',400)]"
   ]
  },
  {
   "cell_type": "code",
   "execution_count": 16,
   "id": "0c1efca8",
   "metadata": {},
   "outputs": [
    {
     "ename": "KeyError",
     "evalue": "0",
     "output_type": "error",
     "traceback": [
      "\u001b[1;31m---------------------------------------------------------------------------\u001b[0m",
      "\u001b[1;31mKeyError\u001b[0m                                  Traceback (most recent call last)",
      "Cell \u001b[1;32mIn[16], line 1\u001b[0m\n\u001b[1;32m----> 1\u001b[0m state_wise_data[\u001b[38;5;241m0\u001b[39m]\n",
      "\u001b[1;31mKeyError\u001b[0m: 0"
     ]
    }
   ],
   "source": [
    "state_wise_data[0]"
   ]
  },
  {
   "cell_type": "code",
   "execution_count": 17,
   "id": "fac6858d",
   "metadata": {},
   "outputs": [],
   "source": [
    "state_wise_data = {\n",
    "    'Delhi': 450,\n",
    "    'Haryana': 400,\n",
    "    'UP': 700\n",
    "}"
   ]
  },
  {
   "cell_type": "code",
   "execution_count": 18,
   "id": "b17078cb",
   "metadata": {},
   "outputs": [
    {
     "data": {
      "text/plain": [
       "450"
      ]
     },
     "execution_count": 18,
     "metadata": {},
     "output_type": "execute_result"
    }
   ],
   "source": [
    "state_wise_data['Delhi']"
   ]
  },
  {
   "cell_type": "code",
   "execution_count": 19,
   "id": "cb4983b8",
   "metadata": {},
   "outputs": [
    {
     "data": {
      "text/plain": [
       "400"
      ]
     },
     "execution_count": 19,
     "metadata": {},
     "output_type": "execute_result"
    }
   ],
   "source": [
    "state_wise_data['Haryana']"
   ]
  },
  {
   "cell_type": "code",
   "execution_count": 21,
   "id": "83e98b2c",
   "metadata": {},
   "outputs": [],
   "source": [
    "## Till python <3.7 -> Dictionaries were unordered\n",
    "## After 3.7 -> Dictinaries ordered"
   ]
  },
  {
   "cell_type": "code",
   "execution_count": 22,
   "id": "b42bc282",
   "metadata": {},
   "outputs": [
    {
     "name": "stdout",
     "output_type": "stream",
     "text": [
      "<class 'dict'>\n"
     ]
    }
   ],
   "source": [
    "a = {}\n",
    "print(type(a))"
   ]
  },
  {
   "cell_type": "code",
   "execution_count": 24,
   "id": "7451db93",
   "metadata": {},
   "outputs": [],
   "source": [
    "a = set()"
   ]
  },
  {
   "cell_type": "code",
   "execution_count": 25,
   "id": "e412022b",
   "metadata": {},
   "outputs": [
    {
     "data": {
      "text/plain": [
       "set()"
      ]
     },
     "execution_count": 25,
     "metadata": {},
     "output_type": "execute_result"
    }
   ],
   "source": [
    "a"
   ]
  },
  {
   "cell_type": "code",
   "execution_count": 26,
   "id": "efd0135b",
   "metadata": {},
   "outputs": [],
   "source": [
    "a = {\n",
    "    'Delhi': 450,\n",
    "    'Haryana': 400,\n",
    "    'UP': 700\n",
    "}"
   ]
  },
  {
   "cell_type": "code",
   "execution_count": 27,
   "id": "cf48a32c",
   "metadata": {},
   "outputs": [],
   "source": [
    "a['Delhi'] = 500"
   ]
  },
  {
   "cell_type": "code",
   "execution_count": 28,
   "id": "039a5000",
   "metadata": {},
   "outputs": [
    {
     "data": {
      "text/plain": [
       "{'Delhi': 500, 'Haryana': 400, 'UP': 700}"
      ]
     },
     "execution_count": 28,
     "metadata": {},
     "output_type": "execute_result"
    }
   ],
   "source": [
    "a"
   ]
  },
  {
   "cell_type": "code",
   "execution_count": 29,
   "id": "01b14512",
   "metadata": {},
   "outputs": [],
   "source": [
    "a['delhi'] = 600"
   ]
  },
  {
   "cell_type": "code",
   "execution_count": 30,
   "id": "ee9cf3d2",
   "metadata": {},
   "outputs": [
    {
     "data": {
      "text/plain": [
       "{'Delhi': 500, 'Haryana': 400, 'UP': 700, 'delhi': 600}"
      ]
     },
     "execution_count": 30,
     "metadata": {},
     "output_type": "execute_result"
    }
   ],
   "source": [
    "a"
   ]
  },
  {
   "cell_type": "code",
   "execution_count": 31,
   "id": "a169b2e4",
   "metadata": {},
   "outputs": [],
   "source": [
    "Avenger = {\n",
    "    'name':'Thor',\n",
    "    'age':1500,\n",
    "    'weapon':['mjoinir','stormbreaker']\n",
    "}"
   ]
  },
  {
   "cell_type": "code",
   "execution_count": 33,
   "id": "fb618802",
   "metadata": {},
   "outputs": [],
   "source": [
    "Avenger.update({\n",
    "    'name':'Thor Odinson',\n",
    "    'weapons':['stormbreaker'],\n",
    "    'strongest': True,\n",
    "    'eyes':1\n",
    "})"
   ]
  },
  {
   "cell_type": "code",
   "execution_count": 34,
   "id": "04910509",
   "metadata": {},
   "outputs": [
    {
     "data": {
      "text/plain": [
       "{'name': 'Thor Odinson',\n",
       " 'age': 1500,\n",
       " 'weapon': ['mjoinir', 'stormbreaker'],\n",
       " 'weapons': ['stormbreaker'],\n",
       " 'strongest': True,\n",
       " 'eyes': 1}"
      ]
     },
     "execution_count": 34,
     "metadata": {},
     "output_type": "execute_result"
    }
   ],
   "source": [
    "Avenger"
   ]
  },
  {
   "cell_type": "code",
   "execution_count": 36,
   "id": "531eae2d",
   "metadata": {},
   "outputs": [],
   "source": [
    "random = {\n",
    "    'a':1,\n",
    "    'b':2,\n",
    "    'c':3\n",
    "}"
   ]
  },
  {
   "cell_type": "code",
   "execution_count": 43,
   "id": "90293936",
   "metadata": {},
   "outputs": [],
   "source": [
    "random = {\n",
    "    'a':1,\n",
    "    'b':2,\n",
    "    'c':3,\n",
    "    'd':None\n",
    "}"
   ]
  },
  {
   "cell_type": "code",
   "execution_count": 37,
   "id": "6ad5992a",
   "metadata": {},
   "outputs": [
    {
     "ename": "KeyError",
     "evalue": "'d'",
     "output_type": "error",
     "traceback": [
      "\u001b[1;31m---------------------------------------------------------------------------\u001b[0m",
      "\u001b[1;31mKeyError\u001b[0m                                  Traceback (most recent call last)",
      "Cell \u001b[1;32mIn[37], line 1\u001b[0m\n\u001b[1;32m----> 1\u001b[0m random[\u001b[38;5;124m'\u001b[39m\u001b[38;5;124md\u001b[39m\u001b[38;5;124m'\u001b[39m]\n",
      "\u001b[1;31mKeyError\u001b[0m: 'd'"
     ]
    }
   ],
   "source": [
    "random['d']"
   ]
  },
  {
   "cell_type": "code",
   "execution_count": 38,
   "id": "da00d021",
   "metadata": {},
   "outputs": [],
   "source": [
    "result = random.get('d')"
   ]
  },
  {
   "cell_type": "code",
   "execution_count": 40,
   "id": "1d7b069d",
   "metadata": {},
   "outputs": [
    {
     "name": "stdout",
     "output_type": "stream",
     "text": [
      "None\n"
     ]
    }
   ],
   "source": [
    "print(result)"
   ]
  },
  {
   "cell_type": "code",
   "execution_count": 41,
   "id": "1612714d",
   "metadata": {},
   "outputs": [],
   "source": [
    "result = random.get('d',\"Not Found\")"
   ]
  },
  {
   "cell_type": "code",
   "execution_count": 42,
   "id": "dfcb46cf",
   "metadata": {},
   "outputs": [
    {
     "data": {
      "text/plain": [
       "'Not Found'"
      ]
     },
     "execution_count": 42,
     "metadata": {},
     "output_type": "execute_result"
    }
   ],
   "source": [
    "result"
   ]
  },
  {
   "cell_type": "code",
   "execution_count": 44,
   "id": "419c7900",
   "metadata": {},
   "outputs": [
    {
     "data": {
      "text/plain": [
       "{'a': 1, 'b': 2, 'c': 3, 'd': None}"
      ]
     },
     "execution_count": 44,
     "metadata": {},
     "output_type": "execute_result"
    }
   ],
   "source": [
    "random"
   ]
  },
  {
   "cell_type": "code",
   "execution_count": 45,
   "id": "73d37299",
   "metadata": {},
   "outputs": [],
   "source": [
    "random.pop('d')"
   ]
  },
  {
   "cell_type": "code",
   "execution_count": 46,
   "id": "132e5ed5",
   "metadata": {},
   "outputs": [
    {
     "data": {
      "text/plain": [
       "{'a': 1, 'b': 2, 'c': 3}"
      ]
     },
     "execution_count": 46,
     "metadata": {},
     "output_type": "execute_result"
    }
   ],
   "source": [
    "random"
   ]
  },
  {
   "cell_type": "code",
   "execution_count": 47,
   "id": "aa90c96d",
   "metadata": {},
   "outputs": [],
   "source": [
    "a = {\n",
    "    'sad': \"bad emotion\",\n",
    "    'low': 'bad emotion',\n",
    "    'grief': 'bad emotion',\n",
    "    'unhappy': 'bad emotion'\n",
    "}"
   ]
  },
  {
   "cell_type": "code",
   "execution_count": 48,
   "id": "6ac9945c",
   "metadata": {},
   "outputs": [
    {
     "data": {
      "text/plain": [
       "'bad emotion'"
      ]
     },
     "execution_count": 48,
     "metadata": {},
     "output_type": "execute_result"
    }
   ],
   "source": [
    "a.pop('unhappy') # pop by key"
   ]
  },
  {
   "cell_type": "code",
   "execution_count": 49,
   "id": "723a041c",
   "metadata": {},
   "outputs": [
    {
     "data": {
      "text/plain": [
       "{'sad': 'bad emotion', 'low': 'bad emotion', 'grief': 'bad emotion'}"
      ]
     },
     "execution_count": 49,
     "metadata": {},
     "output_type": "execute_result"
    }
   ],
   "source": [
    "a"
   ]
  },
  {
   "cell_type": "code",
   "execution_count": 50,
   "id": "ac1424fa",
   "metadata": {},
   "outputs": [],
   "source": [
    "a = {\n",
    "    'name':'Thor Odinson',\n",
    "    'weapons':['stormbreaker'],\n",
    "    'strongest': True,\n",
    "    'eyes':1\n",
    "}"
   ]
  },
  {
   "cell_type": "code",
   "execution_count": 51,
   "id": "6c37b31f",
   "metadata": {},
   "outputs": [
    {
     "name": "stdout",
     "output_type": "stream",
     "text": [
      "name\n",
      "weapons\n",
      "strongest\n",
      "eyes\n"
     ]
    }
   ],
   "source": [
    "for i in a:\n",
    "    print(i)"
   ]
  },
  {
   "cell_type": "code",
   "execution_count": 52,
   "id": "29c712dc",
   "metadata": {},
   "outputs": [
    {
     "name": "stdout",
     "output_type": "stream",
     "text": [
      "Thor Odinson\n",
      "['stormbreaker']\n",
      "True\n",
      "1\n"
     ]
    }
   ],
   "source": [
    "for i in a:\n",
    "    print(a[i])"
   ]
  },
  {
   "cell_type": "code",
   "execution_count": 54,
   "id": "03476a8f",
   "metadata": {},
   "outputs": [
    {
     "name": "stdout",
     "output_type": "stream",
     "text": [
      "name -> Thor Odinson\n",
      "weapons -> ['stormbreaker']\n",
      "strongest -> True\n",
      "eyes -> 1\n"
     ]
    }
   ],
   "source": [
    "for i in a:\n",
    "    print(f'{i} -> {a[i]}')"
   ]
  },
  {
   "cell_type": "code",
   "execution_count": 55,
   "id": "fd8d3dfa",
   "metadata": {},
   "outputs": [
    {
     "data": {
      "text/plain": [
       "dict_keys(['name', 'age', 'weapon', 'weapons', 'strongest', 'eyes'])"
      ]
     },
     "execution_count": 55,
     "metadata": {},
     "output_type": "execute_result"
    }
   ],
   "source": [
    "Avenger.keys() # list of all key"
   ]
  },
  {
   "cell_type": "code",
   "execution_count": 56,
   "id": "4032af7e",
   "metadata": {},
   "outputs": [
    {
     "data": {
      "text/plain": [
       "dict_values(['Thor Odinson', 1500, ['mjoinir', 'stormbreaker'], ['stormbreaker'], True, 1])"
      ]
     },
     "execution_count": 56,
     "metadata": {},
     "output_type": "execute_result"
    }
   ],
   "source": [
    "Avenger.values() # list of all value"
   ]
  },
  {
   "cell_type": "code",
   "execution_count": 57,
   "id": "d7d76d8c",
   "metadata": {},
   "outputs": [
    {
     "data": {
      "text/plain": [
       "dict_items([('name', 'Thor Odinson'), ('age', 1500), ('weapon', ['mjoinir', 'stormbreaker']), ('weapons', ['stormbreaker']), ('strongest', True), ('eyes', 1)])"
      ]
     },
     "execution_count": 57,
     "metadata": {},
     "output_type": "execute_result"
    }
   ],
   "source": [
    "Avenger.items() # List of all key-value"
   ]
  },
  {
   "cell_type": "code",
   "execution_count": 58,
   "id": "f1f12733",
   "metadata": {},
   "outputs": [
    {
     "data": {
      "text/plain": [
       "list"
      ]
     },
     "execution_count": 58,
     "metadata": {},
     "output_type": "execute_result"
    }
   ],
   "source": [
    "type(list(Avenger.keys()))"
   ]
  },
  {
   "cell_type": "code",
   "execution_count": 59,
   "id": "406518b4",
   "metadata": {},
   "outputs": [
    {
     "name": "stdout",
     "output_type": "stream",
     "text": [
      "name\n",
      "age\n",
      "weapon\n",
      "weapons\n",
      "strongest\n",
      "eyes\n"
     ]
    }
   ],
   "source": [
    "for i in Avenger.keys():\n",
    "    print(i)"
   ]
  },
  {
   "cell_type": "code",
   "execution_count": 60,
   "id": "2e2525f2",
   "metadata": {},
   "outputs": [
    {
     "name": "stdout",
     "output_type": "stream",
     "text": [
      "Thor Odinson\n",
      "1500\n",
      "['mjoinir', 'stormbreaker']\n",
      "['stormbreaker']\n",
      "True\n",
      "1\n"
     ]
    }
   ],
   "source": [
    "for i in Avenger.values():\n",
    "    print(i)"
   ]
  },
  {
   "cell_type": "code",
   "execution_count": 61,
   "id": "0848d091",
   "metadata": {},
   "outputs": [
    {
     "name": "stdout",
     "output_type": "stream",
     "text": [
      "('name', 'Thor Odinson')\n",
      "('age', 1500)\n",
      "('weapon', ['mjoinir', 'stormbreaker'])\n",
      "('weapons', ['stormbreaker'])\n",
      "('strongest', True)\n",
      "('eyes', 1)\n"
     ]
    }
   ],
   "source": [
    "for i in Avenger.items():\n",
    "    print(i)"
   ]
  },
  {
   "cell_type": "code",
   "execution_count": 65,
   "id": "943291a1",
   "metadata": {},
   "outputs": [
    {
     "name": "stdout",
     "output_type": "stream",
     "text": [
      "name --> Thor Odinson\n",
      "age --> 1500\n",
      "weapon --> ['mjoinir', 'stormbreaker']\n",
      "weapons --> ['stormbreaker']\n",
      "strongest --> True\n",
      "eyes --> 1\n"
     ]
    }
   ],
   "source": [
    "for key,values in Avenger.items():\n",
    "    print(f'{key} --> {values}')"
   ]
  },
  {
   "cell_type": "code",
   "execution_count": 66,
   "id": "ce808bcc",
   "metadata": {},
   "outputs": [
    {
     "data": {
      "text/plain": [
       "dict_keys(['name', 'age', 'weapon', 'weapons', 'strongest', 'eyes'])"
      ]
     },
     "execution_count": 66,
     "metadata": {},
     "output_type": "execute_result"
    }
   ],
   "source": [
    "Avenger.keys()"
   ]
  },
  {
   "cell_type": "code",
   "execution_count": 67,
   "id": "876736e1",
   "metadata": {},
   "outputs": [],
   "source": [
    "a = [1,2,3,4,5]"
   ]
  },
  {
   "cell_type": "code",
   "execution_count": 68,
   "id": "e8e8812d",
   "metadata": {},
   "outputs": [
    {
     "data": {
      "text/plain": [
       "False"
      ]
     },
     "execution_count": 68,
     "metadata": {},
     "output_type": "execute_result"
    }
   ],
   "source": [
    "6 in a"
   ]
  },
  {
   "cell_type": "code",
   "execution_count": 69,
   "id": "e1dda5bd",
   "metadata": {},
   "outputs": [
    {
     "data": {
      "text/plain": [
       "True"
      ]
     },
     "execution_count": 69,
     "metadata": {},
     "output_type": "execute_result"
    }
   ],
   "source": [
    "'eyes' in Avenger.keys()"
   ]
  },
  {
   "cell_type": "code",
   "execution_count": 70,
   "id": "855045ac",
   "metadata": {},
   "outputs": [
    {
     "data": {
      "text/plain": [
       "True"
      ]
     },
     "execution_count": 70,
     "metadata": {},
     "output_type": "execute_result"
    }
   ],
   "source": [
    "'name' in Avenger.keys()"
   ]
  },
  {
   "cell_type": "markdown",
   "id": "eaf8d152",
   "metadata": {},
   "source": [
    "### We can't have sets, dictionaries and list as elements of a set\n",
    "### Because they are Mutable ->  Unheashable"
   ]
  },
  {
   "cell_type": "code",
   "execution_count": 71,
   "id": "dc5981f4",
   "metadata": {},
   "outputs": [
    {
     "data": {
      "text/plain": [
       "'\\nDictonaries -\\n1. Values - Any Data Structure or Data type\\n2. Keys - Lists, Sets and Dictionaries are not allowed\\n'"
      ]
     },
     "execution_count": 71,
     "metadata": {},
     "output_type": "execute_result"
    }
   ],
   "source": [
    "'''\n",
    "Dictonaries -\n",
    "1. Values - Any Data Structure or Data type\n",
    "2. Keys - Lists, Sets and Dictionaries are not allowed\n",
    "'''"
   ]
  },
  {
   "cell_type": "code",
   "execution_count": 72,
   "id": "5a15ba74",
   "metadata": {},
   "outputs": [],
   "source": [
    "random = {\n",
    "    'key1': [45,56,78],\n",
    "    'key2': {\n",
    "        'key3': (1,2,3)\n",
    "    },\n",
    "    45:'value3',\n",
    "    56.78:'678',\n",
    "    (1,2,3):'random values'\n",
    "}"
   ]
  },
  {
   "cell_type": "code",
   "execution_count": 74,
   "id": "37a36044",
   "metadata": {},
   "outputs": [
    {
     "data": {
      "text/plain": [
       "'random values'"
      ]
     },
     "execution_count": 74,
     "metadata": {},
     "output_type": "execute_result"
    }
   ],
   "source": [
    "random[(1,2,3)]"
   ]
  },
  {
   "cell_type": "code",
   "execution_count": 75,
   "id": "034aa7c1",
   "metadata": {},
   "outputs": [
    {
     "ename": "TypeError",
     "evalue": "unhashable type: 'list'",
     "output_type": "error",
     "traceback": [
      "\u001b[1;31m---------------------------------------------------------------------------\u001b[0m",
      "\u001b[1;31mTypeError\u001b[0m                                 Traceback (most recent call last)",
      "Cell \u001b[1;32mIn[75], line 1\u001b[0m\n\u001b[1;32m----> 1\u001b[0m random \u001b[38;5;241m=\u001b[39m {\n\u001b[0;32m      2\u001b[0m     \u001b[38;5;124m'\u001b[39m\u001b[38;5;124mkey1\u001b[39m\u001b[38;5;124m'\u001b[39m: [\u001b[38;5;241m45\u001b[39m,\u001b[38;5;241m56\u001b[39m,\u001b[38;5;241m78\u001b[39m],\n\u001b[0;32m      3\u001b[0m     \u001b[38;5;124m'\u001b[39m\u001b[38;5;124mkey2\u001b[39m\u001b[38;5;124m'\u001b[39m: {\n\u001b[0;32m      4\u001b[0m         \u001b[38;5;124m'\u001b[39m\u001b[38;5;124mkey3\u001b[39m\u001b[38;5;124m'\u001b[39m: (\u001b[38;5;241m1\u001b[39m,\u001b[38;5;241m2\u001b[39m,\u001b[38;5;241m3\u001b[39m)\n\u001b[0;32m      5\u001b[0m     },\n\u001b[0;32m      6\u001b[0m     \u001b[38;5;241m45\u001b[39m:\u001b[38;5;124m'\u001b[39m\u001b[38;5;124mvalue3\u001b[39m\u001b[38;5;124m'\u001b[39m,\n\u001b[0;32m      7\u001b[0m     \u001b[38;5;241m56.78\u001b[39m:\u001b[38;5;124m'\u001b[39m\u001b[38;5;124m678\u001b[39m\u001b[38;5;124m'\u001b[39m,\n\u001b[0;32m      8\u001b[0m     [\u001b[38;5;241m1\u001b[39m,\u001b[38;5;241m2\u001b[39m,\u001b[38;5;241m3\u001b[39m]:\u001b[38;5;124m'\u001b[39m\u001b[38;5;124mrandom values\u001b[39m\u001b[38;5;124m'\u001b[39m\n\u001b[0;32m      9\u001b[0m }\n",
      "\u001b[1;31mTypeError\u001b[0m: unhashable type: 'list'"
     ]
    }
   ],
   "source": [
    "random = {\n",
    "    'key1': [45,56,78],\n",
    "    'key2': {\n",
    "        'key3': (1,2,3)\n",
    "    },\n",
    "    45:'value3',\n",
    "    56.78:'678',\n",
    "    [1,2,3]:'random values'\n",
    "}"
   ]
  },
  {
   "cell_type": "code",
   "execution_count": 76,
   "id": "9ef417d4",
   "metadata": {},
   "outputs": [
    {
     "data": {
      "text/plain": [
       "'\\nQuestion -\\n1. Take a string as input.\\n2. Create a dictionary acc to the following criteria-\\n-> There will be one key value pair for each unique character -\\n-> key will be character and value will be the count of character inside the list\\n\\nInput ;- \\'rrsssttt\\'\\nOutput ;- \\n{\\n\"r\":2,\\n\"s\":3,\\n\"t\":4\\n\\n}\\n'"
      ]
     },
     "execution_count": 76,
     "metadata": {},
     "output_type": "execute_result"
    }
   ],
   "source": [
    "'''\n",
    "Question -\n",
    "1. Take a string as input.\n",
    "2. Create a dictionary acc to the following criteria-\n",
    "-> There will be one key value pair for each unique character -\n",
    "-> key will be character and value will be the count of character inside the list\n",
    "\n",
    "Input ;- 'rrsssttt'\n",
    "Output ;- \n",
    "{\n",
    "\"r\":2,\n",
    "\"s\":3,\n",
    "\"t\":4\n",
    "\n",
    "}\n",
    "'''"
   ]
  },
  {
   "cell_type": "code",
   "execution_count": 77,
   "id": "442aa780",
   "metadata": {},
   "outputs": [],
   "source": [
    "string = 'this is a random string with various characters'"
   ]
  },
  {
   "cell_type": "code",
   "execution_count": 78,
   "id": "f62084ad",
   "metadata": {},
   "outputs": [
    {
     "data": {
      "text/plain": [
       "{' ',\n",
       " 'a',\n",
       " 'c',\n",
       " 'd',\n",
       " 'e',\n",
       " 'g',\n",
       " 'h',\n",
       " 'i',\n",
       " 'm',\n",
       " 'n',\n",
       " 'o',\n",
       " 'r',\n",
       " 's',\n",
       " 't',\n",
       " 'u',\n",
       " 'v',\n",
       " 'w'}"
      ]
     },
     "execution_count": 78,
     "metadata": {},
     "output_type": "execute_result"
    }
   ],
   "source": [
    "set(string)"
   ]
  },
  {
   "cell_type": "code",
   "execution_count": 81,
   "id": "8e7c7cc7",
   "metadata": {},
   "outputs": [],
   "source": [
    "result = {}\n",
    "for i in set(string):\n",
    "    result[i] = string.count(i)"
   ]
  },
  {
   "cell_type": "code",
   "execution_count": 82,
   "id": "d2d55796",
   "metadata": {},
   "outputs": [
    {
     "data": {
      "text/plain": [
       "{'d': 1,\n",
       " 'i': 5,\n",
       " 'e': 1,\n",
       " 'v': 1,\n",
       " 'r': 5,\n",
       " 'c': 2,\n",
       " 'h': 3,\n",
       " 'n': 2,\n",
       " 't': 4,\n",
       " 'g': 1,\n",
       " 'm': 1,\n",
       " 'a': 5,\n",
       " 'u': 1,\n",
       " 's': 5,\n",
       " 'w': 1,\n",
       " 'o': 2,\n",
       " ' ': 7}"
      ]
     },
     "execution_count": 82,
     "metadata": {},
     "output_type": "execute_result"
    }
   ],
   "source": [
    "result"
   ]
  },
  {
   "cell_type": "code",
   "execution_count": 83,
   "id": "62bc7ed7",
   "metadata": {},
   "outputs": [],
   "source": [
    "a = [(1,'a'),(2,'b'),(3,'c'),(4,'d')]"
   ]
  },
  {
   "cell_type": "code",
   "execution_count": 84,
   "id": "49380718",
   "metadata": {},
   "outputs": [
    {
     "name": "stdout",
     "output_type": "stream",
     "text": [
      "1 a\n",
      "2 b\n",
      "3 c\n",
      "4 d\n"
     ]
    }
   ],
   "source": [
    "for i,j in a:\n",
    "    print(i,j)"
   ]
  },
  {
   "cell_type": "code",
   "execution_count": null,
   "id": "246729eb",
   "metadata": {},
   "outputs": [],
   "source": []
  }
 ],
 "metadata": {
  "kernelspec": {
   "display_name": "Python 3 (ipykernel)",
   "language": "python",
   "name": "python3"
  },
  "language_info": {
   "codemirror_mode": {
    "name": "ipython",
    "version": 3
   },
   "file_extension": ".py",
   "mimetype": "text/x-python",
   "name": "python",
   "nbconvert_exporter": "python",
   "pygments_lexer": "ipython3",
   "version": "3.11.4"
  }
 },
 "nbformat": 4,
 "nbformat_minor": 5
}
