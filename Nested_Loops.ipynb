{
 "cells": [
  {
   "cell_type": "markdown",
   "id": "f08c6deb",
   "metadata": {},
   "source": [
    "### Q1.) Write a loop to print following number -1,4,7,10,13,16"
   ]
  },
  {
   "cell_type": "code",
   "execution_count": 1,
   "id": "d6ef7a4d",
   "metadata": {},
   "outputs": [
    {
     "name": "stdout",
     "output_type": "stream",
     "text": [
      "-1 2 5 8 11 14 "
     ]
    }
   ],
   "source": [
    "for i in range(-1,17,3):\n",
    "    print(i,end=\" \")"
   ]
  },
  {
   "cell_type": "code",
   "execution_count": 3,
   "id": "07dd91cb",
   "metadata": {},
   "outputs": [
    {
     "name": "stdout",
     "output_type": "stream",
     "text": [
      "1 4 7 10 13 16 "
     ]
    }
   ],
   "source": [
    "for i in range(1,17,3):\n",
    "    if i ==16:\n",
    "        print(i,end=\" \")\n",
    "    else:\n",
    "        print(i,end=\" \")"
   ]
  },
  {
   "cell_type": "markdown",
   "id": "9ac682af",
   "metadata": {},
   "source": [
    "### Q2.) Write a loop to point the following numbers 1,1,3,7,13,21,31,43"
   ]
  },
  {
   "cell_type": "code",
   "execution_count": 4,
   "id": "b5ab0426",
   "metadata": {},
   "outputs": [
    {
     "name": "stdout",
     "output_type": "stream",
     "text": [
      "1 3 7 13 21 31 43 "
     ]
    }
   ],
   "source": [
    "### diff between no is constant increasing i.e 2,4,6,8,10\n",
    "number =1\n",
    "i=1\n",
    "while number <44:\n",
    "    print(number, end=\" \")\n",
    "    number = number+2*i\n",
    "    i+=1"
   ]
  },
  {
   "cell_type": "markdown",
   "id": "90a57863",
   "metadata": {},
   "source": [
    "### Jump Statements\n"
   ]
  },
  {
   "cell_type": "code",
   "execution_count": 5,
   "id": "b26572a8",
   "metadata": {},
   "outputs": [],
   "source": [
    "if True:\n",
    "    pass"
   ]
  },
  {
   "cell_type": "markdown",
   "id": "04ee18dc",
   "metadata": {},
   "source": [
    "* pass represent an empty block/statement in python\n",
    "* it act as a placeholder\n",
    "* nothing just holding space is known as pass"
   ]
  },
  {
   "cell_type": "code",
   "execution_count": 7,
   "id": "d71e29bf",
   "metadata": {},
   "outputs": [
    {
     "name": "stdout",
     "output_type": "stream",
     "text": [
      "0\n",
      "1\n",
      "2\n",
      "3\n",
      "4\n"
     ]
    }
   ],
   "source": [
    "for i in range(5):\n",
    "    if i==3:\n",
    "        pass\n",
    "    print(i)"
   ]
  },
  {
   "cell_type": "markdown",
   "id": "a29576ce",
   "metadata": {},
   "source": [
    "* pass is nothing but empty space holder in python"
   ]
  },
  {
   "cell_type": "markdown",
   "id": "749d172f",
   "metadata": {},
   "source": [
    "#### Continue"
   ]
  },
  {
   "cell_type": "code",
   "execution_count": 10,
   "id": "fee046e1",
   "metadata": {},
   "outputs": [
    {
     "name": "stdout",
     "output_type": "stream",
     "text": [
      "0\n",
      "1\n",
      "2\n",
      "4\n"
     ]
    }
   ],
   "source": [
    "for i in range(5):\n",
    "    if i==3:\n",
    "        continue\n",
    "    print(i)"
   ]
  },
  {
   "cell_type": "markdown",
   "id": "c2a2bd4f",
   "metadata": {},
   "source": [
    "* If any block of code written after continue it will be skipped (move immediately in next iteration)"
   ]
  },
  {
   "cell_type": "markdown",
   "id": "3e1b5fbb",
   "metadata": {},
   "source": [
    "### Break"
   ]
  },
  {
   "cell_type": "code",
   "execution_count": 12,
   "id": "ac4d272b",
   "metadata": {},
   "outputs": [
    {
     "name": "stdout",
     "output_type": "stream",
     "text": [
      "0\n",
      "1\n",
      "2\n"
     ]
    }
   ],
   "source": [
    "for i in range(8):\n",
    "    if i ==3:\n",
    "        break\n",
    "    print(i)"
   ]
  },
  {
   "cell_type": "markdown",
   "id": "feefb933",
   "metadata": {},
   "source": [
    "* break is use to break the iteration\n",
    "* break will immediately out of the loop no iteration after break statement"
   ]
  },
  {
   "cell_type": "markdown",
   "id": "ce94fa4e",
   "metadata": {},
   "source": [
    "### Q.) WAP that continuously asks user to provide an input number.The program should stop once user provide 5,\n",
    "### The program should print the number of times ann input was provided.\n",
    "### Assuming that user always provide a number"
   ]
  },
  {
   "cell_type": "code",
   "execution_count": null,
   "id": "524476d7",
   "metadata": {},
   "outputs": [],
   "source": [
    "Counter = 0\n",
    "while True:\n",
    "    number = int(input())\n",
    "    Counter +=1\n",
    "    if number ==5:\n",
    "        break\n",
    "    print('You provided',Counter,\"input!\")"
   ]
  },
  {
   "cell_type": "markdown",
   "id": "3e4a64a1",
   "metadata": {},
   "source": [
    "### Q.) WAP to print a N*N matrix of \"*\""
   ]
  },
  {
   "cell_type": "code",
   "execution_count": 15,
   "id": "b32cd7b3",
   "metadata": {},
   "outputs": [
    {
     "name": "stdout",
     "output_type": "stream",
     "text": [
      "3\n",
      "* * * \n",
      "\n",
      "* * * \n",
      "\n",
      "* * * \n",
      "\n"
     ]
    }
   ],
   "source": [
    "n = int(input())\n",
    "for i in range(n):\n",
    "    for j in range(n):\n",
    "        print(\"*\",end=\" \")\n",
    "    print(\"\\n\")"
   ]
  },
  {
   "cell_type": "markdown",
   "id": "6272451a",
   "metadata": {},
   "source": [
    "### Q.) WAP to print a multiplication table til an input N\n",
    "### E.g input --> 3\n",
    "### E.g output 1 2 3 4 5 6 7 8 9 10\n",
    "###            2 4 6 8 10 12 14 16 18 20\n",
    "###            3 6 9 12 15 18 21 24 27 30"
   ]
  },
  {
   "cell_type": "code",
   "execution_count": 17,
   "id": "347f7253",
   "metadata": {},
   "outputs": [
    {
     "name": "stdout",
     "output_type": "stream",
     "text": [
      "3\n",
      "1\t2\t3\t4\t5\t6\t7\t8\t9\t10\t\n",
      "2\t4\t6\t8\t10\t12\t14\t16\t18\t20\t\n",
      "3\t6\t9\t12\t15\t18\t21\t24\t27\t30\t\n"
     ]
    }
   ],
   "source": [
    "number = int(input())\n",
    "for i in range(1,number+1):\n",
    "    for j in range (1,11):\n",
    "        print(i*j,end=\"\\t\")\n",
    "    print()"
   ]
  },
  {
   "cell_type": "markdown",
   "id": "db7fbecb",
   "metadata": {},
   "source": [
    "* GCD ;- Greatest Common Divisor\n",
    "* LCM ;- Least Common Multiple"
   ]
  },
  {
   "cell_type": "markdown",
   "id": "19cc8bac",
   "metadata": {},
   "source": [
    "### Q.) Given two integers inputs,write a program to calculate the GCD of those two\n",
    "### E.g input ;- 16 24\n",
    "### E.g output ;- 8\n"
   ]
  },
  {
   "cell_type": "code",
   "execution_count": 18,
   "id": "6a3c2f3d",
   "metadata": {},
   "outputs": [
    {
     "name": "stdout",
     "output_type": "stream",
     "text": [
      "16\n",
      "24\n",
      "8\n"
     ]
    }
   ],
   "source": [
    "A = int(input())\n",
    "B = int(input())\n",
    "X = min(A,B)\n",
    "for i in range(X,0,-1):\n",
    "    if A%i ==0 and B%i==0:\n",
    "        print(i)\n",
    "        break"
   ]
  },
  {
   "cell_type": "markdown",
   "id": "dbd03f26",
   "metadata": {},
   "source": [
    "* Calculate LCM "
   ]
  },
  {
   "cell_type": "code",
   "execution_count": 21,
   "id": "4a0704eb",
   "metadata": {},
   "outputs": [
    {
     "name": "stdout",
     "output_type": "stream",
     "text": [
      "16\n",
      "24\n",
      "48\n"
     ]
    }
   ],
   "source": [
    "A = int(input())\n",
    "B = int(input())\n",
    "X = max(A,B)\n",
    "while True:\n",
    "    if X%A ==0 and X%B==0:\n",
    "        print(X)\n",
    "        break\n",
    "    X+=1"
   ]
  },
  {
   "cell_type": "markdown",
   "id": "311d09fb",
   "metadata": {},
   "source": [
    "### Pattern Printing"
   ]
  },
  {
   "cell_type": "markdown",
   "id": "71e5999e",
   "metadata": {},
   "source": [
    "### Q.1) Print the following pattern n=5 , input provide will be no of rows"
   ]
  },
  {
   "cell_type": "code",
   "execution_count": 22,
   "id": "c9de5d2c",
   "metadata": {},
   "outputs": [
    {
     "name": "stdout",
     "output_type": "stream",
     "text": [
      "5\n",
      "*\n",
      "**\n",
      "***\n",
      "****\n",
      "*****\n"
     ]
    }
   ],
   "source": [
    "n = int(input())\n",
    "for i in range(n):\n",
    "    print(\"*\"*(i+1))"
   ]
  },
  {
   "cell_type": "code",
   "execution_count": 23,
   "id": "08fb508c",
   "metadata": {},
   "outputs": [
    {
     "name": "stdout",
     "output_type": "stream",
     "text": [
      "5\n",
      "* \n",
      "* * \n",
      "* * * \n",
      "* * * * \n",
      "* * * * * \n"
     ]
    }
   ],
   "source": [
    "n=int(input())\n",
    "for i in range(n):\n",
    "    for j in range(i+1):\n",
    "        print(\"*\",end=\" \")\n",
    "    print()"
   ]
  },
  {
   "cell_type": "markdown",
   "id": "2a8b7098",
   "metadata": {},
   "source": [
    "### Q.2) Print following pattern, input provide would be number of rows"
   ]
  },
  {
   "cell_type": "code",
   "execution_count": 28,
   "id": "99d05f58",
   "metadata": {},
   "outputs": [
    {
     "name": "stdout",
     "output_type": "stream",
     "text": [
      "6\n",
      "* \n",
      "* 2 \n",
      "* 2 * \n",
      "* 2 * 4 \n",
      "* 2 * 4 * \n",
      "* 2 * 4 * 6 \n"
     ]
    }
   ],
   "source": [
    "n=int(input())\n",
    "for i in range(n):\n",
    "    for j in range(1,i+2):\n",
    "        if j%2==1:\n",
    "            print(\"*\",end=\" \")\n",
    "        else:\n",
    "            print(j,end=\" \")\n",
    "    print()\n",
    "        "
   ]
  },
  {
   "cell_type": "markdown",
   "id": "e33c652e",
   "metadata": {},
   "source": [
    "### Q.3) reveversed order"
   ]
  },
  {
   "cell_type": "code",
   "execution_count": 29,
   "id": "bc126007",
   "metadata": {},
   "outputs": [
    {
     "name": "stdout",
     "output_type": "stream",
     "text": [
      "6\n",
      "* * * * * * \n",
      "* * * * * \n",
      "* * * * \n",
      "* * * \n",
      "* * \n",
      "* \n"
     ]
    }
   ],
   "source": [
    "n=int(input())\n",
    "for i in range(n):\n",
    "    for j in range(n-i):\n",
    "        print(\"*\",end=\" \")\n",
    "    print()"
   ]
  },
  {
   "cell_type": "markdown",
   "id": "a25c62f7",
   "metadata": {},
   "source": [
    "### Q.4)  no. of space = n-i-1"
   ]
  },
  {
   "cell_type": "code",
   "execution_count": 39,
   "id": "572f1765",
   "metadata": {
    "collapsed": true
   },
   "outputs": [
    {
     "name": "stdout",
     "output_type": "stream",
     "text": [
      "6\n",
      "* * * * * * \n",
      "* * * * * * \n",
      "* * * * * * \n",
      "* * * * * * \n",
      "* * * * * * \n",
      "* * * * * * \n"
     ]
    }
   ],
   "source": [
    "n=int(input())\n",
    "for i in range(n):\n",
    "    for j in range(n-i-1):\n",
    "        print(\"*\",end=\" \")\n",
    "    for k in range(i+1):\n",
    "        print(\"*\",end=\" \")\n",
    "    print()"
   ]
  },
  {
   "cell_type": "code",
   "execution_count": null,
   "id": "46a0826e",
   "metadata": {},
   "outputs": [],
   "source": []
  }
 ],
 "metadata": {
  "kernelspec": {
   "display_name": "Python 3 (ipykernel)",
   "language": "python",
   "name": "python3"
  },
  "language_info": {
   "codemirror_mode": {
    "name": "ipython",
    "version": 3
   },
   "file_extension": ".py",
   "mimetype": "text/x-python",
   "name": "python",
   "nbconvert_exporter": "python",
   "pygments_lexer": "ipython3",
   "version": "3.11.4"
  }
 },
 "nbformat": 4,
 "nbformat_minor": 5
}
