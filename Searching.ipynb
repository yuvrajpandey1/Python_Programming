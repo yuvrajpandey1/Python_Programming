{
 "cells": [
  {
   "cell_type": "markdown",
   "id": "684da045",
   "metadata": {},
   "source": [
    "* Finding data in an iterable\n",
    "* Finding element in a list"
   ]
  },
  {
   "cell_type": "markdown",
   "id": "e228492b",
   "metadata": {},
   "source": [
    "#### Linear Search\n",
    "\n",
    "* Going over all elements sequentially \n",
    "* Search element one by one"
   ]
  },
  {
   "cell_type": "code",
   "execution_count": 1,
   "id": "599fae37",
   "metadata": {},
   "outputs": [],
   "source": [
    "ls = 2,4,5,6,7,8\n",
    "k=5"
   ]
  },
  {
   "cell_type": "code",
   "execution_count": 2,
   "id": "509fbbb6",
   "metadata": {},
   "outputs": [],
   "source": [
    "def linear_search(ls,k):\n",
    "    for i in range(len(ls)):\n",
    "        if ls[i] ==k:\n",
    "            return i\n",
    "    return -1"
   ]
  },
  {
   "cell_type": "code",
   "execution_count": 4,
   "id": "54b63f39",
   "metadata": {},
   "outputs": [
    {
     "data": {
      "text/plain": [
       "2"
      ]
     },
     "execution_count": 4,
     "metadata": {},
     "output_type": "execute_result"
    }
   ],
   "source": [
    "linear_search(ls,k)"
   ]
  },
  {
   "cell_type": "markdown",
   "id": "07fa57ae",
   "metadata": {},
   "source": [
    "#### Time-Complexity\n",
    "\n",
    "* Best Case -> 0(1)\n",
    "* Worsr Case -> 0(N)"
   ]
  },
  {
   "cell_type": "markdown",
   "id": "bc156929",
   "metadata": {},
   "source": [
    "### Binary Search\n",
    "\n",
    "* Works on sorted lists\n",
    "* Divide and Conquer"
   ]
  },
  {
   "cell_type": "code",
   "execution_count": 14,
   "id": "314bb2ea",
   "metadata": {},
   "outputs": [],
   "source": [
    "ls = [1 ,3 ,7 ,10, 12,15,18,22,25]\n",
    "#k = 10"
   ]
  },
  {
   "cell_type": "code",
   "execution_count": 15,
   "id": "bae668c1",
   "metadata": {},
   "outputs": [],
   "source": [
    "# s = 0\n",
    "# e = 4\n",
    "# mid = (s+e)//2"
   ]
  },
  {
   "cell_type": "code",
   "execution_count": 21,
   "id": "4541fed1",
   "metadata": {},
   "outputs": [],
   "source": [
    "def binary_search(ls,k):\n",
    "    s = 0\n",
    "    e = len(ls)-1\n",
    "\n",
    "    while s<=e:\n",
    "        m = (s+e)//2\n",
    "        print(m,e,s,ls[m])\n",
    "        if ls[m] ==k:\n",
    "            return m\n",
    "        elif ls[m]>k:\n",
    "            e = m-1\n",
    "        else:\n",
    "            s = m+1\n",
    "            \n",
    "    return -1"
   ]
  },
  {
   "cell_type": "code",
   "execution_count": 22,
   "id": "4c54a098",
   "metadata": {},
   "outputs": [
    {
     "name": "stdout",
     "output_type": "stream",
     "text": [
      "4 8 0 12\n",
      "6 8 5 18\n",
      "7 8 7 22\n",
      "-1\n"
     ]
    }
   ],
   "source": [
    "ls = [1 ,3 ,7 ,10, 12,15,18,22,25]\n",
    "print(binary_search(ls,20))"
   ]
  },
  {
   "cell_type": "code",
   "execution_count": 23,
   "id": "38f44f9d",
   "metadata": {},
   "outputs": [
    {
     "name": "stdout",
     "output_type": "stream",
     "text": [
      "4 8 0 12\n",
      "1 3 0 3\n",
      "2 3 2 7\n",
      "2\n"
     ]
    }
   ],
   "source": [
    "print(binary_search(ls,7))"
   ]
  },
  {
   "cell_type": "markdown",
   "id": "8acbaa48",
   "metadata": {},
   "source": [
    "##### Linear vs Binary\n",
    "\n",
    "#### Linear\n",
    "\n",
    "* Works on any list\n",
    "* O(N)\n",
    "\n",
    "#### Binary\n",
    "\n",
    "* Works on sorted list\n",
    "* O(logN)"
   ]
  },
  {
   "cell_type": "code",
   "execution_count": null,
   "id": "231a5700",
   "metadata": {},
   "outputs": [],
   "source": [
    "# N = 1024\n",
    "# unsorted list\n",
    "# In this case use Binary search\n",
    "# O(N)"
   ]
  },
  {
   "cell_type": "code",
   "execution_count": null,
   "id": "1ca9b3c1",
   "metadata": {},
   "outputs": [],
   "source": [
    "# if list is sorted than use binary \n",
    "# time complexity is O(log2N)"
   ]
  },
  {
   "cell_type": "markdown",
   "id": "e6e19c2f",
   "metadata": {},
   "source": [
    "#### If you need to do frequent searches \n",
    "* sort first\n",
    "* Binary\n",
    "\n",
    "#### If not the case\n",
    "* Linear seach\n"
   ]
  },
  {
   "cell_type": "markdown",
   "id": "995a9617",
   "metadata": {},
   "source": [
    "* Ternary Search\n",
    "* Jump Search"
   ]
  },
  {
   "cell_type": "code",
   "execution_count": 24,
   "id": "ce80a9ff",
   "metadata": {},
   "outputs": [],
   "source": [
    "def bubbleSort(arr,k):\n",
    "    res=0\n",
    "    for i in range(len(arr)-1):\n",
    "        for j in range(0,len(arr)-i-1):\n",
    "            if arr[j] > arr[j+1]:\n",
    "                arr[j],arr[j+1]= arr[j+1],arr[j]\n",
    "            res +=1\n",
    "            \n",
    "        if res == k:\n",
    "            break\n",
    "    return arr[1]+arr[-1]"
   ]
  },
  {
   "cell_type": "code",
   "execution_count": 27,
   "id": "4f98a09a",
   "metadata": {},
   "outputs": [
    {
     "data": {
      "text/plain": [
       "28"
      ]
     },
     "execution_count": 27,
     "metadata": {},
     "output_type": "execute_result"
    }
   ],
   "source": [
    "bubbleSort(ls,k)"
   ]
  },
  {
   "cell_type": "code",
   "execution_count": null,
   "id": "d0832cbc",
   "metadata": {},
   "outputs": [],
   "source": []
  }
 ],
 "metadata": {
  "kernelspec": {
   "display_name": "Python 3 (ipykernel)",
   "language": "python",
   "name": "python3"
  },
  "language_info": {
   "codemirror_mode": {
    "name": "ipython",
    "version": 3
   },
   "file_extension": ".py",
   "mimetype": "text/x-python",
   "name": "python",
   "nbconvert_exporter": "python",
   "pygments_lexer": "ipython3",
   "version": "3.11.4"
  }
 },
 "nbformat": 4,
 "nbformat_minor": 5
}
