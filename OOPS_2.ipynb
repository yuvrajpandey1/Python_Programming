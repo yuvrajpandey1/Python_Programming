{
  "nbformat": 4,
  "nbformat_minor": 0,
  "metadata": {
    "colab": {
      "provenance": []
    },
    "kernelspec": {
      "name": "python3",
      "display_name": "Python 3"
    },
    "language_info": {
      "name": "python"
    }
  },
  "cells": [
    {
      "cell_type": "markdown",
      "source": [
        "Dunders or Magical Methods"
      ],
      "metadata": {
        "id": "Ad7UxbunyZCn"
      }
    },
    {
      "cell_type": "markdown",
      "source": [
        "These are special methods which help us change the default behaviours connected to objects"
      ],
      "metadata": {
        "id": "lt6_IeMi2OFX"
      }
    },
    {
      "cell_type": "code",
      "execution_count": null,
      "metadata": {
        "id": "aPLPZBWYyV1V"
      },
      "outputs": [],
      "source": [
        "class Car:\n",
        "\n",
        "  def __init__(self,name,mileage):\n",
        "    self.name = name\n",
        "    self.mileage = mileage"
      ]
    },
    {
      "cell_type": "code",
      "source": [
        "c1 = Car(\"Nexon\",14)"
      ],
      "metadata": {
        "id": "CzBaXsJ_2m4d"
      },
      "execution_count": null,
      "outputs": []
    },
    {
      "cell_type": "code",
      "source": [
        "print(c1)"
      ],
      "metadata": {
        "colab": {
          "base_uri": "https://localhost:8080/"
        },
        "id": "gHhz-_eV2rP7",
        "outputId": "cea0be80-fd61-474c-b10f-e19bcb9e843a"
      },
      "execution_count": null,
      "outputs": [
        {
          "output_type": "stream",
          "name": "stdout",
          "text": [
            "<__main__.Car object at 0x7f2da2fde3b0>\n"
          ]
        }
      ]
    },
    {
      "cell_type": "code",
      "source": [
        "#If I have to print: \"Nexon --> 14\""
      ],
      "metadata": {
        "id": "tufIyYAT2tXZ"
      },
      "execution_count": null,
      "outputs": []
    },
    {
      "cell_type": "code",
      "source": [
        "class Car:\n",
        "\n",
        "  def __init__(self,name,mileage):\n",
        "    self.name = name\n",
        "    self.mileage =mileage\n",
        "\n",
        "  #whenever an object is printed, that class '__str__' dunder is called internally\n",
        "  def __str__(self):\n",
        "    return f\"{self.name} --> {self.mileage}\""
      ],
      "metadata": {
        "id": "wx4vR16B28Kp"
      },
      "execution_count": null,
      "outputs": []
    },
    {
      "cell_type": "code",
      "source": [
        "c1 = Car(\"Nexon\",14)"
      ],
      "metadata": {
        "id": "ZWQqfMN63ome"
      },
      "execution_count": null,
      "outputs": []
    },
    {
      "cell_type": "code",
      "source": [
        "print(c1)"
      ],
      "metadata": {
        "colab": {
          "base_uri": "https://localhost:8080/"
        },
        "id": "wt71oPrF3szm",
        "outputId": "86954133-0d8e-4dd5-999e-1605a3d32521"
      },
      "execution_count": null,
      "outputs": [
        {
          "output_type": "stream",
          "name": "stdout",
          "text": [
            "Nexon --> 14\n"
          ]
        }
      ]
    },
    {
      "cell_type": "code",
      "source": [
        "c2 = Car(\"Harrier\",16)"
      ],
      "metadata": {
        "id": "ieWgZEPc3uZa"
      },
      "execution_count": null,
      "outputs": []
    },
    {
      "cell_type": "code",
      "source": [
        "print(c2)"
      ],
      "metadata": {
        "colab": {
          "base_uri": "https://localhost:8080/"
        },
        "id": "ro-wT3mh32JD",
        "outputId": "cd13ccf5-2ff9-4554-e134-7c2045a9e36f"
      },
      "execution_count": null,
      "outputs": [
        {
          "output_type": "stream",
          "name": "stdout",
          "text": [
            "Harrier --> 16\n"
          ]
        }
      ]
    },
    {
      "cell_type": "code",
      "source": [
        "c1+c2"
      ],
      "metadata": {
        "colab": {
          "base_uri": "https://localhost:8080/",
          "height": 141
        },
        "id": "lkB7EBWT33hF",
        "outputId": "94fe4135-2fc1-4cc9-ff0a-4afea18ffea3"
      },
      "execution_count": null,
      "outputs": [
        {
          "output_type": "error",
          "ename": "TypeError",
          "evalue": "unsupported operand type(s) for +: 'Car' and 'Car'",
          "traceback": [
            "\u001b[0;31m---------------------------------------------------------------------------\u001b[0m",
            "\u001b[0;31mTypeError\u001b[0m                                 Traceback (most recent call last)",
            "\u001b[0;32m<ipython-input-10-643a6bd3265c>\u001b[0m in \u001b[0;36m<cell line: 1>\u001b[0;34m()\u001b[0m\n\u001b[0;32m----> 1\u001b[0;31m \u001b[0mc1\u001b[0m\u001b[0;34m+\u001b[0m\u001b[0mc2\u001b[0m\u001b[0;34m\u001b[0m\u001b[0;34m\u001b[0m\u001b[0m\n\u001b[0m",
            "\u001b[0;31mTypeError\u001b[0m: unsupported operand type(s) for +: 'Car' and 'Car'"
          ]
        }
      ]
    },
    {
      "cell_type": "code",
      "source": [
        "class Car:\n",
        "\n",
        "  def __init__(self,name,mileage):\n",
        "    self.name = name\n",
        "    self.mileage =mileage\n",
        "\n",
        "  #whenever an object is printed, that class '__str__' dunder is called internally\n",
        "  def __str__(self):\n",
        "    return f\"{self.name} --> {self.mileage}\"\n",
        "\n",
        "  def __add__(self,other):\n",
        "    return self.mileage + other.mileage"
      ],
      "metadata": {
        "id": "2VbvxX544F97"
      },
      "execution_count": null,
      "outputs": []
    },
    {
      "cell_type": "code",
      "source": [
        "c1 = Car(\"Nexon\",14)\n",
        "c2 = Car(\"Harrier\",16)"
      ],
      "metadata": {
        "id": "1QjZsePK4wgG"
      },
      "execution_count": null,
      "outputs": []
    },
    {
      "cell_type": "code",
      "source": [
        "c1+c2"
      ],
      "metadata": {
        "colab": {
          "base_uri": "https://localhost:8080/"
        },
        "id": "wbaR-7P742Ej",
        "outputId": "9cea8cb7-e0f4-48cd-ad4c-60b385c7cfd0"
      },
      "execution_count": null,
      "outputs": [
        {
          "output_type": "execute_result",
          "data": {
            "text/plain": [
              "30"
            ]
          },
          "metadata": {},
          "execution_count": 13
        }
      ]
    },
    {
      "cell_type": "code",
      "source": [
        "#HW --> c1 + c2 + Car(\"Swift\",15)"
      ],
      "metadata": {
        "id": "4aGw0Gcz43Rc"
      },
      "execution_count": null,
      "outputs": []
    },
    {
      "cell_type": "code",
      "source": [
        "class Car:\n",
        "\n",
        "  def __init__(self,name,mileage):\n",
        "    self.name = name\n",
        "    self.mileage =mileage\n",
        "\n",
        "  #whenever an object is printed, that class '__str__' dunder is called internally\n",
        "  def __str__(self):\n",
        "    return f\"{self.name} --> {self.mileage}\"\n",
        "\n",
        "  def __add__(self,other):\n",
        "    return self.mileage + other.mileage\n",
        "\n",
        "  def __mul__(self,other):\n",
        "    return self.mileage * other.mileage"
      ],
      "metadata": {
        "id": "281fRiaQ5HUT"
      },
      "execution_count": null,
      "outputs": []
    },
    {
      "cell_type": "code",
      "source": [
        "c1 = Car(\"Nexon\",14)\n",
        "c2 = Car(\"Harrier\",16)"
      ],
      "metadata": {
        "id": "BOIKXfFD5wez"
      },
      "execution_count": null,
      "outputs": []
    },
    {
      "cell_type": "code",
      "source": [
        "c1*c2"
      ],
      "metadata": {
        "colab": {
          "base_uri": "https://localhost:8080/"
        },
        "id": "4obY_gpd5ynL",
        "outputId": "c7353457-0e2d-40f3-a8fb-c3ecf45a8aa6"
      },
      "execution_count": null,
      "outputs": [
        {
          "output_type": "execute_result",
          "data": {
            "text/plain": [
              "224"
            ]
          },
          "metadata": {},
          "execution_count": 18
        }
      ]
    },
    {
      "cell_type": "markdown",
      "source": [
        "**Inheritance**"
      ],
      "metadata": {
        "id": "gUUUTfzX58IO"
      }
    },
    {
      "cell_type": "markdown",
      "source": [
        "\n",
        "\n",
        "*   Parent -> Child relationship. In this Child inherit the property of parents class such type of Inherit is called **Single-level** Inheritance\n",
        "*   **multi-level** Vehicle -> Car -> SportsCar\n",
        "*   **Multiple** Inheritance A - C - B. Here C will inherit property of both A & B.\n",
        "*   **Heirarcial**  Inheritance. Truck - Vehicle - Car\n",
        "*   **Hybrid** Inheritance. Combination of multiple and Multi-level\n",
        "\n",
        "\n",
        "\n",
        "\n",
        "\n",
        "\n"
      ],
      "metadata": {
        "id": "GRsRnAuD5_71"
      }
    },
    {
      "cell_type": "code",
      "source": [
        "class Parent:\n",
        "  def __init__(self):\n",
        "    print(\"Parent\")\n",
        "\n",
        "class Child(Parent):\n",
        "  def __init__(self):\n",
        "    print(\"Child\")"
      ],
      "metadata": {
        "id": "tvq-O20X54Ce"
      },
      "execution_count": null,
      "outputs": []
    },
    {
      "cell_type": "code",
      "source": [
        "class SchoolMember:\n",
        "  pass\n",
        "\n",
        "class Student(SchoolMember):\n",
        "  pass\n",
        "\n",
        "class Staff(SchoolMember):\n",
        "  pass\n",
        "\n",
        "class Teacher(Staff):\n",
        "  pass\n"
      ],
      "metadata": {
        "id": "VUjDn6Vh8D5B"
      },
      "execution_count": null,
      "outputs": []
    },
    {
      "cell_type": "code",
      "source": [
        "class SchoolMember:\n",
        "  def __init__(self,name):\n",
        "    self.name= name\n",
        "\n",
        "class Student(SchoolMember):\n",
        "  def __init__(self,name,age):\n",
        "    self.age = age\n",
        "\n",
        "class Staff(SchoolMember):\n",
        "  def __init__(self,name,salary):\n",
        "    self.salary = salary\n",
        "\n",
        "class Teacher(Staff):\n",
        "  def __init__(self,name,salary,subject):\n",
        "    self.subject =subject"
      ],
      "metadata": {
        "id": "9PaAqPc39NQm"
      },
      "execution_count": null,
      "outputs": []
    },
    {
      "cell_type": "code",
      "source": [
        "s1 = Student(\"Yuvraj\",25)"
      ],
      "metadata": {
        "id": "RMhbSauf92zx"
      },
      "execution_count": null,
      "outputs": []
    },
    {
      "cell_type": "code",
      "source": [
        "s1.age"
      ],
      "metadata": {
        "colab": {
          "base_uri": "https://localhost:8080/"
        },
        "id": "YoBbntaX-LAi",
        "outputId": "25936456-1e69-43ca-b43c-51da77a8d137"
      },
      "execution_count": null,
      "outputs": [
        {
          "output_type": "execute_result",
          "data": {
            "text/plain": [
              "25"
            ]
          },
          "metadata": {},
          "execution_count": 23
        }
      ]
    },
    {
      "cell_type": "code",
      "source": [
        "s1.name"
      ],
      "metadata": {
        "colab": {
          "base_uri": "https://localhost:8080/",
          "height": 141
        },
        "id": "tf6bX5ij-NFq",
        "outputId": "9813a511-8eaa-41f4-d328-e88d053d44a6"
      },
      "execution_count": null,
      "outputs": [
        {
          "output_type": "error",
          "ename": "AttributeError",
          "evalue": "'Student' object has no attribute 'name'",
          "traceback": [
            "\u001b[0;31m---------------------------------------------------------------------------\u001b[0m",
            "\u001b[0;31mAttributeError\u001b[0m                            Traceback (most recent call last)",
            "\u001b[0;32m<ipython-input-24-bfa1764dcbdc>\u001b[0m in \u001b[0;36m<cell line: 1>\u001b[0;34m()\u001b[0m\n\u001b[0;32m----> 1\u001b[0;31m \u001b[0ms1\u001b[0m\u001b[0;34m.\u001b[0m\u001b[0mname\u001b[0m\u001b[0;34m\u001b[0m\u001b[0;34m\u001b[0m\u001b[0m\n\u001b[0m",
            "\u001b[0;31mAttributeError\u001b[0m: 'Student' object has no attribute 'name'"
          ]
        }
      ]
    },
    {
      "cell_type": "code",
      "source": [
        "class SchoolMember:\n",
        "  def __init__(self,name):\n",
        "    self.name= name\n",
        "\n",
        "class Student(SchoolMember):\n",
        "  def __init__(self,name,age):\n",
        "    super().__init__(name)\n",
        "    self.age = age\n",
        "\n",
        "class Staff(SchoolMember):\n",
        "  def __init__(self,name,salary):\n",
        "    self.salary = salary\n",
        "\n",
        "class Teacher(Staff):\n",
        "  def __init__(self,name,salary,subject):\n",
        "    self.subject =subject"
      ],
      "metadata": {
        "id": "934SmfK4-Pgd"
      },
      "execution_count": null,
      "outputs": []
    },
    {
      "cell_type": "code",
      "source": [
        "s1 = Student(\"Yuvraj\",25)"
      ],
      "metadata": {
        "id": "LoorLfW--o5C"
      },
      "execution_count": null,
      "outputs": []
    },
    {
      "cell_type": "code",
      "source": [
        "s1.age"
      ],
      "metadata": {
        "colab": {
          "base_uri": "https://localhost:8080/"
        },
        "id": "WAih40XR-tYL",
        "outputId": "230b6e43-cf05-4ff8-a29c-34971578f782"
      },
      "execution_count": null,
      "outputs": [
        {
          "output_type": "execute_result",
          "data": {
            "text/plain": [
              "25"
            ]
          },
          "metadata": {},
          "execution_count": 27
        }
      ]
    },
    {
      "cell_type": "code",
      "source": [
        "s1.name"
      ],
      "metadata": {
        "colab": {
          "base_uri": "https://localhost:8080/",
          "height": 35
        },
        "id": "GBfYZ9xm-uYC",
        "outputId": "ad8ceb52-2e13-46c2-886f-abc1e2755a68"
      },
      "execution_count": null,
      "outputs": [
        {
          "output_type": "execute_result",
          "data": {
            "text/plain": [
              "'Yuvraj'"
            ],
            "application/vnd.google.colaboratory.intrinsic+json": {
              "type": "string"
            }
          },
          "metadata": {},
          "execution_count": 28
        }
      ]
    },
    {
      "cell_type": "code",
      "source": [
        "class SchoolMember:\n",
        "  def __init__(self,name):\n",
        "    self.name= name\n",
        "\n",
        "class Student(SchoolMember):\n",
        "  def __init__(self,name,age):\n",
        "    super().__init__(name)\n",
        "    self.age = age\n",
        "\n",
        "class Staff(SchoolMember):\n",
        "  def __init__(self,name,salary):\n",
        "    super().__init__(name)\n",
        "    self.salary = salary\n",
        "\n",
        "class Teacher(Staff):\n",
        "  def __init__(self,name,salary,subject):\n",
        "    super().__init__(name,salary)\n",
        "    self.subject =subject"
      ],
      "metadata": {
        "id": "5791G1BX-vEN"
      },
      "execution_count": null,
      "outputs": []
    },
    {
      "cell_type": "code",
      "source": [
        "s2 = Teacher(\"Rahul\",10000,\"Maths\")"
      ],
      "metadata": {
        "id": "NRIOjZQF_OAa"
      },
      "execution_count": null,
      "outputs": []
    },
    {
      "cell_type": "code",
      "source": [
        "s2.name"
      ],
      "metadata": {
        "colab": {
          "base_uri": "https://localhost:8080/",
          "height": 35
        },
        "id": "A-zN-nsL_Veu",
        "outputId": "ff996173-b640-49d9-9132-2e176db06e46"
      },
      "execution_count": null,
      "outputs": [
        {
          "output_type": "execute_result",
          "data": {
            "text/plain": [
              "'Rahul'"
            ],
            "application/vnd.google.colaboratory.intrinsic+json": {
              "type": "string"
            }
          },
          "metadata": {},
          "execution_count": 31
        }
      ]
    },
    {
      "cell_type": "code",
      "source": [
        "s2.salary"
      ],
      "metadata": {
        "colab": {
          "base_uri": "https://localhost:8080/"
        },
        "id": "7dFXmdDH_Wnc",
        "outputId": "731af1b7-dc07-4fbf-f40d-a140989e8650"
      },
      "execution_count": null,
      "outputs": [
        {
          "output_type": "execute_result",
          "data": {
            "text/plain": [
              "10000"
            ]
          },
          "metadata": {},
          "execution_count": 32
        }
      ]
    },
    {
      "cell_type": "code",
      "source": [
        "s2.subject"
      ],
      "metadata": {
        "colab": {
          "base_uri": "https://localhost:8080/",
          "height": 35
        },
        "id": "bVek3e3U_XqG",
        "outputId": "8de04dc5-0d2c-4dd8-f7ce-f6806537e43a"
      },
      "execution_count": null,
      "outputs": [
        {
          "output_type": "execute_result",
          "data": {
            "text/plain": [
              "'Maths'"
            ],
            "application/vnd.google.colaboratory.intrinsic+json": {
              "type": "string"
            }
          },
          "metadata": {},
          "execution_count": 33
        }
      ]
    },
    {
      "cell_type": "markdown",
      "source": [
        "**Multiple Inheritance**"
      ],
      "metadata": {
        "id": "Nj5uL9A7BFJ7"
      }
    },
    {
      "cell_type": "code",
      "source": [
        "class A:\n",
        "  def __init__(self,a):\n",
        "    self.a = a\n",
        "\n",
        "class B:\n",
        "  def __init__(self,b):\n",
        "    self.b = b\n",
        "\n",
        "class C(A,B):\n",
        "  def __init__(self,a,b,c):\n",
        "    A.__init__(self,a)\n",
        "    B.__init__(self,b)\n",
        "    self.c = c\n"
      ],
      "metadata": {
        "id": "_cE20YhI_ZbS"
      },
      "execution_count": null,
      "outputs": []
    },
    {
      "cell_type": "code",
      "source": [
        "c1 = C(3,5,2)"
      ],
      "metadata": {
        "id": "P8ZAHXUPBSCt"
      },
      "execution_count": null,
      "outputs": []
    },
    {
      "cell_type": "code",
      "source": [
        "c1.a"
      ],
      "metadata": {
        "colab": {
          "base_uri": "https://localhost:8080/"
        },
        "id": "f4GW3L8aByYb",
        "outputId": "a2a8bec9-a8d8-4a2a-9d2d-d250b1832864"
      },
      "execution_count": null,
      "outputs": [
        {
          "output_type": "execute_result",
          "data": {
            "text/plain": [
              "3"
            ]
          },
          "metadata": {},
          "execution_count": 37
        }
      ]
    },
    {
      "cell_type": "code",
      "source": [
        "c1.b"
      ],
      "metadata": {
        "colab": {
          "base_uri": "https://localhost:8080/"
        },
        "id": "KSYh7hCHBzoV",
        "outputId": "f79588f7-fa6f-487d-d25c-39afa762b0c2"
      },
      "execution_count": null,
      "outputs": [
        {
          "output_type": "execute_result",
          "data": {
            "text/plain": [
              "5"
            ]
          },
          "metadata": {},
          "execution_count": 38
        }
      ]
    },
    {
      "cell_type": "code",
      "source": [
        "c1.c"
      ],
      "metadata": {
        "colab": {
          "base_uri": "https://localhost:8080/"
        },
        "id": "V10NHPs3B0bE",
        "outputId": "0d017010-1d13-4a9e-a231-a92ee41f7917"
      },
      "execution_count": null,
      "outputs": [
        {
          "output_type": "execute_result",
          "data": {
            "text/plain": [
              "2"
            ]
          },
          "metadata": {},
          "execution_count": 39
        }
      ]
    },
    {
      "cell_type": "code",
      "source": [
        "#HW --> Figure out the way to use super() in the above case"
      ],
      "metadata": {
        "id": "wfAHKTpiB1H6"
      },
      "execution_count": null,
      "outputs": []
    },
    {
      "cell_type": "markdown",
      "source": [
        "**Private Properties**"
      ],
      "metadata": {
        "id": "a0lvX7KyCDXV"
      }
    },
    {
      "cell_type": "code",
      "source": [
        "class BankAccount:\n",
        "\n",
        "  def __init__(self,initial_balance):\n",
        "    self.balance = initial_balance\n",
        "\n",
        "  def deposite(self,amount):\n",
        "    self.balance += amount\n",
        "\n",
        "  def withdrawl(self,amount):\n",
        "    self.balance -= amount"
      ],
      "metadata": {
        "id": "iNvAVdpGCBj1"
      },
      "execution_count": null,
      "outputs": []
    },
    {
      "cell_type": "code",
      "source": [
        "acc1 = BankAccount(10000)"
      ],
      "metadata": {
        "id": "_cE47lT1CskM"
      },
      "execution_count": null,
      "outputs": []
    },
    {
      "cell_type": "code",
      "source": [
        "acc1.balance"
      ],
      "metadata": {
        "colab": {
          "base_uri": "https://localhost:8080/"
        },
        "id": "u9nrRR0jCvWI",
        "outputId": "ad97eafc-28c8-4880-98d1-14e2ede337da"
      },
      "execution_count": null,
      "outputs": [
        {
          "output_type": "execute_result",
          "data": {
            "text/plain": [
              "10000"
            ]
          },
          "metadata": {},
          "execution_count": 43
        }
      ]
    },
    {
      "cell_type": "code",
      "source": [
        "acc1.deposite(5000)"
      ],
      "metadata": {
        "id": "4zcg_rABCwok"
      },
      "execution_count": null,
      "outputs": []
    },
    {
      "cell_type": "code",
      "source": [
        "acc1.balance"
      ],
      "metadata": {
        "colab": {
          "base_uri": "https://localhost:8080/"
        },
        "id": "EhApcbx1C0FB",
        "outputId": "716320a3-c4ea-418c-b73d-4d8b719e3dda"
      },
      "execution_count": null,
      "outputs": [
        {
          "output_type": "execute_result",
          "data": {
            "text/plain": [
              "15000"
            ]
          },
          "metadata": {},
          "execution_count": 45
        }
      ]
    },
    {
      "cell_type": "code",
      "source": [
        "acc1.withdrawl(12000)"
      ],
      "metadata": {
        "id": "PY_DNHGIC1VI"
      },
      "execution_count": null,
      "outputs": []
    },
    {
      "cell_type": "code",
      "source": [
        "acc1.balance"
      ],
      "metadata": {
        "colab": {
          "base_uri": "https://localhost:8080/"
        },
        "id": "MCIyKWZnC5Qn",
        "outputId": "ad964520-3e34-4112-d6e0-ca227b203f47"
      },
      "execution_count": null,
      "outputs": [
        {
          "output_type": "execute_result",
          "data": {
            "text/plain": [
              "3000"
            ]
          },
          "metadata": {},
          "execution_count": 47
        }
      ]
    },
    {
      "cell_type": "code",
      "source": [
        "acc1.balance = 2345678986545687654"
      ],
      "metadata": {
        "id": "UshCUZrrC6i1"
      },
      "execution_count": null,
      "outputs": []
    },
    {
      "cell_type": "code",
      "source": [
        "acc1.balance"
      ],
      "metadata": {
        "colab": {
          "base_uri": "https://localhost:8080/"
        },
        "id": "YvC91zpMC-QU",
        "outputId": "2b497544-a296-4df8-a753-aab34ab84557"
      },
      "execution_count": null,
      "outputs": [
        {
          "output_type": "execute_result",
          "data": {
            "text/plain": [
              "2345678986545687654"
            ]
          },
          "metadata": {},
          "execution_count": 49
        }
      ]
    },
    {
      "cell_type": "markdown",
      "source": [
        "So user should not have to access such a critical information like increasing Balance"
      ],
      "metadata": {
        "id": "1VNE9l2SDC8N"
      }
    },
    {
      "cell_type": "markdown",
      "source": [
        "**Private attributes**\n",
        "1.   They are only accessible inside the class\n",
        "2.   Objects can't access them outside the class\n",
        "3.   They cannot be inherited\n",
        "\n",
        "\n",
        "\n",
        "\n"
      ],
      "metadata": {
        "id": "COQe5BykDPBW"
      }
    },
    {
      "cell_type": "code",
      "source": [
        "## _ _ is consider as a private\n",
        "\n",
        "## Whenever you are modifying is called as Setter functions"
      ],
      "metadata": {
        "id": "SgWu1L7KD3-2"
      },
      "execution_count": null,
      "outputs": []
    },
    {
      "cell_type": "code",
      "source": [
        "class BankAccount:\n",
        "\n",
        "  def __init__(self,initial_balance):\n",
        "    self.__balance = initial_balance\n",
        "\n",
        "  # Setter\n",
        "  def deposite(self,amount):\n",
        "    self.__balance += amount\n",
        "\n",
        "  def withdrawl(self,amount):\n",
        "    self.__balance -= amount\n",
        "\n",
        "  # Getter\n",
        "  def show_balance(self):\n",
        "    return self.__balance"
      ],
      "metadata": {
        "id": "HKo9vlQnC_Z_"
      },
      "execution_count": null,
      "outputs": []
    },
    {
      "cell_type": "code",
      "source": [
        "acc1 =  BankAccount(10000)"
      ],
      "metadata": {
        "id": "gpBQ6OS7D8NR"
      },
      "execution_count": null,
      "outputs": []
    },
    {
      "cell_type": "code",
      "source": [
        "acc1.deposite(2000)"
      ],
      "metadata": {
        "id": "zK0lfYIREBMl"
      },
      "execution_count": null,
      "outputs": []
    },
    {
      "cell_type": "code",
      "source": [
        "acc1.__balance"
      ],
      "metadata": {
        "colab": {
          "base_uri": "https://localhost:8080/",
          "height": 141
        },
        "id": "XZq2usQkENmx",
        "outputId": "ee598910-ab6f-43a8-cbe3-64c902a502f1"
      },
      "execution_count": null,
      "outputs": [
        {
          "output_type": "error",
          "ename": "AttributeError",
          "evalue": "'BankAccount' object has no attribute '__balance'",
          "traceback": [
            "\u001b[0;31m---------------------------------------------------------------------------\u001b[0m",
            "\u001b[0;31mAttributeError\u001b[0m                            Traceback (most recent call last)",
            "\u001b[0;32m<ipython-input-58-d3c80e4e2e64>\u001b[0m in \u001b[0;36m<cell line: 1>\u001b[0;34m()\u001b[0m\n\u001b[0;32m----> 1\u001b[0;31m \u001b[0macc1\u001b[0m\u001b[0;34m.\u001b[0m\u001b[0m__balance\u001b[0m\u001b[0;34m\u001b[0m\u001b[0;34m\u001b[0m\u001b[0m\n\u001b[0m",
            "\u001b[0;31mAttributeError\u001b[0m: 'BankAccount' object has no attribute '__balance'"
          ]
        }
      ]
    },
    {
      "cell_type": "code",
      "source": [
        "acc1.show_balance()"
      ],
      "metadata": {
        "colab": {
          "base_uri": "https://localhost:8080/"
        },
        "id": "V4ezJ7ADEUaZ",
        "outputId": "1ebc8b92-b778-4a3a-a72c-0ab7c6925ad6"
      },
      "execution_count": null,
      "outputs": [
        {
          "output_type": "execute_result",
          "data": {
            "text/plain": [
              "12000"
            ]
          },
          "metadata": {},
          "execution_count": 60
        }
      ]
    },
    {
      "cell_type": "code",
      "source": [
        "##Name Mangling\n"
      ],
      "metadata": {
        "id": "_LopR_MAErNT"
      },
      "execution_count": null,
      "outputs": []
    },
    {
      "cell_type": "code",
      "source": [
        "acc1._BankAccount__balance"
      ],
      "metadata": {
        "colab": {
          "base_uri": "https://localhost:8080/"
        },
        "id": "Thdu0vmuFavl",
        "outputId": "f0ad0855-0e1b-4537-be91-5bd90d4887be"
      },
      "execution_count": null,
      "outputs": [
        {
          "output_type": "execute_result",
          "data": {
            "text/plain": [
              "12000"
            ]
          },
          "metadata": {},
          "execution_count": 63
        }
      ]
    },
    {
      "cell_type": "code",
      "source": [
        "acc1._BankAccount__balance = 234568976765453254"
      ],
      "metadata": {
        "id": "sticj3oqFfOU"
      },
      "execution_count": null,
      "outputs": []
    },
    {
      "cell_type": "code",
      "source": [
        "acc1.show_balance()"
      ],
      "metadata": {
        "colab": {
          "base_uri": "https://localhost:8080/"
        },
        "id": "-FJ6bSBEFk0z",
        "outputId": "09fad5c9-f0d4-4848-ac9f-1a925d5c3622"
      },
      "execution_count": null,
      "outputs": [
        {
          "output_type": "execute_result",
          "data": {
            "text/plain": [
              "234568976765453254"
            ]
          },
          "metadata": {},
          "execution_count": 65
        }
      ]
    },
    {
      "cell_type": "markdown",
      "source": [
        "**In Python nothing is completly private**"
      ],
      "metadata": {
        "id": "0svdvWudFpBb"
      }
    },
    {
      "cell_type": "code",
      "source": [
        "class BankAccount:\n",
        "\n",
        "  def __init__(self,initial_balance):\n",
        "    self.__balance = initial_balance\n",
        "\n",
        "  # Setter\n",
        "  def deposite(self,amount):\n",
        "    self.__balance += amount\n",
        "\n",
        "  def withdrawl(self,amount):\n",
        "    self.__balance -= amount\n",
        "\n",
        "  # Getter\n",
        "  def show_balance(self):\n",
        "    return self.__balance\n",
        "\n",
        "  def __special_private_func(self):\n",
        "    print(\"I am a private method\")"
      ],
      "metadata": {
        "id": "GJUUMZ44FoLv"
      },
      "execution_count": null,
      "outputs": []
    },
    {
      "cell_type": "code",
      "source": [
        "acc1.show_balance()"
      ],
      "metadata": {
        "colab": {
          "base_uri": "https://localhost:8080/"
        },
        "id": "tYQqVw1UGFeK",
        "outputId": "45851ca5-12f6-48b3-da77-0fcb1b25a792"
      },
      "execution_count": null,
      "outputs": [
        {
          "output_type": "execute_result",
          "data": {
            "text/plain": [
              "234568976765453254"
            ]
          },
          "metadata": {},
          "execution_count": 67
        }
      ]
    },
    {
      "cell_type": "code",
      "source": [
        "acc1.__special_private_func()"
      ],
      "metadata": {
        "colab": {
          "base_uri": "https://localhost:8080/",
          "height": 141
        },
        "id": "aSrK7vcuGKQJ",
        "outputId": "5eb1079c-ec54-4131-a893-e531500658e2"
      },
      "execution_count": null,
      "outputs": [
        {
          "output_type": "error",
          "ename": "AttributeError",
          "evalue": "'BankAccount' object has no attribute '__special_private_func'",
          "traceback": [
            "\u001b[0;31m---------------------------------------------------------------------------\u001b[0m",
            "\u001b[0;31mAttributeError\u001b[0m                            Traceback (most recent call last)",
            "\u001b[0;32m<ipython-input-68-dd6b8365968d>\u001b[0m in \u001b[0;36m<cell line: 1>\u001b[0;34m()\u001b[0m\n\u001b[0;32m----> 1\u001b[0;31m \u001b[0macc1\u001b[0m\u001b[0;34m.\u001b[0m\u001b[0m__special_private_func\u001b[0m\u001b[0;34m(\u001b[0m\u001b[0;34m)\u001b[0m\u001b[0;34m\u001b[0m\u001b[0;34m\u001b[0m\u001b[0m\n\u001b[0m",
            "\u001b[0;31mAttributeError\u001b[0m: 'BankAccount' object has no attribute '__special_private_func'"
          ]
        }
      ]
    },
    {
      "cell_type": "markdown",
      "source": [
        "Q1."
      ],
      "metadata": {
        "id": "RYeD7OQkG9uc"
      }
    },
    {
      "cell_type": "code",
      "source": [
        "# What would be the output of the following\n",
        "class A:\n",
        "    print(\"Am I a class?\")\n",
        "\n",
        "A() #1\n",
        "\n",
        "obj1 = A() #2\n",
        "\n",
        "if A(): #3\n",
        "    print(A()) #4"
      ],
      "metadata": {
        "colab": {
          "base_uri": "https://localhost:8080/"
        },
        "id": "9HbOC0uMGOD3",
        "outputId": "36f58054-f4b3-41fe-d29c-be21e5fd5324"
      },
      "execution_count": null,
      "outputs": [
        {
          "output_type": "stream",
          "name": "stdout",
          "text": [
            "Am I a class?\n",
            "<__main__.A object at 0x7f2d70424ca0>\n"
          ]
        }
      ]
    },
    {
      "cell_type": "code",
      "source": [
        "# What would be the output of the following\n",
        "class Student:\n",
        "    def __init__(random, id, age):\n",
        "        random.id = id\n",
        "        random.age = age\n",
        "\n"
      ],
      "metadata": {
        "id": "CjFk7jYQHHw2"
      },
      "execution_count": null,
      "outputs": []
    },
    {
      "cell_type": "code",
      "source": [
        "s1 = Student(1, 5000)"
      ],
      "metadata": {
        "id": "VFU0Xr77HafW"
      },
      "execution_count": null,
      "outputs": []
    },
    {
      "cell_type": "code",
      "source": [
        "# What would be the output of the following\n",
        "class A:\n",
        "    def __init__(self, name):\n",
        "        self.name = name\n",
        "\n",
        "a1 = A(\"Bunty\")\n",
        "a2 = A(\"Babli\")\n"
      ],
      "metadata": {
        "id": "J89O0GfbHh-t"
      },
      "execution_count": null,
      "outputs": []
    },
    {
      "cell_type": "markdown",
      "source": [
        "a1 & a2 are 2 different objects"
      ],
      "metadata": {
        "id": "jUVqNG6CH_1-"
      }
    },
    {
      "cell_type": "code",
      "source": [
        "print(id(a1) == id(a2))"
      ],
      "metadata": {
        "colab": {
          "base_uri": "https://localhost:8080/"
        },
        "id": "4BFOPL3AH5nV",
        "outputId": "7b4abcd8-9e93-47b1-dd2c-c5cb44aba28e"
      },
      "execution_count": null,
      "outputs": [
        {
          "output_type": "stream",
          "name": "stdout",
          "text": [
            "False\n"
          ]
        }
      ]
    },
    {
      "cell_type": "code",
      "source": [
        "# What would be the output of the following\n",
        "class Counter:\n",
        "    def __init__(self):\n",
        "        self.count=5\n",
        "        self.count=count+1"
      ],
      "metadata": {
        "id": "UgYiXLLaH8nZ"
      },
      "execution_count": null,
      "outputs": []
    },
    {
      "cell_type": "code",
      "source": [
        "c = Counter()\n",
        "print(c.count)"
      ],
      "metadata": {
        "colab": {
          "base_uri": "https://localhost:8080/",
          "height": 245
        },
        "id": "oPlM7DnTIFEM",
        "outputId": "92e945f3-3178-401e-90bb-c06d398ee966"
      },
      "execution_count": null,
      "outputs": [
        {
          "output_type": "error",
          "ename": "NameError",
          "evalue": "name 'count' is not defined",
          "traceback": [
            "\u001b[0;31m---------------------------------------------------------------------------\u001b[0m",
            "\u001b[0;31mNameError\u001b[0m                                 Traceback (most recent call last)",
            "\u001b[0;32m<ipython-input-82-c09346b258c8>\u001b[0m in \u001b[0;36m<cell line: 1>\u001b[0;34m()\u001b[0m\n\u001b[0;32m----> 1\u001b[0;31m \u001b[0mc\u001b[0m \u001b[0;34m=\u001b[0m \u001b[0mCounter\u001b[0m\u001b[0;34m(\u001b[0m\u001b[0;34m)\u001b[0m\u001b[0;34m\u001b[0m\u001b[0;34m\u001b[0m\u001b[0m\n\u001b[0m\u001b[1;32m      2\u001b[0m \u001b[0mprint\u001b[0m\u001b[0;34m(\u001b[0m\u001b[0mc\u001b[0m\u001b[0;34m.\u001b[0m\u001b[0mcount\u001b[0m\u001b[0;34m)\u001b[0m\u001b[0;34m\u001b[0m\u001b[0;34m\u001b[0m\u001b[0m\n",
            "\u001b[0;32m<ipython-input-81-f5c8ec6395e5>\u001b[0m in \u001b[0;36m__init__\u001b[0;34m(self)\u001b[0m\n\u001b[1;32m      2\u001b[0m     \u001b[0;32mdef\u001b[0m \u001b[0m__init__\u001b[0m\u001b[0;34m(\u001b[0m\u001b[0mself\u001b[0m\u001b[0;34m)\u001b[0m\u001b[0;34m:\u001b[0m\u001b[0;34m\u001b[0m\u001b[0;34m\u001b[0m\u001b[0m\n\u001b[1;32m      3\u001b[0m         \u001b[0mself\u001b[0m\u001b[0;34m.\u001b[0m\u001b[0mcount\u001b[0m\u001b[0;34m=\u001b[0m\u001b[0;36m5\u001b[0m\u001b[0;34m\u001b[0m\u001b[0;34m\u001b[0m\u001b[0m\n\u001b[0;32m----> 4\u001b[0;31m         \u001b[0mself\u001b[0m\u001b[0;34m.\u001b[0m\u001b[0mcount\u001b[0m\u001b[0;34m=\u001b[0m\u001b[0mcount\u001b[0m\u001b[0;34m+\u001b[0m\u001b[0;36m1\u001b[0m\u001b[0;34m\u001b[0m\u001b[0;34m\u001b[0m\u001b[0m\n\u001b[0m",
            "\u001b[0;31mNameError\u001b[0m: name 'count' is not defined"
          ]
        }
      ]
    },
    {
      "cell_type": "markdown",
      "source": [
        "\n",
        "What are the functions inside a class called in python?\n",
        "* Methods"
      ],
      "metadata": {
        "id": "M3B0T7wWItg-"
      }
    },
    {
      "cell_type": "code",
      "source": [
        "# What would be the output of the following?\n",
        "\n",
        "class Random:\n",
        "    def __init__(self, a = \"Is it possible?\"):\n",
        "        self.a = a\n",
        "\n",
        "    def display(self):\n",
        "        print(self.a)"
      ],
      "metadata": {
        "id": "Xm1p6mz0IGTr"
      },
      "execution_count": null,
      "outputs": []
    },
    {
      "cell_type": "code",
      "source": [
        "r = Random()\n",
        "r.display()"
      ],
      "metadata": {
        "colab": {
          "base_uri": "https://localhost:8080/"
        },
        "id": "s6xXQzeeIk7k",
        "outputId": "fa47460a-c868-4e37-8de6-ee3903ffe031"
      },
      "execution_count": null,
      "outputs": [
        {
          "output_type": "stream",
          "name": "stdout",
          "text": [
            "Is it possible?\n"
          ]
        }
      ]
    },
    {
      "cell_type": "code",
      "source": [
        "#What would be the output of the following?\n",
        "class A:\n",
        "    def __init__(self):\n",
        "        self.variable = 'Old'\n",
        "        self.update(self.variable)\n",
        "\n",
        "    def update(self, var):\n",
        "        var = 'New'"
      ],
      "metadata": {
        "id": "d3YpTXAXI8DP"
      },
      "execution_count": null,
      "outputs": []
    },
    {
      "cell_type": "code",
      "source": [
        "a = A()\n",
        "print(a.variable)"
      ],
      "metadata": {
        "colab": {
          "base_uri": "https://localhost:8080/"
        },
        "id": "ndJsbY0MJIEB",
        "outputId": "2a0793d9-8a6b-4fc2-e710-1a8a66b903b0"
      },
      "execution_count": null,
      "outputs": [
        {
          "output_type": "stream",
          "name": "stdout",
          "text": [
            "Old\n"
          ]
        }
      ]
    },
    {
      "cell_type": "markdown",
      "source": [
        "What do you mean by instantiation when it comes to OOPS?\n",
        "\n",
        "* Creating an object of a class"
      ],
      "metadata": {
        "id": "-w0z_27LJa_-"
      }
    },
    {
      "cell_type": "markdown",
      "source": [
        "Which of the following code pieces would create an empty class in python?\n",
        "\n",
        "* class A: pass"
      ],
      "metadata": {
        "id": "-JSygp_6JkMp"
      }
    },
    {
      "cell_type": "code",
      "source": [
        "#What would be the output of the following?\n",
        "\n",
        "class A:\n",
        "    def do_something(self):\n",
        "        print(\"I do something!\")\n",
        "\n",
        "class B(A):\n",
        "    def do_something(self):\n",
        "        super().do_something()\n",
        "        print(\"I also do something!\")"
      ],
      "metadata": {
        "id": "fQCbNQwXJSQK"
      },
      "execution_count": null,
      "outputs": []
    },
    {
      "cell_type": "code",
      "source": [
        "b = B()\n",
        "b.do_something()"
      ],
      "metadata": {
        "colab": {
          "base_uri": "https://localhost:8080/"
        },
        "id": "ZwoStL89JJgl",
        "outputId": "db4bc899-c859-4de4-d31c-de7b4f7080c7"
      },
      "execution_count": null,
      "outputs": [
        {
          "output_type": "stream",
          "name": "stdout",
          "text": [
            "I do something!\n",
            "I also do something!\n"
          ]
        }
      ]
    },
    {
      "cell_type": "markdown",
      "source": [
        "Methods Resolution Order (MRO)\n",
        "\n",
        "\n",
        "\n",
        "*   Rule 1: Left to Right in Parents\n",
        "*   Rule 2: Go to the Parent when all the childs are considered\n",
        "\n",
        "\n",
        "\n",
        "\n"
      ],
      "metadata": {
        "id": "nv-zq7D9J4-Q"
      }
    },
    {
      "cell_type": "code",
      "source": [
        "class A:\n",
        "  x=1\n",
        "\n",
        "class B(A):\n",
        "  x=2\n",
        "\n",
        "class C(B):\n",
        "  x=3\n",
        "\n",
        "class D(A):\n",
        "  x=4\n",
        "\n",
        "class E(C,D):\n",
        "  pass"
      ],
      "metadata": {
        "id": "OVNKVItCJz2c"
      },
      "execution_count": null,
      "outputs": []
    },
    {
      "cell_type": "code",
      "source": [
        "e = E()"
      ],
      "metadata": {
        "id": "NximW0_NLX9K"
      },
      "execution_count": null,
      "outputs": []
    },
    {
      "cell_type": "code",
      "source": [
        "e.x"
      ],
      "metadata": {
        "colab": {
          "base_uri": "https://localhost:8080/"
        },
        "id": "AMLVoll5LZBc",
        "outputId": "2d250fde-d1ae-49a2-a12b-6fd87023ab2e"
      },
      "execution_count": null,
      "outputs": [
        {
          "output_type": "execute_result",
          "data": {
            "text/plain": [
              "3"
            ]
          },
          "metadata": {},
          "execution_count": 94
        }
      ]
    },
    {
      "cell_type": "code",
      "source": [
        "E.__mro__"
      ],
      "metadata": {
        "colab": {
          "base_uri": "https://localhost:8080/"
        },
        "id": "YiqHrJizLaKH",
        "outputId": "48f023d0-9e8a-4ff0-a5ee-c469e61461f1"
      },
      "execution_count": null,
      "outputs": [
        {
          "output_type": "execute_result",
          "data": {
            "text/plain": [
              "(__main__.E, __main__.C, __main__.B, __main__.D, __main__.A, object)"
            ]
          },
          "metadata": {},
          "execution_count": 95
        }
      ]
    },
    {
      "cell_type": "code",
      "source": [
        "class A:\n",
        "  x=1\n",
        "\n",
        "class B(A):\n",
        "  x=2\n",
        "\n",
        "class C(B):\n",
        "  pass\n",
        "\n",
        "class D(A):\n",
        "  x=4\n",
        "\n",
        "class E(C,D):\n",
        "  pass"
      ],
      "metadata": {
        "id": "xQDkJWDOLcwe"
      },
      "execution_count": null,
      "outputs": []
    },
    {
      "cell_type": "code",
      "source": [
        "e = E()"
      ],
      "metadata": {
        "id": "vOAGqy6kLwuO"
      },
      "execution_count": null,
      "outputs": []
    },
    {
      "cell_type": "code",
      "source": [
        "e.x"
      ],
      "metadata": {
        "colab": {
          "base_uri": "https://localhost:8080/"
        },
        "id": "ezWgMWuNLzD9",
        "outputId": "5e5204fa-d2a7-4c67-f562-cc223bfb2462"
      },
      "execution_count": null,
      "outputs": [
        {
          "output_type": "execute_result",
          "data": {
            "text/plain": [
              "2"
            ]
          },
          "metadata": {},
          "execution_count": 99
        }
      ]
    },
    {
      "cell_type": "code",
      "source": [
        "E.__mro__"
      ],
      "metadata": {
        "colab": {
          "base_uri": "https://localhost:8080/"
        },
        "id": "-Lzmfc3vLrfm",
        "outputId": "1c1484a8-bd8c-4718-eb21-79b733217730"
      },
      "execution_count": null,
      "outputs": [
        {
          "output_type": "execute_result",
          "data": {
            "text/plain": [
              "(__main__.E, __main__.C, __main__.B, __main__.D, __main__.A, object)"
            ]
          },
          "metadata": {},
          "execution_count": 101
        }
      ]
    },
    {
      "cell_type": "code",
      "source": [],
      "metadata": {
        "id": "2S24snHCLtBW"
      },
      "execution_count": null,
      "outputs": []
    }
  ]
}