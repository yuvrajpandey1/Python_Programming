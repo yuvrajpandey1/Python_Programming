{
 "cells": [
  {
   "cell_type": "markdown",
   "id": "52bbb9c4",
   "metadata": {},
   "source": [
    "* Lists ;- ordered collection of data, python does not have array, python does has list with extra features."
   ]
  },
  {
   "cell_type": "markdown",
   "id": "8bb9b626",
   "metadata": {},
   "source": [
    "* A data structure hold multiple value and 1 variable use to store data entire in data structured"
   ]
  },
  {
   "cell_type": "code",
   "execution_count": 2,
   "id": "38beab85",
   "metadata": {},
   "outputs": [
    {
     "data": {
      "text/plain": [
       "[67, 54, 12, 34, 77, 89, 101]"
      ]
     },
     "execution_count": 2,
     "metadata": {},
     "output_type": "execute_result"
    }
   ],
   "source": [
    "## Creating a list -> []\n",
    "runs_virat = [67,54,12,34,77,89,101]\n",
    "runs_virat\n"
   ]
  },
  {
   "cell_type": "code",
   "execution_count": 3,
   "id": "c7f98b7f",
   "metadata": {},
   "outputs": [
    {
     "data": {
      "text/plain": [
       "list"
      ]
     },
     "execution_count": 3,
     "metadata": {},
     "output_type": "execute_result"
    }
   ],
   "source": [
    "type(runs_virat)"
   ]
  },
  {
   "cell_type": "markdown",
   "id": "6763f982",
   "metadata": {},
   "source": [
    "* List have no limit om how many values it can store\n",
    "* List are accessible using index\n",
    "* List are indexable"
   ]
  },
  {
   "cell_type": "code",
   "execution_count": 4,
   "id": "2390405f",
   "metadata": {},
   "outputs": [
    {
     "data": {
      "text/plain": [
       "54"
      ]
     },
     "execution_count": 4,
     "metadata": {},
     "output_type": "execute_result"
    }
   ],
   "source": [
    "runs_virat[1]"
   ]
  },
  {
   "cell_type": "code",
   "execution_count": 5,
   "id": "7503b0d3",
   "metadata": {},
   "outputs": [
    {
     "data": {
      "text/plain": [
       "7"
      ]
     },
     "execution_count": 5,
     "metadata": {},
     "output_type": "execute_result"
    }
   ],
   "source": [
    "# Total count of element in list\n",
    "len(runs_virat)"
   ]
  },
  {
   "cell_type": "code",
   "execution_count": 6,
   "id": "445d8c77",
   "metadata": {},
   "outputs": [],
   "source": [
    "a=[4,-1,6,7,8,1]"
   ]
  },
  {
   "cell_type": "code",
   "execution_count": 7,
   "id": "b98e6efd",
   "metadata": {},
   "outputs": [
    {
     "data": {
      "text/plain": [
       "4"
      ]
     },
     "execution_count": 7,
     "metadata": {},
     "output_type": "execute_result"
    }
   ],
   "source": [
    "a[0]"
   ]
  },
  {
   "cell_type": "markdown",
   "id": "47e8020b",
   "metadata": {},
   "source": [
    "### run score by virat in last match ?\n"
   ]
  },
  {
   "cell_type": "code",
   "execution_count": 8,
   "id": "552b0cdc",
   "metadata": {},
   "outputs": [
    {
     "data": {
      "text/plain": [
       "101"
      ]
     },
     "execution_count": 8,
     "metadata": {},
     "output_type": "execute_result"
    }
   ],
   "source": [
    "runs_virat[-1]"
   ]
  },
  {
   "cell_type": "code",
   "execution_count": 9,
   "id": "85a517c0",
   "metadata": {},
   "outputs": [
    {
     "data": {
      "text/plain": [
       "101"
      ]
     },
     "execution_count": 9,
     "metadata": {},
     "output_type": "execute_result"
    }
   ],
   "source": [
    "runs_virat[len(runs_virat)-1]"
   ]
  },
  {
   "cell_type": "code",
   "execution_count": 10,
   "id": "c6613a81",
   "metadata": {},
   "outputs": [
    {
     "data": {
      "text/plain": [
       "67"
      ]
     },
     "execution_count": 10,
     "metadata": {},
     "output_type": "execute_result"
    }
   ],
   "source": [
    "runs_virat[-len(runs_virat)]"
   ]
  },
  {
   "cell_type": "code",
   "execution_count": 14,
   "id": "c3b3abda",
   "metadata": {},
   "outputs": [],
   "source": [
    "runs = [45,67,89,12,34,56,100]"
   ]
  },
  {
   "cell_type": "markdown",
   "id": "30b8866b",
   "metadata": {},
   "source": [
    "### Q.1) Print total of runs on odd postion in list"
   ]
  },
  {
   "cell_type": "code",
   "execution_count": 15,
   "id": "132ed26f",
   "metadata": {},
   "outputs": [
    {
     "name": "stdout",
     "output_type": "stream",
     "text": [
      "268\n"
     ]
    }
   ],
   "source": [
    "print(runs[0]+runs[2]+runs[4]+runs[6])"
   ]
  },
  {
   "cell_type": "markdown",
   "id": "61b4f0db",
   "metadata": {},
   "source": [
    "### Can we add more element list ?\n"
   ]
  },
  {
   "cell_type": "markdown",
   "id": "5b99aab3",
   "metadata": {},
   "source": [
    "* Lists have various methods for addition"
   ]
  },
  {
   "cell_type": "markdown",
   "id": "877f00bb",
   "metadata": {},
   "source": [
    "* append is a method on the list data-type"
   ]
  },
  {
   "cell_type": "code",
   "execution_count": 16,
   "id": "a21f1d53",
   "metadata": {},
   "outputs": [],
   "source": [
    "runs.append(71)"
   ]
  },
  {
   "cell_type": "code",
   "execution_count": 17,
   "id": "5efb533e",
   "metadata": {},
   "outputs": [
    {
     "data": {
      "text/plain": [
       "[45, 67, 89, 12, 34, 56, 100, 71]"
      ]
     },
     "execution_count": 17,
     "metadata": {},
     "output_type": "execute_result"
    }
   ],
   "source": [
    "runs"
   ]
  },
  {
   "cell_type": "markdown",
   "id": "0c6c87fa",
   "metadata": {},
   "source": [
    "### If you want to append at particular location\n",
    "* insert method can be used to insert at any index"
   ]
  },
  {
   "cell_type": "code",
   "execution_count": 18,
   "id": "07307256",
   "metadata": {},
   "outputs": [],
   "source": [
    "runs.insert(0,25)"
   ]
  },
  {
   "cell_type": "code",
   "execution_count": 19,
   "id": "a918ab13",
   "metadata": {},
   "outputs": [
    {
     "data": {
      "text/plain": [
       "[25, 45, 67, 89, 12, 34, 56, 100, 71]"
      ]
     },
     "execution_count": 19,
     "metadata": {},
     "output_type": "execute_result"
    }
   ],
   "source": [
    "runs"
   ]
  },
  {
   "cell_type": "markdown",
   "id": "e9e53040",
   "metadata": {},
   "source": [
    "* Adding multiple value at once can be done using extend"
   ]
  },
  {
   "cell_type": "code",
   "execution_count": 20,
   "id": "f31aa471",
   "metadata": {},
   "outputs": [],
   "source": [
    "new_runs = [130,69,92]"
   ]
  },
  {
   "cell_type": "code",
   "execution_count": 21,
   "id": "c4b124ff",
   "metadata": {},
   "outputs": [],
   "source": [
    "runs.extend(new_runs)"
   ]
  },
  {
   "cell_type": "code",
   "execution_count": 22,
   "id": "10db50c0",
   "metadata": {},
   "outputs": [
    {
     "data": {
      "text/plain": [
       "[25, 45, 67, 89, 12, 34, 56, 100, 71, 130, 69, 92]"
      ]
     },
     "execution_count": 22,
     "metadata": {},
     "output_type": "execute_result"
    }
   ],
   "source": [
    "runs"
   ]
  },
  {
   "cell_type": "markdown",
   "id": "37fc9681",
   "metadata": {},
   "source": [
    "### Methods to add to a list"
   ]
  },
  {
   "cell_type": "markdown",
   "id": "74340a2a",
   "metadata": {},
   "source": [
    "* [1,2,4,5,6] -> add an element at the end --> list.append(element)\n",
    "* [1,2,3,4,5] -> add an element at the index 1 --> list.insert(index,element)\n",
    "* [1,2,4] -> add multiple value at the end --> list.extend([4,5,6,7,.....])"
   ]
  },
  {
   "cell_type": "code",
   "execution_count": 23,
   "id": "d683c649",
   "metadata": {},
   "outputs": [],
   "source": [
    "runs=runs+[56]"
   ]
  },
  {
   "cell_type": "code",
   "execution_count": 24,
   "id": "ac54fb43",
   "metadata": {},
   "outputs": [
    {
     "data": {
      "text/plain": [
       "[25, 45, 67, 89, 12, 34, 56, 100, 71, 130, 69, 92, 56]"
      ]
     },
     "execution_count": 24,
     "metadata": {},
     "output_type": "execute_result"
    }
   ],
   "source": [
    "runs"
   ]
  },
  {
   "cell_type": "markdown",
   "id": "d461e106",
   "metadata": {},
   "source": [
    "### use this instead of extend ?\n"
   ]
  },
  {
   "cell_type": "code",
   "execution_count": 25,
   "id": "ccbae423",
   "metadata": {},
   "outputs": [
    {
     "data": {
      "text/plain": [
       "[25, 45, 67, 89, 12, 34, 56, 100, 71, 130, 69, 92, 56, 200, 250, 300]"
      ]
     },
     "execution_count": 25,
     "metadata": {},
     "output_type": "execute_result"
    }
   ],
   "source": [
    "runs=runs+[200,250,300]\n",
    "runs"
   ]
  },
  {
   "cell_type": "markdown",
   "id": "27e8e07c",
   "metadata": {},
   "source": [
    "### i -> iterator --> variable used to iterate"
   ]
  },
  {
   "cell_type": "code",
   "execution_count": 26,
   "id": "07c683db",
   "metadata": {},
   "outputs": [
    {
     "name": "stdout",
     "output_type": "stream",
     "text": [
      "0\n",
      "1\n",
      "2\n",
      "3\n",
      "4\n"
     ]
    }
   ],
   "source": [
    "for i in range(5):\n",
    "    print(i)"
   ]
  },
  {
   "cell_type": "markdown",
   "id": "76be64ff",
   "metadata": {},
   "source": [
    "### range(5) --> iterable --> the collection of values on which we iterate\n",
    "### print(i) --> iteration block --> body of the for loop"
   ]
  },
  {
   "cell_type": "code",
   "execution_count": 27,
   "id": "51f5694c",
   "metadata": {},
   "outputs": [
    {
     "data": {
      "text/plain": [
       "[56, 78, 89, 32, 101, 4]"
      ]
     },
     "execution_count": 27,
     "metadata": {},
     "output_type": "execute_result"
    }
   ],
   "source": [
    "a = [56,78,89,32,101,4]\n",
    "a"
   ]
  },
  {
   "cell_type": "code",
   "execution_count": 28,
   "id": "2a0e6fb3",
   "metadata": {},
   "outputs": [
    {
     "name": "stdout",
     "output_type": "stream",
     "text": [
      "56\n",
      "78\n",
      "89\n",
      "32\n",
      "101\n",
      "4\n"
     ]
    }
   ],
   "source": [
    "for i in a:\n",
    "    print(i)"
   ]
  },
  {
   "cell_type": "code",
   "execution_count": 29,
   "id": "b0af8f67",
   "metadata": {},
   "outputs": [
    {
     "data": {
      "text/plain": [
       "[67, 54, 12, 34, 77, 89, 101]"
      ]
     },
     "execution_count": 29,
     "metadata": {},
     "output_type": "execute_result"
    }
   ],
   "source": [
    "runs_virat"
   ]
  },
  {
   "cell_type": "markdown",
   "id": "697936fa",
   "metadata": {},
   "source": [
    "### Q2.) In runs_virat calculate the sum,average,max and min runs"
   ]
  },
  {
   "cell_type": "code",
   "execution_count": 30,
   "id": "3e4d5f89",
   "metadata": {},
   "outputs": [],
   "source": [
    "average_runs=0\n",
    "sum_runs=0\n",
    "min_runs=0\n",
    "max_runs=0\n",
    "length_runs=0"
   ]
  },
  {
   "cell_type": "code",
   "execution_count": 31,
   "id": "9696a428",
   "metadata": {},
   "outputs": [],
   "source": [
    "for i in a:\n",
    "    sum_runs+=i\n",
    "    length_runs+=1"
   ]
  },
  {
   "cell_type": "code",
   "execution_count": 32,
   "id": "6559f960",
   "metadata": {},
   "outputs": [],
   "source": [
    "average_runs=sum_runs/length_runs"
   ]
  },
  {
   "cell_type": "code",
   "execution_count": 33,
   "id": "40b9ff0a",
   "metadata": {},
   "outputs": [
    {
     "data": {
      "text/plain": [
       "60.0"
      ]
     },
     "execution_count": 33,
     "metadata": {},
     "output_type": "execute_result"
    }
   ],
   "source": [
    "average_runs"
   ]
  },
  {
   "cell_type": "code",
   "execution_count": 34,
   "id": "8262998c",
   "metadata": {},
   "outputs": [],
   "source": [
    "for i in a:\n",
    "    if i>max_runs:\n",
    "        max_runs=1"
   ]
  },
  {
   "cell_type": "code",
   "execution_count": 37,
   "id": "2a040d3f",
   "metadata": {},
   "outputs": [
    {
     "data": {
      "text/plain": [
       "51.42857142857143"
      ]
     },
     "execution_count": 37,
     "metadata": {},
     "output_type": "execute_result"
    }
   ],
   "source": [
    "average_runs = sum_runs/len(runs_virat)\n",
    "average_runs"
   ]
  },
  {
   "cell_type": "code",
   "execution_count": 38,
   "id": "9b5712d6",
   "metadata": {},
   "outputs": [
    {
     "data": {
      "text/plain": [
       "101"
      ]
     },
     "execution_count": 38,
     "metadata": {},
     "output_type": "execute_result"
    }
   ],
   "source": [
    "max(runs_virat)"
   ]
  },
  {
   "cell_type": "code",
   "execution_count": 39,
   "id": "ac88bd11",
   "metadata": {},
   "outputs": [
    {
     "data": {
      "text/plain": [
       "12"
      ]
     },
     "execution_count": 39,
     "metadata": {},
     "output_type": "execute_result"
    }
   ],
   "source": [
    "min(runs_virat)"
   ]
  },
  {
   "cell_type": "markdown",
   "id": "0f58850b",
   "metadata": {},
   "source": [
    "### Q3.) Calculate sum of runs made by virat on all matches with even index"
   ]
  },
  {
   "cell_type": "code",
   "execution_count": 42,
   "id": "1de0b196",
   "metadata": {},
   "outputs": [
    {
     "name": "stdout",
     "output_type": "stream",
     "text": [
      "67\n",
      "54\n",
      "12\n",
      "34\n",
      "77\n",
      "89\n",
      "101\n"
     ]
    },
    {
     "data": {
      "text/plain": [
       "100"
      ]
     },
     "execution_count": 42,
     "metadata": {},
     "output_type": "execute_result"
    }
   ],
   "source": [
    "sum_even_runs=0\n",
    "for i in runs_virat:\n",
    "    print(i)\n",
    "    if i%2 ==0:\n",
    "        sum_even_runs+=i\n",
    "sum_even_runs"
   ]
  },
  {
   "cell_type": "code",
   "execution_count": 47,
   "id": "a0c227a1",
   "metadata": {},
   "outputs": [
    {
     "name": "stdout",
     "output_type": "stream",
     "text": [
      "67\n",
      "12\n",
      "77\n",
      "101\n"
     ]
    }
   ],
   "source": [
    "sum_even_runs=0\n",
    "for i in range(len(runs_virat)):\n",
    "    if i%2==0:\n",
    "        print(runs_virat[i])\n",
    "        sum_even_runs+=runs_virat[i]"
   ]
  },
  {
   "cell_type": "code",
   "execution_count": 52,
   "id": "e1f3bab3",
   "metadata": {},
   "outputs": [
    {
     "name": "stdout",
     "output_type": "stream",
     "text": [
      "5\n",
      "* * * * * \n",
      "  *     * \n",
      "    *   * \n",
      "      * * \n",
      "        * \n"
     ]
    }
   ],
   "source": [
    "n = int(input())\n",
    "for i in range(n):\n",
    "    for j in range(n):\n",
    "        if i==j or i==0 or j==n-1:\n",
    "            print(\"*\",end=\" \")\n",
    "        else:\n",
    "            print(\" \",end=\" \")\n",
    "    print()"
   ]
  },
  {
   "cell_type": "markdown",
   "id": "ff11ea5a",
   "metadata": {},
   "source": [
    "### Lists Slicing"
   ]
  },
  {
   "cell_type": "code",
   "execution_count": 53,
   "id": "f9d14993",
   "metadata": {},
   "outputs": [
    {
     "data": {
      "text/plain": [
       "[25, 45, 67, 89, 12, 34, 56, 100, 71, 130, 69, 92, 56, 200, 250, 300]"
      ]
     },
     "execution_count": 53,
     "metadata": {},
     "output_type": "execute_result"
    }
   ],
   "source": [
    "runs"
   ]
  },
  {
   "cell_type": "markdown",
   "id": "3dc737cc",
   "metadata": {},
   "source": [
    "### Q.) Given a list of all runs by virat,print runs made in odd numbered matches (even index)"
   ]
  },
  {
   "cell_type": "code",
   "execution_count": 54,
   "id": "e479c895",
   "metadata": {},
   "outputs": [
    {
     "name": "stdout",
     "output_type": "stream",
     "text": [
      "25 67 12 56 71 69 56 250 "
     ]
    }
   ],
   "source": [
    "for i in range(len(runs)):\n",
    "    if i %2 ==0:\n",
    "        print(runs[i],end=\" \")"
   ]
  },
  {
   "cell_type": "markdown",
   "id": "e017646d",
   "metadata": {},
   "source": [
    "#### Create a new list"
   ]
  },
  {
   "cell_type": "code",
   "execution_count": 60,
   "id": "efba62e9",
   "metadata": {},
   "outputs": [],
   "source": [
    "def odd_runs(runs):\n",
    "    result=[]\n",
    "    for i in range(len(runs)):\n",
    "        if i%2==0:\n",
    "            result.append(runs[i])\n",
    "    return result"
   ]
  },
  {
   "cell_type": "code",
   "execution_count": 61,
   "id": "23dcece4",
   "metadata": {},
   "outputs": [],
   "source": [
    "runs_odd=odd_runs(runs)"
   ]
  },
  {
   "cell_type": "raw",
   "id": "66ef2f5f",
   "metadata": {},
   "source": [
    "runs_odd"
   ]
  },
  {
   "cell_type": "markdown",
   "id": "c6cfeb82",
   "metadata": {},
   "source": [
    "### Q3.) New list of run made in last 5 matches"
   ]
  },
  {
   "cell_type": "code",
   "execution_count": 64,
   "id": "90b87787",
   "metadata": {},
   "outputs": [
    {
     "data": {
      "text/plain": [
       "[92, 56, 200, 250, 300]"
      ]
     },
     "execution_count": 64,
     "metadata": {},
     "output_type": "execute_result"
    }
   ],
   "source": [
    "result = []\n",
    "for i in range(len(runs)-5,len(runs)):\n",
    "    result.append(runs[i])\n",
    "result"
   ]
  },
  {
   "cell_type": "code",
   "execution_count": 63,
   "id": "94c99b48",
   "metadata": {},
   "outputs": [
    {
     "data": {
      "text/plain": [
       "[92, 56, 200, 250, 300]"
      ]
     },
     "execution_count": 63,
     "metadata": {},
     "output_type": "execute_result"
    }
   ],
   "source": [
    "result"
   ]
  },
  {
   "cell_type": "code",
   "execution_count": 65,
   "id": "e5cfcb99",
   "metadata": {},
   "outputs": [
    {
     "data": {
      "text/plain": [
       "[300, 250, 200, 56, 92]"
      ]
     },
     "execution_count": 65,
     "metadata": {},
     "output_type": "execute_result"
    }
   ],
   "source": [
    "result=[]\n",
    "for i in range(1,6):\n",
    "    result.append(runs[-i])\n",
    "result"
   ]
  },
  {
   "cell_type": "markdown",
   "id": "80d41e56",
   "metadata": {},
   "source": [
    "### Q4.) run made in first 3 matches"
   ]
  },
  {
   "cell_type": "code",
   "execution_count": 66,
   "id": "0ff71054",
   "metadata": {},
   "outputs": [
    {
     "name": "stdout",
     "output_type": "stream",
     "text": [
      "25\n",
      "45\n",
      "67\n"
     ]
    }
   ],
   "source": [
    "for i in range(3):\n",
    "    print(runs[i])"
   ]
  },
  {
   "cell_type": "markdown",
   "id": "85691746",
   "metadata": {},
   "source": [
    "### Q5.) create a new list of runs from 3rd match to 7th matches\n"
   ]
  },
  {
   "cell_type": "code",
   "execution_count": 67,
   "id": "abdfc678",
   "metadata": {},
   "outputs": [
    {
     "name": "stdout",
     "output_type": "stream",
     "text": [
      "67\n",
      "89\n",
      "12\n",
      "34\n",
      "56\n"
     ]
    }
   ],
   "source": [
    "for i in range(2,7):\n",
    "    print(runs[i])"
   ]
  },
  {
   "cell_type": "code",
   "execution_count": 68,
   "id": "4a606086",
   "metadata": {},
   "outputs": [
    {
     "name": "stdout",
     "output_type": "stream",
     "text": [
      "67\n",
      "89\n",
      "12\n",
      "34\n",
      "56\n"
     ]
    }
   ],
   "source": [
    "for i in range(len(runs)):\n",
    "    if i>=2 and i<=6:\n",
    "        print(runs[i])"
   ]
  },
  {
   "cell_type": "code",
   "execution_count": null,
   "id": "415c054b",
   "metadata": {},
   "outputs": [],
   "source": []
  }
 ],
 "metadata": {
  "kernelspec": {
   "display_name": "Python 3 (ipykernel)",
   "language": "python",
   "name": "python3"
  },
  "language_info": {
   "codemirror_mode": {
    "name": "ipython",
    "version": 3
   },
   "file_extension": ".py",
   "mimetype": "text/x-python",
   "name": "python",
   "nbconvert_exporter": "python",
   "pygments_lexer": "ipython3",
   "version": "3.11.4"
  }
 },
 "nbformat": 4,
 "nbformat_minor": 5
}
