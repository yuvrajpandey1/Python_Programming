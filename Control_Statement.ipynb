{
 "cells": [
  {
   "cell_type": "markdown",
   "metadata": {},
   "source": [
    "* Run some code on the basis of certain decision\n",
    "* Flow chart ;- pictorial representation of code"
   ]
  },
  {
   "cell_type": "code",
   "execution_count": 2,
   "metadata": {
    "collapsed": true
   },
   "outputs": [
    {
     "ename": "NameError",
     "evalue": "name 'condition' is not defined",
     "output_type": "error",
     "traceback": [
      "\u001b[1;31m---------------------------------------------------------------------------\u001b[0m",
      "\u001b[1;31mNameError\u001b[0m                                 Traceback (most recent call last)",
      "\u001b[1;32m<ipython-input-2-90f274f017c9>\u001b[0m in \u001b[0;36m<module>\u001b[1;34m()\u001b[0m\n\u001b[0;32m      1\u001b[0m \u001b[1;31m#### Syntax;-\u001b[0m\u001b[1;33m\u001b[0m\u001b[1;33m\u001b[0m\u001b[0m\n\u001b[1;32m----> 2\u001b[1;33m \u001b[1;32mif\u001b[0m \u001b[0mcondition\u001b[0m \u001b[1;33m:\u001b[0m\u001b[1;33m\u001b[0m\u001b[0m\n\u001b[0m\u001b[0;32m      3\u001b[0m     \u001b[0mprint\u001b[0m\u001b[1;33m(\u001b[0m\u001b[0mSomething\u001b[0m\u001b[1;33m)\u001b[0m\u001b[1;33m\u001b[0m\u001b[0m\n\u001b[0;32m      4\u001b[0m     \u001b[0ma\u001b[0m\u001b[1;33m=\u001b[0m \u001b[1;32mTrue\u001b[0m\u001b[1;33m\u001b[0m\u001b[0m\n\u001b[0;32m      5\u001b[0m \u001b[1;33m\u001b[0m\u001b[0m\n",
      "\u001b[1;31mNameError\u001b[0m: name 'condition' is not defined"
     ]
    }
   ],
   "source": [
    "#### Syntax;- \n",
    "if condition :\n",
    "    print(Something)\n",
    "    a= True\n",
    "    \n",
    "# this block only runs if the condition is true"
   ]
  },
  {
   "cell_type": "code",
   "execution_count": 2,
   "metadata": {},
   "outputs": [
    {
     "name": "stdout",
     "output_type": "stream",
     "text": [
      "Please enter marks 25\n"
     ]
    },
    {
     "ename": "TypeError",
     "evalue": "'>' not supported between instances of 'str' and 'int'",
     "output_type": "error",
     "traceback": [
      "\u001b[1;31m---------------------------------------------------------------------------\u001b[0m",
      "\u001b[1;31mTypeError\u001b[0m                                 Traceback (most recent call last)",
      "Cell \u001b[1;32mIn[2], line 2\u001b[0m\n\u001b[0;32m      1\u001b[0m result \u001b[38;5;241m=\u001b[39m \u001b[38;5;28minput\u001b[39m(\u001b[38;5;124m\"\u001b[39m\u001b[38;5;124mPlease enter marks \u001b[39m\u001b[38;5;124m\"\u001b[39m)\n\u001b[1;32m----> 2\u001b[0m \u001b[38;5;28;01mif\u001b[39;00m result \u001b[38;5;241m>\u001b[39m\u001b[38;5;241m25\u001b[39m:\n\u001b[0;32m      3\u001b[0m     \u001b[38;5;28mprint\u001b[39m(\u001b[38;5;124m\"\u001b[39m\u001b[38;5;124mThat is massive\u001b[39m\u001b[38;5;124m\"\u001b[39m)\n\u001b[0;32m      4\u001b[0m \u001b[38;5;28;01melse\u001b[39;00m:\n",
      "\u001b[1;31mTypeError\u001b[0m: '>' not supported between instances of 'str' and 'int'"
     ]
    }
   ],
   "source": [
    "result = input(\"Please enter marks \")\n",
    "if result >25:\n",
    "    print(\"That is massive\")\n",
    "else:\n",
    "    print(\"Pretty Small !\")\n",
    "    "
   ]
  },
  {
   "cell_type": "code",
   "execution_count": 12,
   "metadata": {},
   "outputs": [
    {
     "name": "stdout",
     "output_type": "stream",
     "text": [
      "Please enter marks30\n",
      "That is massive\n"
     ]
    }
   ],
   "source": [
    "result = int(input(\"Please enter marks\"))\n",
    "if result >25:\n",
    "    print(\"That is massive\")\n",
    "else:\n",
    "    print(\"Pretty Small !\")"
   ]
  },
  {
   "cell_type": "markdown",
   "metadata": {},
   "source": [
    "### Q. Check for password\n",
    "\n"
   ]
  },
  {
   "cell_type": "code",
   "execution_count": 13,
   "metadata": {},
   "outputs": [
    {
     "name": "stdout",
     "output_type": "stream",
     "text": [
      "password\n",
      "Password Validated!\n"
     ]
    }
   ],
   "source": [
    "original_password = \"password\"\n",
    "password = input()\n",
    "\n",
    "if original_password == password:\n",
    "    print(\"Password Validated!\")\n",
    "else :\n",
    "    print(\"Password Incorrect\")\n",
    "    "
   ]
  },
  {
   "cell_type": "markdown",
   "metadata": {},
   "source": [
    "### Q. ATM Code\n"
   ]
  },
  {
   "cell_type": "code",
   "execution_count": 14,
   "metadata": {},
   "outputs": [
    {
     "name": "stdout",
     "output_type": "stream",
     "text": [
      "200\n",
      "Discharging Cash!\n"
     ]
    }
   ],
   "source": [
    "amount = int(input())\n",
    "if amount % 500 ==0 or amount %200 ==0:\n",
    "    print(\"Discharging Cash!\")\n",
    "else :\n",
    "    print(\"Denomination Not Available!\")"
   ]
  },
  {
   "cell_type": "markdown",
   "metadata": {},
   "source": [
    "### Q. Greeting"
   ]
  },
  {
   "cell_type": "code",
   "execution_count": 15,
   "metadata": {},
   "outputs": [
    {
     "name": "stdout",
     "output_type": "stream",
     "text": [
      "3\n",
      "SoJAAOO!\n"
     ]
    }
   ],
   "source": [
    "time = int(input())\n",
    "if time>9 and time<=12:\n",
    "    print(\"Good Morning\")\n",
    "else:\n",
    "    if time>12 and time <=17:\n",
    "        print(\"Good Afternoon\")\n",
    "    else:\n",
    "        if time>17 and time<=24:\n",
    "            print(\"Good Night\")\n",
    "        else:\n",
    "            print(\"SoJAAOO!\")\n",
    "        "
   ]
  },
  {
   "cell_type": "markdown",
   "metadata": {},
   "source": [
    "#### using elif"
   ]
  },
  {
   "cell_type": "code",
   "execution_count": 16,
   "metadata": {},
   "outputs": [
    {
     "name": "stdout",
     "output_type": "stream",
     "text": [
      "12\n",
      "Good Morning\n"
     ]
    }
   ],
   "source": [
    "time = int(input())\n",
    "if time>9 and time<=12:\n",
    "    print('Good Morning')\n",
    "elif time>12 and time<=17:\n",
    "    print('Good Afternoon')\n",
    "elif time>17 and time<=24:\n",
    "    print('Good Night')\n",
    "else:\n",
    "    print('SoJAAOO!')"
   ]
  },
  {
   "cell_type": "markdown",
   "metadata": {},
   "source": [
    "### Q1. Take a integer input & print whether it is +ve or -ve"
   ]
  },
  {
   "cell_type": "code",
   "execution_count": 17,
   "metadata": {},
   "outputs": [
    {
     "name": "stdout",
     "output_type": "stream",
     "text": [
      "-1\n",
      "Negative\n"
     ]
    }
   ],
   "source": [
    "number = int(input())\n",
    "if number>=0:\n",
    "    print(\"Positive\")\n",
    "else:\n",
    "    print(\"Negative\")"
   ]
  },
  {
   "cell_type": "markdown",
   "metadata": {},
   "source": [
    "### Q2. Take a single digit number as input\n",
    "\n",
    "* if \"num**5%50+20-6\" is >15 then print(\"Black\")\n",
    "\n",
    "Note;- Reject any input which are not single digit\n",
    "(Non-negative single digit)"
   ]
  },
  {
   "cell_type": "code",
   "execution_count": 18,
   "metadata": {},
   "outputs": [
    {
     "name": "stdout",
     "output_type": "stream",
     "text": [
      "7\n",
      "Black\n"
     ]
    }
   ],
   "source": [
    "number = int(input())\n",
    "if number >=0 and number<=9:\n",
    "    if number**5%50+20-6 > 15:\n",
    "        print(\"Black\")\n",
    "    else:\n",
    "        print(\"Number not valid!\")"
   ]
  },
  {
   "cell_type": "code",
   "execution_count": 19,
   "metadata": {},
   "outputs": [
    {
     "name": "stdout",
     "output_type": "stream",
     "text": [
      "9\n",
      "Black\n"
     ]
    }
   ],
   "source": [
    "number = int(input())\n",
    "if number <0 and number >9:\n",
    "    print(\"Number not Valid!\")\n",
    "else:\n",
    "    if number**5%50+20-6 >15 :\n",
    "        print(\"Black\")\n",
    "    else:\n",
    "        print(\"Blue\")"
   ]
  },
  {
   "cell_type": "markdown",
   "metadata": {},
   "source": [
    "### Q3. Take string as input and if the entered language is \"Python\", print(\"Great Choice\") else print(\"Think Again)"
   ]
  },
  {
   "cell_type": "code",
   "execution_count": 20,
   "metadata": {},
   "outputs": [
    {
     "name": "stdout",
     "output_type": "stream",
     "text": [
      "Java\n",
      "Think Again\n"
     ]
    }
   ],
   "source": [
    "language = input()\n",
    "if language == \"Python\" or language == \"python\":\n",
    "    print(\"Great Choice\")\n",
    "else:\n",
    "    print(\"Think Again\")"
   ]
  },
  {
   "cell_type": "code",
   "execution_count": 21,
   "metadata": {},
   "outputs": [
    {
     "data": {
      "text/plain": [
       "'python'"
      ]
     },
     "execution_count": 21,
     "metadata": {},
     "output_type": "execute_result"
    }
   ],
   "source": [
    "\"PyTHon\".lower()"
   ]
  },
  {
   "cell_type": "markdown",
   "metadata": {},
   "source": [
    "### Q4. Take string as input and if the entered language is \"Python\" or \"Java\", print(\"WoW\") else print(\"Are you living under a Rock?\")\n",
    "\n",
    "* Note;- Reject any integer inputs"
   ]
  },
  {
   "cell_type": "code",
   "execution_count": 22,
   "metadata": {
    "collapsed": true
   },
   "outputs": [
    {
     "name": "stdout",
     "output_type": "stream",
     "text": [
      "python\n"
     ]
    },
    {
     "ename": "ValueError",
     "evalue": "invalid literal for int() with base 10: 'python'",
     "output_type": "error",
     "traceback": [
      "\u001b[1;31m---------------------------------------------------------------------------\u001b[0m",
      "\u001b[1;31mValueError\u001b[0m                                Traceback (most recent call last)",
      "\u001b[1;32m<ipython-input-22-9d81efed7b95>\u001b[0m in \u001b[0;36m<module>\u001b[1;34m()\u001b[0m\n\u001b[0;32m      1\u001b[0m \u001b[0mlanguage\u001b[0m \u001b[1;33m=\u001b[0m \u001b[0minput\u001b[0m\u001b[1;33m(\u001b[0m\u001b[1;33m)\u001b[0m\u001b[1;33m\u001b[0m\u001b[0m\n\u001b[1;32m----> 2\u001b[1;33m \u001b[1;32mif\u001b[0m \u001b[0mtype\u001b[0m\u001b[1;33m(\u001b[0m\u001b[0mint\u001b[0m\u001b[1;33m(\u001b[0m\u001b[0mlanguage\u001b[0m\u001b[1;33m)\u001b[0m\u001b[1;33m)\u001b[0m \u001b[1;33m==\u001b[0m \u001b[0mint\u001b[0m\u001b[1;33m:\u001b[0m\u001b[1;33m\u001b[0m\u001b[0m\n\u001b[0m\u001b[0;32m      3\u001b[0m     \u001b[0mprint\u001b[0m\u001b[1;33m(\u001b[0m\u001b[1;34m\"Invalid\"\u001b[0m\u001b[1;33m)\u001b[0m\u001b[1;33m\u001b[0m\u001b[0m\n\u001b[0;32m      4\u001b[0m \u001b[1;32melse\u001b[0m\u001b[1;33m:\u001b[0m\u001b[1;33m\u001b[0m\u001b[0m\n\u001b[0;32m      5\u001b[0m     \u001b[1;32mif\u001b[0m \u001b[0mlanguage\u001b[0m \u001b[1;33m==\u001b[0m \u001b[1;34m\"Python\"\u001b[0m \u001b[1;32mor\u001b[0m \u001b[0mlanguage\u001b[0m \u001b[1;33m==\u001b[0m \u001b[1;34m\"python\"\u001b[0m \u001b[1;32mor\u001b[0m \u001b[0mlanguage\u001b[0m\u001b[1;33m==\u001b[0m\u001b[1;34m\"Java\"\u001b[0m\u001b[1;33m:\u001b[0m\u001b[1;33m\u001b[0m\u001b[0m\n",
      "\u001b[1;31mValueError\u001b[0m: invalid literal for int() with base 10: 'python'"
     ]
    }
   ],
   "source": [
    "language = input()\n",
    "if type(int(language)) == int:\n",
    "    print(\"Invalid\")\n",
    "else:\n",
    "    if language == \"Python\" or language == \"python\" or language==\"Java\":\n",
    "        print(\"WoW\")\n",
    "    else:\n",
    "        print(\"Are you living under a Rock?\")\n",
    "    "
   ]
  },
  {
   "cell_type": "markdown",
   "metadata": {},
   "source": [
    "### Q5. Take a float and check whether it is positive,nagative,zero or a floating value"
   ]
  },
  {
   "cell_type": "code",
   "execution_count": 23,
   "metadata": {},
   "outputs": [
    {
     "name": "stdout",
     "output_type": "stream",
     "text": [
      "8\n",
      "Positive\n"
     ]
    }
   ],
   "source": [
    "number = int(input())\n",
    "if number>0:\n",
    "    print(\"Positive\")\n",
    "elif number<0:\n",
    "    print(\"Negative\")\n",
    "else:\n",
    "    print(\"Zero\")"
   ]
  },
  {
   "cell_type": "markdown",
   "metadata": {},
   "source": [
    "### Q6. Feedback system ;- Take string feedback from a user \n",
    "\n",
    "* Now if the feedback is provided , Print(\"Thank you for providing the feedback\")\n",
    "* if feedback is \"Super\",\"Great\",\"Fantastic\",\"Awesome\", print(\"Thank you so much!\")\n"
   ]
  },
  {
   "cell_type": "code",
   "execution_count": 24,
   "metadata": {},
   "outputs": [
    {
     "name": "stdout",
     "output_type": "stream",
     "text": [
      "Nice\n",
      "Thank you for providing the feedback\n"
     ]
    }
   ],
   "source": [
    "feedback = input()\n",
    "type(feedback)\n",
    "\n",
    "if feedback:\n",
    "    print(\"Thank you for providing the feedback\")\n",
    "elif feedback.lower() == \"Super\" or \"Great\" or \"Fantastic\" or \"Awesome\":\n",
    "    print(\"Thank you so much!\")\n",
    "    \n"
   ]
  },
  {
   "cell_type": "code",
   "execution_count": 25,
   "metadata": {},
   "outputs": [
    {
     "name": "stdout",
     "output_type": "stream",
     "text": [
      "Awesome\n",
      "Thank you!\n"
     ]
    }
   ],
   "source": [
    "feedback = input()\n",
    "if feedback == \" \":\n",
    "    print(\"Please provide feedback next time.\")\n",
    "else:\n",
    "    if feedback.lower() == \"Super\" or \"Awesome\":\n",
    "        print(\"Thank you!\")"
   ]
  },
  {
   "cell_type": "markdown",
   "metadata": {},
   "source": [
    "### Q7. FIZZBUZZ -> Take a input N. If N is a multiple of 3 print FIZZ elseif N is multiple of 5 print BUZZ else if N is a multiple of both 3&5 print FIZZBUZZ"
   ]
  },
  {
   "cell_type": "code",
   "execution_count": 26,
   "metadata": {},
   "outputs": [
    {
     "name": "stdout",
     "output_type": "stream",
     "text": [
      "3\n",
      "FIZZ\n"
     ]
    }
   ],
   "source": [
    "n = int(input())\n",
    "if n%3==0:\n",
    "    print(\"FIZZ\")\n",
    "elif n%5 ==0:\n",
    "    print(\"BUZZ\")\n",
    "elif n%3==0 and n%5==0:\n",
    "    print(\"FIZZBUZZ\")"
   ]
  },
  {
   "cell_type": "code",
   "execution_count": 27,
   "metadata": {},
   "outputs": [
    {
     "name": "stdout",
     "output_type": "stream",
     "text": [
      "5\n",
      "BUZZ\n"
     ]
    }
   ],
   "source": [
    "n = int(input())\n",
    "if n%3 ==0 and n%5==0:\n",
    "    print(\"FIZZBUZZ\")\n",
    "elif n%3 ==0:\n",
    "    print(\"FIZZ\")\n",
    "elif n%5 ==0:\n",
    "    print(\"BUZZ\")\n"
   ]
  },
  {
   "cell_type": "markdown",
   "metadata": {},
   "source": [
    "### Q8. Take 3 input from a user which are marks in english,maths & science . Assign streams according to the following criteria ;-\n",
    "\n",
    "* if science>90 or marks in all are <75 ---> Science\n",
    "* if marks in all are >60 and >75 ----> commerce\n",
    "* if marks in all are <60 ---> Humanities"
   ]
  },
  {
   "cell_type": "code",
   "execution_count": 30,
   "metadata": {},
   "outputs": [
    {
     "name": "stdout",
     "output_type": "stream",
     "text": [
      "Enter Science Marks - 75\n",
      "Enter Maths Marks - 75\n",
      "Enter English Marks - 75\n",
      "Science\n"
     ]
    }
   ],
   "source": [
    "science = int(input(\"Enter Science Marks - \"))\n",
    "maths = int(input(\"Enter Maths Marks - \"))\n",
    "english = int(input(\"Enter English Marks - \"))\n",
    "\n",
    "if science>90 or (science>=75 and english>=75 and maths>=75):\n",
    "    print(\"Science\")\n",
    "elif (science>60) and (maths>60) and (english>60):\n",
    "    print(\"Commerce\")\n",
    "else:\n",
    "    print(\"Humanities\")\n",
    "    "
   ]
  },
  {
   "cell_type": "markdown",
   "metadata": {},
   "source": [
    "### Q9. Build a meter system for an auto.Take into two input. Kilometer Travelled and stall time(in minute) \n",
    "\n",
    "* Rate_List;- First 10 km --> Rs 10 per km\n",
    "* Next 40 kms -> Rs 9 per km\n",
    "* Next 100 kms --> Rs 8 per km\n",
    "\n",
    "\n",
    "* Any left over km count --> Rs 6 per km\n",
    "* Rs 5 extra for every minute of stall time"
   ]
  },
  {
   "cell_type": "code",
   "execution_count": null,
   "metadata": {
    "collapsed": true
   },
   "outputs": [],
   "source": []
  }
 ],
 "metadata": {
  "kernelspec": {
   "display_name": "Python 3 (ipykernel)",
   "language": "python",
   "name": "python3"
  },
  "language_info": {
   "codemirror_mode": {
    "name": "ipython",
    "version": 3
   },
   "file_extension": ".py",
   "mimetype": "text/x-python",
   "name": "python",
   "nbconvert_exporter": "python",
   "pygments_lexer": "ipython3",
   "version": "3.11.4"
  }
 },
 "nbformat": 4,
 "nbformat_minor": 2
}
