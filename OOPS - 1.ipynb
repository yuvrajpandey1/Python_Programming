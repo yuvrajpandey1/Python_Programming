{
 "cells": [
  {
   "cell_type": "markdown",
   "id": "b26c0760",
   "metadata": {},
   "source": [
    "### OOP -> Object Oriented Programming"
   ]
  },
  {
   "cell_type": "markdown",
   "id": "a0bba0e6",
   "metadata": {},
   "source": [
    "* This is the one of the programming paradigm\n",
    "* Paradigm is nothing but a style,ways,process of a program\n",
    "* E.g Suppose task is to prepare a maggie , so their is many ways and process to make maggie result will be same"
   ]
  },
  {
   "cell_type": "markdown",
   "id": "b5a8cadf",
   "metadata": {},
   "source": [
    "### In industry generally we have 2 kinds of Paradigm \n",
    "* 1. OOP\n",
    "* 2. Functional Programming "
   ]
  },
  {
   "cell_type": "markdown",
   "id": "f7987336",
   "metadata": {},
   "source": [
    "* Class -> class is a kind of a blue-print (structure)\n",
    "* Object -> object is nothing but instance of a class (object of a structure)"
   ]
  },
  {
   "cell_type": "markdown",
   "id": "260c32c9",
   "metadata": {},
   "source": [
    "* Class Student:\n",
    "    * Class generally have two major properties / segment \n",
    "    * 1. Properties (Attributes/variables)\n",
    "    * 2. Actions (Methods/Function)"
   ]
  },
  {
   "cell_type": "markdown",
   "id": "46e15a50",
   "metadata": {},
   "source": [
    "* Every stuents have their own properties thier name,age & address\n",
    "* Every students can read , write , walk, Talk"
   ]
  },
  {
   "cell_type": "markdown",
   "id": "d7819602",
   "metadata": {},
   "source": [
    "* Properties should be brand of car, color & model of car\n",
    "* Actions is like apply-break , accelerate, etc."
   ]
  },
  {
   "cell_type": "markdown",
   "id": "5a850ecc",
   "metadata": {},
   "source": [
    "* Class is a keyword"
   ]
  },
  {
   "cell_type": "code",
   "execution_count": 1,
   "id": "24455c5b",
   "metadata": {},
   "outputs": [
    {
     "ename": "SyntaxError",
     "evalue": "incomplete input (1006806464.py, line 4)",
     "output_type": "error",
     "traceback": [
      "\u001b[1;36m  Cell \u001b[1;32mIn[1], line 4\u001b[1;36m\u001b[0m\n\u001b[1;33m    \u001b[0m\n\u001b[1;37m    ^\u001b[0m\n\u001b[1;31mSyntaxError\u001b[0m\u001b[1;31m:\u001b[0m incomplete input\n"
     ]
    }
   ],
   "source": [
    "class Student:\n",
    "    # methods\n",
    "    # attributes / properties\n",
    "    "
   ]
  },
  {
   "cell_type": "code",
   "execution_count": 2,
   "id": "6e6840ed",
   "metadata": {},
   "outputs": [],
   "source": [
    "class Student:\n",
    "    # methods\n",
    "    # attributes / properties\n",
    "    pass"
   ]
  },
  {
   "cell_type": "code",
   "execution_count": 3,
   "id": "71cd0408",
   "metadata": {},
   "outputs": [],
   "source": [
    "## Create instance or object of the class\n",
    "a = Student()"
   ]
  },
  {
   "cell_type": "markdown",
   "id": "a2143b68",
   "metadata": {},
   "source": [
    "* a is an instance / object of the type Student "
   ]
  },
  {
   "cell_type": "code",
   "execution_count": 4,
   "id": "f7672851",
   "metadata": {},
   "outputs": [
    {
     "data": {
      "text/plain": [
       "__main__.Student"
      ]
     },
     "execution_count": 4,
     "metadata": {},
     "output_type": "execute_result"
    }
   ],
   "source": [
    "type(a)"
   ]
  },
  {
   "cell_type": "markdown",
   "id": "7565d1e2",
   "metadata": {},
   "source": [
    "* Type actual tell you data types"
   ]
  },
  {
   "cell_type": "code",
   "execution_count": 5,
   "id": "afc0254f",
   "metadata": {},
   "outputs": [
    {
     "data": {
      "text/plain": [
       "True"
      ]
     },
     "execution_count": 5,
     "metadata": {},
     "output_type": "execute_result"
    }
   ],
   "source": [
    "isinstance(3,int)"
   ]
  },
  {
   "cell_type": "code",
   "execution_count": 7,
   "id": "fa0ddf03",
   "metadata": {},
   "outputs": [
    {
     "data": {
      "text/plain": [
       "True"
      ]
     },
     "execution_count": 7,
     "metadata": {},
     "output_type": "execute_result"
    }
   ],
   "source": [
    "isinstance(a,Student)"
   ]
  },
  {
   "cell_type": "markdown",
   "id": "d359ebff",
   "metadata": {},
   "source": [
    "### 4 pillars of OOP"
   ]
  },
  {
   "cell_type": "markdown",
   "id": "d73847a3",
   "metadata": {},
   "source": [
    "* 1. Encapsulation -> Putting things together (Capsule-> their is outer coating within that we have medicine)(Binding the entire medicine together)\n",
    "* While creating a class we are performing encapsulation putting things together "
   ]
  },
  {
   "cell_type": "markdown",
   "id": "e2ae3cd6",
   "metadata": {},
   "source": [
    "* 2. Abstraction -> Hiding away uncessary/ implementation details with user \n",
    "* E.g -> driving a car does not need to know about Mechanical Engineering knowledge ragards Engine Accelaration\n",
    "* Only need to know Stering , Acceleration, Break, Clutches."
   ]
  },
  {
   "cell_type": "markdown",
   "id": "2283ee46",
   "metadata": {},
   "source": [
    "* 3. Inheritance -> Child class inherit the property of parents class"
   ]
  },
  {
   "cell_type": "code",
   "execution_count": 8,
   "id": "0c1ddfb7",
   "metadata": {},
   "outputs": [
    {
     "data": {
      "text/plain": [
       "8"
      ]
     },
     "execution_count": 8,
     "metadata": {},
     "output_type": "execute_result"
    }
   ],
   "source": [
    "3+5 # addition"
   ]
  },
  {
   "cell_type": "code",
   "execution_count": 9,
   "id": "99f5a7d7",
   "metadata": {},
   "outputs": [
    {
     "data": {
      "text/plain": [
       "'AB'"
      ]
     },
     "execution_count": 9,
     "metadata": {},
     "output_type": "execute_result"
    }
   ],
   "source": [
    "\"A\" + \"B\"  #Concatenation"
   ]
  },
  {
   "cell_type": "markdown",
   "id": "d9e32ffc",
   "metadata": {},
   "source": [
    "* 4. Polymorphism -> Same entity , sytax or operator behaving differently on the basis of the situation \n",
    "* If using integer the behaviour is different if using string behaviour is different"
   ]
  },
  {
   "cell_type": "code",
   "execution_count": 10,
   "id": "85a15516",
   "metadata": {},
   "outputs": [],
   "source": [
    "class Student:\n",
    "    pass"
   ]
  },
  {
   "cell_type": "code",
   "execution_count": 11,
   "id": "f1f00fdf",
   "metadata": {},
   "outputs": [],
   "source": [
    "s1 = Student()"
   ]
  },
  {
   "cell_type": "code",
   "execution_count": 12,
   "id": "3fb27074",
   "metadata": {},
   "outputs": [],
   "source": [
    "s1.name = \"Yuvraj\""
   ]
  },
  {
   "cell_type": "code",
   "execution_count": 13,
   "id": "93b9e3bc",
   "metadata": {},
   "outputs": [
    {
     "data": {
      "text/plain": [
       "'Yuvraj'"
      ]
     },
     "execution_count": 13,
     "metadata": {},
     "output_type": "execute_result"
    }
   ],
   "source": [
    "s1.name"
   ]
  },
  {
   "cell_type": "code",
   "execution_count": 14,
   "id": "997974ff",
   "metadata": {},
   "outputs": [
    {
     "ename": "AttributeError",
     "evalue": "'Student' object has no attribute 'city'",
     "output_type": "error",
     "traceback": [
      "\u001b[1;31m---------------------------------------------------------------------------\u001b[0m",
      "\u001b[1;31mAttributeError\u001b[0m                            Traceback (most recent call last)",
      "Cell \u001b[1;32mIn[14], line 1\u001b[0m\n\u001b[1;32m----> 1\u001b[0m \u001b[43ms1\u001b[49m\u001b[38;5;241;43m.\u001b[39;49m\u001b[43mcity\u001b[49m\n",
      "\u001b[1;31mAttributeError\u001b[0m: 'Student' object has no attribute 'city'"
     ]
    }
   ],
   "source": [
    "s1.city"
   ]
  },
  {
   "cell_type": "code",
   "execution_count": 15,
   "id": "8e3e683e",
   "metadata": {},
   "outputs": [],
   "source": [
    "s2 = Student()"
   ]
  },
  {
   "cell_type": "code",
   "execution_count": 16,
   "id": "4edb8407",
   "metadata": {},
   "outputs": [
    {
     "ename": "AttributeError",
     "evalue": "'Student' object has no attribute 'name'",
     "output_type": "error",
     "traceback": [
      "\u001b[1;31m---------------------------------------------------------------------------\u001b[0m",
      "\u001b[1;31mAttributeError\u001b[0m                            Traceback (most recent call last)",
      "Cell \u001b[1;32mIn[16], line 1\u001b[0m\n\u001b[1;32m----> 1\u001b[0m \u001b[43ms2\u001b[49m\u001b[38;5;241;43m.\u001b[39;49m\u001b[43mname\u001b[49m\n",
      "\u001b[1;31mAttributeError\u001b[0m: 'Student' object has no attribute 'name'"
     ]
    }
   ],
   "source": [
    "s2.name"
   ]
  },
  {
   "cell_type": "code",
   "execution_count": 17,
   "id": "217865f2",
   "metadata": {},
   "outputs": [],
   "source": [
    "# define functionality within a class\n",
    "class Student:\n",
    "    def hello():\n",
    "        print(\"Hello!\")"
   ]
  },
  {
   "cell_type": "code",
   "execution_count": 18,
   "id": "7de462b0",
   "metadata": {},
   "outputs": [],
   "source": [
    "s1 = Student()"
   ]
  },
  {
   "cell_type": "code",
   "execution_count": 19,
   "id": "47eb5e35",
   "metadata": {},
   "outputs": [
    {
     "ename": "TypeError",
     "evalue": "Student.hello() takes 0 positional arguments but 1 was given",
     "output_type": "error",
     "traceback": [
      "\u001b[1;31m---------------------------------------------------------------------------\u001b[0m",
      "\u001b[1;31mTypeError\u001b[0m                                 Traceback (most recent call last)",
      "Cell \u001b[1;32mIn[19], line 1\u001b[0m\n\u001b[1;32m----> 1\u001b[0m \u001b[43ms1\u001b[49m\u001b[38;5;241;43m.\u001b[39;49m\u001b[43mhello\u001b[49m\u001b[43m(\u001b[49m\u001b[43m)\u001b[49m\n",
      "\u001b[1;31mTypeError\u001b[0m: Student.hello() takes 0 positional arguments but 1 was given"
     ]
    }
   ],
   "source": [
    "s1.hello()"
   ]
  },
  {
   "cell_type": "code",
   "execution_count": 20,
   "id": "a46ffc24",
   "metadata": {},
   "outputs": [],
   "source": [
    "class Student:\n",
    "    def hello(self):\n",
    "        print(\"Hello\")\n",
    "    "
   ]
  },
  {
   "cell_type": "code",
   "execution_count": 21,
   "id": "f1563001",
   "metadata": {},
   "outputs": [],
   "source": [
    "s1 = Student()"
   ]
  },
  {
   "cell_type": "code",
   "execution_count": 22,
   "id": "9daa28a9",
   "metadata": {},
   "outputs": [
    {
     "name": "stdout",
     "output_type": "stream",
     "text": [
      "Hello\n"
     ]
    }
   ],
   "source": [
    "s1.hello()"
   ]
  },
  {
   "cell_type": "markdown",
   "id": "1f4f2927",
   "metadata": {},
   "source": [
    "### Explanation"
   ]
  },
  {
   "cell_type": "code",
   "execution_count": 27,
   "id": "9dbfa57a",
   "metadata": {},
   "outputs": [],
   "source": [
    "class Student:\n",
    "    def hello(self):\n",
    "        print(id(self))\n",
    "    "
   ]
  },
  {
   "cell_type": "code",
   "execution_count": 28,
   "id": "4c858243",
   "metadata": {},
   "outputs": [],
   "source": [
    "s1 = Student()"
   ]
  },
  {
   "cell_type": "code",
   "execution_count": 29,
   "id": "10c0b5a5",
   "metadata": {},
   "outputs": [
    {
     "name": "stdout",
     "output_type": "stream",
     "text": [
      "2556573726848\n"
     ]
    }
   ],
   "source": [
    "s1.hello()"
   ]
  },
  {
   "cell_type": "code",
   "execution_count": 31,
   "id": "83acdec9",
   "metadata": {},
   "outputs": [
    {
     "name": "stdout",
     "output_type": "stream",
     "text": [
      "2556573726848\n"
     ]
    }
   ],
   "source": [
    "print(id(s1))"
   ]
  },
  {
   "cell_type": "code",
   "execution_count": 32,
   "id": "28ea0822",
   "metadata": {},
   "outputs": [],
   "source": [
    "# s11.hello() --> internally this changes happening : Student.hello(s1)\n",
    "# class_name.hello passing refrenence into this object as parameter"
   ]
  },
  {
   "cell_type": "markdown",
   "id": "adcd6ecd",
   "metadata": {},
   "source": [
    "* isinstance(Student, object)\n",
    "* Because in python everything is technically an object, including classes."
   ]
  },
  {
   "cell_type": "code",
   "execution_count": null,
   "id": "1d10b0f2",
   "metadata": {},
   "outputs": [],
   "source": []
  },
  {
   "cell_type": "markdown",
   "id": "150d5369",
   "metadata": {},
   "source": [
    "### Constructor"
   ]
  },
  {
   "cell_type": "markdown",
   "id": "1bc9c687",
   "metadata": {},
   "source": [
    "* Constructor is generally perform two task 1. assign a memory for particular object 2. Initialize that object (set.name)\n",
    "* In python memory allocation is done by automatically \n",
    "* Main role is the initilie the object \n",
    "\n",
    "\n",
    "* Python does not give us access to any constructor\n",
    "* It gives us --init--    -> is an initializer function to initialize the object\n"
   ]
  },
  {
   "cell_type": "markdown",
   "id": "66607e38",
   "metadata": {},
   "source": [
    "### Lifecycle of an object in Python"
   ]
  },
  {
   "cell_type": "code",
   "execution_count": 33,
   "id": "36f0e4f0",
   "metadata": {},
   "outputs": [],
   "source": [
    "a = Student()\n",
    "# internally this --init-- will called to intialize the object\n",
    "# first methods that get executed"
   ]
  },
  {
   "cell_type": "markdown",
   "id": "110797e2",
   "metadata": {},
   "source": [
    "* This init is also called a Magic Methods \n",
    "* Any methods with -- is know as Magic Methods provided by system"
   ]
  },
  {
   "cell_type": "code",
   "execution_count": null,
   "id": "910a5e55",
   "metadata": {},
   "outputs": [],
   "source": []
  },
  {
   "cell_type": "code",
   "execution_count": 34,
   "id": "624dda0e",
   "metadata": {},
   "outputs": [],
   "source": [
    "class Student:\n",
    "    def __init__(self,name,age):\n",
    "        self.name=name\n",
    "        self.age=age\n",
    "    "
   ]
  },
  {
   "cell_type": "code",
   "execution_count": 35,
   "id": "1ad56ac9",
   "metadata": {},
   "outputs": [
    {
     "ename": "TypeError",
     "evalue": "Student.__init__() missing 2 required positional arguments: 'name' and 'age'",
     "output_type": "error",
     "traceback": [
      "\u001b[1;31m---------------------------------------------------------------------------\u001b[0m",
      "\u001b[1;31mTypeError\u001b[0m                                 Traceback (most recent call last)",
      "Cell \u001b[1;32mIn[35], line 1\u001b[0m\n\u001b[1;32m----> 1\u001b[0m s1 \u001b[38;5;241m=\u001b[39m \u001b[43mStudent\u001b[49m\u001b[43m(\u001b[49m\u001b[43m)\u001b[49m\n",
      "\u001b[1;31mTypeError\u001b[0m: Student.__init__() missing 2 required positional arguments: 'name' and 'age'"
     ]
    }
   ],
   "source": [
    "s1 = Student()"
   ]
  },
  {
   "cell_type": "code",
   "execution_count": 37,
   "id": "9f0ca819",
   "metadata": {},
   "outputs": [
    {
     "data": {
      "text/plain": [
       "<__main__.Student at 0x2533fab2b60>"
      ]
     },
     "execution_count": 37,
     "metadata": {},
     "output_type": "execute_result"
    }
   ],
   "source": [
    "s1 = Student(\"Yuvraj\",25)\n",
    "s1"
   ]
  },
  {
   "cell_type": "code",
   "execution_count": 38,
   "id": "fa43510f",
   "metadata": {},
   "outputs": [
    {
     "data": {
      "text/plain": [
       "'Yuvraj'"
      ]
     },
     "execution_count": 38,
     "metadata": {},
     "output_type": "execute_result"
    }
   ],
   "source": [
    "s1.name"
   ]
  },
  {
   "cell_type": "code",
   "execution_count": 39,
   "id": "df0d59c5",
   "metadata": {},
   "outputs": [
    {
     "data": {
      "text/plain": [
       "25"
      ]
     },
     "execution_count": 39,
     "metadata": {},
     "output_type": "execute_result"
    }
   ],
   "source": [
    "s1.age"
   ]
  },
  {
   "cell_type": "code",
   "execution_count": 40,
   "id": "ef6dc6e6",
   "metadata": {},
   "outputs": [],
   "source": [
    "s2 = Student(\"Random\",40)\n",
    "\n",
    "\n",
    "#student.__init__(s1,\"Random\",40)"
   ]
  },
  {
   "cell_type": "code",
   "execution_count": 41,
   "id": "6d9a7368",
   "metadata": {},
   "outputs": [
    {
     "data": {
      "text/plain": [
       "'Random'"
      ]
     },
     "execution_count": 41,
     "metadata": {},
     "output_type": "execute_result"
    }
   ],
   "source": [
    "s2.name"
   ]
  },
  {
   "cell_type": "code",
   "execution_count": 42,
   "id": "c573250a",
   "metadata": {},
   "outputs": [
    {
     "data": {
      "text/plain": [
       "40"
      ]
     },
     "execution_count": 42,
     "metadata": {},
     "output_type": "execute_result"
    }
   ],
   "source": [
    "s2.age"
   ]
  },
  {
   "cell_type": "markdown",
   "id": "9a2f9452",
   "metadata": {},
   "source": [
    "### Class vs instance variables"
   ]
  },
  {
   "cell_type": "code",
   "execution_count": 43,
   "id": "639cd9a3",
   "metadata": {},
   "outputs": [],
   "source": [
    "class Dog:\n",
    "    \n",
    "    def __init__(self,name):\n",
    "        self.name = name"
   ]
  },
  {
   "cell_type": "code",
   "execution_count": 44,
   "id": "312c1c4e",
   "metadata": {},
   "outputs": [],
   "source": [
    "d1 = Dog(\"Dollar\")\n",
    "d2 = Dog(\"Scooby\")"
   ]
  },
  {
   "cell_type": "code",
   "execution_count": 45,
   "id": "50c376e7",
   "metadata": {},
   "outputs": [
    {
     "data": {
      "text/plain": [
       "'Dollar'"
      ]
     },
     "execution_count": 45,
     "metadata": {},
     "output_type": "execute_result"
    }
   ],
   "source": [
    "d1.name"
   ]
  },
  {
   "cell_type": "code",
   "execution_count": 46,
   "id": "a8c84cbc",
   "metadata": {},
   "outputs": [
    {
     "data": {
      "text/plain": [
       "'Scooby'"
      ]
     },
     "execution_count": 46,
     "metadata": {},
     "output_type": "execute_result"
    }
   ],
   "source": [
    "d2.name"
   ]
  },
  {
   "cell_type": "code",
   "execution_count": 47,
   "id": "32eb7243",
   "metadata": {},
   "outputs": [],
   "source": [
    "class Dog:\n",
    "    \n",
    "    kind=\"Labrador\"  #class variable(global)\n",
    "    \n",
    "    def __init__(self,name):\n",
    "        self.name = name  #instance variable(local)"
   ]
  },
  {
   "cell_type": "code",
   "execution_count": 48,
   "id": "1de55102",
   "metadata": {},
   "outputs": [],
   "source": [
    "d1=Dog(\"Dollar\")\n",
    "d2=Dog(\"Scooby\")"
   ]
  },
  {
   "cell_type": "code",
   "execution_count": 49,
   "id": "e3bd2798",
   "metadata": {},
   "outputs": [
    {
     "data": {
      "text/plain": [
       "'Dollar'"
      ]
     },
     "execution_count": 49,
     "metadata": {},
     "output_type": "execute_result"
    }
   ],
   "source": [
    "d1.name"
   ]
  },
  {
   "cell_type": "code",
   "execution_count": 50,
   "id": "f5c69a4a",
   "metadata": {},
   "outputs": [
    {
     "data": {
      "text/plain": [
       "'Scooby'"
      ]
     },
     "execution_count": 50,
     "metadata": {},
     "output_type": "execute_result"
    }
   ],
   "source": [
    "d2.name"
   ]
  },
  {
   "cell_type": "code",
   "execution_count": 51,
   "id": "3c68fbb4",
   "metadata": {},
   "outputs": [
    {
     "data": {
      "text/plain": [
       "'Labrador'"
      ]
     },
     "execution_count": 51,
     "metadata": {},
     "output_type": "execute_result"
    }
   ],
   "source": [
    "d1.kind"
   ]
  },
  {
   "cell_type": "code",
   "execution_count": 52,
   "id": "9d2936f8",
   "metadata": {},
   "outputs": [
    {
     "data": {
      "text/plain": [
       "'Labrador'"
      ]
     },
     "execution_count": 52,
     "metadata": {},
     "output_type": "execute_result"
    }
   ],
   "source": [
    "d2.kind"
   ]
  },
  {
   "cell_type": "code",
   "execution_count": 53,
   "id": "a316d724",
   "metadata": {},
   "outputs": [
    {
     "data": {
      "text/plain": [
       "'Labrador'"
      ]
     },
     "execution_count": 53,
     "metadata": {},
     "output_type": "execute_result"
    }
   ],
   "source": [
    "Dog.kind"
   ]
  },
  {
   "cell_type": "code",
   "execution_count": 54,
   "id": "2fc1bf2a",
   "metadata": {},
   "outputs": [
    {
     "ename": "AttributeError",
     "evalue": "type object 'Dog' has no attribute 'name'",
     "output_type": "error",
     "traceback": [
      "\u001b[1;31m---------------------------------------------------------------------------\u001b[0m",
      "\u001b[1;31mAttributeError\u001b[0m                            Traceback (most recent call last)",
      "Cell \u001b[1;32mIn[54], line 1\u001b[0m\n\u001b[1;32m----> 1\u001b[0m \u001b[43mDog\u001b[49m\u001b[38;5;241;43m.\u001b[39;49m\u001b[43mname\u001b[49m\n",
      "\u001b[1;31mAttributeError\u001b[0m: type object 'Dog' has no attribute 'name'"
     ]
    }
   ],
   "source": [
    "Dog.name"
   ]
  },
  {
   "cell_type": "code",
   "execution_count": 55,
   "id": "50d3871a",
   "metadata": {},
   "outputs": [],
   "source": [
    "d1.kind=\"Pug\""
   ]
  },
  {
   "cell_type": "code",
   "execution_count": 56,
   "id": "6ac97b02",
   "metadata": {},
   "outputs": [
    {
     "data": {
      "text/plain": [
       "'Pug'"
      ]
     },
     "execution_count": 56,
     "metadata": {},
     "output_type": "execute_result"
    }
   ],
   "source": [
    "d1.kind"
   ]
  },
  {
   "cell_type": "code",
   "execution_count": 57,
   "id": "e719ba8c",
   "metadata": {},
   "outputs": [
    {
     "data": {
      "text/plain": [
       "'Labrador'"
      ]
     },
     "execution_count": 57,
     "metadata": {},
     "output_type": "execute_result"
    }
   ],
   "source": [
    "d2.kind"
   ]
  },
  {
   "cell_type": "code",
   "execution_count": 58,
   "id": "efc037fe",
   "metadata": {},
   "outputs": [
    {
     "data": {
      "text/plain": [
       "'Labrador'"
      ]
     },
     "execution_count": 58,
     "metadata": {},
     "output_type": "execute_result"
    }
   ],
   "source": [
    "Dog.kind"
   ]
  },
  {
   "cell_type": "code",
   "execution_count": 59,
   "id": "dc55cf62",
   "metadata": {},
   "outputs": [],
   "source": [
    "d3 = Dog(\"Tommy\")"
   ]
  },
  {
   "cell_type": "code",
   "execution_count": 60,
   "id": "81ecadb8",
   "metadata": {},
   "outputs": [
    {
     "data": {
      "text/plain": [
       "'Tommy'"
      ]
     },
     "execution_count": 60,
     "metadata": {},
     "output_type": "execute_result"
    }
   ],
   "source": [
    "d3.name"
   ]
  },
  {
   "cell_type": "code",
   "execution_count": 61,
   "id": "3e4bdaea",
   "metadata": {},
   "outputs": [
    {
     "data": {
      "text/plain": [
       "'Labrador'"
      ]
     },
     "execution_count": 61,
     "metadata": {},
     "output_type": "execute_result"
    }
   ],
   "source": [
    "d3.kind"
   ]
  },
  {
   "cell_type": "code",
   "execution_count": 62,
   "id": "e3d02ae9",
   "metadata": {},
   "outputs": [],
   "source": [
    "Dog.kind = \"Bulldog\" #Changing the class variable by directly using class_name.attribute to change it"
   ]
  },
  {
   "cell_type": "code",
   "execution_count": 63,
   "id": "c6f17d8e",
   "metadata": {},
   "outputs": [
    {
     "data": {
      "text/plain": [
       "'Bulldog'"
      ]
     },
     "execution_count": 63,
     "metadata": {},
     "output_type": "execute_result"
    }
   ],
   "source": [
    "d2.kind"
   ]
  },
  {
   "cell_type": "code",
   "execution_count": 64,
   "id": "1a62cd79",
   "metadata": {},
   "outputs": [
    {
     "data": {
      "text/plain": [
       "'Bulldog'"
      ]
     },
     "execution_count": 64,
     "metadata": {},
     "output_type": "execute_result"
    }
   ],
   "source": [
    "d3.kind"
   ]
  },
  {
   "cell_type": "code",
   "execution_count": 65,
   "id": "19769dc6",
   "metadata": {},
   "outputs": [
    {
     "data": {
      "text/plain": [
       "'Pug'"
      ]
     },
     "execution_count": 65,
     "metadata": {},
     "output_type": "execute_result"
    }
   ],
   "source": [
    "d1.kind"
   ]
  },
  {
   "cell_type": "code",
   "execution_count": 66,
   "id": "0107a88d",
   "metadata": {},
   "outputs": [],
   "source": [
    "class Dog:\n",
    "    tricks = []   #class variable\n",
    "    \n",
    "    def __init__(self,name):\n",
    "        self.name=name  #instance variable\n",
    "        \n",
    "    def teach_trick(self,trick):\n",
    "        self.tricks.append(trick)"
   ]
  },
  {
   "cell_type": "code",
   "execution_count": 67,
   "id": "138c79ee",
   "metadata": {},
   "outputs": [],
   "source": [
    "d1=Dog(\"Dollar\")\n",
    "d2=Dog(\"Scooby\")"
   ]
  },
  {
   "cell_type": "code",
   "execution_count": 68,
   "id": "a9bf2ab4",
   "metadata": {},
   "outputs": [],
   "source": [
    "d1.teach_trick(\"Jump\")\n"
   ]
  },
  {
   "cell_type": "code",
   "execution_count": 69,
   "id": "149998c7",
   "metadata": {},
   "outputs": [
    {
     "data": {
      "text/plain": [
       "['Jump']"
      ]
     },
     "execution_count": 69,
     "metadata": {},
     "output_type": "execute_result"
    }
   ],
   "source": [
    "d1.tricks"
   ]
  },
  {
   "cell_type": "code",
   "execution_count": 70,
   "id": "d1426710",
   "metadata": {},
   "outputs": [],
   "source": [
    "d2.teach_trick(\"High five\")"
   ]
  },
  {
   "cell_type": "code",
   "execution_count": 71,
   "id": "43ae3c73",
   "metadata": {},
   "outputs": [
    {
     "data": {
      "text/plain": [
       "['Jump', 'High five']"
      ]
     },
     "execution_count": 71,
     "metadata": {},
     "output_type": "execute_result"
    }
   ],
   "source": [
    "d2.tricks"
   ]
  },
  {
   "cell_type": "code",
   "execution_count": 72,
   "id": "86d1be55",
   "metadata": {},
   "outputs": [
    {
     "data": {
      "text/plain": [
       "'\\nwhen updating a class variable using an object :\\n-> In case of mutable -> New instance variable gets created\\n-> In case of immutable -> Original class variable gets modified \\n'"
      ]
     },
     "execution_count": 72,
     "metadata": {},
     "output_type": "execute_result"
    }
   ],
   "source": [
    "'''\n",
    "when updating a class variable using an object :\n",
    "-> In case of mutable -> New instance variable gets created\n",
    "-> In case of immutable -> Original class variable gets modified \n",
    "'''"
   ]
  },
  {
   "cell_type": "markdown",
   "id": "2eaa90aa",
   "metadata": {},
   "source": [
    "#### What is the difference between class variable and instance variable in Pythom\n",
    "* Class variable shared across instance, Instance variable are specific to that instance "
   ]
  },
  {
   "cell_type": "code",
   "execution_count": null,
   "id": "169fe923",
   "metadata": {},
   "outputs": [],
   "source": []
  }
 ],
 "metadata": {
  "kernelspec": {
   "display_name": "Python 3 (ipykernel)",
   "language": "python",
   "name": "python3"
  },
  "language_info": {
   "codemirror_mode": {
    "name": "ipython",
    "version": 3
   },
   "file_extension": ".py",
   "mimetype": "text/x-python",
   "name": "python",
   "nbconvert_exporter": "python",
   "pygments_lexer": "ipython3",
   "version": "3.10.9"
  }
 },
 "nbformat": 4,
 "nbformat_minor": 5
}
