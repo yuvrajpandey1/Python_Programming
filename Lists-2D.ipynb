{
 "cells": [
  {
   "cell_type": "code",
   "execution_count": 1,
   "id": "7dc1014e",
   "metadata": {},
   "outputs": [
    {
     "data": {
      "text/plain": [
       "'\\nQuestion 1 ;- \\nRotate a list by 1 element\\n\\n[1,2,3,4,5] -> last element is removed and added to the start\\n[5,1,2,3,4]\\n'"
      ]
     },
     "execution_count": 1,
     "metadata": {},
     "output_type": "execute_result"
    }
   ],
   "source": [
    "'''\n",
    "Question 1 ;- \n",
    "Rotate a list by 1 element\n",
    "\n",
    "[1,2,3,4,5] -> last element is removed and added to the start\n",
    "[5,1,2,3,4]\n",
    "'''"
   ]
  },
  {
   "cell_type": "code",
   "execution_count": 2,
   "id": "3212f7af",
   "metadata": {},
   "outputs": [],
   "source": [
    "a=[1,2,3,4,5]"
   ]
  },
  {
   "cell_type": "code",
   "execution_count": 3,
   "id": "566394eb",
   "metadata": {},
   "outputs": [
    {
     "data": {
      "text/plain": [
       "[1, 2, 3, 4, 5]"
      ]
     },
     "execution_count": 3,
     "metadata": {},
     "output_type": "execute_result"
    }
   ],
   "source": [
    "a"
   ]
  },
  {
   "cell_type": "code",
   "execution_count": 4,
   "id": "9481d72b",
   "metadata": {},
   "outputs": [],
   "source": [
    "last_element = a[-1]"
   ]
  },
  {
   "cell_type": "code",
   "execution_count": 5,
   "id": "f56e26dd",
   "metadata": {},
   "outputs": [
    {
     "data": {
      "text/plain": [
       "5"
      ]
     },
     "execution_count": 5,
     "metadata": {},
     "output_type": "execute_result"
    }
   ],
   "source": [
    "last_element"
   ]
  },
  {
   "cell_type": "code",
   "execution_count": 6,
   "id": "1faa1b02",
   "metadata": {},
   "outputs": [],
   "source": [
    "initial_elements = a[:len(a)-1]"
   ]
  },
  {
   "cell_type": "code",
   "execution_count": 8,
   "id": "b729b997",
   "metadata": {},
   "outputs": [
    {
     "data": {
      "text/plain": [
       "[1, 2, 3, 4]"
      ]
     },
     "execution_count": 8,
     "metadata": {},
     "output_type": "execute_result"
    }
   ],
   "source": [
    "initial_elements"
   ]
  },
  {
   "cell_type": "code",
   "execution_count": 10,
   "id": "b9513a07",
   "metadata": {},
   "outputs": [],
   "source": [
    "results = [last_element] + initial_elements"
   ]
  },
  {
   "cell_type": "code",
   "execution_count": 11,
   "id": "88d13e8e",
   "metadata": {},
   "outputs": [
    {
     "data": {
      "text/plain": [
       "[5, 1, 2, 3, 4]"
      ]
     },
     "execution_count": 11,
     "metadata": {},
     "output_type": "execute_result"
    }
   ],
   "source": [
    "results"
   ]
  },
  {
   "cell_type": "code",
   "execution_count": 12,
   "id": "958d0863",
   "metadata": {},
   "outputs": [
    {
     "data": {
      "text/plain": [
       "[5, 1, 2, 3, 4]"
      ]
     },
     "execution_count": 12,
     "metadata": {},
     "output_type": "execute_result"
    }
   ],
   "source": [
    "result = [a[-1]] + a[:len(a)-1]\n",
    "result"
   ]
  },
  {
   "cell_type": "markdown",
   "id": "61e9fc76",
   "metadata": {},
   "source": [
    "* list.pop()  -> pops element at a particular index\n",
    "* list.remove() -> revomes a particular value from a list"
   ]
  },
  {
   "cell_type": "code",
   "execution_count": 13,
   "id": "b05e7bf2",
   "metadata": {},
   "outputs": [
    {
     "data": {
      "text/plain": [
       "[1, 2, 3, 4, 5]"
      ]
     },
     "execution_count": 13,
     "metadata": {},
     "output_type": "execute_result"
    }
   ],
   "source": [
    "a"
   ]
  },
  {
   "cell_type": "code",
   "execution_count": 14,
   "id": "072a48d8",
   "metadata": {},
   "outputs": [],
   "source": [
    "element = a.pop()\n",
    "# pop removes last element by default\n",
    "# reeturn that element"
   ]
  },
  {
   "cell_type": "code",
   "execution_count": 15,
   "id": "ce5a4110",
   "metadata": {},
   "outputs": [
    {
     "data": {
      "text/plain": [
       "5"
      ]
     },
     "execution_count": 15,
     "metadata": {},
     "output_type": "execute_result"
    }
   ],
   "source": [
    "element"
   ]
  },
  {
   "cell_type": "code",
   "execution_count": 17,
   "id": "b8c9ee9d",
   "metadata": {},
   "outputs": [
    {
     "data": {
      "text/plain": [
       "4"
      ]
     },
     "execution_count": 17,
     "metadata": {},
     "output_type": "execute_result"
    }
   ],
   "source": [
    "element = a.pop(2) # pop the element at the index provided\n",
    "element"
   ]
  },
  {
   "cell_type": "code",
   "execution_count": 18,
   "id": "98088e26",
   "metadata": {},
   "outputs": [],
   "source": [
    "# it does not return that element"
   ]
  },
  {
   "cell_type": "code",
   "execution_count": 19,
   "id": "35a4d8e0",
   "metadata": {},
   "outputs": [
    {
     "data": {
      "text/plain": [
       "[1, 2, 3, 4, 5, 4, 4, 4, 4, 5]"
      ]
     },
     "execution_count": 19,
     "metadata": {},
     "output_type": "execute_result"
    }
   ],
   "source": [
    "a = [1,2,3,4,5,4,4,4,4,5]\n",
    "a"
   ]
  },
  {
   "cell_type": "code",
   "execution_count": 20,
   "id": "3c8d3682",
   "metadata": {},
   "outputs": [],
   "source": [
    "element = a.remove(4)\n",
    "# remove the first occurence of particular value\n",
    "# It does not return that element"
   ]
  },
  {
   "cell_type": "code",
   "execution_count": 21,
   "id": "6d9af218",
   "metadata": {},
   "outputs": [
    {
     "data": {
      "text/plain": [
       "[1, 2, 3, 5, 4, 4, 4, 4, 5]"
      ]
     },
     "execution_count": 21,
     "metadata": {},
     "output_type": "execute_result"
    }
   ],
   "source": [
    "a"
   ]
  },
  {
   "cell_type": "code",
   "execution_count": 22,
   "id": "e9c78bcf",
   "metadata": {},
   "outputs": [
    {
     "name": "stdout",
     "output_type": "stream",
     "text": [
      "None\n"
     ]
    }
   ],
   "source": [
    "print(element)"
   ]
  },
  {
   "cell_type": "code",
   "execution_count": 23,
   "id": "4f29b809",
   "metadata": {},
   "outputs": [],
   "source": [
    "a = [1,2,3,4,5]"
   ]
  },
  {
   "cell_type": "code",
   "execution_count": 24,
   "id": "e14e1651",
   "metadata": {},
   "outputs": [],
   "source": [
    "a.insert(0,4)"
   ]
  },
  {
   "cell_type": "code",
   "execution_count": 25,
   "id": "ce653d2b",
   "metadata": {},
   "outputs": [
    {
     "data": {
      "text/plain": [
       "[4, 1, 2, 3, 4, 5]"
      ]
     },
     "execution_count": 25,
     "metadata": {},
     "output_type": "execute_result"
    }
   ],
   "source": [
    "a"
   ]
  },
  {
   "cell_type": "code",
   "execution_count": 26,
   "id": "b62f214b",
   "metadata": {},
   "outputs": [],
   "source": [
    "result = a.insert(0,a.pop())"
   ]
  },
  {
   "cell_type": "code",
   "execution_count": 27,
   "id": "2222b8aa",
   "metadata": {},
   "outputs": [],
   "source": [
    "result"
   ]
  },
  {
   "cell_type": "code",
   "execution_count": 28,
   "id": "d63cc812",
   "metadata": {},
   "outputs": [
    {
     "name": "stdout",
     "output_type": "stream",
     "text": [
      "None\n"
     ]
    }
   ],
   "source": [
    "print(result)"
   ]
  },
  {
   "cell_type": "code",
   "execution_count": 29,
   "id": "9e72541e",
   "metadata": {},
   "outputs": [],
   "source": [
    "a=[1,2,3,4,5]"
   ]
  },
  {
   "cell_type": "code",
   "execution_count": 30,
   "id": "2120ef79",
   "metadata": {},
   "outputs": [],
   "source": [
    "a.insert(0,a.pop())"
   ]
  },
  {
   "cell_type": "code",
   "execution_count": 31,
   "id": "1217ee1d",
   "metadata": {},
   "outputs": [
    {
     "data": {
      "text/plain": [
       "[5, 1, 2, 3, 4]"
      ]
     },
     "execution_count": 31,
     "metadata": {},
     "output_type": "execute_result"
    }
   ],
   "source": [
    "a"
   ]
  },
  {
   "cell_type": "markdown",
   "id": "2e05181b",
   "metadata": {},
   "source": [
    "### List Methods"
   ]
  },
  {
   "cell_type": "code",
   "execution_count": 32,
   "id": "8d0ad657",
   "metadata": {},
   "outputs": [
    {
     "data": {
      "text/plain": [
       "[5, 1, 2, 3, 4]"
      ]
     },
     "execution_count": 32,
     "metadata": {},
     "output_type": "execute_result"
    }
   ],
   "source": [
    "a\n"
   ]
  },
  {
   "cell_type": "code",
   "execution_count": 33,
   "id": "ecb253cb",
   "metadata": {},
   "outputs": [
    {
     "data": {
      "text/plain": [
       "2"
      ]
     },
     "execution_count": 33,
     "metadata": {},
     "output_type": "execute_result"
    }
   ],
   "source": [
    "a.index(2) # return the index corresponding to a particular value"
   ]
  },
  {
   "cell_type": "code",
   "execution_count": 34,
   "id": "a912dd0e",
   "metadata": {},
   "outputs": [],
   "source": [
    "a = [1,1,1,2,2,2,5,6,1,7,3,4]"
   ]
  },
  {
   "cell_type": "code",
   "execution_count": 35,
   "id": "95fa9526",
   "metadata": {},
   "outputs": [
    {
     "data": {
      "text/plain": [
       "3"
      ]
     },
     "execution_count": 35,
     "metadata": {},
     "output_type": "execute_result"
    }
   ],
   "source": [
    "a.count(2)"
   ]
  },
  {
   "cell_type": "code",
   "execution_count": 36,
   "id": "d359ab5b",
   "metadata": {},
   "outputs": [
    {
     "data": {
      "text/plain": [
       "1"
      ]
     },
     "execution_count": 36,
     "metadata": {},
     "output_type": "execute_result"
    }
   ],
   "source": [
    "a.count(7)"
   ]
  },
  {
   "cell_type": "code",
   "execution_count": 37,
   "id": "3bcfbdfc",
   "metadata": {},
   "outputs": [
    {
     "data": {
      "text/plain": [
       "'\\nQuestion 2;-\\nWrite a program to reverse a list\\n'"
      ]
     },
     "execution_count": 37,
     "metadata": {},
     "output_type": "execute_result"
    }
   ],
   "source": [
    "'''\n",
    "Question 2;-\n",
    "Write a program to reverse a list\n",
    "'''"
   ]
  },
  {
   "cell_type": "code",
   "execution_count": 38,
   "id": "c293ba98",
   "metadata": {},
   "outputs": [],
   "source": [
    "a = [1,2,3,4,5]"
   ]
  },
  {
   "cell_type": "code",
   "execution_count": 39,
   "id": "44b7f5ea",
   "metadata": {},
   "outputs": [],
   "source": [
    "a.reverse() # reverse the origianal list itself"
   ]
  },
  {
   "cell_type": "code",
   "execution_count": 40,
   "id": "3d99dad7",
   "metadata": {},
   "outputs": [
    {
     "data": {
      "text/plain": [
       "[5, 4, 3, 2, 1]"
      ]
     },
     "execution_count": 40,
     "metadata": {},
     "output_type": "execute_result"
    }
   ],
   "source": [
    "a"
   ]
  },
  {
   "cell_type": "code",
   "execution_count": 42,
   "id": "4b1eae74",
   "metadata": {},
   "outputs": [],
   "source": [
    "a = [1,2,3,4,5]"
   ]
  },
  {
   "cell_type": "code",
   "execution_count": 43,
   "id": "551b82f4",
   "metadata": {},
   "outputs": [
    {
     "data": {
      "text/plain": [
       "[1, 2, 3, 4, 5]"
      ]
     },
     "execution_count": 43,
     "metadata": {},
     "output_type": "execute_result"
    }
   ],
   "source": [
    "a[::]"
   ]
  },
  {
   "cell_type": "code",
   "execution_count": 44,
   "id": "3e9a571b",
   "metadata": {},
   "outputs": [
    {
     "data": {
      "text/plain": [
       "[5, 4, 3, 2, 1]"
      ]
     },
     "execution_count": 44,
     "metadata": {},
     "output_type": "execute_result"
    }
   ],
   "source": [
    "a[::-1]"
   ]
  },
  {
   "cell_type": "code",
   "execution_count": 45,
   "id": "744081a9",
   "metadata": {},
   "outputs": [
    {
     "data": {
      "text/plain": [
       "[1, 2, 3, 4, 5]"
      ]
     },
     "execution_count": 45,
     "metadata": {},
     "output_type": "execute_result"
    }
   ],
   "source": [
    "a"
   ]
  },
  {
   "cell_type": "code",
   "execution_count": 48,
   "id": "4d756758",
   "metadata": {},
   "outputs": [],
   "source": [
    "a_reversed = list(reversed(a))"
   ]
  },
  {
   "cell_type": "code",
   "execution_count": 49,
   "id": "fdaff64a",
   "metadata": {},
   "outputs": [
    {
     "data": {
      "text/plain": [
       "[5, 4, 3, 2, 1]"
      ]
     },
     "execution_count": 49,
     "metadata": {},
     "output_type": "execute_result"
    }
   ],
   "source": [
    "a_reversed"
   ]
  },
  {
   "cell_type": "code",
   "execution_count": 50,
   "id": "af7e4fd3",
   "metadata": {},
   "outputs": [
    {
     "data": {
      "text/plain": [
       "'\\na.reverse() -> reverse the original list\\na[::-1] -> Generate a new reversed version of the list\\nlist(reversed(a)) -> also generate a reversed version of the list\\n'"
      ]
     },
     "execution_count": 50,
     "metadata": {},
     "output_type": "execute_result"
    }
   ],
   "source": [
    "'''\n",
    "a.reverse() -> reverse the original list\n",
    "a[::-1] -> Generate a new reversed version of the list\n",
    "list(reversed(a)) -> also generate a reversed version of the list\n",
    "'''"
   ]
  },
  {
   "cell_type": "code",
   "execution_count": 51,
   "id": "fa41b9e8",
   "metadata": {},
   "outputs": [
    {
     "data": {
      "text/plain": [
       "[1, 2, 3, 4, 5]"
      ]
     },
     "execution_count": 51,
     "metadata": {},
     "output_type": "execute_result"
    }
   ],
   "source": [
    "sorted(a)"
   ]
  },
  {
   "cell_type": "code",
   "execution_count": 52,
   "id": "631b4c53",
   "metadata": {},
   "outputs": [
    {
     "data": {
      "text/plain": [
       "['__add__',\n",
       " '__class__',\n",
       " '__class_getitem__',\n",
       " '__contains__',\n",
       " '__delattr__',\n",
       " '__delitem__',\n",
       " '__dir__',\n",
       " '__doc__',\n",
       " '__eq__',\n",
       " '__format__',\n",
       " '__ge__',\n",
       " '__getattribute__',\n",
       " '__getitem__',\n",
       " '__getstate__',\n",
       " '__gt__',\n",
       " '__hash__',\n",
       " '__iadd__',\n",
       " '__imul__',\n",
       " '__init__',\n",
       " '__init_subclass__',\n",
       " '__iter__',\n",
       " '__le__',\n",
       " '__len__',\n",
       " '__lt__',\n",
       " '__mul__',\n",
       " '__ne__',\n",
       " '__new__',\n",
       " '__reduce__',\n",
       " '__reduce_ex__',\n",
       " '__repr__',\n",
       " '__reversed__',\n",
       " '__rmul__',\n",
       " '__setattr__',\n",
       " '__setitem__',\n",
       " '__sizeof__',\n",
       " '__str__',\n",
       " '__subclasshook__',\n",
       " 'append',\n",
       " 'clear',\n",
       " 'copy',\n",
       " 'count',\n",
       " 'extend',\n",
       " 'index',\n",
       " 'insert',\n",
       " 'pop',\n",
       " 'remove',\n",
       " 'reverse',\n",
       " 'sort']"
      ]
     },
     "execution_count": 52,
     "metadata": {},
     "output_type": "execute_result"
    }
   ],
   "source": [
    "dir(list)"
   ]
  },
  {
   "cell_type": "markdown",
   "id": "56ea77c7",
   "metadata": {},
   "source": [
    "### 2D-->Lists "
   ]
  },
  {
   "cell_type": "markdown",
   "id": "e9949ab6",
   "metadata": {},
   "source": [
    "* List is a heterogeneous in python\n",
    "* 2D list is List inside List"
   ]
  },
  {
   "cell_type": "code",
   "execution_count": 53,
   "id": "6c7607f0",
   "metadata": {},
   "outputs": [],
   "source": [
    "a = [4,4.5,True,\"string\",[1,2,3]]"
   ]
  },
  {
   "cell_type": "code",
   "execution_count": 54,
   "id": "f221a155",
   "metadata": {},
   "outputs": [
    {
     "data": {
      "text/plain": [
       "[4, 4.5, True, 'string', [1, 2, 3]]"
      ]
     },
     "execution_count": 54,
     "metadata": {},
     "output_type": "execute_result"
    }
   ],
   "source": [
    "a"
   ]
  },
  {
   "cell_type": "code",
   "execution_count": 55,
   "id": "2289f9f3",
   "metadata": {},
   "outputs": [
    {
     "data": {
      "text/plain": [
       "[[1, 2, 3], [4, 5, 6], [7, 8, 9]]"
      ]
     },
     "execution_count": 55,
     "metadata": {},
     "output_type": "execute_result"
    }
   ],
   "source": [
    "a = [[1,2,3],[4,5,6],[7,8,9]]\n",
    "a"
   ]
  },
  {
   "cell_type": "code",
   "execution_count": 56,
   "id": "57494366",
   "metadata": {},
   "outputs": [
    {
     "data": {
      "text/plain": [
       "3"
      ]
     },
     "execution_count": 56,
     "metadata": {},
     "output_type": "execute_result"
    }
   ],
   "source": [
    "a[0][2]"
   ]
  },
  {
   "cell_type": "code",
   "execution_count": 57,
   "id": "ed0857db",
   "metadata": {},
   "outputs": [
    {
     "data": {
      "text/plain": [
       "'\\nQuestion 3;-\\nWhat is the length of the list a.\\n\\na= [1,2,3,[4,5],[6,7,8],9,0]\\n'"
      ]
     },
     "execution_count": 57,
     "metadata": {},
     "output_type": "execute_result"
    }
   ],
   "source": [
    "'''\n",
    "Question 3;-\n",
    "What is the length of the list a.\n",
    "\n",
    "a= [1,2,3,[4,5],[6,7,8],9,0]\n",
    "'''"
   ]
  },
  {
   "cell_type": "code",
   "execution_count": 58,
   "id": "8026ab4b",
   "metadata": {},
   "outputs": [
    {
     "data": {
      "text/plain": [
       "[1, 2, 3, [4, 5], [6, 7, 8], 9, 0]"
      ]
     },
     "execution_count": 58,
     "metadata": {},
     "output_type": "execute_result"
    }
   ],
   "source": [
    "a= [1,2,3,[4,5],[6,7,8],9,0]\n",
    "a"
   ]
  },
  {
   "cell_type": "code",
   "execution_count": 60,
   "id": "89a84a90",
   "metadata": {},
   "outputs": [
    {
     "data": {
      "text/plain": [
       "7"
      ]
     },
     "execution_count": 60,
     "metadata": {},
     "output_type": "execute_result"
    }
   ],
   "source": [
    "rows=len(a)\n",
    "rows"
   ]
  },
  {
   "cell_type": "code",
   "execution_count": 64,
   "id": "83541685",
   "metadata": {
    "collapsed": true
   },
   "outputs": [
    {
     "ename": "TypeError",
     "evalue": "object of type 'int' has no len()",
     "output_type": "error",
     "traceback": [
      "\u001b[1;31m---------------------------------------------------------------------------\u001b[0m",
      "\u001b[1;31mTypeError\u001b[0m                                 Traceback (most recent call last)",
      "Cell \u001b[1;32mIn[64], line 1\u001b[0m\n\u001b[1;32m----> 1\u001b[0m columns \u001b[38;5;241m=\u001b[39m \u001b[38;5;28mlen\u001b[39m(a[\u001b[38;5;241m0\u001b[39m])\n",
      "\u001b[1;31mTypeError\u001b[0m: object of type 'int' has no len()"
     ]
    }
   ],
   "source": [
    "columns = len(a[0])"
   ]
  },
  {
   "cell_type": "code",
   "execution_count": 66,
   "id": "25b7c07e",
   "metadata": {},
   "outputs": [],
   "source": [
    "random = [[1,2,3],[\"a\",\"b\",\"c\",\"d\",\"e\"],[4.5,6.7]]"
   ]
  },
  {
   "cell_type": "code",
   "execution_count": 67,
   "id": "77461c37",
   "metadata": {},
   "outputs": [
    {
     "name": "stdout",
     "output_type": "stream",
     "text": [
      "1 2 3 \n",
      "a b c d e \n",
      "4.5 6.7 \n"
     ]
    }
   ],
   "source": [
    "for i in random:\n",
    "    for j in i:\n",
    "        print(j, end=\" \")\n",
    "    print()"
   ]
  },
  {
   "cell_type": "code",
   "execution_count": 68,
   "id": "53caeab1",
   "metadata": {},
   "outputs": [
    {
     "data": {
      "text/plain": [
       "'\\nQuestion 4;-\\nTake a 3x3 matrix as an input from the user\\nGiven this matrix.\\n1. Calculate the sum of all the element in the matrix\\n2. Calculate the sum of each row\\n3. Calculate the sum of each column\\n'"
      ]
     },
     "execution_count": 68,
     "metadata": {},
     "output_type": "execute_result"
    }
   ],
   "source": [
    "'''\n",
    "Question 4;-\n",
    "Take a 3x3 matrix as an input from the user\n",
    "Given this matrix.\n",
    "1. Calculate the sum of all the element in the matrix\n",
    "2. Calculate the sum of each row\n",
    "3. Calculate the sum of each column\n",
    "'''"
   ]
  },
  {
   "cell_type": "code",
   "execution_count": 69,
   "id": "4e8b2773",
   "metadata": {},
   "outputs": [],
   "source": [
    "a=[]"
   ]
  },
  {
   "cell_type": "code",
   "execution_count": 71,
   "id": "aae6b02a",
   "metadata": {},
   "outputs": [
    {
     "name": "stdout",
     "output_type": "stream",
     "text": [
      "6\n",
      "2\n",
      "3\n",
      "4\n",
      "5\n",
      "5\n",
      "6\n",
      "6\n",
      "7\n"
     ]
    }
   ],
   "source": [
    "for i in range(3):\n",
    "    inner_list=[]\n",
    "    for j in range(3):\n",
    "        inner_list.append(int(input()))\n",
    "    a.append(inner_list)"
   ]
  },
  {
   "cell_type": "code",
   "execution_count": 72,
   "id": "eb86063e",
   "metadata": {},
   "outputs": [
    {
     "data": {
      "text/plain": [
       "[[6, 2, 3], [4, 5, 5], [6, 6, 7]]"
      ]
     },
     "execution_count": 72,
     "metadata": {},
     "output_type": "execute_result"
    }
   ],
   "source": [
    "a"
   ]
  },
  {
   "cell_type": "code",
   "execution_count": 73,
   "id": "9f0bb661",
   "metadata": {},
   "outputs": [],
   "source": [
    "# *1 2 3 4 5 6 7 8 9*"
   ]
  },
  {
   "cell_type": "code",
   "execution_count": 74,
   "id": "294e9dd0",
   "metadata": {},
   "outputs": [],
   "source": [
    "input_string = \"1 2 3 4 5 6 7 8 9\""
   ]
  },
  {
   "cell_type": "code",
   "execution_count": 75,
   "id": "673bbfcd",
   "metadata": {},
   "outputs": [],
   "source": [
    "input_list = input_string.split()"
   ]
  },
  {
   "cell_type": "code",
   "execution_count": 76,
   "id": "058e97ba",
   "metadata": {},
   "outputs": [
    {
     "data": {
      "text/plain": [
       "['1', '2', '3', '4', '5', '6', '7', '8', '9']"
      ]
     },
     "execution_count": 76,
     "metadata": {},
     "output_type": "execute_result"
    }
   ],
   "source": [
    "input_list"
   ]
  },
  {
   "cell_type": "code",
   "execution_count": 78,
   "id": "5462c1d4",
   "metadata": {},
   "outputs": [
    {
     "data": {
      "text/plain": [
       "1"
      ]
     },
     "execution_count": 78,
     "metadata": {},
     "output_type": "execute_result"
    }
   ],
   "source": [
    "int(\"1\")"
   ]
  },
  {
   "cell_type": "code",
   "execution_count": 80,
   "id": "c74c1f74",
   "metadata": {},
   "outputs": [],
   "source": [
    "integer_list = []\n",
    "for i in input_list:\n",
    "    integer_list.append(int(i))"
   ]
  },
  {
   "cell_type": "code",
   "execution_count": 81,
   "id": "1ed98b17",
   "metadata": {},
   "outputs": [
    {
     "data": {
      "text/plain": [
       "[1, 2, 3, 4, 5, 6, 7, 8, 9]"
      ]
     },
     "execution_count": 81,
     "metadata": {},
     "output_type": "execute_result"
    }
   ],
   "source": [
    "integer_list"
   ]
  },
  {
   "cell_type": "code",
   "execution_count": 82,
   "id": "696823dd",
   "metadata": {},
   "outputs": [
    {
     "name": "stdout",
     "output_type": "stream",
     "text": [
      "1\n",
      "2\n",
      "3\n",
      "4\n",
      "5\n",
      "6\n",
      "7\n",
      "7\n",
      "8\n"
     ]
    }
   ],
   "source": [
    "matrix=[]\n",
    "for i in range(3):\n",
    "    row =[]\n",
    "    for j in range(3):\n",
    "        row.append(int(input()))\n",
    "        \n",
    "    matrix.append(row)\n",
    "    "
   ]
  },
  {
   "cell_type": "code",
   "execution_count": 83,
   "id": "201a0d39",
   "metadata": {},
   "outputs": [
    {
     "data": {
      "text/plain": [
       "[[1, 2, 3], [4, 5, 6], [7, 7, 8]]"
      ]
     },
     "execution_count": 83,
     "metadata": {},
     "output_type": "execute_result"
    }
   ],
   "source": [
    "matrix"
   ]
  },
  {
   "cell_type": "code",
   "execution_count": 84,
   "id": "6c1c0deb",
   "metadata": {},
   "outputs": [],
   "source": [
    "sum_all=0\n",
    "for i in matrix:\n",
    "    for j in i:\n",
    "        sum_all += j"
   ]
  },
  {
   "cell_type": "code",
   "execution_count": 85,
   "id": "1c4db6e9",
   "metadata": {},
   "outputs": [
    {
     "data": {
      "text/plain": [
       "43"
      ]
     },
     "execution_count": 85,
     "metadata": {},
     "output_type": "execute_result"
    }
   ],
   "source": [
    "sum_all"
   ]
  },
  {
   "cell_type": "code",
   "execution_count": 86,
   "id": "e99ba322",
   "metadata": {},
   "outputs": [],
   "source": [
    "sum_rows = [0,0,0]\n",
    "rows = len(matrix)\n",
    "columns = len(matrix[0])\n",
    "\n",
    "for i in range(rows):\n",
    "    for j in range(columns):\n",
    "        sum_rows[i] += matrix[i][j]"
   ]
  },
  {
   "cell_type": "code",
   "execution_count": 87,
   "id": "5f7f2c5a",
   "metadata": {},
   "outputs": [
    {
     "data": {
      "text/plain": [
       "[6, 15, 22]"
      ]
     },
     "execution_count": 87,
     "metadata": {},
     "output_type": "execute_result"
    }
   ],
   "source": [
    "sum_rows"
   ]
  },
  {
   "cell_type": "code",
   "execution_count": 88,
   "id": "3860dda4",
   "metadata": {},
   "outputs": [
    {
     "data": {
      "text/plain": [
       "[12, 3, 1, 22, 12, 43, 5, 12, 42, 12]"
      ]
     },
     "execution_count": 88,
     "metadata": {},
     "output_type": "execute_result"
    }
   ],
   "source": [
    "a = [12,3,1,22,12,43,5,12,42,12]\n",
    "a"
   ]
  },
  {
   "cell_type": "code",
   "execution_count": 89,
   "id": "04eacba1",
   "metadata": {},
   "outputs": [],
   "source": [
    "first_occurence = a.index(12)"
   ]
  },
  {
   "cell_type": "code",
   "execution_count": 90,
   "id": "d3fec6f0",
   "metadata": {},
   "outputs": [
    {
     "data": {
      "text/plain": [
       "3"
      ]
     },
     "execution_count": 90,
     "metadata": {},
     "output_type": "execute_result"
    }
   ],
   "source": [
    "a[first_occurence + 1:].index(12)"
   ]
  },
  {
   "cell_type": "code",
   "execution_count": 93,
   "id": "0e1187cf",
   "metadata": {},
   "outputs": [],
   "source": [
    "second_occurence = a[first_occurence + 1:].index(12) + 1"
   ]
  },
  {
   "cell_type": "code",
   "execution_count": 94,
   "id": "0990a8d2",
   "metadata": {},
   "outputs": [
    {
     "data": {
      "text/plain": [
       "4"
      ]
     },
     "execution_count": 94,
     "metadata": {},
     "output_type": "execute_result"
    }
   ],
   "source": [
    "second_occurence"
   ]
  },
  {
   "cell_type": "code",
   "execution_count": null,
   "id": "24dd4765",
   "metadata": {},
   "outputs": [],
   "source": []
  }
 ],
 "metadata": {
  "kernelspec": {
   "display_name": "Python 3 (ipykernel)",
   "language": "python",
   "name": "python3"
  },
  "language_info": {
   "codemirror_mode": {
    "name": "ipython",
    "version": 3
   },
   "file_extension": ".py",
   "mimetype": "text/x-python",
   "name": "python",
   "nbconvert_exporter": "python",
   "pygments_lexer": "ipython3",
   "version": "3.11.4"
  }
 },
 "nbformat": 4,
 "nbformat_minor": 5
}
