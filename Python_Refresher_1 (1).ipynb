{
 "cells": [
  {
   "cell_type": "code",
   "execution_count": 2,
   "id": "b216e7f9",
   "metadata": {},
   "outputs": [
    {
     "name": "stdout",
     "output_type": "stream",
     "text": [
      "Hello!\n"
     ]
    }
   ],
   "source": [
    "# print is used to print anything or display anythings\n",
    "print(\"Hello!\")"
   ]
  },
  {
   "cell_type": "code",
   "execution_count": 3,
   "id": "d71d830e",
   "metadata": {},
   "outputs": [],
   "source": [
    "#python is a dynamaic , interpreted language"
   ]
  },
  {
   "cell_type": "code",
   "execution_count": 4,
   "id": "a73bdc7b",
   "metadata": {},
   "outputs": [
    {
     "data": {
      "text/plain": [
       "'\\nCompiler : both make code understandable to machine (CPU)\\n* entire Code --> Binary file (1001010101.....) --> CPU to understand\\n\\nInterpreter :\\n* Code --> Takes code line by line converts in internally and give to CPU\\n\\n'"
      ]
     },
     "execution_count": 4,
     "metadata": {},
     "output_type": "execute_result"
    }
   ],
   "source": [
    "'''\n",
    "Compiler : both make code understandable to machine (CPU)\n",
    "* entire Code --> Binary file (1001010101.....) --> CPU to understand\n",
    "\n",
    "Interpreter :\n",
    "* Line by Line execution of code \n",
    "* Code --> Takes code line by line converts in internally and give to CPU\n",
    "\n",
    "'''"
   ]
  },
  {
   "cell_type": "code",
   "execution_count": 7,
   "id": "87cb9b3c",
   "metadata": {},
   "outputs": [
    {
     "name": "stdout",
     "output_type": "stream",
     "text": [
      "1\n",
      "2\n"
     ]
    },
    {
     "ename": "ZeroDivisionError",
     "evalue": "division by zero",
     "output_type": "error",
     "traceback": [
      "\u001b[1;31m---------------------------------------------------------------------------\u001b[0m",
      "\u001b[1;31mZeroDivisionError\u001b[0m                         Traceback (most recent call last)",
      "Cell \u001b[1;32mIn[7], line 3\u001b[0m\n\u001b[0;32m      1\u001b[0m \u001b[38;5;28mprint\u001b[39m(\u001b[38;5;241m1\u001b[39m)\n\u001b[0;32m      2\u001b[0m \u001b[38;5;28mprint\u001b[39m(\u001b[38;5;241m2\u001b[39m)\n\u001b[1;32m----> 3\u001b[0m \u001b[38;5;28mprint\u001b[39m(\u001b[38;5;241;43m3\u001b[39;49m\u001b[38;5;241;43m/\u001b[39;49m\u001b[38;5;241;43m0\u001b[39;49m)\n\u001b[0;32m      4\u001b[0m \u001b[38;5;28mprint\u001b[39m(\u001b[38;5;241m4\u001b[39m)\n",
      "\u001b[1;31mZeroDivisionError\u001b[0m: division by zero"
     ]
    }
   ],
   "source": [
    "print(1)\n",
    "print(2)\n",
    "print(3/0)\n",
    "print(4)"
   ]
  },
  {
   "cell_type": "code",
   "execution_count": 8,
   "id": "0b0f7eab",
   "metadata": {
    "collapsed": true
   },
   "outputs": [
    {
     "data": {
      "text/plain": [
       "\"\\nHirarchy of different programming languagues \\n@ Low Level Language -> it is very closer to machine . it is very friendly to machine  \\n-> Something a base level is called Machine Code \\n-> It is very very easily understanable by Machine.\\n-> It is also called byte code (Binary Code) 1010 format.\\n\\n@ Assembly Code Language -> if you want to add two number -> [ADD 1,3] , [Mul 2,5]\\n* This language have their own sets of keywords\\n\\n@ Mid level Language -> C, C++, Java \\n\\n@ High Level Language -> Python , JavaScript etc.\\n-> Python base line is in C something called Jythen\\n-> Python written on top of C\\n* it is very closer to human or programmer . \\n* it is very very programmer friendly \\n\\n$ The language which is closure to programmer is far away from MAchine that's why we called bottom up\\n$ Programmer to machine is completly opposite \\n\\n# Human understandable is high level language\\n# Machine understandable is low level language\\n\\n\""
      ]
     },
     "execution_count": 8,
     "metadata": {},
     "output_type": "execute_result"
    }
   ],
   "source": [
    "'''\n",
    "Hirarchy of different programming languagues \n",
    "@ Low Level Language -> it is very closer to machine . it is very friendly to machine  \n",
    "-> Something a base level is called Machine Code \n",
    "-> It is very very easily understanable by Machine.\n",
    "-> It is also called byte code (Binary Code) 1010 format.\n",
    "\n",
    "@ Assembly Code Language -> if you want to add two number -> [ADD 1,3] , [Mul 2,5]\n",
    "* This language have their own sets of keywords\n",
    "\n",
    "@ Mid level Language -> C, C++, Java \n",
    "\n",
    "@ High Level Language -> Python , JavaScript etc.\n",
    "-> Python base line is in C something called Jythen\n",
    "-> Python written on top of C\n",
    "* it is very closer to human or programmer . \n",
    "* it is very very programmer friendly \n",
    "\n",
    "$ The language which is closure to programmer is far away from MAchine that's why we called bottom up\n",
    "$ Programmer to machine is completly opposite \n",
    "\n",
    "# Human understandable is high level language\n",
    "# Machine understandable is low level language\n",
    "\n",
    "'''"
   ]
  },
  {
   "cell_type": "markdown",
   "id": "a07e212c",
   "metadata": {},
   "source": [
    "### Statics vs Dyanamic typed languages "
   ]
  },
  {
   "cell_type": "markdown",
   "id": "fa1aee24",
   "metadata": {},
   "source": [
    "@ Statics :-\n",
    "    * when it bound to a particular memory size\n",
    "    * Byte is storage unit\n",
    "    \n",
    "    \n",
    "@ Dyanamic :-\n",
    "    * Their is no restriction particular to a size in data type.\n",
    "    \n",
    "    \n"
   ]
  },
  {
   "cell_type": "markdown",
   "id": "c40d159c",
   "metadata": {},
   "source": [
    "### Everything is a object in python\n",
    "* In python we have something called first class citizen -> these are not bound to a memory they can stored data as much as ram you have \n",
    "* Every list data type, keyword and function are object in python"
   ]
  },
  {
   "cell_type": "code",
   "execution_count": 9,
   "id": "3361cd9b",
   "metadata": {},
   "outputs": [
    {
     "data": {
      "text/plain": [
       "True"
      ]
     },
     "execution_count": 9,
     "metadata": {},
     "output_type": "execute_result"
    }
   ],
   "source": [
    "isinstance(4,int)"
   ]
  },
  {
   "cell_type": "code",
   "execution_count": 10,
   "id": "bfeab89f",
   "metadata": {},
   "outputs": [
    {
     "data": {
      "text/plain": [
       "False"
      ]
     },
     "execution_count": 10,
     "metadata": {},
     "output_type": "execute_result"
    }
   ],
   "source": [
    "isinstance(4, str)"
   ]
  },
  {
   "cell_type": "code",
   "execution_count": 11,
   "id": "d1e857f8",
   "metadata": {},
   "outputs": [
    {
     "data": {
      "text/plain": [
       "True"
      ]
     },
     "execution_count": 11,
     "metadata": {},
     "output_type": "execute_result"
    }
   ],
   "source": [
    "isinstance(4, object)"
   ]
  },
  {
   "cell_type": "code",
   "execution_count": 12,
   "id": "95a958e0",
   "metadata": {},
   "outputs": [
    {
     "data": {
      "text/plain": [
       "True"
      ]
     },
     "execution_count": 12,
     "metadata": {},
     "output_type": "execute_result"
    }
   ],
   "source": [
    "isinstance('adi', object)"
   ]
  },
  {
   "cell_type": "code",
   "execution_count": 13,
   "id": "cc9d03e8",
   "metadata": {},
   "outputs": [
    {
     "data": {
      "text/plain": [
       "True"
      ]
     },
     "execution_count": 13,
     "metadata": {},
     "output_type": "execute_result"
    }
   ],
   "source": [
    "isinstance(False, object)"
   ]
  },
  {
   "cell_type": "code",
   "execution_count": 14,
   "id": "69533489",
   "metadata": {},
   "outputs": [
    {
     "data": {
      "text/plain": [
       "True"
      ]
     },
     "execution_count": 14,
     "metadata": {},
     "output_type": "execute_result"
    }
   ],
   "source": [
    "isinstance(print, object)"
   ]
  },
  {
   "cell_type": "code",
   "execution_count": 15,
   "id": "731c84a8",
   "metadata": {},
   "outputs": [
    {
     "data": {
      "text/plain": [
       "6"
      ]
     },
     "execution_count": 15,
     "metadata": {},
     "output_type": "execute_result"
    }
   ],
   "source": [
    "1+5\n"
   ]
  },
  {
   "cell_type": "code",
   "execution_count": 16,
   "id": "a53bc3a1",
   "metadata": {},
   "outputs": [
    {
     "data": {
      "text/plain": [
       "2"
      ]
     },
     "execution_count": 16,
     "metadata": {},
     "output_type": "execute_result"
    }
   ],
   "source": [
    "5-3"
   ]
  },
  {
   "cell_type": "code",
   "execution_count": 17,
   "id": "4f23ea7e",
   "metadata": {},
   "outputs": [
    {
     "data": {
      "text/plain": [
       "12"
      ]
     },
     "execution_count": 17,
     "metadata": {},
     "output_type": "execute_result"
    }
   ],
   "source": [
    "4*3"
   ]
  },
  {
   "cell_type": "code",
   "execution_count": 18,
   "id": "7e28acc4",
   "metadata": {},
   "outputs": [
    {
     "data": {
      "text/plain": [
       "3.3333333333333335"
      ]
     },
     "execution_count": 18,
     "metadata": {},
     "output_type": "execute_result"
    }
   ],
   "source": [
    "10/3"
   ]
  },
  {
   "cell_type": "code",
   "execution_count": 19,
   "id": "90ff5438",
   "metadata": {},
   "outputs": [
    {
     "data": {
      "text/plain": [
       "7.3"
      ]
     },
     "execution_count": 19,
     "metadata": {},
     "output_type": "execute_result"
    }
   ],
   "source": [
    "3+4.3"
   ]
  },
  {
   "cell_type": "markdown",
   "id": "594672ae",
   "metadata": {},
   "source": [
    "* Every positive integer give +ve results except for division\n",
    "* In divion will get float"
   ]
  },
  {
   "cell_type": "code",
   "execution_count": 20,
   "id": "515d7d9f",
   "metadata": {},
   "outputs": [
    {
     "data": {
      "text/plain": [
       "3"
      ]
     },
     "execution_count": 20,
     "metadata": {},
     "output_type": "execute_result"
    }
   ],
   "source": [
    "### Floor division operator\n",
    "10//3"
   ]
  },
  {
   "cell_type": "code",
   "execution_count": 21,
   "id": "3136a0ea",
   "metadata": {},
   "outputs": [
    {
     "data": {
      "text/plain": [
       "-4"
      ]
     },
     "execution_count": 21,
     "metadata": {},
     "output_type": "execute_result"
    }
   ],
   "source": [
    "-10//3"
   ]
  },
  {
   "cell_type": "code",
   "execution_count": 22,
   "id": "06014a47",
   "metadata": {},
   "outputs": [
    {
     "data": {
      "text/plain": [
       "1"
      ]
     },
     "execution_count": 22,
     "metadata": {},
     "output_type": "execute_result"
    }
   ],
   "source": [
    "4//3"
   ]
  },
  {
   "cell_type": "markdown",
   "id": "2a35d052",
   "metadata": {},
   "source": [
    "### Floor -> greatest / largest integer smaller than the number\n",
    "\n",
    "### Ceil -> smallest integer greater than the number"
   ]
  },
  {
   "cell_type": "markdown",
   "id": "35347f45",
   "metadata": {},
   "source": [
    "* floor(2.5) -> 2\n",
    "* Floor(-2.5) -> -3"
   ]
  },
  {
   "cell_type": "code",
   "execution_count": 24,
   "id": "2317b4ae",
   "metadata": {},
   "outputs": [
    {
     "data": {
      "text/plain": [
       "-3"
      ]
     },
     "execution_count": 24,
     "metadata": {},
     "output_type": "execute_result"
    }
   ],
   "source": [
    "-7//3"
   ]
  },
  {
   "cell_type": "code",
   "execution_count": 25,
   "id": "bd614033",
   "metadata": {},
   "outputs": [
    {
     "data": {
      "text/plain": [
       "-2.3333333333333335"
      ]
     },
     "execution_count": 25,
     "metadata": {},
     "output_type": "execute_result"
    }
   ],
   "source": [
    "-7/3"
   ]
  },
  {
   "cell_type": "code",
   "execution_count": 26,
   "id": "13699286",
   "metadata": {
    "collapsed": true
   },
   "outputs": [
    {
     "data": {
      "text/plain": [
       "'\\nTwo rules for creating identifier in python\\n-> should start with either alphabet or underscore\\n-> can have alphabets/numbers/underscore anywhere after the start\\n'"
      ]
     },
     "execution_count": 26,
     "metadata": {},
     "output_type": "execute_result"
    }
   ],
   "source": [
    "'''\n",
    "Two rules for creating identifier in python\n",
    "-> should start with either alphabet or underscore\n",
    "-> can have alphabets/numbers/underscore anywhere after the start\n",
    "'''"
   ]
  },
  {
   "cell_type": "code",
   "execution_count": 28,
   "id": "85544698",
   "metadata": {},
   "outputs": [],
   "source": [
    "abc=4"
   ]
  },
  {
   "cell_type": "code",
   "execution_count": 29,
   "id": "a8298e79",
   "metadata": {},
   "outputs": [],
   "source": [
    "abc2=7"
   ]
  },
  {
   "cell_type": "code",
   "execution_count": 30,
   "id": "143e00a3",
   "metadata": {},
   "outputs": [
    {
     "ename": "SyntaxError",
     "evalue": "invalid decimal literal (1667896082.py, line 1)",
     "output_type": "error",
     "traceback": [
      "\u001b[1;36m  Cell \u001b[1;32mIn[30], line 1\u001b[1;36m\u001b[0m\n\u001b[1;33m    2abc=8\u001b[0m\n\u001b[1;37m    ^\u001b[0m\n\u001b[1;31mSyntaxError\u001b[0m\u001b[1;31m:\u001b[0m invalid decimal literal\n"
     ]
    }
   ],
   "source": [
    "2abc=8"
   ]
  },
  {
   "cell_type": "code",
   "execution_count": 31,
   "id": "abdc2821",
   "metadata": {},
   "outputs": [
    {
     "ename": "SyntaxError",
     "evalue": "invalid syntax (2772757222.py, line 1)",
     "output_type": "error",
     "traceback": [
      "\u001b[1;36m  Cell \u001b[1;32mIn[31], line 1\u001b[1;36m\u001b[0m\n\u001b[1;33m    a$bc = 10\u001b[0m\n\u001b[1;37m     ^\u001b[0m\n\u001b[1;31mSyntaxError\u001b[0m\u001b[1;31m:\u001b[0m invalid syntax\n"
     ]
    }
   ],
   "source": [
    "a$bc = 10"
   ]
  },
  {
   "cell_type": "code",
   "execution_count": 32,
   "id": "927d451c",
   "metadata": {},
   "outputs": [],
   "source": [
    "abc_ = 4"
   ]
  },
  {
   "cell_type": "code",
   "execution_count": 33,
   "id": "0a61c1b5",
   "metadata": {},
   "outputs": [
    {
     "data": {
      "text/plain": [
       "7"
      ]
     },
     "execution_count": 33,
     "metadata": {},
     "output_type": "execute_result"
    }
   ],
   "source": [
    "4+3"
   ]
  },
  {
   "cell_type": "code",
   "execution_count": 34,
   "id": "59763381",
   "metadata": {},
   "outputs": [
    {
     "name": "stdout",
     "output_type": "stream",
     "text": [
      "7\n"
     ]
    }
   ],
   "source": [
    "print(_)"
   ]
  },
  {
   "cell_type": "code",
   "execution_count": 35,
   "id": "e6f63e85",
   "metadata": {},
   "outputs": [
    {
     "data": {
      "text/plain": [
       "15"
      ]
     },
     "execution_count": 35,
     "metadata": {},
     "output_type": "execute_result"
    }
   ],
   "source": [
    "_ + 8"
   ]
  },
  {
   "cell_type": "code",
   "execution_count": 36,
   "id": "af8f0dc1",
   "metadata": {},
   "outputs": [
    {
     "name": "stdout",
     "output_type": "stream",
     "text": [
      "15\n"
     ]
    }
   ],
   "source": [
    "print(_)"
   ]
  },
  {
   "cell_type": "code",
   "execution_count": 37,
   "id": "bfaeac3b",
   "metadata": {},
   "outputs": [],
   "source": [
    "_ = \"a\""
   ]
  },
  {
   "cell_type": "code",
   "execution_count": 38,
   "id": "ee199c1d",
   "metadata": {},
   "outputs": [
    {
     "name": "stdout",
     "output_type": "stream",
     "text": [
      "a\n"
     ]
    }
   ],
   "source": [
    "print(_)"
   ]
  },
  {
   "cell_type": "code",
   "execution_count": 39,
   "id": "25c44398",
   "metadata": {},
   "outputs": [
    {
     "ename": "TypeError",
     "evalue": "can only concatenate str (not \"int\") to str",
     "output_type": "error",
     "traceback": [
      "\u001b[1;31m---------------------------------------------------------------------------\u001b[0m",
      "\u001b[1;31mTypeError\u001b[0m                                 Traceback (most recent call last)",
      "Cell \u001b[1;32mIn[39], line 1\u001b[0m\n\u001b[1;32m----> 1\u001b[0m \u001b[43m_\u001b[49m\u001b[43m \u001b[49m\u001b[38;5;241;43m+\u001b[39;49m\u001b[43m \u001b[49m\u001b[38;5;241;43m3\u001b[39;49m\n",
      "\u001b[1;31mTypeError\u001b[0m: can only concatenate str (not \"int\") to str"
     ]
    }
   ],
   "source": [
    "_ + 3"
   ]
  },
  {
   "cell_type": "markdown",
   "id": "e7bc6e7f",
   "metadata": {},
   "source": [
    "* _ is used as dump variable"
   ]
  },
  {
   "cell_type": "markdown",
   "id": "5b1070fd",
   "metadata": {},
   "source": [
    "### Mutability & Immutability\n",
    "* Mutability is something that can changed\n",
    "* Immutable  is something that can't changed\n"
   ]
  },
  {
   "cell_type": "code",
   "execution_count": 40,
   "id": "672b65b9",
   "metadata": {},
   "outputs": [
    {
     "name": "stdout",
     "output_type": "stream",
     "text": [
      "5\n"
     ]
    }
   ],
   "source": [
    "a = 5\n",
    "print(a)"
   ]
  },
  {
   "cell_type": "code",
   "execution_count": 41,
   "id": "138330a5",
   "metadata": {},
   "outputs": [
    {
     "name": "stdout",
     "output_type": "stream",
     "text": [
      "6\n"
     ]
    }
   ],
   "source": [
    "a = 6\n",
    "print(a)"
   ]
  },
  {
   "cell_type": "markdown",
   "id": "97be546d",
   "metadata": {},
   "source": [
    "* 3 Mutability data structures are in python -> Lists, sets and Dictionaries\n"
   ]
  },
  {
   "cell_type": "code",
   "execution_count": 42,
   "id": "e45faa27",
   "metadata": {},
   "outputs": [],
   "source": [
    "a = 5 "
   ]
  },
  {
   "cell_type": "code",
   "execution_count": 43,
   "id": "8cca54c9",
   "metadata": {},
   "outputs": [
    {
     "data": {
      "text/plain": [
       "1540393992560"
      ]
     },
     "execution_count": 43,
     "metadata": {},
     "output_type": "execute_result"
    }
   ],
   "source": [
    "id(a)"
   ]
  },
  {
   "cell_type": "code",
   "execution_count": 44,
   "id": "a5a265a8",
   "metadata": {},
   "outputs": [
    {
     "name": "stdout",
     "output_type": "stream",
     "text": [
      "5\n"
     ]
    }
   ],
   "source": [
    "print(a)"
   ]
  },
  {
   "cell_type": "code",
   "execution_count": 45,
   "id": "143f9a2a",
   "metadata": {},
   "outputs": [
    {
     "name": "stdout",
     "output_type": "stream",
     "text": [
      "<built-in function id>\n"
     ]
    }
   ],
   "source": [
    "print(id)"
   ]
  },
  {
   "cell_type": "code",
   "execution_count": 1,
   "id": "ea40f313",
   "metadata": {},
   "outputs": [
    {
     "data": {
      "text/plain": [
       "2008021036544"
      ]
     },
     "execution_count": 1,
     "metadata": {},
     "output_type": "execute_result"
    }
   ],
   "source": [
    "scores = [4,6,8]\n",
    "id(scores)"
   ]
  },
  {
   "cell_type": "code",
   "execution_count": 2,
   "id": "fb3e4a7c",
   "metadata": {},
   "outputs": [
    {
     "name": "stdout",
     "output_type": "stream",
     "text": [
      "[4, 9, 8]\n"
     ]
    }
   ],
   "source": [
    "scores[1] = 9\n",
    "print(scores)"
   ]
  },
  {
   "cell_type": "code",
   "execution_count": 3,
   "id": "ac62135f",
   "metadata": {},
   "outputs": [
    {
     "data": {
      "text/plain": [
       "2008021036544"
      ]
     },
     "execution_count": 3,
     "metadata": {},
     "output_type": "execute_result"
    }
   ],
   "source": [
    "id(scores)"
   ]
  },
  {
   "cell_type": "code",
   "execution_count": 4,
   "id": "e8aaf1f0",
   "metadata": {},
   "outputs": [
    {
     "name": "stdout",
     "output_type": "stream",
     "text": [
      "a\n"
     ]
    }
   ],
   "source": [
    "a = 4\n",
    "if a>3:\n",
    "    print(\"a\")\n",
    "else:\n",
    "    print(\"b\")"
   ]
  },
  {
   "cell_type": "code",
   "execution_count": 5,
   "id": "7856e908",
   "metadata": {},
   "outputs": [
    {
     "name": "stdout",
     "output_type": "stream",
     "text": [
      "b\n"
     ]
    }
   ],
   "source": [
    "a = 4\n",
    "if a<3:\n",
    "    print(\"a\")\n",
    "else:\n",
    "    print(\"b\")"
   ]
  },
  {
   "cell_type": "code",
   "execution_count": 6,
   "id": "529d82d6",
   "metadata": {},
   "outputs": [
    {
     "name": "stdout",
     "output_type": "stream",
     "text": [
      "True\n"
     ]
    }
   ],
   "source": [
    "a,b = 12,5\n",
    "if a+b:\n",
    "    print(\"True\")\n",
    "else:\n",
    "    print(\"False\")"
   ]
  },
  {
   "cell_type": "code",
   "execution_count": 7,
   "id": "8aed5c63",
   "metadata": {},
   "outputs": [
    {
     "data": {
      "text/plain": [
       "False"
      ]
     },
     "execution_count": 7,
     "metadata": {},
     "output_type": "execute_result"
    }
   ],
   "source": [
    "bool(0)"
   ]
  },
  {
   "cell_type": "code",
   "execution_count": 8,
   "id": "09cfb77d",
   "metadata": {},
   "outputs": [
    {
     "data": {
      "text/plain": [
       "True"
      ]
     },
     "execution_count": 8,
     "metadata": {},
     "output_type": "execute_result"
    }
   ],
   "source": [
    "bool(1)"
   ]
  },
  {
   "cell_type": "code",
   "execution_count": 9,
   "id": "7fd1ed08",
   "metadata": {},
   "outputs": [
    {
     "data": {
      "text/plain": [
       "True"
      ]
     },
     "execution_count": 9,
     "metadata": {},
     "output_type": "execute_result"
    }
   ],
   "source": [
    "bool(-6)"
   ]
  },
  {
   "cell_type": "code",
   "execution_count": 10,
   "id": "43a14fed",
   "metadata": {},
   "outputs": [
    {
     "data": {
      "text/plain": [
       "False"
      ]
     },
     "execution_count": 10,
     "metadata": {},
     "output_type": "execute_result"
    }
   ],
   "source": [
    "bool( )"
   ]
  },
  {
   "cell_type": "code",
   "execution_count": 11,
   "id": "fb30c0c3",
   "metadata": {},
   "outputs": [
    {
     "data": {
      "text/plain": [
       "True"
      ]
     },
     "execution_count": 11,
     "metadata": {},
     "output_type": "execute_result"
    }
   ],
   "source": [
    "bool(4.5)"
   ]
  },
  {
   "cell_type": "code",
   "execution_count": 12,
   "id": "cfe44a16",
   "metadata": {},
   "outputs": [
    {
     "data": {
      "text/plain": [
       "False"
      ]
     },
     "execution_count": 12,
     "metadata": {},
     "output_type": "execute_result"
    }
   ],
   "source": [
    "bool(\"\")"
   ]
  },
  {
   "cell_type": "code",
   "execution_count": 13,
   "id": "76a5838e",
   "metadata": {},
   "outputs": [
    {
     "data": {
      "text/plain": [
       "True"
      ]
     },
     "execution_count": 13,
     "metadata": {},
     "output_type": "execute_result"
    }
   ],
   "source": [
    "# Space is also a character\n",
    "bool(\" \")"
   ]
  },
  {
   "cell_type": "code",
   "execution_count": 14,
   "id": "885676cb",
   "metadata": {},
   "outputs": [
    {
     "data": {
      "text/plain": [
       "False"
      ]
     },
     "execution_count": 14,
     "metadata": {},
     "output_type": "execute_result"
    }
   ],
   "source": [
    "bool([])"
   ]
  },
  {
   "cell_type": "code",
   "execution_count": 15,
   "id": "0ce33e98",
   "metadata": {},
   "outputs": [
    {
     "data": {
      "text/plain": [
       "True"
      ]
     },
     "execution_count": 15,
     "metadata": {},
     "output_type": "execute_result"
    }
   ],
   "source": [
    "bool([3])"
   ]
  },
  {
   "cell_type": "code",
   "execution_count": 18,
   "id": "bf212e63",
   "metadata": {},
   "outputs": [
    {
     "name": "stdout",
     "output_type": "stream",
     "text": [
      "Y\n",
      "u\n",
      "v\n",
      "r\n",
      "a\n",
      "j\n"
     ]
    }
   ],
   "source": [
    "for r in \"Yuvraj\":\n",
    "    print(r)\n"
   ]
  },
  {
   "cell_type": "code",
   "execution_count": 19,
   "id": "b4d9eb82",
   "metadata": {},
   "outputs": [
    {
     "data": {
      "text/plain": [
       "'\\nDo the same without using a loop\\nwithout using index\\nby running a single piece of code multiple times\\n'"
      ]
     },
     "execution_count": 19,
     "metadata": {},
     "output_type": "execute_result"
    }
   ],
   "source": [
    "'''\n",
    "Do the same without using a loop\n",
    "without using index\n",
    "by running a single piece of code multiple times\n",
    "'''"
   ]
  },
  {
   "cell_type": "code",
   "execution_count": 20,
   "id": "36dd8ded",
   "metadata": {},
   "outputs": [],
   "source": [
    "# iter() and next() defined inside every data type which is iterable"
   ]
  },
  {
   "cell_type": "code",
   "execution_count": 21,
   "id": "085967f6",
   "metadata": {},
   "outputs": [
    {
     "name": "stdout",
     "output_type": "stream",
     "text": [
      "Y\n",
      "u\n",
      "v\n",
      "r\n",
      "a\n",
      "j\n"
     ]
    }
   ],
   "source": [
    "for r in 'Yuvraj':\n",
    "    print(r)"
   ]
  },
  {
   "cell_type": "code",
   "execution_count": 22,
   "id": "3b195bef",
   "metadata": {},
   "outputs": [
    {
     "name": "stdout",
     "output_type": "stream",
     "text": [
      "0\n",
      "1\n",
      "2\n",
      "3\n",
      "4\n"
     ]
    }
   ],
   "source": [
    "for r in range(5):\n",
    "    print(r)"
   ]
  },
  {
   "cell_type": "code",
   "execution_count": 23,
   "id": "4e6f4654",
   "metadata": {},
   "outputs": [
    {
     "ename": "TypeError",
     "evalue": "'int' object is not iterable",
     "output_type": "error",
     "traceback": [
      "\u001b[1;31m---------------------------------------------------------------------------\u001b[0m",
      "\u001b[1;31mTypeError\u001b[0m                                 Traceback (most recent call last)",
      "Cell \u001b[1;32mIn[23], line 1\u001b[0m\n\u001b[1;32m----> 1\u001b[0m \u001b[38;5;28;01mfor\u001b[39;00m r \u001b[38;5;129;01min\u001b[39;00m \u001b[38;5;241m101\u001b[39m:\n\u001b[0;32m      2\u001b[0m     \u001b[38;5;28mprint\u001b[39m(r)\n",
      "\u001b[1;31mTypeError\u001b[0m: 'int' object is not iterable"
     ]
    }
   ],
   "source": [
    "for r in 101:\n",
    "    print(r)"
   ]
  },
  {
   "cell_type": "markdown",
   "id": "53bfec78",
   "metadata": {},
   "source": [
    "* We can't loop over integer "
   ]
  },
  {
   "cell_type": "code",
   "execution_count": 26,
   "id": "413a4f46",
   "metadata": {
    "collapsed": true
   },
   "outputs": [
    {
     "data": {
      "text/plain": [
       "'\\nIterable -> a data structure with atomic elements which can be iterated upon\\nIterator(i) -> a variable used for iteration\\nIteration block -> entire body of loop\\n'"
      ]
     },
     "execution_count": 26,
     "metadata": {},
     "output_type": "execute_result"
    }
   ],
   "source": [
    "'''\n",
    "Iterable -> a data structure with atomic elements which can be iterated upon\n",
    "Iterator(i) -> a variable used for iteration\n",
    "Iteration block -> entire body of loop\n",
    "'''"
   ]
  },
  {
   "cell_type": "code",
   "execution_count": 27,
   "id": "baec6cbc",
   "metadata": {},
   "outputs": [],
   "source": [
    "s = 'Yuvraj'\n",
    "r = iter(s) # generates an iterator"
   ]
  },
  {
   "cell_type": "code",
   "execution_count": 28,
   "id": "30da5ad7",
   "metadata": {},
   "outputs": [
    {
     "data": {
      "text/plain": [
       "<str_iterator at 0x1d38889afe0>"
      ]
     },
     "execution_count": 28,
     "metadata": {},
     "output_type": "execute_result"
    }
   ],
   "source": [
    "r"
   ]
  },
  {
   "cell_type": "code",
   "execution_count": 29,
   "id": "46fb71cb",
   "metadata": {},
   "outputs": [
    {
     "data": {
      "text/plain": [
       "'Y'"
      ]
     },
     "execution_count": 29,
     "metadata": {},
     "output_type": "execute_result"
    }
   ],
   "source": [
    "next(r)"
   ]
  },
  {
   "cell_type": "code",
   "execution_count": 30,
   "id": "493dabab",
   "metadata": {},
   "outputs": [
    {
     "data": {
      "text/plain": [
       "'u'"
      ]
     },
     "execution_count": 30,
     "metadata": {},
     "output_type": "execute_result"
    }
   ],
   "source": [
    "next(r)"
   ]
  },
  {
   "cell_type": "code",
   "execution_count": 31,
   "id": "27481198",
   "metadata": {},
   "outputs": [
    {
     "data": {
      "text/plain": [
       "'v'"
      ]
     },
     "execution_count": 31,
     "metadata": {},
     "output_type": "execute_result"
    }
   ],
   "source": [
    "next(r)"
   ]
  },
  {
   "cell_type": "code",
   "execution_count": 32,
   "id": "423a02fa",
   "metadata": {},
   "outputs": [
    {
     "data": {
      "text/plain": [
       "'r'"
      ]
     },
     "execution_count": 32,
     "metadata": {},
     "output_type": "execute_result"
    }
   ],
   "source": [
    "next(r)"
   ]
  },
  {
   "cell_type": "code",
   "execution_count": 33,
   "id": "ad4ae092",
   "metadata": {},
   "outputs": [
    {
     "data": {
      "text/plain": [
       "'a'"
      ]
     },
     "execution_count": 33,
     "metadata": {},
     "output_type": "execute_result"
    }
   ],
   "source": [
    "next(r)"
   ]
  },
  {
   "cell_type": "code",
   "execution_count": 34,
   "id": "0f50ca6a",
   "metadata": {},
   "outputs": [
    {
     "data": {
      "text/plain": [
       "'j'"
      ]
     },
     "execution_count": 34,
     "metadata": {},
     "output_type": "execute_result"
    }
   ],
   "source": [
    "next(r)"
   ]
  },
  {
   "cell_type": "code",
   "execution_count": 35,
   "id": "a8f19e4f",
   "metadata": {},
   "outputs": [
    {
     "ename": "StopIteration",
     "evalue": "",
     "output_type": "error",
     "traceback": [
      "\u001b[1;31m---------------------------------------------------------------------------\u001b[0m",
      "\u001b[1;31mStopIteration\u001b[0m                             Traceback (most recent call last)",
      "Cell \u001b[1;32mIn[35], line 1\u001b[0m\n\u001b[1;32m----> 1\u001b[0m \u001b[38;5;28;43mnext\u001b[39;49m\u001b[43m(\u001b[49m\u001b[43mr\u001b[49m\u001b[43m)\u001b[49m\n",
      "\u001b[1;31mStopIteration\u001b[0m: "
     ]
    }
   ],
   "source": [
    "next(r)"
   ]
  },
  {
   "cell_type": "code",
   "execution_count": 36,
   "id": "e5fb2127",
   "metadata": {},
   "outputs": [
    {
     "ename": "TypeError",
     "evalue": "'int' object is not iterable",
     "output_type": "error",
     "traceback": [
      "\u001b[1;31m---------------------------------------------------------------------------\u001b[0m",
      "\u001b[1;31mTypeError\u001b[0m                                 Traceback (most recent call last)",
      "Cell \u001b[1;32mIn[36], line 2\u001b[0m\n\u001b[0;32m      1\u001b[0m a \u001b[38;5;241m=\u001b[39m\u001b[38;5;241m5\u001b[39m\n\u001b[1;32m----> 2\u001b[0m i \u001b[38;5;241m=\u001b[39m \u001b[38;5;28;43miter\u001b[39;49m\u001b[43m(\u001b[49m\u001b[43ma\u001b[49m\u001b[43m)\u001b[49m\n",
      "\u001b[1;31mTypeError\u001b[0m: 'int' object is not iterable"
     ]
    }
   ],
   "source": [
    "a =5\n",
    "i = iter(a)"
   ]
  },
  {
   "cell_type": "code",
   "execution_count": 37,
   "id": "4609770c",
   "metadata": {},
   "outputs": [
    {
     "name": "stdout",
     "output_type": "stream",
     "text": [
      "True\n"
     ]
    }
   ],
   "source": [
    "### What will be the output\n",
    "print(isinstance(print,object))"
   ]
  },
  {
   "cell_type": "code",
   "execution_count": 38,
   "id": "21026a18",
   "metadata": {},
   "outputs": [
    {
     "ename": "SyntaxError",
     "evalue": "non-default argument follows default argument (1126750875.py, line 1)",
     "output_type": "error",
     "traceback": [
      "\u001b[1;36m  Cell \u001b[1;32mIn[38], line 1\u001b[1;36m\u001b[0m\n\u001b[1;33m    def foo(a,b,c = 10,d):\u001b[0m\n\u001b[1;37m                       ^\u001b[0m\n\u001b[1;31mSyntaxError\u001b[0m\u001b[1;31m:\u001b[0m non-default argument follows default argument\n"
     ]
    }
   ],
   "source": [
    "def foo(a,b,c = 10,d):\n",
    "    print(a,b,c,d)"
   ]
  },
  {
   "cell_type": "markdown",
   "id": "680f4206",
   "metadata": {},
   "source": [
    "* All the non-default argument should before all the foo default argument "
   ]
  },
  {
   "cell_type": "code",
   "execution_count": 39,
   "id": "1f346a75",
   "metadata": {},
   "outputs": [],
   "source": [
    "def foo(a,b,c = 10,d=8):\n",
    "    print(a,b,c,d)"
   ]
  },
  {
   "cell_type": "code",
   "execution_count": 40,
   "id": "dd8c25cc",
   "metadata": {},
   "outputs": [
    {
     "data": {
      "text/plain": [
       "<function __main__.foo(a, b, c=10, d=8)>"
      ]
     },
     "execution_count": 40,
     "metadata": {},
     "output_type": "execute_result"
    }
   ],
   "source": [
    "foo"
   ]
  },
  {
   "cell_type": "code",
   "execution_count": 41,
   "id": "957c0460",
   "metadata": {},
   "outputs": [],
   "source": [
    "def sample(a,b):\n",
    "    print(a)"
   ]
  },
  {
   "cell_type": "code",
   "execution_count": 42,
   "id": "c4e67499",
   "metadata": {},
   "outputs": [
    {
     "name": "stdout",
     "output_type": "stream",
     "text": [
      "3\n"
     ]
    }
   ],
   "source": [
    "sample(3,6)"
   ]
  },
  {
   "cell_type": "code",
   "execution_count": 44,
   "id": "d240c6ab",
   "metadata": {},
   "outputs": [
    {
     "name": "stdout",
     "output_type": "stream",
     "text": [
      "3\n"
     ]
    }
   ],
   "source": [
    "sample(3,b=4)"
   ]
  },
  {
   "cell_type": "code",
   "execution_count": 45,
   "id": "7d1e745c",
   "metadata": {},
   "outputs": [
    {
     "ename": "SyntaxError",
     "evalue": "positional argument follows keyword argument (1499212854.py, line 1)",
     "output_type": "error",
     "traceback": [
      "\u001b[1;36m  Cell \u001b[1;32mIn[45], line 1\u001b[1;36m\u001b[0m\n\u001b[1;33m    sample(b=4,3)\u001b[0m\n\u001b[1;37m                ^\u001b[0m\n\u001b[1;31mSyntaxError\u001b[0m\u001b[1;31m:\u001b[0m positional argument follows keyword argument\n"
     ]
    }
   ],
   "source": [
    "sample(b=4,3)"
   ]
  },
  {
   "cell_type": "code",
   "execution_count": 46,
   "id": "d00b39fc",
   "metadata": {},
   "outputs": [
    {
     "data": {
      "text/plain": [
       "-3"
      ]
     },
     "execution_count": 46,
     "metadata": {},
     "output_type": "execute_result"
    }
   ],
   "source": [
    "-8//3"
   ]
  },
  {
   "cell_type": "code",
   "execution_count": 47,
   "id": "dca1a1a0",
   "metadata": {},
   "outputs": [
    {
     "name": "stdout",
     "output_type": "stream",
     "text": [
      "FIRST\n",
      "SECOND\n"
     ]
    }
   ],
   "source": [
    "a = 60\n",
    "if a>50:\n",
    "    print(\"FIRST\")\n",
    "if a > 40:\n",
    "    print(\"SECOND\")"
   ]
  },
  {
   "cell_type": "code",
   "execution_count": null,
   "id": "70d2f5f5",
   "metadata": {},
   "outputs": [],
   "source": [
    " "
   ]
  }
 ],
 "metadata": {
  "kernelspec": {
   "display_name": "Python 3 (ipykernel)",
   "language": "python",
   "name": "python3"
  },
  "language_info": {
   "codemirror_mode": {
    "name": "ipython",
    "version": 3
   },
   "file_extension": ".py",
   "mimetype": "text/x-python",
   "name": "python",
   "nbconvert_exporter": "python",
   "pygments_lexer": "ipython3",
   "version": "3.10.9"
  }
 },
 "nbformat": 4,
 "nbformat_minor": 5
}
