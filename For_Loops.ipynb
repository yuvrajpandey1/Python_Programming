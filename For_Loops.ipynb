{
 "cells": [
  {
   "cell_type": "code",
   "execution_count": 1,
   "id": "a4669d1f",
   "metadata": {},
   "outputs": [],
   "source": [
    "# for loop\n",
    "# In loop we do iteration\n",
    "# While condition is true ;- do this\n"
   ]
  },
  {
   "cell_type": "markdown",
   "id": "60df4304",
   "metadata": {},
   "source": [
    "* Instead of condition for loop work on fixed range\n",
    "* for every element in range (a,b) do this\n",
    "* fixed range instead of condition \n",
    "* In while we stop when condition become false"
   ]
  },
  {
   "cell_type": "code",
   "execution_count": null,
   "id": "098f21e1",
   "metadata": {},
   "outputs": [
    {
     "name": "stdout",
     "output_type": "stream",
     "text": [
      "6\n"
     ]
    }
   ],
   "source": [
    "a = input()\n",
    "while a:\n",
    "    if len(a) ==6:\n",
    "        a = \" \"\n",
    "        print(\"END!\")"
   ]
  },
  {
   "cell_type": "code",
   "execution_count": 2,
   "id": "9b9d96a0",
   "metadata": {
    "collapsed": true
   },
   "outputs": [
    {
     "name": "stdout",
     "output_type": "stream",
     "text": [
      "8\n"
     ]
    },
    {
     "ename": "KeyboardInterrupt",
     "evalue": "",
     "output_type": "error",
     "traceback": [
      "\u001b[1;31m---------------------------------------------------------------------------\u001b[0m",
      "\u001b[1;31mKeyboardInterrupt\u001b[0m                         Traceback (most recent call last)",
      "Cell \u001b[1;32mIn[2], line 3\u001b[0m\n\u001b[0;32m      1\u001b[0m a \u001b[38;5;241m=\u001b[39m \u001b[38;5;28minput\u001b[39m()\n\u001b[0;32m      2\u001b[0m \u001b[38;5;28;01mwhile\u001b[39;00m a:\n\u001b[1;32m----> 3\u001b[0m     \u001b[38;5;28;01mif\u001b[39;00m \u001b[38;5;28mlen\u001b[39m(a) \u001b[38;5;241m==\u001b[39m\u001b[38;5;241m6\u001b[39m:\n\u001b[0;32m      4\u001b[0m         a \u001b[38;5;241m=\u001b[39m \u001b[38;5;124m\"\u001b[39m\u001b[38;5;124m \u001b[39m\u001b[38;5;124m\"\u001b[39m\n\u001b[0;32m      5\u001b[0m         \u001b[38;5;28mprint\u001b[39m(\u001b[38;5;124m\"\u001b[39m\u001b[38;5;124mEND!\u001b[39m\u001b[38;5;124m\"\u001b[39m)\n",
      "\u001b[1;31mKeyboardInterrupt\u001b[0m: "
     ]
    }
   ],
   "source": [
    "a = input()\n",
    "while a:\n",
    "    if len(a) ==6:\n",
    "        a = \" \"\n",
    "        print(\"END!\")"
   ]
  },
  {
   "cell_type": "markdown",
   "id": "3b22b334",
   "metadata": {},
   "source": [
    "* Range --> range(start,end)\n",
    "* range will start at starting end at ending\n"
   ]
  },
  {
   "cell_type": "code",
   "execution_count": 3,
   "id": "bdd2ad66",
   "metadata": {
    "collapsed": true
   },
   "outputs": [
    {
     "ename": "TypeError",
     "evalue": "type 'range' is not subscriptable",
     "output_type": "error",
     "traceback": [
      "\u001b[1;31m---------------------------------------------------------------------------\u001b[0m",
      "\u001b[1;31mTypeError\u001b[0m                                 Traceback (most recent call last)",
      "Cell \u001b[1;32mIn[3], line 1\u001b[0m\n\u001b[1;32m----> 1\u001b[0m \u001b[38;5;28mrange\u001b[39m[(\u001b[38;5;241m5\u001b[39m)]\n",
      "\u001b[1;31mTypeError\u001b[0m: type 'range' is not subscriptable"
     ]
    }
   ],
   "source": [
    "range[(5)]\n",
    "# this will go from 0 ---------> end\n",
    "# if start value not provided, default value is always 0 "
   ]
  },
  {
   "cell_type": "markdown",
   "id": "e386a371",
   "metadata": {},
   "source": [
    "* (a,b) -> all nos fromma to b\n",
    "* ( ) -> a&b are not included\n",
    "* (3,8) -> 4,5,6,7\n",
    "* [ ] -> a&b are included\n",
    "* [3,8] -> 3,4,5,6,7,8"
   ]
  },
  {
   "cell_type": "markdown",
   "id": "d72f195d",
   "metadata": {},
   "source": [
    "### Mixed range :\n",
    "* [3,8) -> 3,4,5,6,7\n",
    "* python follows mixed range"
   ]
  },
  {
   "cell_type": "code",
   "execution_count": 4,
   "id": "206be2f9",
   "metadata": {},
   "outputs": [
    {
     "name": "stdout",
     "output_type": "stream",
     "text": [
      "[0, 1, 2, 3, 4]\n"
     ]
    }
   ],
   "source": [
    "print(list(range(5)))"
   ]
  },
  {
   "cell_type": "code",
   "execution_count": 5,
   "id": "ce2b1200",
   "metadata": {},
   "outputs": [
    {
     "data": {
      "text/plain": [
       "5"
      ]
     },
     "execution_count": 5,
     "metadata": {},
     "output_type": "execute_result"
    }
   ],
   "source": [
    "len(list(range(5)))"
   ]
  },
  {
   "cell_type": "code",
   "execution_count": 6,
   "id": "c3257483",
   "metadata": {},
   "outputs": [
    {
     "name": "stdout",
     "output_type": "stream",
     "text": [
      "[]\n"
     ]
    }
   ],
   "source": [
    "print(list(range(0)))"
   ]
  },
  {
   "cell_type": "code",
   "execution_count": 7,
   "id": "f0a2048f",
   "metadata": {},
   "outputs": [
    {
     "data": {
      "text/plain": [
       "range(0, 0)"
      ]
     },
     "execution_count": 7,
     "metadata": {},
     "output_type": "execute_result"
    }
   ],
   "source": [
    "range(0)"
   ]
  },
  {
   "cell_type": "code",
   "execution_count": 8,
   "id": "ae3ae60d",
   "metadata": {},
   "outputs": [
    {
     "data": {
      "text/plain": [
       "[0, 1, 2, 3, 4, 5, 6, 7, 8, 9]"
      ]
     },
     "execution_count": 8,
     "metadata": {},
     "output_type": "execute_result"
    }
   ],
   "source": [
    "list(range(10))"
   ]
  },
  {
   "cell_type": "code",
   "execution_count": 10,
   "id": "071c6ade",
   "metadata": {},
   "outputs": [
    {
     "ename": "TypeError",
     "evalue": "'float' object cannot be interpreted as an integer",
     "output_type": "error",
     "traceback": [
      "\u001b[1;31m---------------------------------------------------------------------------\u001b[0m",
      "\u001b[1;31mTypeError\u001b[0m                                 Traceback (most recent call last)",
      "Cell \u001b[1;32mIn[10], line 2\u001b[0m\n\u001b[0;32m      1\u001b[0m \u001b[38;5;66;03m# ranges does not work with floating point number\u001b[39;00m\n\u001b[1;32m----> 2\u001b[0m \u001b[38;5;28mrange\u001b[39m(\u001b[38;5;241m5.5\u001b[39m)\n",
      "\u001b[1;31mTypeError\u001b[0m: 'float' object cannot be interpreted as an integer"
     ]
    }
   ],
   "source": [
    "# ranges does not work with floating point number\n",
    "range(5.5)"
   ]
  },
  {
   "cell_type": "code",
   "execution_count": 11,
   "id": "4e41fe5a",
   "metadata": {},
   "outputs": [
    {
     "name": "stdout",
     "output_type": "stream",
     "text": [
      "[]\n"
     ]
    }
   ],
   "source": [
    "print(list(range(8,8)))"
   ]
  },
  {
   "cell_type": "code",
   "execution_count": 12,
   "id": "6bb946f6",
   "metadata": {},
   "outputs": [
    {
     "name": "stdout",
     "output_type": "stream",
     "text": [
      "[-1, 0, 1, 2]\n"
     ]
    }
   ],
   "source": [
    "print(list(range(-1,3)))"
   ]
  },
  {
   "cell_type": "code",
   "execution_count": 13,
   "id": "1edfe198",
   "metadata": {},
   "outputs": [
    {
     "name": "stdout",
     "output_type": "stream",
     "text": [
      "[-9, -8, -7, -6, -5, -4, -3, -2]\n"
     ]
    }
   ],
   "source": [
    "print(list(range(-9,-1)))"
   ]
  },
  {
   "cell_type": "code",
   "execution_count": 14,
   "id": "b1a0d28a",
   "metadata": {},
   "outputs": [
    {
     "name": "stdout",
     "output_type": "stream",
     "text": [
      "[]\n"
     ]
    }
   ],
   "source": [
    "# give empty because opposite of scale\n",
    "print(list(range(-1,-9)))"
   ]
  },
  {
   "cell_type": "markdown",
   "id": "63ed8432",
   "metadata": {},
   "source": [
    "#### Jump or difference in ranges"
   ]
  },
  {
   "cell_type": "code",
   "execution_count": 17,
   "id": "dbf05ce5",
   "metadata": {},
   "outputs": [
    {
     "name": "stdout",
     "output_type": "stream",
     "text": [
      "[2, 3, 4, 5, 6, 7, 8, 9]\n"
     ]
    }
   ],
   "source": [
    "print(list(range(2,10)))"
   ]
  },
  {
   "cell_type": "code",
   "execution_count": 18,
   "id": "37acdc6c",
   "metadata": {},
   "outputs": [
    {
     "name": "stdout",
     "output_type": "stream",
     "text": [
      "[2, 4, 6, 8]\n"
     ]
    }
   ],
   "source": [
    "print(list(range(2,10,2)))"
   ]
  },
  {
   "cell_type": "markdown",
   "id": "640b81a5",
   "metadata": {},
   "source": [
    "* The third value is the jump/step value\n",
    "* Default value for step/jump =1"
   ]
  },
  {
   "cell_type": "code",
   "execution_count": 19,
   "id": "a51649e2",
   "metadata": {},
   "outputs": [
    {
     "name": "stdout",
     "output_type": "stream",
     "text": [
      "[-1, -2, -3, -4, -5, -6, -7, -8]\n"
     ]
    }
   ],
   "source": [
    "# -ve jump\n",
    "print(list(range(-1,-9,-1)))"
   ]
  },
  {
   "cell_type": "markdown",
   "id": "075ce097",
   "metadata": {},
   "source": [
    "* We can go from bigger value to smaller value with -ve jump/step"
   ]
  },
  {
   "cell_type": "markdown",
   "id": "63564e24",
   "metadata": {},
   "source": [
    "### Q1.) Print all numbers from 1 to N using a loop"
   ]
  },
  {
   "cell_type": "code",
   "execution_count": 20,
   "id": "68d42778",
   "metadata": {},
   "outputs": [
    {
     "name": "stdout",
     "output_type": "stream",
     "text": [
      "4\n",
      "1\n",
      "2\n",
      "3\n",
      "4\n"
     ]
    }
   ],
   "source": [
    "N = int(input())\n",
    "for i in range(1,N+1):\n",
    "    print(i)"
   ]
  },
  {
   "cell_type": "markdown",
   "id": "e3f9ad6a",
   "metadata": {},
   "source": [
    "* In this case intialisation and updatation of counter variable is handled automatically by python\n"
   ]
  },
  {
   "cell_type": "markdown",
   "id": "fc054353",
   "metadata": {},
   "source": [
    "### Q2.) Calculate sum of all numbers from 1 to N using a for loop"
   ]
  },
  {
   "cell_type": "code",
   "execution_count": 3,
   "id": "fa911863",
   "metadata": {
    "collapsed": true
   },
   "outputs": [
    {
     "name": "stdout",
     "output_type": "stream",
     "text": [
      "Please enter number ;- 34\n",
      "0\n",
      "1\n",
      "2\n",
      "3\n",
      "4\n",
      "5\n",
      "6\n",
      "7\n",
      "8\n",
      "9\n",
      "10\n",
      "11\n",
      "12\n",
      "13\n",
      "14\n",
      "15\n",
      "16\n",
      "17\n",
      "18\n",
      "19\n",
      "20\n",
      "21\n",
      "22\n",
      "23\n",
      "24\n",
      "25\n",
      "26\n",
      "27\n",
      "28\n",
      "29\n",
      "30\n",
      "31\n",
      "32\n",
      "33\n",
      "34\n"
     ]
    }
   ],
   "source": [
    "number = int(input(\"Please enter number ;- \"))\n",
    "final_sum =0\n",
    "for value in range(number+1):\n",
    "    final_sum += value\n",
    "    print(value)"
   ]
  },
  {
   "cell_type": "markdown",
   "id": "97b2f583",
   "metadata": {},
   "source": [
    "### Q3.) Print all number from an input N to 1 where N>1"
   ]
  },
  {
   "cell_type": "code",
   "execution_count": 4,
   "id": "5579da8f",
   "metadata": {},
   "outputs": [
    {
     "name": "stdout",
     "output_type": "stream",
     "text": [
      "22\n",
      "22\n",
      "21\n",
      "20\n",
      "19\n",
      "18\n",
      "17\n",
      "16\n",
      "15\n",
      "14\n",
      "13\n",
      "12\n",
      "11\n",
      "10\n",
      "9\n",
      "8\n",
      "7\n",
      "6\n",
      "5\n",
      "4\n",
      "3\n",
      "2\n",
      "1\n"
     ]
    }
   ],
   "source": [
    "number = int(input())\n",
    "for i in range(number,0,-1):\n",
    "    print(i)"
   ]
  },
  {
   "cell_type": "markdown",
   "id": "666ed691",
   "metadata": {},
   "source": [
    "* Solve with -1 -ve jump/step"
   ]
  },
  {
   "cell_type": "code",
   "execution_count": 6,
   "id": "b99ca5e7",
   "metadata": {},
   "outputs": [
    {
     "name": "stdout",
     "output_type": "stream",
     "text": [
      "Enter the number;- 9\n",
      "9\n",
      "8\n",
      "7\n",
      "6\n",
      "5\n",
      "4\n",
      "3\n",
      "2\n",
      "1\n"
     ]
    }
   ],
   "source": [
    "n=int(input(\"Enter the number;- \"))\n",
    "for i in range(1,n+1):\n",
    "    print(n-i+1)"
   ]
  },
  {
   "cell_type": "code",
   "execution_count": null,
   "id": "9bfbbbd8",
   "metadata": {},
   "outputs": [],
   "source": []
  }
 ],
 "metadata": {
  "kernelspec": {
   "display_name": "Python 3 (ipykernel)",
   "language": "python",
   "name": "python3"
  },
  "language_info": {
   "codemirror_mode": {
    "name": "ipython",
    "version": 3
   },
   "file_extension": ".py",
   "mimetype": "text/x-python",
   "name": "python",
   "nbconvert_exporter": "python",
   "pygments_lexer": "ipython3",
   "version": "3.11.4"
  }
 },
 "nbformat": 4,
 "nbformat_minor": 5
}
