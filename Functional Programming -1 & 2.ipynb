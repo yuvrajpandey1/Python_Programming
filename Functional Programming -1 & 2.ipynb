{
 "cells": [
  {
   "cell_type": "markdown",
   "id": "7d944ab8",
   "metadata": {},
   "source": [
    "* There are various ways to organized the code"
   ]
  },
  {
   "cell_type": "markdown",
   "id": "ca5016ee",
   "metadata": {},
   "source": [
    "### In Industry there are various programming pattern mainly are ;-\n",
    "\n",
    "* OOPs Programming \n",
    "* Functional Programming"
   ]
  },
  {
   "cell_type": "markdown",
   "id": "d986d4cb",
   "metadata": {},
   "source": [
    "#### Functional Programming ;-\n",
    "\n",
    "* Functional programming is a paradigm of building computer programs using expressions and functions without mutating state and data\n",
    "\n",
    "* Functional programming is a programming paradigm in which we try to bind everything in pure mathematical functions style."
   ]
  },
  {
   "cell_type": "markdown",
   "id": "7d7ba059",
   "metadata": {},
   "source": [
    "### Q.) How many objects would be created in the complete run of the following code?"
   ]
  },
  {
   "cell_type": "code",
   "execution_count": 1,
   "id": "25f34385",
   "metadata": {},
   "outputs": [
    {
     "name": "stdout",
     "output_type": "stream",
     "text": [
      "New object Created!\n",
      "New object Created!\n",
      "New object Created!\n",
      "New object Created!\n",
      "<__main__.A object at 0x00000276E5F2A2D0>\n"
     ]
    }
   ],
   "source": [
    "class A:\n",
    "    counter= 0\n",
    "    def __init__(self):\n",
    "      self.counter+=1\n",
    "      print(\"New object Created!\")\n",
    "\n",
    "A() # 1st\n",
    "\n",
    "obj1 = A() # 2nd\n",
    "\n",
    "if A(): # 3rd\n",
    "    print(A()) # 4th"
   ]
  },
  {
   "cell_type": "markdown",
   "id": "849ff415",
   "metadata": {},
   "source": [
    "### Q2.) Which of the following is false with respect to the following python code?"
   ]
  },
  {
   "cell_type": "code",
   "execution_count": 2,
   "id": "b64996c1",
   "metadata": {},
   "outputs": [],
   "source": [
    "# Check which one is false \n",
    "class Student:\n",
    "    def __init__(random, id, age):\n",
    "        random.id = id\n",
    "        random.age = age\n",
    "\n",
    "s1 = Student(1, 5000)"
   ]
  },
  {
   "cell_type": "code",
   "execution_count": 3,
   "id": "ab698844",
   "metadata": {},
   "outputs": [
    {
     "name": "stdout",
     "output_type": "stream",
     "text": [
      "False\n"
     ]
    }
   ],
   "source": [
    "### Q3.) \n",
    "class A:\n",
    "    def __init__(self, name):\n",
    "        self.name = name\n",
    "    \n",
    "a1 = A(\"Bunty\")\n",
    "a2 = A(\"Babli\")\n",
    "\n",
    "# id return address of object\n",
    "print(id(a1) == id(a2))"
   ]
  },
  {
   "cell_type": "code",
   "execution_count": 4,
   "id": "91e387b8",
   "metadata": {
    "collapsed": true
   },
   "outputs": [
    {
     "ename": "NameError",
     "evalue": "name 'count' is not defined",
     "output_type": "error",
     "traceback": [
      "\u001b[1;31m---------------------------------------------------------------------------\u001b[0m",
      "\u001b[1;31mNameError\u001b[0m                                 Traceback (most recent call last)",
      "Cell \u001b[1;32mIn[4], line 7\u001b[0m\n\u001b[0;32m      4\u001b[0m         \u001b[38;5;28mself\u001b[39m\u001b[38;5;241m.\u001b[39mcount\u001b[38;5;241m=\u001b[39m\u001b[38;5;241m5\u001b[39m\n\u001b[0;32m      5\u001b[0m         \u001b[38;5;28mself\u001b[39m\u001b[38;5;241m.\u001b[39mcount\u001b[38;5;241m=\u001b[39mcount\u001b[38;5;241m+\u001b[39m\u001b[38;5;241m1\u001b[39m\n\u001b[1;32m----> 7\u001b[0m c \u001b[38;5;241m=\u001b[39m Counter()\n\u001b[0;32m      8\u001b[0m \u001b[38;5;28mprint\u001b[39m(c\u001b[38;5;241m.\u001b[39mcount)\n",
      "Cell \u001b[1;32mIn[4], line 5\u001b[0m, in \u001b[0;36mCounter.__init__\u001b[1;34m(self)\u001b[0m\n\u001b[0;32m      3\u001b[0m \u001b[38;5;28;01mdef\u001b[39;00m \u001b[38;5;21m__init__\u001b[39m(\u001b[38;5;28mself\u001b[39m):\n\u001b[0;32m      4\u001b[0m     \u001b[38;5;28mself\u001b[39m\u001b[38;5;241m.\u001b[39mcount\u001b[38;5;241m=\u001b[39m\u001b[38;5;241m5\u001b[39m\n\u001b[1;32m----> 5\u001b[0m     \u001b[38;5;28mself\u001b[39m\u001b[38;5;241m.\u001b[39mcount\u001b[38;5;241m=\u001b[39mcount\u001b[38;5;241m+\u001b[39m\u001b[38;5;241m1\u001b[39m\n",
      "\u001b[1;31mNameError\u001b[0m: name 'count' is not defined"
     ]
    }
   ],
   "source": [
    "### Q4.) \n",
    "class Counter:\n",
    "    def __init__(self):\n",
    "        self.count=5\n",
    "        self.count=count+1\n",
    "\n",
    "c = Counter()\n",
    "print(c.count)"
   ]
  },
  {
   "cell_type": "markdown",
   "id": "8b46b352",
   "metadata": {},
   "source": [
    "### Q5.) What are the functions inside a class called in python?"
   ]
  },
  {
   "cell_type": "markdown",
   "id": "f97b249c",
   "metadata": {},
   "source": [
    "* Methods"
   ]
  },
  {
   "cell_type": "markdown",
   "id": "a643b652",
   "metadata": {},
   "source": [
    "### Q6.) What would be the output of the following?"
   ]
  },
  {
   "cell_type": "code",
   "execution_count": 5,
   "id": "823483c3",
   "metadata": {},
   "outputs": [
    {
     "name": "stdout",
     "output_type": "stream",
     "text": [
      "Is it possible?\n"
     ]
    }
   ],
   "source": [
    "class Random:\n",
    "    def __init__(self, a = \"Is it possible?\"):\n",
    "        self.a = a\n",
    " \n",
    "    def display(self):\n",
    "        print(self.a)\n",
    "        \n",
    "r = Random()\n",
    "r.display()"
   ]
  },
  {
   "cell_type": "markdown",
   "id": "7f4e50ea",
   "metadata": {},
   "source": [
    "### Q7.) What would be the output of the following?"
   ]
  },
  {
   "cell_type": "code",
   "execution_count": 6,
   "id": "ec8107d0",
   "metadata": {},
   "outputs": [
    {
     "name": "stdout",
     "output_type": "stream",
     "text": [
      "Old\n"
     ]
    }
   ],
   "source": [
    "class A:\n",
    "    def __init__(self):\n",
    "        self.variable = 'Old'\n",
    "        self.update(self.variable)\n",
    "\n",
    "    def update(self, var):\n",
    "        var = 'New'\n",
    "\n",
    "a = A()\n",
    "print(a.variable)"
   ]
  },
  {
   "cell_type": "code",
   "execution_count": 7,
   "id": "b0499f3c",
   "metadata": {},
   "outputs": [],
   "source": [
    "# This quize on the concept of mutability\n",
    "# String is immutable in python\n",
    "# immutable does not change\n"
   ]
  },
  {
   "cell_type": "markdown",
   "id": "b72b5012",
   "metadata": {},
   "source": [
    "### Q8.) What do you mean by instantiation when it comes to OOPS?"
   ]
  },
  {
   "cell_type": "markdown",
   "id": "5b70c7fd",
   "metadata": {},
   "source": [
    "* Creating an object of a class"
   ]
  },
  {
   "cell_type": "markdown",
   "id": "8263ce4e",
   "metadata": {},
   "source": [
    "### Q9.) Which of the following code pieces would create an empty class in python?\n",
    "\n",
    "* class A: pass\n"
   ]
  },
  {
   "cell_type": "markdown",
   "id": "8ad2b47a",
   "metadata": {},
   "source": [
    "### Q10.) What would be the output of the following?"
   ]
  },
  {
   "cell_type": "code",
   "execution_count": 8,
   "id": "db977660",
   "metadata": {},
   "outputs": [
    {
     "name": "stdout",
     "output_type": "stream",
     "text": [
      "I do something!\n",
      "I also do something!\n"
     ]
    }
   ],
   "source": [
    "class A:\n",
    "    def do_something(self):\n",
    "        print(\"I do something!\")\n",
    "\n",
    "class B(A):\n",
    "    def do_something(self):\n",
    "        super().do_something()\n",
    "        print(\"I also do something!\")\n",
    "\n",
    "b = B()\n",
    "b.do_something()"
   ]
  },
  {
   "cell_type": "markdown",
   "id": "3aa279e4",
   "metadata": {},
   "source": [
    "### Functional Programing\n",
    "\n",
    "* Programming paradigm ( to arrange code)\n",
    "* f(x) -> a\n",
    "* f(x) -> b\n",
    "* a = b (property of function)"
   ]
  },
  {
   "cell_type": "markdown",
   "id": "d7e8236f",
   "metadata": {},
   "source": [
    "#### Lmabda function\n",
    "\n",
    "* It is also known as Anonymous function"
   ]
  },
  {
   "cell_type": "code",
   "execution_count": 9,
   "id": "00427b89",
   "metadata": {},
   "outputs": [],
   "source": [
    "def square(x):                         # name and argument\n",
    "    return x**2                        #value that return"
   ]
  },
  {
   "cell_type": "code",
   "execution_count": 12,
   "id": "0879ceb1",
   "metadata": {},
   "outputs": [
    {
     "name": "stdout",
     "output_type": "stream",
     "text": [
      "4\n"
     ]
    }
   ],
   "source": [
    "print(square(2))"
   ]
  },
  {
   "cell_type": "code",
   "execution_count": 10,
   "id": "9a6bbd7e",
   "metadata": {},
   "outputs": [],
   "source": [
    "square = lambda x:x**2"
   ]
  },
  {
   "cell_type": "code",
   "execution_count": 11,
   "id": "7484eeb2",
   "metadata": {},
   "outputs": [
    {
     "data": {
      "text/plain": [
       "25"
      ]
     },
     "execution_count": 11,
     "metadata": {},
     "output_type": "execute_result"
    }
   ],
   "source": [
    "square(5)"
   ]
  },
  {
   "cell_type": "code",
   "execution_count": 14,
   "id": "c7d8a248",
   "metadata": {},
   "outputs": [
    {
     "data": {
      "text/plain": [
       "16"
      ]
     },
     "execution_count": 14,
     "metadata": {},
     "output_type": "execute_result"
    }
   ],
   "source": [
    "(lambda x:x**2)(-4)"
   ]
  },
  {
   "cell_type": "markdown",
   "id": "cf0341af",
   "metadata": {},
   "source": [
    " #### Ternanry operator"
   ]
  },
  {
   "cell_type": "code",
   "execution_count": 15,
   "id": "c1d958ed",
   "metadata": {},
   "outputs": [],
   "source": [
    "# if condition:\n",
    "#    do something\n",
    "# else:\n",
    "#    do something else"
   ]
  },
  {
   "cell_type": "code",
   "execution_count": 16,
   "id": "df4f5894",
   "metadata": {},
   "outputs": [],
   "source": [
    "# x if condition else y\n"
   ]
  },
  {
   "cell_type": "code",
   "execution_count": 18,
   "id": "8a9fcece",
   "metadata": {},
   "outputs": [
    {
     "data": {
      "text/plain": [
       "'Yes'"
      ]
     },
     "execution_count": 18,
     "metadata": {},
     "output_type": "execute_result"
    }
   ],
   "source": [
    "(lambda age : 'Yes' if age >=18 else 'No')(21)"
   ]
  },
  {
   "cell_type": "markdown",
   "id": "2c757deb",
   "metadata": {},
   "source": [
    "#### Lambda in sorting"
   ]
  },
  {
   "cell_type": "code",
   "execution_count": 19,
   "id": "a00e6984",
   "metadata": {},
   "outputs": [],
   "source": [
    "a = [1,5,7,8,0,2,3,5,9]"
   ]
  },
  {
   "cell_type": "code",
   "execution_count": 20,
   "id": "f61d431d",
   "metadata": {},
   "outputs": [
    {
     "name": "stdout",
     "output_type": "stream",
     "text": [
      "[0, 1, 2, 3, 5, 5, 7, 8, 9]\n"
     ]
    }
   ],
   "source": [
    "a_sort = sorted(a)\n",
    "print(a_sort)"
   ]
  },
  {
   "cell_type": "code",
   "execution_count": 21,
   "id": "4564de86",
   "metadata": {},
   "outputs": [],
   "source": [
    "students = [\n",
    "    { \"name\" : 'A', 'marks':50},\n",
    "    { \"name\" : 'B', 'marks':100},\n",
    "    { \"name\" : 'C', 'marks':40},\n",
    "    { \"name\" : 'D', 'marks':70},\n",
    "    { 'name' : 'E', 'marks': 60},\n",
    "]"
   ]
  },
  {
   "cell_type": "code",
   "execution_count": 22,
   "id": "459ff94b",
   "metadata": {},
   "outputs": [
    {
     "ename": "TypeError",
     "evalue": "'<' not supported between instances of 'dict' and 'dict'",
     "output_type": "error",
     "traceback": [
      "\u001b[1;31m---------------------------------------------------------------------------\u001b[0m",
      "\u001b[1;31mTypeError\u001b[0m                                 Traceback (most recent call last)",
      "Cell \u001b[1;32mIn[22], line 1\u001b[0m\n\u001b[1;32m----> 1\u001b[0m sorted_students \u001b[38;5;241m=\u001b[39m \u001b[38;5;28msorted\u001b[39m(students)\n",
      "\u001b[1;31mTypeError\u001b[0m: '<' not supported between instances of 'dict' and 'dict'"
     ]
    }
   ],
   "source": [
    "sorted_students = sorted(students)"
   ]
  },
  {
   "cell_type": "code",
   "execution_count": 23,
   "id": "8f003d22",
   "metadata": {},
   "outputs": [],
   "source": [
    "sorted?"
   ]
  },
  {
   "cell_type": "code",
   "execution_count": 24,
   "id": "702a605a",
   "metadata": {},
   "outputs": [],
   "source": [
    "sorted_students = sorted(students,key=lambda x: x['marks'])"
   ]
  },
  {
   "cell_type": "code",
   "execution_count": 25,
   "id": "77cdcad2",
   "metadata": {},
   "outputs": [
    {
     "data": {
      "text/plain": [
       "[{'name': 'C', 'marks': 40},\n",
       " {'name': 'A', 'marks': 50},\n",
       " {'name': 'E', 'marks': 60},\n",
       " {'name': 'D', 'marks': 70},\n",
       " {'name': 'B', 'marks': 100}]"
      ]
     },
     "execution_count": 25,
     "metadata": {},
     "output_type": "execute_result"
    }
   ],
   "source": [
    "sorted_students"
   ]
  },
  {
   "cell_type": "code",
   "execution_count": 26,
   "id": "2d74ce9c",
   "metadata": {},
   "outputs": [
    {
     "data": {
      "text/plain": [
       "[{'name': 'B', 'marks': 100},\n",
       " {'name': 'D', 'marks': 70},\n",
       " {'name': 'E', 'marks': 60},\n",
       " {'name': 'A', 'marks': 50},\n",
       " {'name': 'C', 'marks': 40}]"
      ]
     },
     "execution_count": 26,
     "metadata": {},
     "output_type": "execute_result"
    }
   ],
   "source": [
    "sorted_students = sorted(students,key=lambda x: x['marks'],reverse = True)\n",
    "sorted_students"
   ]
  },
  {
   "cell_type": "markdown",
   "id": "2be806ac",
   "metadata": {},
   "source": [
    "#### Higher order function\n",
    "\n",
    "* Function which creates customised function on basis input"
   ]
  },
  {
   "cell_type": "code",
   "execution_count": 27,
   "id": "0047d652",
   "metadata": {},
   "outputs": [],
   "source": [
    "def gen_exp(N):\n",
    "    def exp(x):\n",
    "        return x**N\n",
    "    return exp"
   ]
  },
  {
   "cell_type": "code",
   "execution_count": 28,
   "id": "77d65284",
   "metadata": {},
   "outputs": [
    {
     "data": {
      "text/plain": [
       "<function __main__.gen_exp.<locals>.exp(x)>"
      ]
     },
     "execution_count": 28,
     "metadata": {},
     "output_type": "execute_result"
    }
   ],
   "source": [
    "gen_exp(2)"
   ]
  },
  {
   "cell_type": "code",
   "execution_count": 30,
   "id": "249eaffe",
   "metadata": {},
   "outputs": [
    {
     "data": {
      "text/plain": [
       "<function __main__.gen_exp.<locals>.exp(x)>"
      ]
     },
     "execution_count": 30,
     "metadata": {},
     "output_type": "execute_result"
    }
   ],
   "source": [
    "exp_5 = gen_exp(2)\n",
    "exp_5"
   ]
  },
  {
   "cell_type": "code",
   "execution_count": 35,
   "id": "9a1316a1",
   "metadata": {},
   "outputs": [
    {
     "name": "stdout",
     "output_type": "stream",
     "text": [
      "4\n"
     ]
    }
   ],
   "source": [
    "print(exp_5(2))"
   ]
  },
  {
   "cell_type": "code",
   "execution_count": 34,
   "id": "e28a012f",
   "metadata": {},
   "outputs": [
    {
     "name": "stdout",
     "output_type": "stream",
     "text": [
      "27\n"
     ]
    }
   ],
   "source": [
    "exp_3 = gen_exp(3)\n",
    "print(exp_3(3))"
   ]
  },
  {
   "cell_type": "code",
   "execution_count": 36,
   "id": "a8366fa6",
   "metadata": {},
   "outputs": [
    {
     "name": "stdout",
     "output_type": "stream",
     "text": [
      "59049\n"
     ]
    }
   ],
   "source": [
    "print(gen_exp(5)(9))"
   ]
  },
  {
   "cell_type": "markdown",
   "id": "82a56e32",
   "metadata": {},
   "source": [
    "### Decorators\n",
    "\n",
    "* High order functions that another function as input and add the extra behaviour in along with the functionality of passed function"
   ]
  },
  {
   "cell_type": "code",
   "execution_count": 37,
   "id": "c8a0a404",
   "metadata": {},
   "outputs": [],
   "source": [
    "def foo():\n",
    "    print('Hello everyone! How are you doing?')\n",
    "    \n",
    "def bar():\n",
    "    print('Random click print statement!')"
   ]
  },
  {
   "cell_type": "code",
   "execution_count": 38,
   "id": "7694d739",
   "metadata": {},
   "outputs": [
    {
     "name": "stdout",
     "output_type": "stream",
     "text": [
      "Hello everyone! How are you doing?\n"
     ]
    }
   ],
   "source": [
    "foo()"
   ]
  },
  {
   "cell_type": "code",
   "execution_count": 39,
   "id": "381299a7",
   "metadata": {},
   "outputs": [
    {
     "name": "stdout",
     "output_type": "stream",
     "text": [
      "__________________________________________________\n",
      "Hello everyone! How are you doing?\n",
      "__________________________________________________\n"
     ]
    }
   ],
   "source": [
    "def foo():\n",
    "    print('_'*50)\n",
    "    print('Hello everyone! How are you doing?')\n",
    "    print('_'*50)\n",
    "    \n",
    "foo()"
   ]
  },
  {
   "cell_type": "code",
   "execution_count": 40,
   "id": "87d12f7f",
   "metadata": {},
   "outputs": [],
   "source": [
    "def pretty(func):\n",
    "    def inner():\n",
    "        print('_'*50)\n",
    "        func()\n",
    "        print('_'*50)\n",
    "    return inner\n",
    "        \n",
    "        "
   ]
  },
  {
   "cell_type": "code",
   "execution_count": 41,
   "id": "b1a8d294",
   "metadata": {},
   "outputs": [],
   "source": [
    "def foo():\n",
    "    print('Hello everyone! How are you doing?' )\n",
    "    \n",
    "def bar():\n",
    "    print('Random click print statement!')"
   ]
  },
  {
   "cell_type": "code",
   "execution_count": 42,
   "id": "efbda4ed",
   "metadata": {},
   "outputs": [],
   "source": [
    "pretty_foo = pretty(foo)"
   ]
  },
  {
   "cell_type": "code",
   "execution_count": 43,
   "id": "96039f8e",
   "metadata": {},
   "outputs": [
    {
     "name": "stdout",
     "output_type": "stream",
     "text": [
      "Hello everyone! How are you doing?\n"
     ]
    }
   ],
   "source": [
    "foo()"
   ]
  },
  {
   "cell_type": "code",
   "execution_count": 44,
   "id": "717ceaa9",
   "metadata": {},
   "outputs": [
    {
     "name": "stdout",
     "output_type": "stream",
     "text": [
      "__________________________________________________\n",
      "Hello everyone! How are you doing?\n",
      "__________________________________________________\n"
     ]
    }
   ],
   "source": [
    "pretty_foo()"
   ]
  },
  {
   "cell_type": "code",
   "execution_count": 45,
   "id": "c0a7267f",
   "metadata": {},
   "outputs": [],
   "source": [
    "pretty_bar = pretty(bar)"
   ]
  },
  {
   "cell_type": "code",
   "execution_count": 47,
   "id": "f3152361",
   "metadata": {},
   "outputs": [
    {
     "name": "stdout",
     "output_type": "stream",
     "text": [
      "__________________________________________________\n",
      "Random click print statement!\n",
      "__________________________________________________\n"
     ]
    }
   ],
   "source": [
    "pretty_bar()"
   ]
  },
  {
   "cell_type": "code",
   "execution_count": 48,
   "id": "c1caa210",
   "metadata": {},
   "outputs": [],
   "source": [
    "@pretty\n",
    "def foo():\n",
    "    print('Hello everyone! How are you doing?')"
   ]
  },
  {
   "cell_type": "code",
   "execution_count": 49,
   "id": "0f064777",
   "metadata": {},
   "outputs": [
    {
     "name": "stdout",
     "output_type": "stream",
     "text": [
      "__________________________________________________\n",
      "Hello everyone! How are you doing?\n",
      "__________________________________________________\n"
     ]
    }
   ],
   "source": [
    "foo()"
   ]
  },
  {
   "cell_type": "code",
   "execution_count": 50,
   "id": "70b77145",
   "metadata": {},
   "outputs": [],
   "source": [
    "@pretty\n",
    "def bar():\n",
    "    print('I am amaied right now! night just cry')"
   ]
  },
  {
   "cell_type": "code",
   "execution_count": 51,
   "id": "e57d1bee",
   "metadata": {},
   "outputs": [
    {
     "name": "stdout",
     "output_type": "stream",
     "text": [
      "__________________________________________________\n",
      "I am amaied right now! night just cry\n",
      "__________________________________________________\n"
     ]
    }
   ],
   "source": [
    "bar()"
   ]
  },
  {
   "cell_type": "markdown",
   "id": "f80bdfc6",
   "metadata": {},
   "source": [
    "## Part -2"
   ]
  },
  {
   "cell_type": "code",
   "execution_count": 53,
   "id": "65faa7fc",
   "metadata": {},
   "outputs": [
    {
     "name": "stdout",
     "output_type": "stream",
     "text": [
      "11\n"
     ]
    }
   ],
   "source": [
    "x = 5\n",
    "\n",
    "# Hidden muatation\n",
    "x= x*2\n",
    "x = x+1\n",
    "# Hidden mutation\n",
    "\n",
    "print(x)"
   ]
  },
  {
   "cell_type": "code",
   "execution_count": 55,
   "id": "dc2cd535",
   "metadata": {},
   "outputs": [
    {
     "name": "stdout",
     "output_type": "stream",
     "text": [
      "11\n"
     ]
    }
   ],
   "source": [
    "x = 5\n",
    "\n",
    "x1 = x*2\n",
    "x2 = x1+1\n",
    "# in each line creating new variable it is not ideal\n",
    "\n",
    "print(x2)\n",
    "\n",
    "# problem too many variable"
   ]
  },
  {
   "cell_type": "code",
   "execution_count": 57,
   "id": "aa6b2b29",
   "metadata": {},
   "outputs": [
    {
     "name": "stdout",
     "output_type": "stream",
     "text": [
      "11\n"
     ]
    }
   ],
   "source": [
    "x=5\n",
    "def mutation(val):\n",
    "    val *=2\n",
    "    val +=1\n",
    "    return val\n",
    "\n",
    "x1 = mutation(x)\n",
    "print(x1)"
   ]
  },
  {
   "cell_type": "markdown",
   "id": "4c4cc4f6",
   "metadata": {},
   "source": [
    "#### Principles of FP ;-\n",
    "\n",
    "* Data should be seperated from mutation\n",
    "* Treat variables as immutables\n",
    "* Treat functions as FCC (First Class Citizens)"
   ]
  },
  {
   "cell_type": "markdown",
   "id": "7f347534",
   "metadata": {},
   "source": [
    "### There are 4 more important function that are availabe in python which allow to do intresting modification to the data\n",
    "\n",
    "1. MAP\n",
    "2. FILTER\n",
    "3. REDUCE\n",
    "4. ZIP"
   ]
  },
  {
   "cell_type": "markdown",
   "id": "737a0884",
   "metadata": {},
   "source": [
    "#### MAP "
   ]
  },
  {
   "cell_type": "code",
   "execution_count": 58,
   "id": "ef173c5b",
   "metadata": {},
   "outputs": [],
   "source": [
    "a = [1,2,3,4,5]"
   ]
  },
  {
   "cell_type": "code",
   "execution_count": 59,
   "id": "41224716",
   "metadata": {},
   "outputs": [
    {
     "name": "stdout",
     "output_type": "stream",
     "text": [
      "[2, 4, 6, 8, 10]\n"
     ]
    }
   ],
   "source": [
    "# using a for loop\n",
    "\n",
    "new_a = []\n",
    "for val in a:\n",
    "    new_a.append(2*val)\n",
    "    \n",
    "print(new_a)\n",
    "    \n"
   ]
  },
  {
   "cell_type": "code",
   "execution_count": 60,
   "id": "e4755ccd",
   "metadata": {},
   "outputs": [
    {
     "name": "stdout",
     "output_type": "stream",
     "text": [
      "[2, 4, 6, 8, 10]\n"
     ]
    }
   ],
   "source": [
    "# Using MAP function\n",
    "\n",
    "new_a = list(map(lambda x:2*x,a))\n",
    "print(new_a)"
   ]
  },
  {
   "cell_type": "markdown",
   "id": "9abbe122",
   "metadata": {},
   "source": [
    "### Q1.) Given the list of t-shirt sizes in int return the correspondng size type\n",
    "\n",
    "* S : <=150\n",
    "* M : >150 and <180\n",
    "* L : >=180\n",
    "    \n",
    "* heights = [144,167,189,170,190,150,165,178,200,130]\n"
   ]
  },
  {
   "cell_type": "code",
   "execution_count": 62,
   "id": "79102137",
   "metadata": {},
   "outputs": [],
   "source": [
    "heights = [144,167,189,170,190,150,165,178,200,130]"
   ]
  },
  {
   "cell_type": "code",
   "execution_count": 63,
   "id": "20c12565",
   "metadata": {},
   "outputs": [
    {
     "name": "stdout",
     "output_type": "stream",
     "text": [
      "['S', 'N', 'L', 'N', 'L', 'S', 'N', 'N', 'L', 'S']\n"
     ]
    }
   ],
   "source": [
    "def tshirt_type(sz):\n",
    "    if sz<=150:\n",
    "        return \"S\"\n",
    "    elif sz >=180:\n",
    "        return \"L\"\n",
    "    else:\n",
    "        return 'N'\n",
    "    \n",
    "tshirt = list(map(tshirt_type,heights))\n",
    "print(tshirt)"
   ]
  },
  {
   "cell_type": "code",
   "execution_count": 65,
   "id": "9159ffd4",
   "metadata": {},
   "outputs": [],
   "source": [
    "# Given two lists A and B having 1s and 0s,\n",
    "# find another list with element at index '1' as True,\n",
    "# if A[1] == B[1] else False\n",
    "\n",
    "A = [1,0,0,1,1,1,0,0,0,1,0,1]\n",
    "B = [0,0,1,1,0,1,1,1,0,0,0,0]"
   ]
  },
  {
   "cell_type": "code",
   "execution_count": 67,
   "id": "22933300",
   "metadata": {
    "scrolled": true
   },
   "outputs": [
    {
     "data": {
      "text/plain": [
       "[False, True, False, True, False, True, False, False, True, False, True, False]"
      ]
     },
     "execution_count": 67,
     "metadata": {},
     "output_type": "execute_result"
    }
   ],
   "source": [
    "C  = list(map(lambda x,y : True if x==y else False, A,B))\n",
    "C"
   ]
  },
  {
   "cell_type": "code",
   "execution_count": 68,
   "id": "f51cb5f1",
   "metadata": {},
   "outputs": [
    {
     "name": "stdout",
     "output_type": "stream",
     "text": [
      "144 167 189 170 190 150 165 178 200 130 \n",
      "['S', 'N', 'L', 'N', 'L', 'S', 'N', 'N', 'L', 'S']\n"
     ]
    }
   ],
   "source": [
    "def tshirt_type(sz):\n",
    "    print(sz,end=' ')\n",
    "    if sz<=150:\n",
    "        return \"S\"\n",
    "    elif sz >=180:\n",
    "        return \"L\"\n",
    "    else:\n",
    "        return 'N'\n",
    "    \n",
    "tshirt = list(map(tshirt_type,heights))\n",
    "print()\n",
    "print(tshirt)"
   ]
  },
  {
   "cell_type": "markdown",
   "id": "e35b694b",
   "metadata": {},
   "source": [
    "#### Filter\n",
    "\n",
    "* Filter out elements from an iterable basis a condition\n"
   ]
  },
  {
   "cell_type": "code",
   "execution_count": 1,
   "id": "77fb9dfb",
   "metadata": {},
   "outputs": [
    {
     "data": {
      "text/plain": [
       "[0, 1, 2, 3, 4, 5, 6, 7, 8, 9, 10]"
      ]
     },
     "execution_count": 1,
     "metadata": {},
     "output_type": "execute_result"
    }
   ],
   "source": [
    "a = list(range(11))\n",
    "a"
   ]
  },
  {
   "cell_type": "code",
   "execution_count": 7,
   "id": "63a58a47",
   "metadata": {
    "collapsed": true
   },
   "outputs": [
    {
     "ename": "SyntaxError",
     "evalue": "cannot assign to expression here. Maybe you meant '==' instead of '='? (2102818719.py, line 1)",
     "output_type": "error",
     "traceback": [
      "\u001b[1;36m  Cell \u001b[1;32mIn[7], line 1\u001b[1;36m\u001b[0m\n\u001b[1;33m    filtered-a = list(filter(lambda x: x%2==0, a))\u001b[0m\n\u001b[1;37m    ^\u001b[0m\n\u001b[1;31mSyntaxError\u001b[0m\u001b[1;31m:\u001b[0m cannot assign to expression here. Maybe you meant '==' instead of '='?\n"
     ]
    }
   ],
   "source": [
    "filtered-a = list(filter(lambda x: x%2==0, a))\n",
    "filtered_a"
   ]
  },
  {
   "cell_type": "code",
   "execution_count": 8,
   "id": "42358461",
   "metadata": {},
   "outputs": [],
   "source": [
    "matrix = [\n",
    "    [1,2,3],\n",
    "    [4,5,6]\n",
    "]"
   ]
  },
  {
   "cell_type": "code",
   "execution_count": 10,
   "id": "67cbdd3b",
   "metadata": {},
   "outputs": [
    {
     "data": {
      "text/plain": [
       "[[2], [4, 6]]"
      ]
     },
     "execution_count": 10,
     "metadata": {},
     "output_type": "execute_result"
    }
   ],
   "source": [
    "fil_matrix = list(map(lambda row: list(filter(lambda x: x%2==0, row)),matrix ))\n",
    "fil_matrix"
   ]
  },
  {
   "cell_type": "markdown",
   "id": "68ba04a6",
   "metadata": {},
   "source": [
    "### Reduce\n",
    "\n",
    "* Reduce an entire iterable to a single value"
   ]
  },
  {
   "cell_type": "code",
   "execution_count": 11,
   "id": "5788523f",
   "metadata": {},
   "outputs": [],
   "source": [
    "from functools import reduce\n",
    "\n",
    "# this line brings reduce function into current mode"
   ]
  },
  {
   "cell_type": "code",
   "execution_count": 12,
   "id": "63defd16",
   "metadata": {},
   "outputs": [],
   "source": [
    "a = [1,2,3,4,5,6,7,8,9]"
   ]
  },
  {
   "cell_type": "code",
   "execution_count": 13,
   "id": "e43c9948",
   "metadata": {},
   "outputs": [
    {
     "data": {
      "text/plain": [
       "45"
      ]
     },
     "execution_count": 13,
     "metadata": {},
     "output_type": "execute_result"
    }
   ],
   "source": [
    "sm = reduce(lambda x,y : x+y,a)\n",
    "sm"
   ]
  },
  {
   "cell_type": "code",
   "execution_count": 16,
   "id": "4b379222",
   "metadata": {},
   "outputs": [
    {
     "data": {
      "text/plain": [
       "9"
      ]
     },
     "execution_count": 16,
     "metadata": {},
     "output_type": "execute_result"
    }
   ],
   "source": [
    "mx = reduce(lambda x,y : x if x>y else y,a)\n",
    "mx"
   ]
  },
  {
   "cell_type": "markdown",
   "id": "cef6273b",
   "metadata": {},
   "source": [
    "### Zip \n",
    "\n",
    "* Convert the data into tuples\n",
    "* Size will reduce\n",
    "* Join it and convert into single\n",
    "\n",
    "\n",
    "* To combine data we use zip\n",
    "* minimum size only compressed/reduces"
   ]
  },
  {
   "cell_type": "code",
   "execution_count": 17,
   "id": "25e63249",
   "metadata": {},
   "outputs": [],
   "source": [
    "a = [1,2,3,4,5,6]\n",
    "b = ['a','b','c','d','e']\n",
    "c = ['x','y','z','m','n']"
   ]
  },
  {
   "cell_type": "code",
   "execution_count": 18,
   "id": "4cdb46e3",
   "metadata": {},
   "outputs": [
    {
     "data": {
      "text/plain": [
       "[(1, 'a', 'x'), (2, 'b', 'y'), (3, 'c', 'z'), (4, 'd', 'm'), (5, 'e', 'n')]"
      ]
     },
     "execution_count": 18,
     "metadata": {},
     "output_type": "execute_result"
    }
   ],
   "source": [
    "result = list(zip(a,b,c))\n",
    "result"
   ]
  },
  {
   "cell_type": "code",
   "execution_count": 19,
   "id": "6fb7b46e",
   "metadata": {},
   "outputs": [],
   "source": [
    "d = [1,2,3]\n",
    "e = ['a','b','c','d','e']\n",
    "f = ['x','y','z','m','n']"
   ]
  },
  {
   "cell_type": "code",
   "execution_count": 20,
   "id": "9930886d",
   "metadata": {},
   "outputs": [
    {
     "data": {
      "text/plain": [
       "[(1, 'a', 'x'), (2, 'b', 'y'), (3, 'c', 'z')]"
      ]
     },
     "execution_count": 20,
     "metadata": {},
     "output_type": "execute_result"
    }
   ],
   "source": [
    "result = list(zip(d,e,f))\n",
    "result"
   ]
  },
  {
   "cell_type": "markdown",
   "id": "4ca1a5a7",
   "metadata": {},
   "source": [
    "### Args & Kwargs"
   ]
  },
  {
   "cell_type": "code",
   "execution_count": 21,
   "id": "cab4ab1f",
   "metadata": {},
   "outputs": [
    {
     "name": "stdout",
     "output_type": "stream",
     "text": [
      "9\n"
     ]
    }
   ],
   "source": [
    "def sum(a,b):\n",
    "    return a+b\n",
    "print(sum(2,7))"
   ]
  },
  {
   "cell_type": "code",
   "execution_count": 22,
   "id": "9564ce77",
   "metadata": {},
   "outputs": [],
   "source": [
    "def sum(a,b,*args):\n",
    "    print(a,b,args)\n",
    "    return a+b"
   ]
  },
  {
   "cell_type": "code",
   "execution_count": 23,
   "id": "46211176",
   "metadata": {},
   "outputs": [
    {
     "name": "stdout",
     "output_type": "stream",
     "text": [
      "2 3 ()\n",
      "5\n"
     ]
    }
   ],
   "source": [
    "print(sum(2,3))"
   ]
  },
  {
   "cell_type": "code",
   "execution_count": 24,
   "id": "1272f36f",
   "metadata": {},
   "outputs": [
    {
     "name": "stdout",
     "output_type": "stream",
     "text": [
      "1 3 (4,)\n",
      "4\n"
     ]
    }
   ],
   "source": [
    "print(sum(1,3,4))"
   ]
  },
  {
   "cell_type": "code",
   "execution_count": 25,
   "id": "d8ef98dc",
   "metadata": {},
   "outputs": [
    {
     "name": "stdout",
     "output_type": "stream",
     "text": [
      "1 3 (4, 7, 8)\n",
      "4\n"
     ]
    }
   ],
   "source": [
    "print(sum(1,3,4,7,8))"
   ]
  },
  {
   "cell_type": "code",
   "execution_count": 29,
   "id": "ebca2d0c",
   "metadata": {},
   "outputs": [],
   "source": [
    "def sum_numbers(a,b,*args):\n",
    "    sm = a+b\n",
    "    if args:\n",
    "        sm += sum(args)\n",
    "    return sm"
   ]
  },
  {
   "cell_type": "code",
   "execution_count": 30,
   "id": "7b28bbf3",
   "metadata": {},
   "outputs": [
    {
     "name": "stdout",
     "output_type": "stream",
     "text": [
      "6\n"
     ]
    }
   ],
   "source": [
    "print(sum_numbers(2,4))"
   ]
  },
  {
   "cell_type": "code",
   "execution_count": 32,
   "id": "bc6f2323",
   "metadata": {},
   "outputs": [],
   "source": [
    "del sum"
   ]
  },
  {
   "cell_type": "code",
   "execution_count": 33,
   "id": "656cee33",
   "metadata": {
    "scrolled": true
   },
   "outputs": [
    {
     "name": "stdout",
     "output_type": "stream",
     "text": [
      "23\n"
     ]
    }
   ],
   "source": [
    "print(sum_numbers(2,4,9,8))"
   ]
  },
  {
   "cell_type": "code",
   "execution_count": 34,
   "id": "ba4fb2b2",
   "metadata": {},
   "outputs": [],
   "source": [
    "def create_person(name,age):\n",
    "    person = {\n",
    "        'name':name,\n",
    "        'age':age\n",
    "    }\n",
    "    return person"
   ]
  },
  {
   "cell_type": "code",
   "execution_count": 35,
   "id": "2d89825e",
   "metadata": {},
   "outputs": [
    {
     "name": "stdout",
     "output_type": "stream",
     "text": [
      "{'name': 'Yuvraj', 'age': 24}\n"
     ]
    }
   ],
   "source": [
    "print(create_person('Yuvraj',24))"
   ]
  },
  {
   "cell_type": "code",
   "execution_count": 36,
   "id": "0b36d667",
   "metadata": {},
   "outputs": [
    {
     "name": "stdout",
     "output_type": "stream",
     "text": [
      "{'name': 'Yuvi', 'age': 24}\n"
     ]
    }
   ],
   "source": [
    "print(create_person(age = 24,name='Yuvi'))"
   ]
  },
  {
   "cell_type": "code",
   "execution_count": 37,
   "id": "a93da870",
   "metadata": {},
   "outputs": [
    {
     "ename": "TypeError",
     "evalue": "create_person() got an unexpected keyword argument 'gender'",
     "output_type": "error",
     "traceback": [
      "\u001b[1;31m---------------------------------------------------------------------------\u001b[0m",
      "\u001b[1;31mTypeError\u001b[0m                                 Traceback (most recent call last)",
      "Cell \u001b[1;32mIn[37], line 1\u001b[0m\n\u001b[1;32m----> 1\u001b[0m \u001b[38;5;28mprint\u001b[39m(create_person(age \u001b[38;5;241m=\u001b[39m \u001b[38;5;241m24\u001b[39m,name\u001b[38;5;241m=\u001b[39m\u001b[38;5;124m'\u001b[39m\u001b[38;5;124mYuvi\u001b[39m\u001b[38;5;124m'\u001b[39m,gender\u001b[38;5;241m=\u001b[39m\u001b[38;5;124m'\u001b[39m\u001b[38;5;124mMale\u001b[39m\u001b[38;5;124m'\u001b[39m))\n",
      "\u001b[1;31mTypeError\u001b[0m: create_person() got an unexpected keyword argument 'gender'"
     ]
    }
   ],
   "source": [
    "print(create_person(age = 24,name='Yuvi',gender='Male'))"
   ]
  },
  {
   "cell_type": "code",
   "execution_count": 38,
   "id": "f81b0f41",
   "metadata": {},
   "outputs": [],
   "source": [
    "def create_person(name,age,**kwargs):\n",
    "    if kwargs:\n",
    "        print(kwargs)\n",
    "    person = {\n",
    "        'name':name,\n",
    "        'age':age\n",
    "    }\n",
    "    return person"
   ]
  },
  {
   "cell_type": "code",
   "execution_count": 40,
   "id": "540600af",
   "metadata": {},
   "outputs": [
    {
     "name": "stdout",
     "output_type": "stream",
     "text": [
      "{'gender': 'Male', 'job': 'PM'}\n",
      "{'name': 'Yuvi', 'age': 24}\n"
     ]
    }
   ],
   "source": [
    "print(create_person(age = 24,name='Yuvi',gender='Male',job='PM'))"
   ]
  },
  {
   "cell_type": "code",
   "execution_count": 41,
   "id": "f61c6cbd",
   "metadata": {},
   "outputs": [],
   "source": [
    "def create_person(name,age,**kwargs):\n",
    "    person = {\n",
    "        'name':name,\n",
    "        'age':age\n",
    "    }\n",
    "    if kwargs:\n",
    "        person.update(kwargs)\n",
    "    return person"
   ]
  },
  {
   "cell_type": "code",
   "execution_count": 42,
   "id": "85f9adf9",
   "metadata": {},
   "outputs": [
    {
     "name": "stdout",
     "output_type": "stream",
     "text": [
      "{'name': 'Yuvi', 'age': 24, 'gender': 'Male'}\n"
     ]
    }
   ],
   "source": [
    "print(create_person(age = 24,name='Yuvi',gender='Male'))"
   ]
  },
  {
   "cell_type": "markdown",
   "id": "6f9b5b24",
   "metadata": {},
   "source": [
    "#### Use Args & Kwargs together\n",
    "\n",
    "* args -> tuple of unmapped postional arguments\n",
    "* kwargs -> dictionary of unmapped keyword arguments"
   ]
  },
  {
   "cell_type": "code",
   "execution_count": 43,
   "id": "887f0e2e",
   "metadata": {},
   "outputs": [],
   "source": [
    "def create_person(name,age,job,gender,*args,**kwargs):\n",
    "    person = {\n",
    "        'name':name,\n",
    "        'age':age,\n",
    "        'job':job,\n",
    "        'gender':gender\n",
    "    }\n",
    "    if args:\n",
    "        for arg in args:\n",
    "            person[arg] = arg\n",
    "    if kwargs:\n",
    "        person.update(kwargs)\n",
    "    return person"
   ]
  },
  {
   "cell_type": "code",
   "execution_count": 44,
   "id": "99ac1b68",
   "metadata": {},
   "outputs": [
    {
     "name": "stdout",
     "output_type": "stream",
     "text": [
      "{'name': 'Yuvi', 'age': 24, 'job': 'Automation', 'gender': 'Male'}\n"
     ]
    }
   ],
   "source": [
    "print(create_person(age = 24,name='Yuvi',gender='Male',job='Automation'))"
   ]
  },
  {
   "cell_type": "code",
   "execution_count": 45,
   "id": "a8e468ac",
   "metadata": {},
   "outputs": [
    {
     "name": "stdout",
     "output_type": "stream",
     "text": [
      "{'name': 'Yuvi', 'age': 24, 'job': 'Automation', 'gender': 'Male', 'height': 178}\n"
     ]
    }
   ],
   "source": [
    "print(create_person(age = 24,name='Yuvi',gender='Male',job='Automation',height=178))"
   ]
  },
  {
   "cell_type": "code",
   "execution_count": null,
   "id": "0699c2f5",
   "metadata": {},
   "outputs": [],
   "source": []
  }
 ],
 "metadata": {
  "kernelspec": {
   "display_name": "Python 3 (ipykernel)",
   "language": "python",
   "name": "python3"
  },
  "language_info": {
   "codemirror_mode": {
    "name": "ipython",
    "version": 3
   },
   "file_extension": ".py",
   "mimetype": "text/x-python",
   "name": "python",
   "nbconvert_exporter": "python",
   "pygments_lexer": "ipython3",
   "version": "3.11.4"
  }
 },
 "nbformat": 4,
 "nbformat_minor": 5
}
